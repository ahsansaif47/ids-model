{
 "cells": [
  {
   "cell_type": "markdown",
   "metadata": {},
   "source": [
    "# Importing Libraries"
   ]
  },
  {
   "cell_type": "code",
   "execution_count": 1,
   "metadata": {},
   "outputs": [],
   "source": [
    "import networkx as nx\n",
    "import os\n",
    "import pandas as pd\n",
    "from Mat_Package import Grapher"
   ]
  },
  {
   "cell_type": "markdown",
   "metadata": {},
   "source": [
    "# Make Giant-Graph"
   ]
  },
  {
   "cell_type": "code",
   "execution_count": 2,
   "metadata": {},
   "outputs": [
    {
     "name": "stdout",
     "output_type": "stream",
     "text": [
      "Iteration 0\n",
      "= = = = = = = = = =\n",
      "Iteration  1\n",
      "= = = = = = = = = =\n",
      "Iteration  2\n",
      "= = = = = = = = = =\n",
      "Iteration  3\n",
      "= = = = = = = = = =\n",
      "Iteration  4\n",
      "= = = = = = = = = =\n",
      "Iteration  5\n",
      "= = = = = = = = = =\n",
      "Iteration  6\n",
      "= = = = = = = = = =\n",
      "Iteration  7\n",
      "= = = = = = = = = =\n",
      "Iteration  8\n",
      "= = = = = = = = = =\n",
      "Iteration  9\n",
      "= = = = = = = = = =\n",
      "Iteration  10\n",
      "= = = = = = = = = =\n",
      "Iteration  11\n",
      "= = = = = = = = = =\n",
      "Iteration  12\n",
      "= = = = = = = = = =\n",
      "Iteration  13\n",
      "= = = = = = = = = =\n",
      "Iteration  14\n",
      "= = = = = = = = = =\n",
      "Iteration  15\n",
      "= = = = = = = = = =\n",
      "Iteration  16\n",
      "= = = = = = = = = =\n",
      "Iteration  17\n",
      "= = = = = = = = = =\n",
      "Iteration  18\n",
      "= = = = = = = = = =\n",
      "Iteration  19\n",
      "= = = = = = = = = =\n",
      "Iteration  20\n",
      "= = = = = = = = = =\n",
      "Iteration  21\n",
      "= = = = = = = = = =\n",
      "Iteration  22\n",
      "= = = = = = = = = =\n",
      "Iteration  23\n",
      "= = = = = = = = = =\n",
      "Iteration  24\n",
      "= = = = = = = = = =\n",
      "Iteration  25\n",
      "= = = = = = = = = =\n",
      "Iteration  26\n",
      "= = = = = = = = = =\n",
      "Iteration  27\n",
      "= = = = = = = = = =\n",
      "Iteration  28\n",
      "= = = = = = = = = =\n",
      "Iteration  29\n",
      "= = = = = = = = = =\n",
      "Iteration  30\n",
      "= = = = = = = = = =\n",
      "Iteration  31\n",
      "= = = = = = = = = =\n",
      "Iteration  32\n",
      "= = = = = = = = = =\n",
      "Iteration  33\n",
      "= = = = = = = = = =\n",
      "Iteration  34\n",
      "= = = = = = = = = =\n",
      "Iteration  35\n",
      "= = = = = = = = = =\n",
      "Iteration  36\n",
      "= = = = = = = = = =\n",
      "Iteration  37\n",
      "= = = = = = = = = =\n",
      "Iteration  38\n",
      "= = = = = = = = = =\n",
      "Iteration  39\n",
      "= = = = = = = = = =\n",
      "Iteration  40\n",
      "= = = = = = = = = =\n",
      "Iteration  41\n",
      "= = = = = = = = = =\n",
      "Iteration  42\n",
      "= = = = = = = = = =\n",
      "Iteration  43\n",
      "= = = = = = = = = =\n",
      "Iteration  44\n",
      "= = = = = = = = = =\n",
      "Iteration  45\n",
      "= = = = = = = = = =\n",
      "Iteration  46\n",
      "= = = = = = = = = =\n",
      "Iteration  47\n",
      "= = = = = = = = = =\n",
      "Iteration  48\n",
      "= = = = = = = = = =\n",
      "Iteration  49\n",
      "= = = = = = = = = =\n",
      "Iteration  50\n",
      "= = = = = = = = = =\n",
      "Iteration  51\n",
      "= = = = = = = = = =\n",
      "Iteration  52\n",
      "= = = = = = = = = =\n",
      "Iteration  53\n",
      "= = = = = = = = = =\n",
      "Iteration  54\n",
      "= = = = = = = = = =\n",
      "Iteration  55\n",
      "= = = = = = = = = =\n",
      "Iteration  56\n",
      "= = = = = = = = = =\n",
      "Iteration  57\n",
      "= = = = = = = = = =\n",
      "Iteration  58\n",
      "= = = = = = = = = =\n",
      "Iteration  59\n",
      "= = = = = = = = = =\n",
      "Iteration  60\n",
      "= = = = = = = = = =\n",
      "Iteration  61\n",
      "= = = = = = = = = =\n",
      "Iteration  62\n",
      "= = = = = = = = = =\n",
      "Iteration  63\n",
      "= = = = = = = = = =\n",
      "Iteration  64\n",
      "= = = = = = = = = =\n",
      "Iteration  65\n",
      "= = = = = = = = = =\n",
      "Iteration  66\n",
      "= = = = = = = = = =\n",
      "Iteration  67\n",
      "= = = = = = = = = =\n",
      "Iteration  68\n",
      "= = = = = = = = = =\n",
      "Iteration  69\n",
      "= = = = = = = = = =\n",
      "Iteration  70\n",
      "= = = = = = = = = =\n",
      "Iteration  71\n",
      "= = = = = = = = = =\n",
      "Iteration  72\n",
      "= = = = = = = = = =\n",
      "Iteration  73\n",
      "= = = = = = = = = =\n",
      "Iteration  74\n",
      "= = = = = = = = = =\n",
      "Iteration  75\n",
      "= = = = = = = = = =\n",
      "Iteration  76\n",
      "= = = = = = = = = =\n",
      "Iteration  77\n",
      "= = = = = = = = = =\n",
      "Iteration  78\n",
      "= = = = = = = = = =\n",
      "Iteration  79\n",
      "= = = = = = = = = =\n",
      "Iteration  80\n",
      "= = = = = = = = = =\n",
      "Iteration  81\n",
      "= = = = = = = = = =\n",
      "Iteration  82\n",
      "= = = = = = = = = =\n",
      "Iteration  83\n",
      "= = = = = = = = = =\n",
      "Iteration  84\n",
      "= = = = = = = = = =\n",
      "Iteration  85\n",
      "= = = = = = = = = =\n",
      "Iteration  86\n",
      "= = = = = = = = = =\n",
      "Iteration  87\n",
      "= = = = = = = = = =\n",
      "Iteration  88\n",
      "= = = = = = = = = =\n",
      "Iteration  89\n",
      "= = = = = = = = = =\n",
      "Iteration  90\n",
      "= = = = = = = = = =\n",
      "Iteration  91\n",
      "= = = = = = = = = =\n",
      "Iteration  92\n",
      "= = = = = = = = = =\n",
      "Iteration  93\n",
      "= = = = = = = = = =\n",
      "Iteration  94\n",
      "= = = = = = = = = =\n",
      "Iteration  95\n",
      "= = = = = = = = = =\n",
      "Iteration  96\n",
      "= = = = = = = = = =\n",
      "Iteration  97\n",
      "= = = = = = = = = =\n",
      "Iteration  98\n",
      "= = = = = = = = = =\n",
      "Iteration  99\n",
      "= = = = = = = = = =\n"
     ]
    }
   ],
   "source": [
    "lab_files_path = \"./New-Dataset/labels/\"\n",
    "files = os.listdir(lab_files_path)\n",
    "\n",
    "df = pd.read_csv(lab_files_path+files[0])\n",
    "G = Grapher.makeGraph(df)\n",
    "print(\"Iteration 0\")\n",
    "print(\"= = = = = = = = = =\")\n",
    "\n",
    "for i in range(1, 100):\n",
    "    print(\"Iteration \",i)\n",
    "    print(\"= = = = = = = = = =\")\n",
    "    df1 = pd.read_csv(lab_files_path+files[i])\n",
    "    I_Graph = Grapher.makeGraph(df1)\n",
    "    G = nx.compose(G, I_Graph)\n",
    "    \n"
   ]
  },
  {
   "cell_type": "markdown",
   "metadata": {},
   "source": [
    "# Printing Graph Info"
   ]
  },
  {
   "cell_type": "code",
   "execution_count": 3,
   "metadata": {},
   "outputs": [
    {
     "name": "stdout",
     "output_type": "stream",
     "text": [
      "No. of Edges in graph are:  15543\n",
      "No. of Nodes in graph are:  3318\n"
     ]
    }
   ],
   "source": [
    "print(\"No. of Edges in graph are: \", G.number_of_edges())\n",
    "print(\"No. of Nodes in graph are: \", G.number_of_nodes())"
   ]
  },
  {
   "cell_type": "markdown",
   "metadata": {},
   "source": [
    "# Random-Walk"
   ]
  },
  {
   "cell_type": "code",
   "execution_count": 4,
   "metadata": {},
   "outputs": [
    {
     "name": "stdout",
     "output_type": "stream",
     "text": [
      "['1.41', '10', 'ORDER', 'PBLBW103271', '|', '51144', '51143', 'CODE', 'BARCODE', 'DESCRIPTION', 'BILLION', 'SHOPPING', ':', '0.7MM', '2B', '/(226721)', '4', 'OLD', 'COST', '0']\n"
     ]
    }
   ],
   "source": [
    "import random\n",
    "random.seed(666)\n",
    "\n",
    "def random_walk(G, start=None, path_length=20, alpha=0, rand=random.Random()):\n",
    "    '''return a random walk path'''\n",
    "    if start:\n",
    "        path = [start]\n",
    "    else:\n",
    "        path = [rand.choice(list(G.nodes()))]\n",
    "    while len(path) < path_length:\n",
    "        cur = path[-1]\n",
    "        #find it's neighbors\n",
    "        if len(G[cur]) > 0:\n",
    "            if rand.random() >= alpha:\n",
    "                path.append(rand.choice(list(nx.all_neighbors(G, cur))))\n",
    "            else:\n",
    "                path.append(path[0])\n",
    "        else:\n",
    "            break\n",
    "    return path\n",
    "\n",
    "\n",
    "print(random_walk(G, start=None))\n"
   ]
  },
  {
   "cell_type": "code",
   "execution_count": 5,
   "metadata": {},
   "outputs": [],
   "source": [
    "def build_deepwalk_corpus(G, num_paths, rand=random.Random()):\n",
    "    walks = []\n",
    "    nodes = list(G.nodes())\n",
    "    for i in range(num_paths):\n",
    "        rand.shuffle(nodes)\n",
    "        for node in nodes:\n",
    "            walks.append(random_walk(G, start=node))\n",
    "    return walks\n",
    "\n",
    "\n",
    "# print(build_deepwalk_corpus(G, num_paths=2))\n"
   ]
  },
  {
   "cell_type": "code",
   "execution_count": 6,
   "metadata": {},
   "outputs": [],
   "source": [
    "from gensim.models import Word2Vec\n",
    "corpus = build_deepwalk_corpus(G, num_paths=20)\n",
    "model = Word2Vec(corpus, window=2, min_count=1, sg=1)\n",
    "model.build_vocab(corpus)\n"
   ]
  },
  {
   "cell_type": "markdown",
   "metadata": {},
   "source": [
    "# Training Model"
   ]
  },
  {
   "cell_type": "code",
   "execution_count": 7,
   "metadata": {},
   "outputs": [
    {
     "data": {
      "text/plain": [
       "(38689429, 39816000)"
      ]
     },
     "execution_count": 7,
     "metadata": {},
     "output_type": "execute_result"
    }
   ],
   "source": [
    "model.train(corpus, total_examples=len(corpus),\n",
    "                epochs=30, report_delay=1)\n"
   ]
  },
  {
   "cell_type": "markdown",
   "metadata": {},
   "source": [
    "# Saving Model"
   ]
  },
  {
   "cell_type": "code",
   "execution_count": 9,
   "metadata": {},
   "outputs": [],
   "source": [
    "\n",
    "model.save('./Model/Word2Vec_Model.bin')\n"
   ]
  },
  {
   "cell_type": "markdown",
   "metadata": {},
   "source": [
    "# Checking Word-Similarity"
   ]
  },
  {
   "cell_type": "code",
   "execution_count": 10,
   "metadata": {},
   "outputs": [
    {
     "data": {
      "text/plain": [
       "[('ax', 0.6476998925209045),\n",
       " ('563347', 0.6237249970436096),\n",
       " ('Vax', 0.6149076223373413),\n",
       " ('lax', 0.6008296012878418),\n",
       " ('O3-56334718', 0.5693498849868774),\n",
       " ('MEHMOOD', 0.5587036609649658),\n",
       " ('SELANGOR', 0.5458548665046692),\n",
       " ('TABLE', 0.5451949238777161),\n",
       " ('BANDAR', 0.5308387279510498),\n",
       " ('03-56334718', 0.5241894721984863)]"
      ]
     },
     "execution_count": 10,
     "metadata": {},
     "output_type": "execute_result"
    }
   ],
   "source": [
    "model.wv.most_similar('Fax')"
   ]
  },
  {
   "cell_type": "markdown",
   "metadata": {},
   "source": [
    "# Making Word-Embeddings"
   ]
  },
  {
   "cell_type": "code",
   "execution_count": 11,
   "metadata": {},
   "outputs": [
    {
     "name": "stdout",
     "output_type": "stream",
     "text": [
      "Total text is:  19322\n",
      "Making Embeddings..\n",
      "[ 3.85832548e-01  2.67722726e-01  2.59979218e-01 -1.17228609e-02\n",
      "  6.39384031e-01  3.97768110e-01  1.87548235e-01  7.96595633e-01\n",
      " -8.27624261e-01 -9.44695592e-01  1.38199255e-01 -8.79616141e-01\n",
      " -1.95675511e-02  5.10129929e-01  4.85848248e-01 -8.04328859e-01\n",
      "  7.38525927e-01  2.81736344e-01  4.15675014e-01 -1.40328753e+00\n",
      "  3.35746318e-01 -7.14599490e-01 -8.45685452e-02 -8.02061558e-01\n",
      "  3.09692472e-01 -6.92559406e-02  3.73226821e-01 -1.34814650e-01\n",
      " -7.26907775e-02  6.91083789e-01  9.67317581e-01 -6.73907936e-01\n",
      "  6.78816974e-01 -7.53034115e-01 -1.39748946e-01  3.58180106e-01\n",
      "  6.76310062e-01 -5.72651505e-01  5.35904877e-02 -5.68011105e-01\n",
      "  3.93850684e-01 -3.44660223e-01 -7.74662614e-01 -5.80773473e-01\n",
      "  2.09576219e-01 -2.92009234e-01 -8.04687589e-02 -6.40103221e-02\n",
      "  8.44844997e-01  1.25090107e-01 -2.08381861e-02 -9.26100314e-01\n",
      "  2.12526154e-02 -5.98977983e-01 -3.43913585e-01 -4.38746899e-01\n",
      "  4.03856367e-01 -1.09733963e+00 -6.67095065e-01 -1.51390627e-01\n",
      "  8.54772031e-01 -2.67981410e-01  3.36641520e-01 -4.22916025e-01\n",
      " -6.04697466e-01  5.68269551e-01  1.06040247e-01  4.05116260e-01\n",
      "  1.49274338e-02  4.33234721e-01  8.43373120e-01 -1.80810075e-02\n",
      "  1.18630230e+00 -3.59925091e-01  6.45400763e-01  1.19388200e-01\n",
      "  5.84924519e-01  5.12638092e-01  8.27051117e-04 -1.35013804e-01\n",
      " -1.68830335e-01  1.88214615e-01 -2.39553362e-01 -1.60264060e-01\n",
      " -3.02509695e-01 -5.79243243e-01  1.22451462e-01  4.36308593e-01\n",
      "  5.51951230e-01 -4.16897506e-01 -3.32566917e-01  5.54186046e-01\n",
      " -2.09371760e-01 -6.01175845e-01  1.13837145e-01  2.61265546e-01\n",
      "  8.72171462e-01  7.02860892e-01  2.06553698e-01  3.28386664e-01]\n"
     ]
    }
   ],
   "source": [
    "_embeddings = []\n",
    "all_Text = []\n",
    "\n",
    "for i in range(100):\n",
    "    df = pd.read_csv(lab_files_path+files[i])\n",
    "    Text = df['Object'].to_list()\n",
    "    \n",
    "    for T in Text:\n",
    "        all_Text.append(T)\n",
    "    \n",
    "print(\"Total text is: \", len(all_Text))\n",
    "print(\"Making Embeddings..\") \n",
    "\n",
    "Nodes = G.nodes()\n",
    "\n",
    "for N in Nodes:\n",
    "    try:\n",
    "        _embeddings.append(model.wv[str(N)])\n",
    "    except:\n",
    "        print(\"Node is: \", str(N))\n",
    "\n",
    "print(model.wv[\"Date:\"])\n",
    "# print(_embeddings)"
   ]
  },
  {
   "cell_type": "markdown",
   "metadata": {},
   "source": [
    "# Testing Saved Model"
   ]
  },
  {
   "cell_type": "code",
   "execution_count": 13,
   "metadata": {},
   "outputs": [
    {
     "data": {
      "text/plain": [
       "array([ 3.85832548e-01,  2.67722726e-01,  2.59979218e-01, -1.17228609e-02,\n",
       "        6.39384031e-01,  3.97768110e-01,  1.87548235e-01,  7.96595633e-01,\n",
       "       -8.27624261e-01, -9.44695592e-01,  1.38199255e-01, -8.79616141e-01,\n",
       "       -1.95675511e-02,  5.10129929e-01,  4.85848248e-01, -8.04328859e-01,\n",
       "        7.38525927e-01,  2.81736344e-01,  4.15675014e-01, -1.40328753e+00,\n",
       "        3.35746318e-01, -7.14599490e-01, -8.45685452e-02, -8.02061558e-01,\n",
       "        3.09692472e-01, -6.92559406e-02,  3.73226821e-01, -1.34814650e-01,\n",
       "       -7.26907775e-02,  6.91083789e-01,  9.67317581e-01, -6.73907936e-01,\n",
       "        6.78816974e-01, -7.53034115e-01, -1.39748946e-01,  3.58180106e-01,\n",
       "        6.76310062e-01, -5.72651505e-01,  5.35904877e-02, -5.68011105e-01,\n",
       "        3.93850684e-01, -3.44660223e-01, -7.74662614e-01, -5.80773473e-01,\n",
       "        2.09576219e-01, -2.92009234e-01, -8.04687589e-02, -6.40103221e-02,\n",
       "        8.44844997e-01,  1.25090107e-01, -2.08381861e-02, -9.26100314e-01,\n",
       "        2.12526154e-02, -5.98977983e-01, -3.43913585e-01, -4.38746899e-01,\n",
       "        4.03856367e-01, -1.09733963e+00, -6.67095065e-01, -1.51390627e-01,\n",
       "        8.54772031e-01, -2.67981410e-01,  3.36641520e-01, -4.22916025e-01,\n",
       "       -6.04697466e-01,  5.68269551e-01,  1.06040247e-01,  4.05116260e-01,\n",
       "        1.49274338e-02,  4.33234721e-01,  8.43373120e-01, -1.80810075e-02,\n",
       "        1.18630230e+00, -3.59925091e-01,  6.45400763e-01,  1.19388200e-01,\n",
       "        5.84924519e-01,  5.12638092e-01,  8.27051117e-04, -1.35013804e-01,\n",
       "       -1.68830335e-01,  1.88214615e-01, -2.39553362e-01, -1.60264060e-01,\n",
       "       -3.02509695e-01, -5.79243243e-01,  1.22451462e-01,  4.36308593e-01,\n",
       "        5.51951230e-01, -4.16897506e-01, -3.32566917e-01,  5.54186046e-01,\n",
       "       -2.09371760e-01, -6.01175845e-01,  1.13837145e-01,  2.61265546e-01,\n",
       "        8.72171462e-01,  7.02860892e-01,  2.06553698e-01,  3.28386664e-01],\n",
       "      dtype=float32)"
      ]
     },
     "execution_count": 13,
     "metadata": {},
     "output_type": "execute_result"
    }
   ],
   "source": [
    "Emb_Model = \"./Model/Word2Vec_Model.bin\"\n",
    "Loaded_model = Word2Vec.load(Emb_Model)\n",
    "Loaded_model.wv[\"Date:\"]"
   ]
  }
 ],
 "metadata": {
  "interpreter": {
   "hash": "35146d2ce121e8e653791712ad16cca408ea08bd1c84e92938f653a743d84e6c"
  },
  "kernelspec": {
   "display_name": "Python 3.8.10 64-bit ('Graphs': conda)",
   "language": "python",
   "name": "python3"
  },
  "language_info": {
   "codemirror_mode": {
    "name": "ipython",
    "version": 3
   },
   "file_extension": ".py",
   "mimetype": "text/x-python",
   "name": "python",
   "nbconvert_exporter": "python",
   "pygments_lexer": "ipython3",
   "version": "3.8.10"
  },
  "orig_nbformat": 4
 },
 "nbformat": 4,
 "nbformat_minor": 2
}
