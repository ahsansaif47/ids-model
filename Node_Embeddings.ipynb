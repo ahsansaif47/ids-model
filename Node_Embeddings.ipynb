{
 "cells": [
  {
   "cell_type": "markdown",
   "metadata": {},
   "source": [
    "# Importing Libraries"
   ]
  },
  {
   "cell_type": "code",
   "execution_count": 3,
   "metadata": {},
   "outputs": [],
   "source": [
    "import networkx as nx\n",
    "import numpy as np\n",
    "import matplotlib.pyplot as plt\n",
    "import os\n",
    "import pandas as pd\n",
    "from Mat_Package import Grapher"
   ]
  },
  {
   "cell_type": "markdown",
   "metadata": {},
   "source": [
    "# Make Giant-Graph"
   ]
  },
  {
   "cell_type": "code",
   "execution_count": 4,
   "metadata": {},
   "outputs": [
    {
     "name": "stdout",
     "output_type": "stream",
     "text": [
      "Iteration 0\n",
      "= = = = = = = = = =\n",
      "Iteration  1\n",
      "= = = = = = = = = =\n",
      "Iteration  2\n",
      "= = = = = = = = = =\n",
      "Iteration  3\n",
      "= = = = = = = = = =\n",
      "Iteration  4\n",
      "= = = = = = = = = =\n",
      "Iteration  5\n",
      "= = = = = = = = = =\n",
      "Iteration  6\n",
      "= = = = = = = = = =\n",
      "Iteration  7\n",
      "= = = = = = = = = =\n",
      "Iteration  8\n",
      "= = = = = = = = = =\n",
      "Iteration  9\n",
      "= = = = = = = = = =\n",
      "Iteration  10\n",
      "= = = = = = = = = =\n",
      "Iteration  11\n",
      "= = = = = = = = = =\n",
      "Iteration  12\n",
      "= = = = = = = = = =\n",
      "Iteration  13\n",
      "= = = = = = = = = =\n",
      "Iteration  14\n",
      "= = = = = = = = = =\n",
      "Iteration  15\n",
      "= = = = = = = = = =\n",
      "Iteration  16\n",
      "= = = = = = = = = =\n",
      "Iteration  17\n",
      "= = = = = = = = = =\n",
      "Iteration  18\n",
      "= = = = = = = = = =\n",
      "Iteration  19\n",
      "= = = = = = = = = =\n",
      "Iteration  20\n",
      "= = = = = = = = = =\n",
      "Iteration  21\n",
      "= = = = = = = = = =\n",
      "Iteration  22\n",
      "= = = = = = = = = =\n",
      "Iteration  23\n",
      "= = = = = = = = = =\n",
      "Iteration  24\n",
      "= = = = = = = = = =\n",
      "Iteration  25\n",
      "= = = = = = = = = =\n",
      "Iteration  26\n",
      "= = = = = = = = = =\n",
      "Iteration  27\n",
      "= = = = = = = = = =\n",
      "Iteration  28\n",
      "= = = = = = = = = =\n",
      "Iteration  29\n",
      "= = = = = = = = = =\n",
      "Iteration  30\n",
      "= = = = = = = = = =\n",
      "Iteration  31\n",
      "= = = = = = = = = =\n",
      "Iteration  32\n",
      "= = = = = = = = = =\n",
      "Iteration  33\n",
      "= = = = = = = = = =\n",
      "Iteration  34\n",
      "= = = = = = = = = =\n",
      "Iteration  35\n",
      "= = = = = = = = = =\n",
      "Iteration  36\n",
      "= = = = = = = = = =\n",
      "Iteration  37\n",
      "= = = = = = = = = =\n",
      "Iteration  38\n",
      "= = = = = = = = = =\n",
      "Iteration  39\n",
      "= = = = = = = = = =\n",
      "Iteration  40\n",
      "= = = = = = = = = =\n",
      "Iteration  41\n",
      "= = = = = = = = = =\n",
      "Iteration  42\n",
      "= = = = = = = = = =\n",
      "Iteration  43\n",
      "= = = = = = = = = =\n",
      "Iteration  44\n",
      "= = = = = = = = = =\n",
      "Iteration  45\n",
      "= = = = = = = = = =\n",
      "Iteration  46\n",
      "= = = = = = = = = =\n",
      "Iteration  47\n",
      "= = = = = = = = = =\n",
      "Iteration  48\n",
      "= = = = = = = = = =\n",
      "Iteration  49\n",
      "= = = = = = = = = =\n",
      "Iteration  50\n",
      "= = = = = = = = = =\n",
      "Iteration  51\n",
      "= = = = = = = = = =\n",
      "Iteration  52\n",
      "= = = = = = = = = =\n",
      "Iteration  53\n",
      "= = = = = = = = = =\n",
      "Iteration  54\n",
      "= = = = = = = = = =\n",
      "Iteration  55\n",
      "= = = = = = = = = =\n",
      "Iteration  56\n",
      "= = = = = = = = = =\n",
      "Iteration  57\n",
      "= = = = = = = = = =\n",
      "Iteration  58\n",
      "= = = = = = = = = =\n",
      "Iteration  59\n",
      "= = = = = = = = = =\n",
      "Iteration  60\n",
      "= = = = = = = = = =\n",
      "Iteration  61\n",
      "= = = = = = = = = =\n",
      "Iteration  62\n",
      "= = = = = = = = = =\n",
      "Iteration  63\n",
      "= = = = = = = = = =\n",
      "Iteration  64\n",
      "= = = = = = = = = =\n",
      "Iteration  65\n",
      "= = = = = = = = = =\n",
      "Iteration  66\n",
      "= = = = = = = = = =\n",
      "Iteration  67\n",
      "= = = = = = = = = =\n",
      "Iteration  68\n",
      "= = = = = = = = = =\n",
      "Iteration  69\n",
      "= = = = = = = = = =\n",
      "Iteration  70\n",
      "= = = = = = = = = =\n",
      "Iteration  71\n",
      "= = = = = = = = = =\n",
      "Iteration  72\n",
      "= = = = = = = = = =\n",
      "Iteration  73\n",
      "= = = = = = = = = =\n",
      "Iteration  74\n",
      "= = = = = = = = = =\n",
      "Iteration  75\n",
      "= = = = = = = = = =\n",
      "Iteration  76\n",
      "= = = = = = = = = =\n",
      "Iteration  77\n",
      "= = = = = = = = = =\n",
      "Iteration  78\n",
      "= = = = = = = = = =\n",
      "Iteration  79\n",
      "= = = = = = = = = =\n",
      "Iteration  80\n",
      "= = = = = = = = = =\n",
      "Iteration  81\n",
      "= = = = = = = = = =\n",
      "Iteration  82\n",
      "= = = = = = = = = =\n",
      "Iteration  83\n",
      "= = = = = = = = = =\n",
      "Iteration  84\n",
      "= = = = = = = = = =\n",
      "Iteration  85\n",
      "= = = = = = = = = =\n",
      "Iteration  86\n",
      "= = = = = = = = = =\n",
      "Iteration  87\n",
      "= = = = = = = = = =\n",
      "Iteration  88\n",
      "= = = = = = = = = =\n",
      "Iteration  89\n",
      "= = = = = = = = = =\n",
      "Iteration  90\n",
      "= = = = = = = = = =\n",
      "Iteration  91\n",
      "= = = = = = = = = =\n",
      "Iteration  92\n",
      "= = = = = = = = = =\n",
      "Iteration  93\n",
      "= = = = = = = = = =\n",
      "Iteration  94\n",
      "= = = = = = = = = =\n",
      "Iteration  95\n",
      "= = = = = = = = = =\n",
      "Iteration  96\n",
      "= = = = = = = = = =\n",
      "Iteration  97\n",
      "= = = = = = = = = =\n",
      "Iteration  98\n",
      "= = = = = = = = = =\n",
      "Iteration  99\n",
      "= = = = = = = = = =\n"
     ]
    }
   ],
   "source": [
    "lab_files_path = \"./New-Dataset/labels/\"\n",
    "files = os.listdir(lab_files_path)\n",
    "\n",
    "df = pd.read_csv(lab_files_path+files[0])\n",
    "G = Grapher.makeGraph(df)\n",
    "print(\"Iteration 0\")\n",
    "print(\"= = = = = = = = = =\")\n",
    "\n",
    "for i in range(1, 100):\n",
    "    print(\"Iteration \",i)\n",
    "    print(\"= = = = = = = = = =\")\n",
    "    df1 = pd.read_csv(lab_files_path+files[i])\n",
    "    I_Graph = Grapher.makeGraph(df1)\n",
    "    G = nx.compose(G, I_Graph)\n",
    "    \n"
   ]
  },
  {
   "cell_type": "markdown",
   "metadata": {},
   "source": [
    "# Printing Graph Info"
   ]
  },
  {
   "cell_type": "code",
   "execution_count": 5,
   "metadata": {},
   "outputs": [
    {
     "name": "stdout",
     "output_type": "stream",
     "text": [
      "No. of Edges in graph are:  15543\n",
      "No. of Nodes in graph are:  3318\n"
     ]
    }
   ],
   "source": [
    "print(\"No. of Edges in graph are: \", G.number_of_edges())\n",
    "print(\"No. of Nodes in graph are: \", G.number_of_nodes())"
   ]
  },
  {
   "cell_type": "markdown",
   "metadata": {},
   "source": [
    "# Random-Walk"
   ]
  },
  {
   "cell_type": "code",
   "execution_count": 6,
   "metadata": {},
   "outputs": [
    {
     "name": "stdout",
     "output_type": "stream",
     "text": [
      "['BHD', 'SIME', 'UEP', 'PO/150011268', 'BC', 'Acknowledged', 'ASST', 'L', 'FOC', 'L', 'generated,', 'W/REF', 'TAPE', 'BLACK', ':', '(ASST)', ':', 'SDN', '4/12/2020', '(BUTTERWORTH)']\n"
     ]
    }
   ],
   "source": [
    "import random\n",
    "random.seed(666)\n",
    "\n",
    "def random_walk(G, start=None, path_length=20, alpha=0, rand=random.Random()):\n",
    "    '''return a random walk path'''\n",
    "    if start:\n",
    "        path = [start]\n",
    "    else:\n",
    "        path = [rand.choice(list(G.nodes()))]\n",
    "    while len(path) < path_length:\n",
    "        cur = path[-1]\n",
    "        #find it's neighbors\n",
    "        if len(G[cur]) > 0:\n",
    "            if rand.random() >= alpha:\n",
    "                path.append(rand.choice(list(nx.all_neighbors(G, cur))))\n",
    "            else:\n",
    "                path.append(path[0])\n",
    "        else:\n",
    "            break\n",
    "    return path\n",
    "\n",
    "\n",
    "print(random_walk(G, start='BHD'))\n"
   ]
  },
  {
   "cell_type": "code",
   "execution_count": 7,
   "metadata": {},
   "outputs": [],
   "source": [
    "def build_deepwalk_corpus(G, num_paths, rand=random.Random()):\n",
    "    walks = []\n",
    "    nodes = list(G.nodes())\n",
    "    for i in range(num_paths):\n",
    "        rand.shuffle(nodes)\n",
    "        for node in nodes:\n",
    "            walks.append(random_walk(G, start=node))\n",
    "    return walks\n",
    "\n",
    "\n",
    "# print(build_deepwalk_corpus(G, num_paths=2))\n"
   ]
  },
  {
   "cell_type": "code",
   "execution_count": 8,
   "metadata": {},
   "outputs": [],
   "source": [
    "from gensim.models import Word2Vec\n",
    "corpus = build_deepwalk_corpus(G, num_paths=20)\n",
    "model = Word2Vec(corpus, window=2, min_count=1, sg=1)\n"
   ]
  },
  {
   "cell_type": "markdown",
   "metadata": {},
   "source": [
    "# Checking Word-Similarity"
   ]
  },
  {
   "cell_type": "code",
   "execution_count": 9,
   "metadata": {},
   "outputs": [
    {
     "data": {
      "text/plain": [
       "[('Aug', 0.7662479281425476),\n",
       " ('2/12/2017', 0.7639801502227783),\n",
       " ('14/04/2019', 0.7582520842552185),\n",
       " ('22nd', 0.7575618624687195),\n",
       " ('26/11/2017', 0.7564889192581177),\n",
       " ('Apr', 0.7549425959587097),\n",
       " ('6/2/2019', 0.7539402842521667),\n",
       " ('16/01/2018', 0.7490513920783997),\n",
       " ('Invoiced', 0.7481822967529297),\n",
       " ('30/04/2018', 0.7475543022155762)]"
      ]
     },
     "execution_count": 9,
     "metadata": {},
     "output_type": "execute_result"
    }
   ],
   "source": [
    "model.wv.most_similar('Date:')"
   ]
  },
  {
   "cell_type": "markdown",
   "metadata": {},
   "source": [
    "# Making Word-Embeddings"
   ]
  },
  {
   "cell_type": "code",
   "execution_count": 10,
   "metadata": {},
   "outputs": [
    {
     "name": "stdout",
     "output_type": "stream",
     "text": [
      "Total text is:  19322\n",
      "Making Embeddings..\n",
      "[-0.7754156   0.2378255  -0.05394399 -1.0904082   0.7290053  -0.44933477\n",
      "  0.2056401   0.7195012  -0.87229073 -0.8449493   0.23876378 -0.9498659\n",
      " -0.15916727  0.26886082 -0.28014928 -0.9460687  -0.55056244  0.13233414\n",
      "  0.3616553  -1.2045151   0.5330444  -0.14486387 -0.07602047 -0.50038135\n",
      " -0.16730177 -0.8666243  -0.2749777  -0.5539531  -0.21675687  0.53910834\n",
      " -0.19132598  0.16589591  0.0785832  -0.26635182 -0.53976643 -0.5288077\n",
      "  0.3584752  -0.07390915 -0.05691987 -0.32153425  0.32920727 -0.8927964\n",
      "  0.12597258  0.01945616  0.24221335  0.55491215 -0.09375112 -0.5178932\n",
      " -0.28050193 -0.2807272   0.17039022 -0.05317304  0.0918778   0.28449327\n",
      "  0.06213723  0.36524943  0.4731839  -0.8026941   0.33099118  0.43402484\n",
      "  0.03996462  0.82478595 -0.60916823  0.11038072  0.07979255  0.27169007\n",
      "  0.30778506 -0.00749422 -1.0951304   0.7432087   0.06369787  0.16336228\n",
      "  0.03446618 -0.73199224  0.29881647  0.02191011 -0.10409821  0.5526116\n",
      " -0.3021184   0.3646482  -0.00940007 -0.04627667 -0.3817318   0.27212065\n",
      " -0.39567062  0.14599718  0.4389766   0.3395135   1.0324656   0.15301012\n",
      "  0.53450704 -0.71674645 -0.87415206  0.7121366  -0.3401989   0.05840461\n",
      " -0.14609464 -0.26268235  0.36579046  0.03483944]\n"
     ]
    }
   ],
   "source": [
    "_embeddings = []\n",
    "all_Text = []\n",
    "\n",
    "for i in range(100):\n",
    "    df = pd.read_csv(lab_files_path+files[i])\n",
    "    Text = df['Object'].to_list()\n",
    "    \n",
    "    for T in Text:\n",
    "        all_Text.append(T)\n",
    "    \n",
    "print(\"Total text is: \", len(all_Text))\n",
    "print(\"Making Embeddings..\") \n",
    "\n",
    "Nodes = G.number_of_nodes()\n",
    "print(model.wv[\"Date:\"])\n",
    "\n",
    "# _embeddings = [model.wv[str(n)] for n in range(Nodes)]\n",
    "# print(_embeddings)"
   ]
  }
 ],
 "metadata": {
  "interpreter": {
   "hash": "35146d2ce121e8e653791712ad16cca408ea08bd1c84e92938f653a743d84e6c"
  },
  "kernelspec": {
   "display_name": "Python 3.8.10 64-bit ('Graphs': conda)",
   "language": "python",
   "name": "python3"
  },
  "language_info": {
   "codemirror_mode": {
    "name": "ipython",
    "version": 3
   },
   "file_extension": ".py",
   "mimetype": "text/x-python",
   "name": "python",
   "nbconvert_exporter": "python",
   "pygments_lexer": "ipython3",
   "version": "3.8.10"
  },
  "orig_nbformat": 4
 },
 "nbformat": 4,
 "nbformat_minor": 2
}
