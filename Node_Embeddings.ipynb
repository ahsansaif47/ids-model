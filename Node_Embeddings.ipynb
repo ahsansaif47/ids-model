{
 "cells": [
  {
   "cell_type": "markdown",
   "metadata": {},
   "source": [
    "# Importing Libraries"
   ]
  },
  {
   "cell_type": "code",
   "execution_count": 3,
   "metadata": {},
   "outputs": [],
   "source": [
    "import networkx as nx\n",
    "import numpy as np\n",
    "import matplotlib.pyplot as plt\n",
    "import os\n",
    "import pandas as pd\n",
    "from Mat_Package import Grapher"
   ]
  },
  {
   "cell_type": "markdown",
   "metadata": {},
   "source": [
    "# Make Giant-Graph"
   ]
  },
  {
   "cell_type": "code",
   "execution_count": 4,
   "metadata": {},
   "outputs": [
    {
     "name": "stdout",
     "output_type": "stream",
     "text": [
      "Iteration 0\n",
      "= = = = = = = = = =\n",
      "Iteration  1\n",
      "= = = = = = = = = =\n",
      "Iteration  2\n",
      "= = = = = = = = = =\n",
      "Iteration  3\n",
      "= = = = = = = = = =\n",
      "Iteration  4\n",
      "= = = = = = = = = =\n",
      "Iteration  5\n",
      "= = = = = = = = = =\n",
      "Iteration  6\n",
      "= = = = = = = = = =\n",
      "Iteration  7\n",
      "= = = = = = = = = =\n",
      "Iteration  8\n",
      "= = = = = = = = = =\n",
      "Iteration  9\n",
      "= = = = = = = = = =\n",
      "Iteration  10\n",
      "= = = = = = = = = =\n",
      "Iteration  11\n",
      "= = = = = = = = = =\n",
      "Iteration  12\n",
      "= = = = = = = = = =\n",
      "Iteration  13\n",
      "= = = = = = = = = =\n",
      "Iteration  14\n",
      "= = = = = = = = = =\n",
      "Iteration  15\n",
      "= = = = = = = = = =\n",
      "Iteration  16\n",
      "= = = = = = = = = =\n",
      "Iteration  17\n",
      "= = = = = = = = = =\n",
      "Iteration  18\n",
      "= = = = = = = = = =\n",
      "Iteration  19\n",
      "= = = = = = = = = =\n",
      "Iteration  20\n",
      "= = = = = = = = = =\n",
      "Iteration  21\n",
      "= = = = = = = = = =\n",
      "Iteration  22\n",
      "= = = = = = = = = =\n",
      "Iteration  23\n",
      "= = = = = = = = = =\n",
      "Iteration  24\n",
      "= = = = = = = = = =\n",
      "Iteration  25\n",
      "= = = = = = = = = =\n",
      "Iteration  26\n",
      "= = = = = = = = = =\n",
      "Iteration  27\n",
      "= = = = = = = = = =\n",
      "Iteration  28\n",
      "= = = = = = = = = =\n",
      "Iteration  29\n",
      "= = = = = = = = = =\n",
      "Iteration  30\n",
      "= = = = = = = = = =\n",
      "Iteration  31\n",
      "= = = = = = = = = =\n",
      "Iteration  32\n",
      "= = = = = = = = = =\n",
      "Iteration  33\n",
      "= = = = = = = = = =\n",
      "Iteration  34\n",
      "= = = = = = = = = =\n",
      "Iteration  35\n",
      "= = = = = = = = = =\n",
      "Iteration  36\n",
      "= = = = = = = = = =\n",
      "Iteration  37\n",
      "= = = = = = = = = =\n",
      "Iteration  38\n",
      "= = = = = = = = = =\n",
      "Iteration  39\n",
      "= = = = = = = = = =\n",
      "Iteration  40\n",
      "= = = = = = = = = =\n",
      "Iteration  41\n",
      "= = = = = = = = = =\n",
      "Iteration  42\n",
      "= = = = = = = = = =\n",
      "Iteration  43\n",
      "= = = = = = = = = =\n",
      "Iteration  44\n",
      "= = = = = = = = = =\n",
      "Iteration  45\n",
      "= = = = = = = = = =\n",
      "Iteration  46\n",
      "= = = = = = = = = =\n",
      "Iteration  47\n",
      "= = = = = = = = = =\n",
      "Iteration  48\n",
      "= = = = = = = = = =\n",
      "Iteration  49\n",
      "= = = = = = = = = =\n",
      "Iteration  50\n",
      "= = = = = = = = = =\n",
      "Iteration  51\n",
      "= = = = = = = = = =\n",
      "Iteration  52\n",
      "= = = = = = = = = =\n",
      "Iteration  53\n",
      "= = = = = = = = = =\n",
      "Iteration  54\n",
      "= = = = = = = = = =\n",
      "Iteration  55\n",
      "= = = = = = = = = =\n",
      "Iteration  56\n",
      "= = = = = = = = = =\n",
      "Iteration  57\n",
      "= = = = = = = = = =\n",
      "Iteration  58\n",
      "= = = = = = = = = =\n",
      "Iteration  59\n",
      "= = = = = = = = = =\n",
      "Iteration  60\n",
      "= = = = = = = = = =\n",
      "Iteration  61\n",
      "= = = = = = = = = =\n",
      "Iteration  62\n",
      "= = = = = = = = = =\n",
      "Iteration  63\n",
      "= = = = = = = = = =\n",
      "Iteration  64\n",
      "= = = = = = = = = =\n",
      "Iteration  65\n",
      "= = = = = = = = = =\n",
      "Iteration  66\n",
      "= = = = = = = = = =\n",
      "Iteration  67\n",
      "= = = = = = = = = =\n",
      "Iteration  68\n",
      "= = = = = = = = = =\n",
      "Iteration  69\n",
      "= = = = = = = = = =\n",
      "Iteration  70\n",
      "= = = = = = = = = =\n",
      "Iteration  71\n",
      "= = = = = = = = = =\n",
      "Iteration  72\n",
      "= = = = = = = = = =\n",
      "Iteration  73\n",
      "= = = = = = = = = =\n",
      "Iteration  74\n",
      "= = = = = = = = = =\n",
      "Iteration  75\n",
      "= = = = = = = = = =\n",
      "Iteration  76\n",
      "= = = = = = = = = =\n",
      "Iteration  77\n",
      "= = = = = = = = = =\n",
      "Iteration  78\n",
      "= = = = = = = = = =\n",
      "Iteration  79\n",
      "= = = = = = = = = =\n",
      "Iteration  80\n",
      "= = = = = = = = = =\n",
      "Iteration  81\n",
      "= = = = = = = = = =\n",
      "Iteration  82\n",
      "= = = = = = = = = =\n",
      "Iteration  83\n",
      "= = = = = = = = = =\n",
      "Iteration  84\n",
      "= = = = = = = = = =\n",
      "Iteration  85\n",
      "= = = = = = = = = =\n",
      "Iteration  86\n",
      "= = = = = = = = = =\n",
      "Iteration  87\n",
      "= = = = = = = = = =\n",
      "Iteration  88\n",
      "= = = = = = = = = =\n",
      "Iteration  89\n",
      "= = = = = = = = = =\n",
      "Iteration  90\n",
      "= = = = = = = = = =\n",
      "Iteration  91\n",
      "= = = = = = = = = =\n",
      "Iteration  92\n",
      "= = = = = = = = = =\n",
      "Iteration  93\n",
      "= = = = = = = = = =\n",
      "Iteration  94\n",
      "= = = = = = = = = =\n",
      "Iteration  95\n",
      "= = = = = = = = = =\n",
      "Iteration  96\n",
      "= = = = = = = = = =\n",
      "Iteration  97\n",
      "= = = = = = = = = =\n",
      "Iteration  98\n",
      "= = = = = = = = = =\n",
      "Iteration  99\n",
      "= = = = = = = = = =\n"
     ]
    }
   ],
   "source": [
    "lab_files_path = \"./New-Dataset/labels/\"\n",
    "files = os.listdir(lab_files_path)\n",
    "\n",
    "df = pd.read_csv(lab_files_path+files[0])\n",
    "G = Grapher.makeGraph(df)\n",
    "print(\"Iteration 0\")\n",
    "print(\"= = = = = = = = = =\")\n",
    "\n",
    "for i in range(1, 100):\n",
    "    print(\"Iteration \",i)\n",
    "    print(\"= = = = = = = = = =\")\n",
    "    df1 = pd.read_csv(lab_files_path+files[i])\n",
    "    I_Graph = Grapher.makeGraph(df1)\n",
    "    G = nx.compose(G, I_Graph)\n",
    "    \n"
   ]
  },
  {
   "cell_type": "markdown",
   "metadata": {},
   "source": [
    "# Printing Graph Info"
   ]
  },
  {
   "cell_type": "code",
   "execution_count": 5,
   "metadata": {},
   "outputs": [
    {
     "name": "stdout",
     "output_type": "stream",
     "text": [
      "No. of Edges in graph are:  15543\n",
      "No. of Nodes in graph are:  3318\n"
     ]
    }
   ],
   "source": [
    "print(\"No. of Edges in graph are: \", G.number_of_edges())\n",
    "print(\"No. of Nodes in graph are: \", G.number_of_nodes())"
   ]
  },
  {
   "cell_type": "markdown",
   "metadata": {},
   "source": [
    "# Random-Walk"
   ]
  },
  {
   "cell_type": "code",
   "execution_count": 12,
   "metadata": {},
   "outputs": [
    {
     "name": "stdout",
     "output_type": "stream",
     "text": [
      "['BHD', 'KBeonsave', '10056', 'Ship-To', 'SW/PK', 'Cash', '7566-7569', 'SEPANJANG', 'JERANTUT.PALIANG', 'DARUL', 'DeliverTo', 'Tel', 'DeliverTo', 'Tel', ':', '26400', 'No.1,', 'Jalan', 'No.1,', 'Beonsave']\n"
     ]
    }
   ],
   "source": [
    "import random\n",
    "random.seed(666)\n",
    "\n",
    "def random_walk(G, start=None, path_length=20, alpha=0, rand=random.Random()):\n",
    "    '''return a random walk path'''\n",
    "    if start:\n",
    "        path = [start]\n",
    "    else:\n",
    "        path = [rand.choice(list(G.nodes()))]\n",
    "    while len(path) < path_length:\n",
    "        cur = path[-1]\n",
    "        #find it's neighbors\n",
    "        if len(G[cur]) > 0:\n",
    "            if rand.random() >= alpha:\n",
    "                path.append(rand.choice(list(nx.all_neighbors(G, cur))))\n",
    "            else:\n",
    "                path.append(path[0])\n",
    "        else:\n",
    "            break\n",
    "    return path\n",
    "\n",
    "\n",
    "print(random_walk(G, start='BHD'))\n"
   ]
  },
  {
   "cell_type": "code",
   "execution_count": 13,
   "metadata": {},
   "outputs": [],
   "source": [
    "def build_deepwalk_corpus(G, num_paths, rand=random.Random()):\n",
    "    walks = []\n",
    "    nodes = list(G.nodes())\n",
    "    for i in range(num_paths):\n",
    "        rand.shuffle(nodes)\n",
    "        for node in nodes:\n",
    "            walks.append(random_walk(G, start=node))\n",
    "    return walks\n",
    "\n",
    "\n",
    "# print(build_deepwalk_corpus(G, num_paths=2))\n"
   ]
  },
  {
   "cell_type": "code",
   "execution_count": 14,
   "metadata": {},
   "outputs": [],
   "source": [
    "from gensim.models import Word2Vec\n",
    "corpus = build_deepwalk_corpus(G, num_paths=20)\n",
    "model = Word2Vec(corpus, window=2, min_count=1, sg=1)\n"
   ]
  },
  {
   "cell_type": "markdown",
   "metadata": {},
   "source": [
    "# Checking Word-Similarity"
   ]
  },
  {
   "cell_type": "code",
   "execution_count": 15,
   "metadata": {},
   "outputs": [
    {
     "data": {
      "text/plain": [
       "[('6/2/2019', 0.8086698055267334),\n",
       " ('14/04/2019', 0.785508930683136),\n",
       " ('30/04/2018', 0.7831576466560364),\n",
       " ('Apr', 0.7776583433151245),\n",
       " ('Aug', 0.7701002955436707),\n",
       " ('16/01/2018', 0.7693326473236084),\n",
       " ('#5438153', 0.755689263343811),\n",
       " ('Jun', 0.754652202129364),\n",
       " ('Issue:', 0.7539657950401306),\n",
       " ('Invoiced', 0.7517650723457336)]"
      ]
     },
     "execution_count": 15,
     "metadata": {},
     "output_type": "execute_result"
    }
   ],
   "source": [
    "model.wv.most_similar('Date:')"
   ]
  },
  {
   "cell_type": "markdown",
   "metadata": {},
   "source": [
    "# Making Word-Embeddings"
   ]
  },
  {
   "cell_type": "code",
   "execution_count": 16,
   "metadata": {},
   "outputs": [
    {
     "name": "stdout",
     "output_type": "stream",
     "text": [
      "Total text is:  19322\n",
      "Making Embeddings..\n",
      "[ 0.25525063  0.7603356   0.32028034 -0.5928157  -0.20825937 -0.40307343\n",
      " -0.12446588  0.34991118 -0.1937248  -0.43166375 -0.00144445 -0.05736357\n",
      "  0.3835225  -0.10936263 -0.92962307 -1.0080582  -0.04783016 -0.41815785\n",
      "  0.3696006  -0.99158025 -0.20839703  0.19759627  0.40290424 -0.19557266\n",
      " -0.89008045  0.55729926 -0.86394125 -0.8518948  -0.61042196 -0.29668543\n",
      "  0.51883423 -0.1791705   0.11268961 -0.14951292 -0.755814    0.19303508\n",
      " -0.33253318 -0.10126875  0.13385725 -0.7915422  -0.21764696 -0.67588735\n",
      " -0.38509592  0.00763106  0.26508626  0.12897274 -0.19883266 -0.42609575\n",
      "  0.54623246  0.01094475  0.02790719  0.01208792 -0.6841796  -0.05289035\n",
      " -0.18260787 -0.05419707  0.1647125  -0.64559126 -0.2625702  -0.09415864\n",
      " -0.2540297   1.2553263   0.1400077  -0.50242215 -0.47751787  0.03300643\n",
      "  0.864352    0.4875004  -0.59391224  0.73365444 -0.09970862  0.1017249\n",
      " -0.16116275  0.22632907  0.40081427 -0.47565153  0.18431751  0.48906168\n",
      " -0.35311723  0.8342148   0.12852329  0.37119216 -0.69953847  0.5786128\n",
      "  0.3833314  -0.79010457 -0.2597085   0.86144096  0.65467566  0.3250482\n",
      " -0.02539925  0.1982393  -0.21808454  0.38252294 -0.28331688 -0.23583129\n",
      "  0.7108563  -0.5566123  -0.2847723   0.7259534 ]\n"
     ]
    }
   ],
   "source": [
    "_embeddings = []\n",
    "all_Text = []\n",
    "\n",
    "for i in range(100):\n",
    "    df = pd.read_csv(lab_files_path+files[i])\n",
    "    Text = df['Object'].to_list()\n",
    "    \n",
    "    for T in Text:\n",
    "        all_Text.append(T)\n",
    "    \n",
    "print(\"Total text is: \", len(all_Text))\n",
    "print(\"Making Embeddings..\") \n",
    "\n",
    "Nodes = G.number_of_nodes()\n",
    "print(model.wv[\"Date:\"])\n",
    "\n",
    "# _embeddings = [model.wv[str(n)] for n in range(Nodes)]\n",
    "# print(_embeddings)"
   ]
  }
 ],
 "metadata": {
  "interpreter": {
   "hash": "35146d2ce121e8e653791712ad16cca408ea08bd1c84e92938f653a743d84e6c"
  },
  "kernelspec": {
   "display_name": "Python 3.8.10 64-bit ('Graphs': conda)",
   "language": "python",
   "name": "python3"
  },
  "language_info": {
   "codemirror_mode": {
    "name": "ipython",
    "version": 3
   },
   "file_extension": ".py",
   "mimetype": "text/x-python",
   "name": "python",
   "nbconvert_exporter": "python",
   "pygments_lexer": "ipython3",
   "version": "3.8.10"
  },
  "orig_nbformat": 4
 },
 "nbformat": 4,
 "nbformat_minor": 2
}
