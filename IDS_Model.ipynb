{
  "nbformat": 4,
  "nbformat_minor": 0,
  "metadata": {
    "accelerator": "GPU",
    "colab": {
      "name": "IDS_Model.ipynb",
      "provenance": [],
      "collapsed_sections": []
    },
    "interpreter": {
      "hash": "35146d2ce121e8e653791712ad16cca408ea08bd1c84e92938f653a743d84e6c"
    },
    "kernelspec": {
      "display_name": "Python 3.8.10 64-bit ('Graphs': conda)",
      "name": "python3"
    },
    "language_info": {
      "codemirror_mode": {
        "name": "ipython",
        "version": 3
      },
      "file_extension": ".py",
      "mimetype": "text/x-python",
      "name": "python",
      "nbconvert_exporter": "python",
      "pygments_lexer": "ipython3",
      "version": "3.8.10"
    }
  },
  "cells": [
    {
      "cell_type": "markdown",
      "metadata": {
        "id": "VcCNAgviN6Ki"
      },
      "source": [
        "# Mounting Drive\n",
        "Mounting drive to fetch dataset and other resources from the drive"
      ]
    },
    {
      "cell_type": "code",
      "metadata": {
        "colab": {
          "base_uri": "https://localhost:8080/"
        },
        "id": "mmchhkO9S-1R",
        "outputId": "0dfec28e-5cf2-47a0-8022-367f0a1b09c2"
      },
      "source": [
        "from google.colab import drive\n",
        "drive.mount(\"/content/drive\")"
      ],
      "execution_count": 3,
      "outputs": [
        {
          "output_type": "stream",
          "name": "stdout",
          "text": [
            "Drive already mounted at /content/drive; to attempt to forcibly remount, call drive.mount(\"/content/drive\", force_remount=True).\n"
          ]
        }
      ]
    },
    {
      "cell_type": "markdown",
      "metadata": {
        "id": "caLVJ7fVTETv"
      },
      "source": [
        "# Installing Spektral Library\n"
      ]
    },
    {
      "cell_type": "code",
      "metadata": {
        "colab": {
          "base_uri": "https://localhost:8080/"
        },
        "id": "4pbGlTrXTIl8",
        "outputId": "4dba5c64-ea64-4eb7-b0f8-03be88036764"
      },
      "source": [
        "!pip install git+https://github.com/danielegrattarola/spektral"
      ],
      "execution_count": 4,
      "outputs": [
        {
          "output_type": "stream",
          "name": "stdout",
          "text": [
            "Collecting git+https://github.com/danielegrattarola/spektral\n",
            "  Cloning https://github.com/danielegrattarola/spektral to /tmp/pip-req-build-oyoe7pik\n",
            "  Running command git clone -q https://github.com/danielegrattarola/spektral /tmp/pip-req-build-oyoe7pik\n",
            "Requirement already satisfied: joblib in /usr/local/lib/python3.7/dist-packages (from spektral==1.0.8) (1.0.1)\n",
            "Requirement already satisfied: lxml in /usr/local/lib/python3.7/dist-packages (from spektral==1.0.8) (4.2.6)\n",
            "Requirement already satisfied: networkx in /usr/local/lib/python3.7/dist-packages (from spektral==1.0.8) (2.6.2)\n",
            "Requirement already satisfied: numpy<1.20 in /usr/local/lib/python3.7/dist-packages (from spektral==1.0.8) (1.19.5)\n",
            "Requirement already satisfied: pandas in /usr/local/lib/python3.7/dist-packages (from spektral==1.0.8) (1.1.5)\n",
            "Requirement already satisfied: requests in /usr/local/lib/python3.7/dist-packages (from spektral==1.0.8) (2.23.0)\n",
            "Requirement already satisfied: scikit-learn in /usr/local/lib/python3.7/dist-packages (from spektral==1.0.8) (0.22.2.post1)\n",
            "Requirement already satisfied: scipy in /usr/local/lib/python3.7/dist-packages (from spektral==1.0.8) (1.4.1)\n",
            "Requirement already satisfied: tensorflow>=2.1.0 in /usr/local/lib/python3.7/dist-packages (from spektral==1.0.8) (2.6.0)\n",
            "Requirement already satisfied: tqdm in /usr/local/lib/python3.7/dist-packages (from spektral==1.0.8) (4.62.0)\n",
            "Requirement already satisfied: flatbuffers~=1.12.0 in /usr/local/lib/python3.7/dist-packages (from tensorflow>=2.1.0->spektral==1.0.8) (1.12)\n",
            "Requirement already satisfied: grpcio<2.0,>=1.37.0 in /usr/local/lib/python3.7/dist-packages (from tensorflow>=2.1.0->spektral==1.0.8) (1.39.0)\n",
            "Requirement already satisfied: protobuf>=3.9.2 in /usr/local/lib/python3.7/dist-packages (from tensorflow>=2.1.0->spektral==1.0.8) (3.17.3)\n",
            "Requirement already satisfied: absl-py~=0.10 in /usr/local/lib/python3.7/dist-packages (from tensorflow>=2.1.0->spektral==1.0.8) (0.12.0)\n",
            "Requirement already satisfied: wheel~=0.35 in /usr/local/lib/python3.7/dist-packages (from tensorflow>=2.1.0->spektral==1.0.8) (0.37.0)\n",
            "Requirement already satisfied: gast==0.4.0 in /usr/local/lib/python3.7/dist-packages (from tensorflow>=2.1.0->spektral==1.0.8) (0.4.0)\n",
            "Requirement already satisfied: wrapt~=1.12.1 in /usr/local/lib/python3.7/dist-packages (from tensorflow>=2.1.0->spektral==1.0.8) (1.12.1)\n",
            "Requirement already satisfied: six~=1.15.0 in /usr/local/lib/python3.7/dist-packages (from tensorflow>=2.1.0->spektral==1.0.8) (1.15.0)\n",
            "Requirement already satisfied: google-pasta~=0.2 in /usr/local/lib/python3.7/dist-packages (from tensorflow>=2.1.0->spektral==1.0.8) (0.2.0)\n",
            "Requirement already satisfied: keras-preprocessing~=1.1.2 in /usr/local/lib/python3.7/dist-packages (from tensorflow>=2.1.0->spektral==1.0.8) (1.1.2)\n",
            "Requirement already satisfied: typing-extensions~=3.7.4 in /usr/local/lib/python3.7/dist-packages (from tensorflow>=2.1.0->spektral==1.0.8) (3.7.4.3)\n",
            "Requirement already satisfied: termcolor~=1.1.0 in /usr/local/lib/python3.7/dist-packages (from tensorflow>=2.1.0->spektral==1.0.8) (1.1.0)\n",
            "Requirement already satisfied: tensorflow-estimator~=2.6 in /usr/local/lib/python3.7/dist-packages (from tensorflow>=2.1.0->spektral==1.0.8) (2.6.0)\n",
            "Requirement already satisfied: keras~=2.6 in /usr/local/lib/python3.7/dist-packages (from tensorflow>=2.1.0->spektral==1.0.8) (2.6.0)\n",
            "Requirement already satisfied: clang~=5.0 in /usr/local/lib/python3.7/dist-packages (from tensorflow>=2.1.0->spektral==1.0.8) (5.0)\n",
            "Requirement already satisfied: tensorboard~=2.6 in /usr/local/lib/python3.7/dist-packages (from tensorflow>=2.1.0->spektral==1.0.8) (2.6.0)\n",
            "Requirement already satisfied: h5py~=3.1.0 in /usr/local/lib/python3.7/dist-packages (from tensorflow>=2.1.0->spektral==1.0.8) (3.1.0)\n",
            "Requirement already satisfied: astunparse~=1.6.3 in /usr/local/lib/python3.7/dist-packages (from tensorflow>=2.1.0->spektral==1.0.8) (1.6.3)\n",
            "Requirement already satisfied: opt-einsum~=3.3.0 in /usr/local/lib/python3.7/dist-packages (from tensorflow>=2.1.0->spektral==1.0.8) (3.3.0)\n",
            "Requirement already satisfied: cached-property in /usr/local/lib/python3.7/dist-packages (from h5py~=3.1.0->tensorflow>=2.1.0->spektral==1.0.8) (1.5.2)\n",
            "Requirement already satisfied: werkzeug>=0.11.15 in /usr/local/lib/python3.7/dist-packages (from tensorboard~=2.6->tensorflow>=2.1.0->spektral==1.0.8) (1.0.1)\n",
            "Requirement already satisfied: markdown>=2.6.8 in /usr/local/lib/python3.7/dist-packages (from tensorboard~=2.6->tensorflow>=2.1.0->spektral==1.0.8) (3.3.4)\n",
            "Requirement already satisfied: setuptools>=41.0.0 in /usr/local/lib/python3.7/dist-packages (from tensorboard~=2.6->tensorflow>=2.1.0->spektral==1.0.8) (57.4.0)\n",
            "Requirement already satisfied: tensorboard-data-server<0.7.0,>=0.6.0 in /usr/local/lib/python3.7/dist-packages (from tensorboard~=2.6->tensorflow>=2.1.0->spektral==1.0.8) (0.6.1)\n",
            "Requirement already satisfied: google-auth-oauthlib<0.5,>=0.4.1 in /usr/local/lib/python3.7/dist-packages (from tensorboard~=2.6->tensorflow>=2.1.0->spektral==1.0.8) (0.4.5)\n",
            "Requirement already satisfied: google-auth<2,>=1.6.3 in /usr/local/lib/python3.7/dist-packages (from tensorboard~=2.6->tensorflow>=2.1.0->spektral==1.0.8) (1.34.0)\n",
            "Requirement already satisfied: tensorboard-plugin-wit>=1.6.0 in /usr/local/lib/python3.7/dist-packages (from tensorboard~=2.6->tensorflow>=2.1.0->spektral==1.0.8) (1.8.0)\n",
            "Requirement already satisfied: rsa<5,>=3.1.4 in /usr/local/lib/python3.7/dist-packages (from google-auth<2,>=1.6.3->tensorboard~=2.6->tensorflow>=2.1.0->spektral==1.0.8) (4.7.2)\n",
            "Requirement already satisfied: cachetools<5.0,>=2.0.0 in /usr/local/lib/python3.7/dist-packages (from google-auth<2,>=1.6.3->tensorboard~=2.6->tensorflow>=2.1.0->spektral==1.0.8) (4.2.2)\n",
            "Requirement already satisfied: pyasn1-modules>=0.2.1 in /usr/local/lib/python3.7/dist-packages (from google-auth<2,>=1.6.3->tensorboard~=2.6->tensorflow>=2.1.0->spektral==1.0.8) (0.2.8)\n",
            "Requirement already satisfied: requests-oauthlib>=0.7.0 in /usr/local/lib/python3.7/dist-packages (from google-auth-oauthlib<0.5,>=0.4.1->tensorboard~=2.6->tensorflow>=2.1.0->spektral==1.0.8) (1.3.0)\n",
            "Requirement already satisfied: importlib-metadata in /usr/local/lib/python3.7/dist-packages (from markdown>=2.6.8->tensorboard~=2.6->tensorflow>=2.1.0->spektral==1.0.8) (4.6.4)\n",
            "Requirement already satisfied: pyasn1<0.5.0,>=0.4.6 in /usr/local/lib/python3.7/dist-packages (from pyasn1-modules>=0.2.1->google-auth<2,>=1.6.3->tensorboard~=2.6->tensorflow>=2.1.0->spektral==1.0.8) (0.4.8)\n",
            "Requirement already satisfied: chardet<4,>=3.0.2 in /usr/local/lib/python3.7/dist-packages (from requests->spektral==1.0.8) (3.0.4)\n",
            "Requirement already satisfied: urllib3!=1.25.0,!=1.25.1,<1.26,>=1.21.1 in /usr/local/lib/python3.7/dist-packages (from requests->spektral==1.0.8) (1.24.3)\n",
            "Requirement already satisfied: certifi>=2017.4.17 in /usr/local/lib/python3.7/dist-packages (from requests->spektral==1.0.8) (2021.5.30)\n",
            "Requirement already satisfied: idna<3,>=2.5 in /usr/local/lib/python3.7/dist-packages (from requests->spektral==1.0.8) (2.10)\n",
            "Requirement already satisfied: oauthlib>=3.0.0 in /usr/local/lib/python3.7/dist-packages (from requests-oauthlib>=0.7.0->google-auth-oauthlib<0.5,>=0.4.1->tensorboard~=2.6->tensorflow>=2.1.0->spektral==1.0.8) (3.1.1)\n",
            "Requirement already satisfied: zipp>=0.5 in /usr/local/lib/python3.7/dist-packages (from importlib-metadata->markdown>=2.6.8->tensorboard~=2.6->tensorflow>=2.1.0->spektral==1.0.8) (3.5.0)\n",
            "Requirement already satisfied: python-dateutil>=2.7.3 in /usr/local/lib/python3.7/dist-packages (from pandas->spektral==1.0.8) (2.8.2)\n",
            "Requirement already satisfied: pytz>=2017.2 in /usr/local/lib/python3.7/dist-packages (from pandas->spektral==1.0.8) (2018.9)\n"
          ]
        }
      ]
    },
    {
      "cell_type": "markdown",
      "metadata": {
        "id": "cbVDhozDN0Nd"
      },
      "source": [
        "# Loading Label Files"
      ]
    },
    {
      "cell_type": "code",
      "metadata": {
        "colab": {
          "base_uri": "https://localhost:8080/"
        },
        "id": "xm6klvIIN0Nk",
        "outputId": "6f64bfb0-5b1a-4380-deab-ff52da078ba2"
      },
      "source": [
        "# Dataset loading\n",
        "import os\n",
        "\n",
        "dataset = \"/content/drive/MyDrive/Project GCN Dataset/Dataset (Labelled Images)/\"\n",
        "lab_files_path = dataset+\"Labels/\"\n",
        "\n",
        "files = os.listdir(lab_files_path)\n",
        "print(\"Total Label files are: \", len(files))"
      ],
      "execution_count": 5,
      "outputs": [
        {
          "output_type": "stream",
          "name": "stdout",
          "text": [
            "Total Label files are:  129\n"
          ]
        }
      ]
    },
    {
      "cell_type": "markdown",
      "metadata": {
        "id": "nEkBSTLnN0No"
      },
      "source": [
        "# Sparse Matrix Creation\n",
        "\n",
        "Iterate all the csv files and do the following three steps:\n",
        "1. Make a graph of CSV file.\n",
        "2. Turn the graph into adjacency matrix.\n",
        "3. Append that adjacency matrix into sparce matrix(i.e. bigger matrix)\n",
        "\n",
        "# DON'T RUN THIS TAKES A HELL LOT OF TIME\n",
        "# SPARCE MATRIX IS ALREADY CREATED AND SAVED"
      ]
    },
    {
      "cell_type": "code",
      "metadata": {
        "id": "rJwo6iIWN0Np"
      },
      "source": [
        "import pandas as pd\n",
        "import Mat_Package.Grapher as GMaker\n",
        "import Mat_Package.MatricesOverDiagonal as DiagPlacer\n",
        "import networkx as nx\n",
        "import numpy as np\n",
        "from numpy.core.fromnumeric import shape\n",
        "\n",
        "\n",
        "Z_file = lab_files_path + files[0]\n",
        "df = pd.read_csv(Z_file)\n",
        "G = GMaker.makeGraph(df)\n",
        "M = nx.to_numpy_array(G, dtype=np.int32)\n",
        "\n",
        "\n",
        "for i in range(1, len(files)):\n",
        "    print(\"\\n= = = = = = = = = = = = = = = =\")\n",
        "    print(\"Iteration No.: \", i)\n",
        "    # Getting file\n",
        "    f = lab_files_path + files[i]\n",
        "    # Making dataframe of file\n",
        "    df = pd.read_csv(f)\n",
        "    # Making graph of the dataframe. \n",
        "    G = GMaker.makeGraph(df)\n",
        "    # Storing the graph as an incident matrix(an adjacency matrix)\n",
        "    I = nx.to_numpy_array(G, dtype=np.int32)\n",
        "    # Now resizing the original sparce matrix with the new incident matrix\n",
        "    M = DiagPlacer.resizeMatrix(M, I)\n",
        "    \n",
        "print(\"Final Matix Done\")\n",
        "print(\"Dimentions of sparce matrix are: \", np.shape(M))\n"
      ],
      "execution_count": null,
      "outputs": []
    },
    {
      "cell_type": "code",
      "metadata": {
        "id": "OMEFmXdpDs-f"
      },
      "source": [
        "import pandas as pd\n",
        "import networkx as nx\n",
        "import numpy as np\n",
        "from numpy.core.fromnumeric import shape"
      ],
      "execution_count": 6,
      "outputs": []
    },
    {
      "cell_type": "markdown",
      "metadata": {
        "id": "nomU0PgWZLqu"
      },
      "source": [
        "# Geometric Algorithms for converting dataframes to Graphs\n",
        "It connects a node with its neighbouring nodes  "
      ]
    },
    {
      "cell_type": "code",
      "metadata": {
        "id": "QTxAf2dxkJ_8"
      },
      "source": [
        "from PIL.Image import Image\n",
        "import networkx as nx\n",
        "from networkx.algorithms.shortest_paths.weighted import single_source_dijkstra\n",
        "import pandas as pd\n",
        "import matplotlib.pyplot as plt\n",
        "from pandas.core.frame import DataFrame\n",
        "from PIL import Image\n",
        "\n",
        "\n",
        "# csv = './A-10.csv'\n",
        "# df = pd.read_csv(csv)\n",
        "df = 0\n",
        "xMIN, xMAX = [], []\n",
        "yMIN, yMAX = [], []\n",
        "Text = []\n",
        "\n",
        "\n",
        "def findRight(df, df_ind, xMIN, xMAX, yMIN, yMAX):\n",
        "    S_list = []\n",
        "    xmax = xMAX[df_ind]\n",
        "    ymin = yMIN[df_ind]\n",
        "    ymax = yMAX[df_ind]\n",
        "\n",
        "    for i in range(len(df)):\n",
        "        if(xMIN[i] > xmax):\n",
        "            if not (yMIN[i] > ymax or yMAX[i] < ymin):\n",
        "                if(yMIN[i] <= ymin and yMAX[i] <= ymax):\n",
        "                    S_list.append(i)\n",
        "                elif (yMIN[i] <= ymin and yMAX[i] >= ymax):\n",
        "                    S_list.append(i)\n",
        "                elif (yMIN[i] >= ymin and yMAX[i] <= ymax):\n",
        "                    S_list.append(i)\n",
        "                elif (yMIN[i] >= ymin and yMAX[i] >= ymax):\n",
        "                    S_list.append(i)\n",
        "                elif (yMIN[i] == ymin and yMAX[i] == ymax):\n",
        "                    S_list.append(i)\n",
        "\n",
        "    # print(S_list)\n",
        "    if S_list:\n",
        "        consec = S_list[0]\n",
        "        for j in S_list:\n",
        "            if(xMIN[consec] > xMIN[j]):\n",
        "                consec = j\n",
        "        return consec\n",
        "\n",
        "    return -1\n",
        "\n",
        "\n",
        "def findLeft(df, df_ind, xMIN, xMAX, yMIN, yMAX):\n",
        "    S_list = []\n",
        "    xmin = xMIN[df_ind]\n",
        "    ymin = yMIN[df_ind]\n",
        "    ymax = yMAX[df_ind]\n",
        "\n",
        "    for i in range(len(df)):\n",
        "        if(xMAX[i] < xmin):\n",
        "            if not (yMIN[i] > ymax or yMAX[i] < ymin):\n",
        "                if(yMIN[i] <= ymin and yMAX[i] <= ymax):\n",
        "                    S_list.append(i)\n",
        "                elif (yMIN[i] <= ymin and yMAX[i] >= ymax):\n",
        "                    S_list.append(i)\n",
        "                elif (yMIN[i] >= ymin and yMAX[i] <= ymax):\n",
        "                    S_list.append(i)\n",
        "                elif (yMIN[i] >= ymin and yMAX[i] >= ymax):\n",
        "                    S_list.append(i)\n",
        "                elif (yMIN[i] == ymin and yMAX[i] == ymax):\n",
        "                    S_list.append(i)\n",
        "    # print(S_list)\n",
        "    if S_list:\n",
        "        consec = S_list[0]\n",
        "        for j in S_list:\n",
        "            if(xMAX[j] > xMAX[consec]):\n",
        "                consec = j\n",
        "        return consec\n",
        "    return -1\n",
        "\n",
        "\n",
        "def findUp(df, df_ind, xMIN, xMAX, yMIN, yMAX):\n",
        "    S_list = []\n",
        "    xmin = xMIN[df_ind]\n",
        "    xmax = xMAX[df_ind]\n",
        "    ymin = yMIN[df_ind]\n",
        "\n",
        "    for i in range(len(df)):\n",
        "        if(yMAX[i] < ymin):\n",
        "            if not (xMAX[i] < xmin or xMIN[i] > xmax):\n",
        "                if(xMIN[i] <= xmin and xMAX[i] <= xmax):\n",
        "                    S_list.append(i)\n",
        "                elif (xMIN[i] <= xmin and xMAX[i] >= xmax):\n",
        "                    S_list.append(i)\n",
        "                elif (xMIN[i] >= xmin and xMAX[i] <= xmax):\n",
        "                    S_list.append(i)\n",
        "                elif (xMIN[i] >= xmin and xMAX[i] >= xmax):\n",
        "                    S_list.append(i)\n",
        "                elif (xMIN[i] == xmin and xMAX[i] == xmax):\n",
        "                    S_list.append(i)\n",
        "    # print(S_list)\n",
        "\n",
        "    if S_list:\n",
        "        consec = S_list[0]\n",
        "        for j in S_list:\n",
        "            if(yMAX[j] > yMAX[consec]):\n",
        "                consec = j\n",
        "        return consec\n",
        "\n",
        "    return -1\n",
        "\n",
        "\n",
        "def findDown(df, df_ind, xMIN, xMAX, yMIN, yMAX):\n",
        "    S_list = []\n",
        "    xmin = xMIN[df_ind]\n",
        "    xmax = xMAX[df_ind]\n",
        "    ymax = yMAX[df_ind]\n",
        "\n",
        "    for i in range(len(df)):\n",
        "        if(yMIN[i] > ymax):\n",
        "            if not (xMAX[i] < xmin or xMIN[i] > xmax):\n",
        "                if(xMIN[i] <= xmin and xMAX[i] <= xmax):\n",
        "                    S_list.append(i)\n",
        "                elif (xMIN[i] <= xmin and xMAX[i] >= xmax):\n",
        "                    S_list.append(i)\n",
        "                elif (xMIN[i] >= xmin and xMAX[i] <= xmax):\n",
        "                    S_list.append(i)\n",
        "                elif (xMIN[i] >= xmin and xMAX[i] >= xmax):\n",
        "                    S_list.append(i)\n",
        "                elif (xMIN[i] == xmin and xMAX[i] == xmax):\n",
        "                    S_list.append(i)\n",
        "    # print(S_list)\n",
        "    if S_list:\n",
        "        consec = S_list[0]\n",
        "        for j in S_list:\n",
        "            if(yMIN[j] < yMIN[consec]):\n",
        "                consec = j\n",
        "        return consec\n",
        "\n",
        "    return -1\n",
        "\n",
        "\n",
        "def makeGraph(df):\n",
        "    G = nx.Graph()\n",
        "    xMIN = df['xmin']\n",
        "    xMAX = df['xmax']\n",
        "    yMIN = df['ymin']\n",
        "    yMAX = df['ymax']\n",
        "    Text = df['Object']\n",
        "\n",
        "    for i in range(len(df)):\n",
        "        if findUp(df, i, xMIN, xMAX, yMIN, yMAX):\n",
        "            l = findUp(df, i, xMIN, xMAX, yMIN, yMAX)\n",
        "            if(l != -1):\n",
        "                text = Text[l]\n",
        "                G.add_edge(Text[i], text)\n",
        "        if findRight(df, i, xMIN, xMAX, yMIN, yMAX):\n",
        "            l = findRight(df, i, xMIN, xMAX, yMIN, yMAX)\n",
        "            if (l != -1):\n",
        "                text = Text[l]\n",
        "                G.add_edge(Text[i], text)\n",
        "        if findDown(df, i, xMIN, xMAX, yMIN, yMAX):\n",
        "            l = findDown(df, i, xMIN, xMAX, yMIN, yMAX)\n",
        "            if (l != -1):\n",
        "                text = Text[l]\n",
        "                G.add_edge(Text[i], text)\n",
        "        if findLeft(df, i, xMIN, xMAX, yMIN, yMAX):\n",
        "            l = findLeft(df, i, xMIN, xMAX, yMIN, yMAX)\n",
        "            if (l != -1):\n",
        "                text = Text[l]\n",
        "                G.add_edge(Text[i], text)\n",
        "    return G\n"
      ],
      "execution_count": null,
      "outputs": []
    },
    {
      "cell_type": "markdown",
      "metadata": {
        "id": "ln7Fs0dRkoIf"
      },
      "source": [
        "# Matrices Over Diagonal\n",
        "Place an incident Matrix over diagonal with existing matrix"
      ]
    },
    {
      "cell_type": "code",
      "metadata": {
        "id": "vRjN1IPHk_bO"
      },
      "source": [
        "from typing import SupportsAbs\n",
        "import numpy as np\n",
        "from numpy.core.fromnumeric import shape\n",
        "\n",
        "# Test Matrices\n",
        "# mat1 = np.array([[1, 2, 3], [4, 5, 6], [7, 8, 9]])\n",
        "# mat2 = np.array([[3, 2, 1, 7], [6, 5, 4, 9], [9, 8, 7, 4], [1, 5, 7, 2]])\n",
        "\n",
        "\n",
        "def alignDiagonally(M1, M2, prev_Len):\n",
        "    for i in range(prev_Len, np.shape(M1)[0]):\n",
        "        for j in range(prev_Len, np.shape(M1)[0]):\n",
        "            x = i - prev_Len\n",
        "            y = j - prev_Len\n",
        "            M1[i][j] = M2[x][y]\n",
        "    return M1\n",
        "\n",
        "\n",
        "def resizeMatrix(M, I):\n",
        "    oldMat_Len = np.shape(M)[0]\n",
        "    z = np.zeros((oldMat_Len, np.shape(I)[0]), dtype=np.int64)\n",
        "    newArray = np.append(M, z, axis=1)\n",
        "    M = newArray\n",
        "\n",
        "    # Appending 1D arrays of zeros in the original Matrix\n",
        "    # (i.e. the matrix in which we want to align othe rmatrices diagonally)\n",
        "    # for i in range(appZero):\n",
        "    #     M = np.vstack((M, L))\n",
        "    appZero = np.shape(I)[0]\n",
        "    x = oldMat_Len + appZero\n",
        "    L = np.zeros((np.shape(I)[0], x), dtype=np.int64)\n",
        "    newArray = np.append(M, L, axis=0)\n",
        "    M = newArray\n",
        "\n",
        "    M = alignDiagonally(M, I, oldMat_Len)\n",
        "    return M\n",
        "\n",
        "\n",
        "# print(resizeMatrix(mat1, mat2))\n"
      ],
      "execution_count": null,
      "outputs": []
    },
    {
      "cell_type": "markdown",
      "metadata": {
        "id": "4migFjSpUxCP"
      },
      "source": [
        "# Dividing Dataset into smaller datasets\n",
        "Creating a total of four sparse matrices and saving it to drive. "
      ]
    },
    {
      "cell_type": "markdown",
      "metadata": {
        "id": "2Kuu2G9BAY_O"
      },
      "source": [
        "# Dataset Batch 1"
      ]
    },
    {
      "cell_type": "code",
      "metadata": {
        "colab": {
          "base_uri": "https://localhost:8080/"
        },
        "id": "StRWr_C0U8uj",
        "outputId": "216662d6-e578-4872-c20c-5518f28dff7e"
      },
      "source": [
        "import pandas as pd\n",
        "import networkx as nx\n",
        "import numpy as np\n",
        "from numpy.core.fromnumeric import shape\n",
        "\n",
        "Z_file = lab_files_path + files[0]\n",
        "df = pd.read_csv(Z_file)\n",
        "G = makeGraph(df)\n",
        "M1 = nx.to_numpy_array(G, dtype=np.int32)\n",
        "\n",
        "for i in range(1, 26):\n",
        "    print(\"\\n= = = = = = = = = = = = = = = =\")\n",
        "    print(\"Iteration No.: \", i)\n",
        "    # Getting file\n",
        "    f = lab_files_path + files[i]\n",
        "    # Making dataframe of file\n",
        "    df = pd.read_csv(f)\n",
        "    # Making graph of the dataframe. \n",
        "    G = makeGraph(df)\n",
        "    # Storing the graph as an incident matrix(an adjacency matrix)\n",
        "    I = nx.to_numpy_array(G, dtype=np.int32)\n",
        "    # Now resizing the original sparce matrix with the new incident matrix\n",
        "    M1 = resizeMatrix(M1, I)\n",
        "\n",
        "print(\"Dimentions of Batch 1 matrix is: \", np.shape(M1))"
      ],
      "execution_count": null,
      "outputs": [
        {
          "name": "stdout",
          "output_type": "stream",
          "text": [
            "\n",
            "= = = = = = = = = = = = = = = =\n",
            "Iteration No.:  1\n",
            "\n",
            "= = = = = = = = = = = = = = = =\n",
            "Iteration No.:  2\n",
            "\n",
            "= = = = = = = = = = = = = = = =\n",
            "Iteration No.:  3\n",
            "\n",
            "= = = = = = = = = = = = = = = =\n",
            "Iteration No.:  4\n",
            "\n",
            "= = = = = = = = = = = = = = = =\n",
            "Iteration No.:  5\n",
            "\n",
            "= = = = = = = = = = = = = = = =\n",
            "Iteration No.:  6\n",
            "\n",
            "= = = = = = = = = = = = = = = =\n",
            "Iteration No.:  7\n",
            "\n",
            "= = = = = = = = = = = = = = = =\n",
            "Iteration No.:  8\n",
            "\n",
            "= = = = = = = = = = = = = = = =\n",
            "Iteration No.:  9\n",
            "\n",
            "= = = = = = = = = = = = = = = =\n",
            "Iteration No.:  10\n",
            "\n",
            "= = = = = = = = = = = = = = = =\n",
            "Iteration No.:  11\n",
            "\n",
            "= = = = = = = = = = = = = = = =\n",
            "Iteration No.:  12\n",
            "\n",
            "= = = = = = = = = = = = = = = =\n",
            "Iteration No.:  13\n",
            "\n",
            "= = = = = = = = = = = = = = = =\n",
            "Iteration No.:  14\n",
            "\n",
            "= = = = = = = = = = = = = = = =\n",
            "Iteration No.:  15\n",
            "\n",
            "= = = = = = = = = = = = = = = =\n",
            "Iteration No.:  16\n",
            "\n",
            "= = = = = = = = = = = = = = = =\n",
            "Iteration No.:  17\n",
            "\n",
            "= = = = = = = = = = = = = = = =\n",
            "Iteration No.:  18\n",
            "\n",
            "= = = = = = = = = = = = = = = =\n",
            "Iteration No.:  19\n",
            "\n",
            "= = = = = = = = = = = = = = = =\n",
            "Iteration No.:  20\n",
            "\n",
            "= = = = = = = = = = = = = = = =\n",
            "Iteration No.:  21\n",
            "\n",
            "= = = = = = = = = = = = = = = =\n",
            "Iteration No.:  22\n",
            "\n",
            "= = = = = = = = = = = = = = = =\n",
            "Iteration No.:  23\n",
            "\n",
            "= = = = = = = = = = = = = = = =\n",
            "Iteration No.:  24\n",
            "\n",
            "= = = = = = = = = = = = = = = =\n",
            "Iteration No.:  25\n",
            "Dimentions of Batch 1 matrix is:  (5762, 5762)\n"
          ]
        }
      ]
    },
    {
      "cell_type": "markdown",
      "metadata": {
        "id": "14pae4cQAmoa"
      },
      "source": [
        "# Dataset Batch 2"
      ]
    },
    {
      "cell_type": "code",
      "metadata": {
        "colab": {
          "base_uri": "https://localhost:8080/"
        },
        "id": "kuO0iRx_Aphl",
        "outputId": "8ba57aaa-6f10-49ef-f6c0-6d514f5b8d2b"
      },
      "source": [
        "Z1_file = lab_files_path + files[26]\n",
        "df = pd.read_csv(Z1_file)\n",
        "G = makeGraph(df)\n",
        "M2 = nx.to_numpy_array(G, dtype=np.int32)\n",
        "\n",
        "for i in range(27, 65):\n",
        "    print(\"\\n= = = = = = = = = = = = = = = =\")\n",
        "    print(\"Iteration No.: \", i)\n",
        "    # Getting file\n",
        "    f = lab_files_path + files[i]\n",
        "    # Making dataframe of file\n",
        "    df = pd.read_csv(f)\n",
        "    # Making graph of the dataframe. \n",
        "    G = makeGraph(df)\n",
        "    # Storing the graph as an incident matrix(an adjacency matrix)\n",
        "    I = nx.to_numpy_array(G, dtype=np.int32)\n",
        "    # Now resizing the original sparce matrix with the new incident matrix\n",
        "    M2 = resizeMatrix(M2, I)\n",
        "\n",
        "print(\"Dimentions of Batch 2 matrix is: \", np.shape(M2))  "
      ],
      "execution_count": null,
      "outputs": [
        {
          "name": "stdout",
          "output_type": "stream",
          "text": [
            "\n",
            "= = = = = = = = = = = = = = = =\n",
            "Iteration No.:  27\n",
            "\n",
            "= = = = = = = = = = = = = = = =\n",
            "Iteration No.:  28\n",
            "\n",
            "= = = = = = = = = = = = = = = =\n",
            "Iteration No.:  29\n",
            "\n",
            "= = = = = = = = = = = = = = = =\n",
            "Iteration No.:  30\n",
            "\n",
            "= = = = = = = = = = = = = = = =\n",
            "Iteration No.:  31\n",
            "\n",
            "= = = = = = = = = = = = = = = =\n",
            "Iteration No.:  32\n",
            "\n",
            "= = = = = = = = = = = = = = = =\n",
            "Iteration No.:  33\n",
            "\n",
            "= = = = = = = = = = = = = = = =\n",
            "Iteration No.:  34\n",
            "\n",
            "= = = = = = = = = = = = = = = =\n",
            "Iteration No.:  35\n",
            "\n",
            "= = = = = = = = = = = = = = = =\n",
            "Iteration No.:  36\n",
            "\n",
            "= = = = = = = = = = = = = = = =\n",
            "Iteration No.:  37\n",
            "\n",
            "= = = = = = = = = = = = = = = =\n",
            "Iteration No.:  38\n",
            "\n",
            "= = = = = = = = = = = = = = = =\n",
            "Iteration No.:  39\n",
            "\n",
            "= = = = = = = = = = = = = = = =\n",
            "Iteration No.:  40\n",
            "\n",
            "= = = = = = = = = = = = = = = =\n",
            "Iteration No.:  41\n",
            "\n",
            "= = = = = = = = = = = = = = = =\n",
            "Iteration No.:  42\n",
            "\n",
            "= = = = = = = = = = = = = = = =\n",
            "Iteration No.:  43\n",
            "\n",
            "= = = = = = = = = = = = = = = =\n",
            "Iteration No.:  44\n",
            "\n",
            "= = = = = = = = = = = = = = = =\n",
            "Iteration No.:  45\n",
            "\n",
            "= = = = = = = = = = = = = = = =\n",
            "Iteration No.:  46\n",
            "\n",
            "= = = = = = = = = = = = = = = =\n",
            "Iteration No.:  47\n",
            "\n",
            "= = = = = = = = = = = = = = = =\n",
            "Iteration No.:  48\n",
            "\n",
            "= = = = = = = = = = = = = = = =\n",
            "Iteration No.:  49\n",
            "\n",
            "= = = = = = = = = = = = = = = =\n",
            "Iteration No.:  50\n",
            "\n",
            "= = = = = = = = = = = = = = = =\n",
            "Iteration No.:  51\n",
            "\n",
            "= = = = = = = = = = = = = = = =\n",
            "Iteration No.:  52\n",
            "\n",
            "= = = = = = = = = = = = = = = =\n",
            "Iteration No.:  53\n",
            "\n",
            "= = = = = = = = = = = = = = = =\n",
            "Iteration No.:  54\n",
            "\n",
            "= = = = = = = = = = = = = = = =\n",
            "Iteration No.:  55\n",
            "\n",
            "= = = = = = = = = = = = = = = =\n",
            "Iteration No.:  56\n",
            "\n",
            "= = = = = = = = = = = = = = = =\n",
            "Iteration No.:  57\n",
            "\n",
            "= = = = = = = = = = = = = = = =\n",
            "Iteration No.:  58\n",
            "\n",
            "= = = = = = = = = = = = = = = =\n",
            "Iteration No.:  59\n",
            "\n",
            "= = = = = = = = = = = = = = = =\n",
            "Iteration No.:  60\n",
            "\n",
            "= = = = = = = = = = = = = = = =\n",
            "Iteration No.:  61\n",
            "\n",
            "= = = = = = = = = = = = = = = =\n",
            "Iteration No.:  62\n",
            "\n",
            "= = = = = = = = = = = = = = = =\n",
            "Iteration No.:  63\n",
            "\n",
            "= = = = = = = = = = = = = = = =\n",
            "Iteration No.:  64\n",
            "Dimentions of Batch 2 matrix is:  (5410, 5410)\n"
          ]
        }
      ]
    },
    {
      "cell_type": "markdown",
      "metadata": {
        "id": "2-2GlwRWArD1"
      },
      "source": [
        "# Dataset Batch 3"
      ]
    },
    {
      "cell_type": "code",
      "metadata": {
        "colab": {
          "base_uri": "https://localhost:8080/"
        },
        "id": "4b3ucBbqAt8Z",
        "outputId": "ee7891f7-d6b0-4f1b-aa47-784f184acbb2"
      },
      "source": [
        "Z2_file = lab_files_path + files[65]\n",
        "df = pd.read_csv(Z2_file)\n",
        "G = makeGraph(df)\n",
        "M3 = nx.to_numpy_array(G, dtype=np.int32)\n",
        "    \n",
        "for i in range(66, 100):\n",
        "    print(\"\\n= = = = = = = = = = = = = = = =\")\n",
        "    print(\"Iteration No.: \", i)\n",
        "    # Getting file\n",
        "    f = lab_files_path + files[i]\n",
        "    # Making dataframe of file\n",
        "    df = pd.read_csv(f)\n",
        "    # Making graph of the dataframe. \n",
        "    G = makeGraph(df)\n",
        "    # Storing the graph as an incident matrix(an adjacency matrix)\n",
        "    I = nx.to_numpy_array(G, dtype=np.int32)\n",
        "    # Now resizing the original sparce matrix with the new incident matrix\n",
        "    M3 = resizeMatrix(M3, I)\n",
        "\n",
        "print(\"Dimentions of Batch 3 matrix is: \", np.shape(M3))"
      ],
      "execution_count": null,
      "outputs": [
        {
          "name": "stdout",
          "output_type": "stream",
          "text": [
            "\n",
            "= = = = = = = = = = = = = = = =\n",
            "Iteration No.:  66\n",
            "\n",
            "= = = = = = = = = = = = = = = =\n",
            "Iteration No.:  67\n",
            "\n",
            "= = = = = = = = = = = = = = = =\n",
            "Iteration No.:  68\n",
            "\n",
            "= = = = = = = = = = = = = = = =\n",
            "Iteration No.:  69\n",
            "\n",
            "= = = = = = = = = = = = = = = =\n",
            "Iteration No.:  70\n",
            "\n",
            "= = = = = = = = = = = = = = = =\n",
            "Iteration No.:  71\n",
            "\n",
            "= = = = = = = = = = = = = = = =\n",
            "Iteration No.:  72\n",
            "\n",
            "= = = = = = = = = = = = = = = =\n",
            "Iteration No.:  73\n",
            "\n",
            "= = = = = = = = = = = = = = = =\n",
            "Iteration No.:  74\n",
            "\n",
            "= = = = = = = = = = = = = = = =\n",
            "Iteration No.:  75\n",
            "\n",
            "= = = = = = = = = = = = = = = =\n",
            "Iteration No.:  76\n",
            "\n",
            "= = = = = = = = = = = = = = = =\n",
            "Iteration No.:  77\n",
            "\n",
            "= = = = = = = = = = = = = = = =\n",
            "Iteration No.:  78\n",
            "\n",
            "= = = = = = = = = = = = = = = =\n",
            "Iteration No.:  79\n",
            "\n",
            "= = = = = = = = = = = = = = = =\n",
            "Iteration No.:  80\n",
            "\n",
            "= = = = = = = = = = = = = = = =\n",
            "Iteration No.:  81\n",
            "\n",
            "= = = = = = = = = = = = = = = =\n",
            "Iteration No.:  82\n",
            "\n",
            "= = = = = = = = = = = = = = = =\n",
            "Iteration No.:  83\n",
            "\n",
            "= = = = = = = = = = = = = = = =\n",
            "Iteration No.:  84\n",
            "\n",
            "= = = = = = = = = = = = = = = =\n",
            "Iteration No.:  85\n",
            "\n",
            "= = = = = = = = = = = = = = = =\n",
            "Iteration No.:  86\n",
            "\n",
            "= = = = = = = = = = = = = = = =\n",
            "Iteration No.:  87\n",
            "\n",
            "= = = = = = = = = = = = = = = =\n",
            "Iteration No.:  88\n",
            "\n",
            "= = = = = = = = = = = = = = = =\n",
            "Iteration No.:  89\n",
            "\n",
            "= = = = = = = = = = = = = = = =\n",
            "Iteration No.:  90\n",
            "\n",
            "= = = = = = = = = = = = = = = =\n",
            "Iteration No.:  91\n",
            "\n",
            "= = = = = = = = = = = = = = = =\n",
            "Iteration No.:  92\n",
            "\n",
            "= = = = = = = = = = = = = = = =\n",
            "Iteration No.:  93\n",
            "\n",
            "= = = = = = = = = = = = = = = =\n",
            "Iteration No.:  94\n",
            "\n",
            "= = = = = = = = = = = = = = = =\n",
            "Iteration No.:  95\n",
            "\n",
            "= = = = = = = = = = = = = = = =\n",
            "Iteration No.:  96\n",
            "\n",
            "= = = = = = = = = = = = = = = =\n",
            "Iteration No.:  97\n",
            "\n",
            "= = = = = = = = = = = = = = = =\n",
            "Iteration No.:  98\n",
            "\n",
            "= = = = = = = = = = = = = = = =\n",
            "Iteration No.:  99\n",
            "Dimentions of Batch 3 matrix is:  (7432, 7432)\n"
          ]
        }
      ]
    },
    {
      "cell_type": "markdown",
      "metadata": {
        "id": "PfGcavncA3Iu"
      },
      "source": [
        "# Dataset Batch 4\n"
      ]
    },
    {
      "cell_type": "code",
      "metadata": {
        "colab": {
          "base_uri": "https://localhost:8080/"
        },
        "id": "YA9wfeuLA5Kv",
        "outputId": "4ff4e9b6-270a-4482-80a5-2654918df8fb"
      },
      "source": [
        "Z3_file = lab_files_path + files[100]\n",
        "df = pd.read_csv(Z3_file)\n",
        "G = makeGraph(df)\n",
        "M4 = nx.to_numpy_array(G, dtype=np.int32)\n",
        "\n",
        "for i in range(101, len(files)):\n",
        "    print(\"\\n= = = = = = = = = = = = = = = =\")\n",
        "    print(\"Iteration No.: \", i)\n",
        "    # Getting file\n",
        "    f = lab_files_path + files[i]\n",
        "    # Making dataframe of file\n",
        "    df = pd.read_csv(f)\n",
        "    # Making graph of the dataframe. \n",
        "    G = makeGraph(df)\n",
        "    # Storing the graph as an incident matrix(an adjacency matrix)\n",
        "    I = nx.to_numpy_array(G, dtype=np.int32)\n",
        "    # Now resizing the original sparce matrix with the new incident matrix\n",
        "    M4 = resizeMatrix(M4, I)\n",
        "\n",
        "print(\"Dimentions of Batch 4 matrix is: \", np.shape(M4))\n"
      ],
      "execution_count": null,
      "outputs": [
        {
          "name": "stdout",
          "output_type": "stream",
          "text": [
            "\n",
            "= = = = = = = = = = = = = = = =\n",
            "Iteration No.:  101\n",
            "\n",
            "= = = = = = = = = = = = = = = =\n",
            "Iteration No.:  102\n",
            "\n",
            "= = = = = = = = = = = = = = = =\n",
            "Iteration No.:  103\n",
            "\n",
            "= = = = = = = = = = = = = = = =\n",
            "Iteration No.:  104\n",
            "\n",
            "= = = = = = = = = = = = = = = =\n",
            "Iteration No.:  105\n",
            "\n",
            "= = = = = = = = = = = = = = = =\n",
            "Iteration No.:  106\n",
            "\n",
            "= = = = = = = = = = = = = = = =\n",
            "Iteration No.:  107\n",
            "\n",
            "= = = = = = = = = = = = = = = =\n",
            "Iteration No.:  108\n",
            "\n",
            "= = = = = = = = = = = = = = = =\n",
            "Iteration No.:  109\n",
            "\n",
            "= = = = = = = = = = = = = = = =\n",
            "Iteration No.:  110\n",
            "\n",
            "= = = = = = = = = = = = = = = =\n",
            "Iteration No.:  111\n",
            "\n",
            "= = = = = = = = = = = = = = = =\n",
            "Iteration No.:  112\n",
            "\n",
            "= = = = = = = = = = = = = = = =\n",
            "Iteration No.:  113\n",
            "\n",
            "= = = = = = = = = = = = = = = =\n",
            "Iteration No.:  114\n",
            "\n",
            "= = = = = = = = = = = = = = = =\n",
            "Iteration No.:  115\n",
            "\n",
            "= = = = = = = = = = = = = = = =\n",
            "Iteration No.:  116\n",
            "\n",
            "= = = = = = = = = = = = = = = =\n",
            "Iteration No.:  117\n",
            "\n",
            "= = = = = = = = = = = = = = = =\n",
            "Iteration No.:  118\n",
            "\n",
            "= = = = = = = = = = = = = = = =\n",
            "Iteration No.:  119\n",
            "\n",
            "= = = = = = = = = = = = = = = =\n",
            "Iteration No.:  120\n",
            "\n",
            "= = = = = = = = = = = = = = = =\n",
            "Iteration No.:  121\n",
            "\n",
            "= = = = = = = = = = = = = = = =\n",
            "Iteration No.:  122\n",
            "\n",
            "= = = = = = = = = = = = = = = =\n",
            "Iteration No.:  123\n",
            "\n",
            "= = = = = = = = = = = = = = = =\n",
            "Iteration No.:  124\n",
            "\n",
            "= = = = = = = = = = = = = = = =\n",
            "Iteration No.:  125\n",
            "\n",
            "= = = = = = = = = = = = = = = =\n",
            "Iteration No.:  126\n",
            "\n",
            "= = = = = = = = = = = = = = = =\n",
            "Iteration No.:  127\n",
            "\n",
            "= = = = = = = = = = = = = = = =\n",
            "Iteration No.:  128\n",
            "Dimentions of Batch 4 matrix is:  (2493, 2493)\n"
          ]
        }
      ]
    },
    {
      "cell_type": "markdown",
      "metadata": {
        "id": "7FWHWx2nGk6K"
      },
      "source": [
        "# Verifying dataset batches size"
      ]
    },
    {
      "cell_type": "code",
      "metadata": {
        "colab": {
          "base_uri": "https://localhost:8080/"
        },
        "id": "lAMbTr8WGrrc",
        "outputId": "a799c8e3-2c17-4be7-a61b-e40295997d05"
      },
      "source": [
        "t_size = np.shape(M1)[0] + np.shape(M2)[0]  + np.shape(M3)[0] + np.shape(M4)[0] \n",
        "print(\"Overall dimention is: \", t_size)"
      ],
      "execution_count": null,
      "outputs": [
        {
          "name": "stdout",
          "output_type": "stream",
          "text": [
            "Overall dimention is:  21097\n"
          ]
        }
      ]
    },
    {
      "cell_type": "markdown",
      "metadata": {
        "id": "UrbU0aV1lX75"
      },
      "source": [
        "# Saving the four Matrices\n",
        "Saving the matrices named Mat_batch(no.)"
      ]
    },
    {
      "cell_type": "code",
      "metadata": {
        "id": "GfifTHr6lowY"
      },
      "source": [
        "np.save(\"drive/MyDrive/Project GCN Dataset/Mat_b1.npy\", M1)\n",
        "np.save(\"drive/MyDrive/Project GCN Dataset/Mat_b2.npy\", M2)\n",
        "np.save(\"drive/MyDrive/Project GCN Dataset/Mat_b3.npy\", M3)\n",
        "np.save(\"drive/MyDrive/Project GCN Dataset/Mat_b4.npy\", M4)"
      ],
      "execution_count": null,
      "outputs": []
    },
    {
      "cell_type": "markdown",
      "metadata": {
        "id": "sNtE4-hmN0Nq"
      },
      "source": [
        "# Saving Matrix\n",
        "\n",
        "# MATRIX ALREADY SAVED\n",
        "# PLEASE DONOT RUN THIS CELL"
      ]
    },
    {
      "cell_type": "code",
      "metadata": {
        "id": "0XdyNtrDN0Nr"
      },
      "source": [
        "print(\"Saving Matrix\")\n",
        "np.save(\"drive/MyDrive/Project GCN Dataset/Matrix.npy\", M)\n",
        "\n",
        "print(\"Saved\")"
      ],
      "execution_count": null,
      "outputs": []
    },
    {
      "cell_type": "markdown",
      "metadata": {
        "id": "UDBgT62fN0Ns"
      },
      "source": [
        "# Loading Matrix\n",
        "Loading the sparce matrix in a variable A."
      ]
    },
    {
      "cell_type": "code",
      "metadata": {
        "colab": {
          "base_uri": "https://localhost:8080/"
        },
        "id": "n8Popt5iN0Nt",
        "outputId": "35bd19e8-0410-472b-c0ce-3c1a53d84f2c"
      },
      "source": [
        "import numpy as np\n",
        "\n",
        "# loading matrix\n",
        "A = np.load(\"/content/drive/MyDrive/Project GCN Dataset/Mat_b1.npy\")\n",
        "print(\"Printing Sparse Matrix..\")\n",
        "print(A)\n",
        "print(np.shape(A))"
      ],
      "execution_count": 7,
      "outputs": [
        {
          "output_type": "stream",
          "name": "stdout",
          "text": [
            "Printing Sparse Matrix..\n",
            "[[0 1 1 ... 0 0 0]\n",
            " [1 0 0 ... 0 0 0]\n",
            " [1 0 0 ... 0 0 0]\n",
            " ...\n",
            " [0 0 0 ... 0 0 0]\n",
            " [0 0 0 ... 0 0 1]\n",
            " [0 0 0 ... 0 1 0]]\n",
            "(5762, 5762)\n"
          ]
        }
      ]
    },
    {
      "cell_type": "markdown",
      "metadata": {
        "id": "5oWMhfx0o5n8"
      },
      "source": [
        "# Checking Sparse Matrix"
      ]
    },
    {
      "cell_type": "code",
      "metadata": {
        "colab": {
          "base_uri": "https://localhost:8080/",
          "height": 292
        },
        "id": "Uadt4RY4o800",
        "outputId": "4322e7c7-f203-4470-9297-ed8df6db0386"
      },
      "source": [
        "import matplotlib.pyplot as plt\n",
        "\n",
        "plt.matshow(A)\n",
        "print(np.shape(A))"
      ],
      "execution_count": 8,
      "outputs": [
        {
          "output_type": "stream",
          "name": "stdout",
          "text": [
            "(5762, 5762)\n"
          ]
        },
        {
          "output_type": "display_data",
          "data": {
            "image/png": "[encoded data removed]",
            "text/plain": [
              "<Figure size 288x288 with 1 Axes>"
            ]
          },
          "metadata": {
            "needs_background": "light"
          }
        }
      ]
    },
    {
      "cell_type": "markdown",
      "metadata": {
        "id": "br5DRJSKn2ha"
      },
      "source": [
        "# Generating Labels"
      ]
    },
    {
      "cell_type": "code",
      "metadata": {
        "id": "wfSeOkKon5mi"
      },
      "source": [
        "from numpy import nan\n",
        "import pandas as pd\n",
        "\n",
        "\n",
        "def returnLabels(direc, files):\n",
        "    labels = []\n",
        "    for f in range(len(files)):\n",
        "        seenList = []\n",
        "        df = pd.read_csv(direc + files[f])\n",
        "        text = df['Object'].to_list()\n",
        "        T_labels = df['labels'].to_list()\n",
        "\n",
        "        for i in range(len(text)):\n",
        "            if(text[i] not in seenList):\n",
        "                labels.append(T_labels[i])\n",
        "            seenList.append(text[i])\n",
        "\n",
        "    return labels\n",
        "  \n"
      ],
      "execution_count": 9,
      "outputs": []
    },
    {
      "cell_type": "markdown",
      "metadata": {
        "id": "jcOYerByN0Nv"
      },
      "source": [
        "# Encoding Labels\n",
        "1. Get a list of labels from CSV files.\n",
        "2. Catagorically encode the labels "
      ]
    },
    {
      "cell_type": "code",
      "metadata": {
        "colab": {
          "base_uri": "https://localhost:8080/"
        },
        "id": "W6o6X8zRN0Nx",
        "outputId": "56a92f7e-3a01-45ad-e519-0c07aa04a1f7"
      },
      "source": [
        "from sklearn.preprocessing import LabelEncoder\n",
        "\n",
        "labels = returnLabels(lab_files_path, files)\n",
        "print(\"Total labels are: \", len(labels))\n",
        "\n",
        "print(\"Encoding list..\")\n",
        "lab_encoder = LabelEncoder()\n",
        "encodings = lab_encoder.fit_transform(labels)\n",
        "print(\"Total Encodings are: \", len(encodings))\n",
        "\n",
        "\n",
        "# t_file = open(\"Encodings.txt\", \"w\")\n",
        "# for element in encodings:\n",
        "#     t_file.write(\"%i\\n\" % element)\n",
        "\n",
        "# t_file.close()\n",
        "\n",
        "\n",
        "uni_enc = set(encodings)\n",
        "print(\"Unique Encodings are: \", uni_enc)\n",
        "encodings = np.transpose(encodings)  \n",
        "\n",
        "# Encodings for Mat_b1 are\n",
        "e1_encodings_size = np.shape(A)[0]\n",
        "print(\"Size of batch1 matrix is: \", e1_encodings_size)\n",
        "e1 = encodings[0:e1_encodings_size]\n",
        "print(\"Total encodings for batch1 matrix are: \", len(e1))\n",
        "\n",
        "print(\"Encodings for Batch 1 Matrix is: \", set(e1))\n"
      ],
      "execution_count": 10,
      "outputs": [
        {
          "output_type": "stream",
          "name": "stdout",
          "text": [
            "Total labels are:  21097\n",
            "Encoding list..\n",
            "Total Encodings are:  21097\n",
            "Unique Encodings are:  {0, 1, 2, 3, 4, 5, 6, 7, 8, 9, 10, 11}\n",
            "Size of batch1 matrix is:  5762\n",
            "Total encodings for batch1 matrix are:  5762\n",
            "Encodings for Batch 1 Matrix is:  {2, 3, 5, 6, 8, 9, 10, 11}\n"
          ]
        }
      ]
    },
    {
      "cell_type": "markdown",
      "metadata": {
        "id": "LhFDji2YN0Ny"
      },
      "source": [
        "# Importing Libraries"
      ]
    },
    {
      "cell_type": "code",
      "metadata": {
        "colab": {
          "base_uri": "https://localhost:8080/"
        },
        "id": "iejwmS9VN0Nz",
        "outputId": "476e6126-80a8-4fff-e4d1-083822fba51d"
      },
      "source": [
        "from sklearn.utils import shuffle\n",
        "\n",
        "# from tensorflow.keras import Sequential\n",
        "from tensorflow.keras.models import Model\n",
        "from tensorflow.keras.layers import Input, Dropout, Dense, Flatten, MaxPool2D, BatchNormalization, Activation\n",
        "from tensorflow.keras.optimizers import Adam\n",
        "from tensorflow.keras.callbacks import TensorBoard, EarlyStopping\n",
        "import tensorflow as tf\n",
        "from tensorflow.keras.regularizers import l2\n",
        "\n",
        "\n",
        "from spektral.utils.sparse import sp_matrix_to_sp_tensor\n",
        "from spektral.layers import GCNConv\n",
        "from sklearn.metrics import classification_report\n",
        "from spektral.utils import normalized_laplacian\n",
        "from spektral.utils.sparse import sp_matrix_to_sp_tensor\n",
        "\n",
        "import matplotlib.pyplot as plt\n",
        "print(\"Libraries Imported..\")\n"
      ],
      "execution_count": 11,
      "outputs": [
        {
          "output_type": "stream",
          "name": "stdout",
          "text": [
            "Libraries Imported..\n"
          ]
        }
      ]
    },
    {
      "cell_type": "markdown",
      "metadata": {
        "id": "GTQOoH9xN0N0"
      },
      "source": [
        "# Model Hyper-parameters\n",
        "Adding model hyper-parameters:\n",
        "1. Learning rate(At whar pace should the model be learning)\n",
        "2. Channels(Neurons)\n",
        "3. Dropout rate(Now many neurons should be active at a time)\n",
        "4. Epochs(How many times a data is passed through the model)\n",
        "5. Batch size(How much data should be fed to the model at a time)\n",
        "etc"
      ]
    },
    {
      "cell_type": "code",
      "metadata": {
        "id": "AVOMWygNN0N0"
      },
      "source": [
        "# Hyper-parameters\n",
        "channels = 32\n",
        "dropout = 0.5\n",
        "# learning_rate = 5e-4\n",
        "l2_reg = 0.001\n",
        "learning_rate = 0.005\n",
        "epochs = 200\n",
        "batch_size = 5762\n",
        "es_patience = 10\n",
        "\n",
        "# # Parameters\n",
        "# channels = 16           # Number of channels in the first layer\n",
        "# dropout = 0.5           # Dropout rate for the features\n",
        "# l2_reg = 5e-4           # L2 regularization rate\n",
        "# learning_rate = 1e-2    # Learning rate\n",
        "# epochs = 200            # Number of training epochs\n",
        "# es_patience = 10        # Patience for early stopping"
      ],
      "execution_count": 12,
      "outputs": []
    },
    {
      "cell_type": "markdown",
      "metadata": {
        "id": "6UNUsu-PzHLh"
      },
      "source": [
        "# Getting Node Features\n",
        "\n"
      ]
    },
    {
      "cell_type": "code",
      "metadata": {
        "colab": {
          "base_uri": "https://localhost:8080/"
        },
        "id": "CJWoN1DDzOU6",
        "outputId": "d3896da6-51c1-4c8d-8277-323d675f59e6"
      },
      "source": [
        "# X = Features Matrix\n",
        "X = np.matrix([[i, -i] for i in range(A.shape[0])], dtype=float)\n",
        "print(\"Printing Feature Matrix..\")\n",
        "print(X)\n",
        "\n",
        "# Identity matrix of the same shape as adjacency matrix\n",
        "I = np.matrix(np.eye(A.shape[0]))\n",
        "\n",
        "# Self looping making node connections with themselves\n",
        "# i.e. multiply the adjacency matrix with identity matrix\n",
        "A_new = A + I\n",
        "\n",
        "# Multiplying the self-looped graph with the feature matrix\n",
        "\n",
        "# Stores the sum of array(Row wise) in a new array called D\n",
        "D = np.array(np.sum(A, axis=0))[0]\n",
        "\n",
        "# Making the diagonal matrix named D containing the elements of 1D array D\n",
        "# D = np.matrix(np.diag(D))\n",
        "# print(\"Printing the 2D array named D containing the elemnets of 1D D in diagonal\")\n",
        "# print(D)\n",
        "\n",
        "# Stores the degree of the graph in a 1D array called D\n",
        "D = np.array(np.sum(A_new, axis=0))[0]\n",
        "# Transforming that 1D array to a degree matrix\n",
        "D = np.matrix(np.diag(D))\n",
        "# print(\"Degree matrix of A_new multiplied by A_new..\")\n",
        "D_new = D * A_new\n",
        "# print(D_new)\n",
        "\n",
        "# Weight Matrix\n",
        "W0 = np.random.randn(X.shape[1], 8) * 0.01\n",
        "\n",
        "# Reducing feature of output feature representation..\n",
        "print(\"Output feature representation..\")\n",
        "final = D**-1 * A_new * X * W0\n",
        "\n",
        "\n",
        "def relu(x):\n",
        "    return np.maximum(0, x)\n",
        "\n",
        "\n",
        "H_1 = relu(final)\n",
        "# print(\"After applying relu function..\")\n",
        "# print(H_1)\n",
        "\n",
        "output = H_1\n",
        "\n",
        "# print(\"Printing A_new matrix..\")\n",
        "# print(A_new)\n",
        "\n",
        "G = nx.from_numpy_matrix(np.array(A_new))\n",
        "# nx.draw_networkx_edges(G, pos=nx.spring_layout(\n",
        "#     G), arrowstyle=\"<|-\", style=\"dashed\")\n",
        "# plt.show()\n",
        "# nx.draw(G)\n",
        "# plt.savefig(\"/content/Sample Graph.png\")\n",
        "feature_representations = {\n",
        "    node: np.array(output)[node]\n",
        "    for node in G.nodes()\n",
        "}\n",
        "\n",
        "features = np.array(feature_representations.values())\n",
        "\n",
        "# print(\"Printing feature representation..\")\n",
        "# print(features)\n",
        "\n",
        "vals = []\n",
        "\n",
        "for v in feature_representations.values():\n",
        "  vals.append(v)\n",
        "\n",
        "vals = np.array(vals)\n",
        "\n",
        "print(\"Prining features in an array\", vals)\n",
        "\n",
        "print(\"Shape of vals is: \", np.shape(vals))\n",
        "\n"
      ],
      "execution_count": 13,
      "outputs": [
        {
          "output_type": "stream",
          "name": "stdout",
          "text": [
            "Printing Feature Matrix..\n",
            "[[ 0.000e+00  0.000e+00]\n",
            " [ 1.000e+00 -1.000e+00]\n",
            " [ 2.000e+00 -2.000e+00]\n",
            " ...\n",
            " [ 5.759e+03 -5.759e+03]\n",
            " [ 5.760e+03 -5.760e+03]\n",
            " [ 5.761e+03 -5.761e+03]]\n",
            "Output feature representation..\n",
            "Prining features in an array [[ 0.          0.          0.50729335 ...  0.          0.\n",
            "   0.22625203]\n",
            " [ 0.          0.          0.40261377 ...  0.          0.\n",
            "   0.17956511]\n",
            " [ 0.          0.          0.56969848 ...  0.          0.\n",
            "   0.25408462]\n",
            " ...\n",
            " [ 0.          0.         92.43475256 ...  0.          0.\n",
            "  41.22575404]\n",
            " [ 0.          0.         92.30484252 ...  0.          0.\n",
            "  41.16781437]\n",
            " [ 0.          0.         92.55083953 ...  0.          0.\n",
            "  41.27752865]]\n",
            "Shape of vals is:  (5762, 8)\n"
          ]
        }
      ]
    },
    {
      "cell_type": "markdown",
      "metadata": {
        "id": "U87KGv4sN0N1"
      },
      "source": [
        "# Model Definition\n",
        "3 GCN-Conv Layers & 2 Dense Layers"
      ]
    },
    {
      "cell_type": "code",
      "metadata": {
        "colab": {
          "base_uri": "https://localhost:8080/"
        },
        "id": "NZwuo9T0N0N1",
        "outputId": "77d3537d-4f3e-410a-a247-5ca4d675c234"
      },
      "source": [
        "N = A.shape[0]\n",
        "F = vals.shape[1]\n",
        "classes = 12\n",
        "print(\"Node has \", F, \" features\")\n",
        "print(\"Total Nodes are: \", N)\n",
        "\n",
        "fltr = normalized_laplacian(A)\n",
        "X_in = Input(batch_size = N, shape=(F))\n",
        "print(\"Shape of X-in is: \", np.shape(X_in))\n",
        "\n",
        "A_in = Input(tensor=sp_matrix_to_sp_tensor(fltr))\n",
        "print(\"Shape of A-in is: \", np.shape(A_in))\n",
        "\n",
        "# D1 = Dropout(dropout)(X_in)\n",
        "G1 = GCNConv(channels, activation='LeakyReLU', kernel_regularizer=l2(l2_reg), use_bias=True)([X_in, A_in])\n",
        "# D2 = Dropout(dropout)(G1)\n",
        "G2 = GCNConv(channels, activation='LeakyReLU', kernel_regularizer=l2(l2_reg), use_bias=True)([G1, A_in])\n",
        "\n",
        "# # BN = BatchNormalization()(G2)\n",
        "flatten = Flatten()(G2)\n",
        "\n",
        "D1 = Dense(512, activation='LeakyReLU')(flatten)\n",
        "# # Dr1 = Dropout(dropout)(D1)\n",
        "D2 = Dense(32, activation='LeakyReLU')(D1)\n",
        "# # Dr2 = Dropout(dropout)(D2)\n",
        "# D3 = Dense(16, activation='LeakyReLU')(D2)\n",
        "\n",
        "D2_out = Dense(classes, activation='softmax')(D2)\n",
        "\n",
        "model = Model(inputs = [X_in, A_in], outputs=D2_out)\n",
        "# other loss = sparse_categorical_crossentropy\n",
        "model.compile(optimizer = 'Adagrad', loss = 'sparse_categorical_crossentropy', weighted_metrics=['acc'])\n",
        "\n",
        "model.summary()"
      ],
      "execution_count": 14,
      "outputs": [
        {
          "output_type": "stream",
          "name": "stdout",
          "text": [
            "Node has  8  features\n",
            "Total Nodes are:  5762\n",
            "Shape of X-in is:  (5762, 8)\n",
            "Shape of A-in is:  (5762, 5762)\n",
            "Model: \"model\"\n",
            "__________________________________________________________________________________________________\n",
            "Layer (type)                    Output Shape         Param #     Connected to                     \n",
            "==================================================================================================\n",
            "input_1 (InputLayer)            [(5762, 8)]          0                                            \n",
            "__________________________________________________________________________________________________\n",
            "input_2 (InputLayer)            [(5762, 5762)]       0                                            \n",
            "__________________________________________________________________________________________________\n",
            "gcn_conv (GCNConv)              (None, 32)           288         input_1[0][0]                    \n",
            "                                                                 input_2[0][0]                    \n",
            "__________________________________________________________________________________________________\n",
            "gcn_conv_1 (GCNConv)            (None, 32)           1056        gcn_conv[0][0]                   \n",
            "                                                                 input_2[0][0]                    \n",
            "__________________________________________________________________________________________________\n",
            "flatten (Flatten)               (None, 32)           0           gcn_conv_1[0][0]                 \n",
            "__________________________________________________________________________________________________\n",
            "dense (Dense)                   (None, 512)          16896       flatten[0][0]                    \n",
            "__________________________________________________________________________________________________\n",
            "dense_1 (Dense)                 (None, 32)           16416       dense[0][0]                      \n",
            "__________________________________________________________________________________________________\n",
            "dense_2 (Dense)                 (None, 12)           396         dense_1[0][0]                    \n",
            "==================================================================================================\n",
            "Total params: 35,052\n",
            "Trainable params: 35,052\n",
            "Non-trainable params: 0\n",
            "__________________________________________________________________________________________________\n"
          ]
        }
      ]
    },
    {
      "cell_type": "markdown",
      "metadata": {
        "id": "5sQcuJa7N0N2"
      },
      "source": [
        "# Training Model"
      ]
    },
    {
      "cell_type": "code",
      "metadata": {
        "colab": {
          "base_uri": "https://localhost:8080/"
        },
        "id": "uSKbBOwt7Cyd",
        "outputId": "80a5a4f0-ec14-4dd6-e14f-ddbd34bdfc8a"
      },
      "source": [
        "print(np.shape(vals))\n",
        "\n",
        "# {2, 3, 5, 6, 8, 9, 10, 11}\n",
        "W = {\n",
        "    0:np.random.rand(),\n",
        "    1:np.random.rand(),\n",
        "    2:np.random.rand(),\n",
        "    3:np.random.rand(),\n",
        "    4:np.random.rand(),\n",
        "    5:np.random.rand(),\n",
        "    6:np.random.rand(),\n",
        "    7:np.random.rand(),\n",
        "    8:np.random.rand(),\n",
        "    9:np.random.rand(),\n",
        "    10:np.random.rand(),\n",
        "    11:np.random.rand(),\n",
        "}\n",
        "model.fit([vals, A],\n",
        "          e1,\n",
        "          epochs = 200,\n",
        "          batch_size = N,\n",
        "          class_weight=W\n",
        "          )"
      ],
      "execution_count": 15,
      "outputs": [
        {
          "output_type": "stream",
          "name": "stdout",
          "text": [
            "(5762, 8)\n",
            "Epoch 1/200\n",
            "1/1 [==============================] - 3s 3s/step - loss: 21.8871 - acc: 0.0055\n",
            "Epoch 2/200\n",
            "1/1 [==============================] - 0s 102ms/step - loss: 4.4113 - acc: 0.7917\n",
            "Epoch 3/200\n",
            "1/1 [==============================] - 0s 157ms/step - loss: 2.4609 - acc: 0.7917\n",
            "Epoch 4/200\n",
            "1/1 [==============================] - 0s 128ms/step - loss: 2.6413 - acc: 0.0317\n",
            "Epoch 5/200\n",
            "1/1 [==============================] - 0s 115ms/step - loss: 2.9786 - acc: 0.7917\n",
            "Epoch 6/200\n",
            "1/1 [==============================] - 0s 122ms/step - loss: 2.0828 - acc: 0.7917\n",
            "Epoch 7/200\n",
            "1/1 [==============================] - 0s 122ms/step - loss: 1.5507 - acc: 0.1056\n",
            "Epoch 8/200\n",
            "1/1 [==============================] - 0s 111ms/step - loss: 3.1421 - acc: 0.7917\n",
            "Epoch 9/200\n",
            "1/1 [==============================] - 0s 128ms/step - loss: 2.4678 - acc: 0.7917\n",
            "Epoch 10/200\n",
            "1/1 [==============================] - 0s 118ms/step - loss: 1.7741 - acc: 0.7917\n",
            "Epoch 11/200\n",
            "1/1 [==============================] - 0s 135ms/step - loss: 1.4099 - acc: 0.0055\n",
            "Epoch 12/200\n",
            "1/1 [==============================] - 0s 119ms/step - loss: 1.5982 - acc: 0.7917\n",
            "Epoch 13/200\n",
            "1/1 [==============================] - 0s 114ms/step - loss: 1.4523 - acc: 0.1056\n",
            "Epoch 14/200\n",
            "1/1 [==============================] - 0s 134ms/step - loss: 2.8920 - acc: 0.7917\n",
            "Epoch 15/200\n",
            "1/1 [==============================] - 0s 113ms/step - loss: 2.1860 - acc: 0.7917\n",
            "Epoch 16/200\n",
            "1/1 [==============================] - 0s 134ms/step - loss: 1.6824 - acc: 0.7917\n",
            "Epoch 17/200\n",
            "1/1 [==============================] - 0s 116ms/step - loss: 1.1409 - acc: 0.7917\n",
            "Epoch 18/200\n",
            "1/1 [==============================] - 0s 123ms/step - loss: 1.2251 - acc: 0.1056\n",
            "Epoch 19/200\n",
            "1/1 [==============================] - 0s 119ms/step - loss: 2.1755 - acc: 0.7917\n",
            "Epoch 20/200\n",
            "1/1 [==============================] - 0s 125ms/step - loss: 1.6908 - acc: 0.7917\n",
            "Epoch 21/200\n",
            "1/1 [==============================] - 0s 114ms/step - loss: 1.2403 - acc: 0.7917\n",
            "Epoch 22/200\n",
            "1/1 [==============================] - 0s 107ms/step - loss: 0.8001 - acc: 0.7917\n",
            "Epoch 23/200\n",
            "1/1 [==============================] - 0s 126ms/step - loss: 1.2322 - acc: 0.0362\n",
            "Epoch 24/200\n",
            "1/1 [==============================] - 0s 124ms/step - loss: 1.7357 - acc: 0.7917\n",
            "Epoch 25/200\n",
            "1/1 [==============================] - 0s 120ms/step - loss: 1.2935 - acc: 0.7917\n",
            "Epoch 26/200\n",
            "1/1 [==============================] - 0s 114ms/step - loss: 0.9231 - acc: 0.7917\n",
            "Epoch 27/200\n",
            "1/1 [==============================] - 0s 108ms/step - loss: 1.1470 - acc: 0.1056\n",
            "Epoch 28/200\n",
            "1/1 [==============================] - 0s 137ms/step - loss: 1.7955 - acc: 0.7917\n",
            "Epoch 29/200\n",
            "1/1 [==============================] - 0s 120ms/step - loss: 1.4822 - acc: 0.7917\n",
            "Epoch 30/200\n",
            "1/1 [==============================] - 0s 121ms/step - loss: 1.1061 - acc: 0.7917\n",
            "Epoch 31/200\n",
            "1/1 [==============================] - 0s 122ms/step - loss: 0.7250 - acc: 0.7917\n",
            "Epoch 32/200\n",
            "1/1 [==============================] - 0s 122ms/step - loss: 1.0807 - acc: 0.0000e+00\n",
            "Epoch 33/200\n",
            "1/1 [==============================] - 0s 120ms/step - loss: 1.7427 - acc: 0.7917\n",
            "Epoch 34/200\n",
            "1/1 [==============================] - 0s 110ms/step - loss: 1.4647 - acc: 0.7917\n",
            "Epoch 35/200\n",
            "1/1 [==============================] - 0s 118ms/step - loss: 1.0684 - acc: 0.7917\n",
            "Epoch 36/200\n",
            "1/1 [==============================] - 0s 108ms/step - loss: 0.7554 - acc: 0.7917\n",
            "Epoch 37/200\n",
            "1/1 [==============================] - 0s 122ms/step - loss: 1.1085 - acc: 0.1056\n",
            "Epoch 38/200\n",
            "1/1 [==============================] - 0s 158ms/step - loss: 1.5677 - acc: 0.7917\n",
            "Epoch 39/200\n",
            "1/1 [==============================] - 0s 106ms/step - loss: 1.2399 - acc: 0.7917\n",
            "Epoch 40/200\n",
            "1/1 [==============================] - 0s 156ms/step - loss: 0.9445 - acc: 0.7917\n",
            "Epoch 41/200\n",
            "1/1 [==============================] - 0s 118ms/step - loss: 0.7135 - acc: 0.7917\n",
            "Epoch 42/200\n",
            "1/1 [==============================] - 0s 118ms/step - loss: 0.9458 - acc: 0.7917\n",
            "Epoch 43/200\n",
            "1/1 [==============================] - 0s 119ms/step - loss: 0.6259 - acc: 0.7917\n",
            "Epoch 44/200\n",
            "1/1 [==============================] - 0s 131ms/step - loss: 1.0147 - acc: 0.1056\n",
            "Epoch 45/200\n",
            "1/1 [==============================] - 0s 121ms/step - loss: 1.4251 - acc: 0.7917\n",
            "Epoch 46/200\n",
            "1/1 [==============================] - 0s 122ms/step - loss: 1.0780 - acc: 0.7917\n",
            "Epoch 47/200\n",
            "1/1 [==============================] - 0s 124ms/step - loss: 0.8366 - acc: 0.7917\n",
            "Epoch 48/200\n",
            "1/1 [==============================] - 0s 122ms/step - loss: 0.7303 - acc: 0.0362\n",
            "Epoch 49/200\n",
            "1/1 [==============================] - 0s 120ms/step - loss: 1.2116 - acc: 0.7917\n",
            "Epoch 50/200\n",
            "1/1 [==============================] - 0s 122ms/step - loss: 0.9106 - acc: 0.7917\n",
            "Epoch 51/200\n",
            "1/1 [==============================] - 0s 118ms/step - loss: 0.6379 - acc: 0.7917\n",
            "Epoch 52/200\n",
            "1/1 [==============================] - 0s 126ms/step - loss: 0.8435 - acc: 0.1056\n",
            "Epoch 53/200\n",
            "1/1 [==============================] - 0s 121ms/step - loss: 1.3139 - acc: 0.7917\n",
            "Epoch 54/200\n",
            "1/1 [==============================] - 0s 118ms/step - loss: 1.0509 - acc: 0.7917\n",
            "Epoch 55/200\n",
            "1/1 [==============================] - 0s 130ms/step - loss: 0.8002 - acc: 0.7917\n",
            "Epoch 56/200\n",
            "1/1 [==============================] - 0s 128ms/step - loss: 0.4764 - acc: 0.7917\n",
            "Epoch 57/200\n",
            "1/1 [==============================] - 0s 114ms/step - loss: 0.6274 - acc: 0.0362\n",
            "Epoch 58/200\n",
            "1/1 [==============================] - 0s 136ms/step - loss: 1.0542 - acc: 0.7917\n",
            "Epoch 59/200\n",
            "1/1 [==============================] - 0s 116ms/step - loss: 0.7957 - acc: 0.7917\n",
            "Epoch 60/200\n",
            "1/1 [==============================] - 0s 114ms/step - loss: 0.5398 - acc: 0.7917\n",
            "Epoch 61/200\n",
            "1/1 [==============================] - 0s 117ms/step - loss: 0.6862 - acc: 0.1056\n",
            "Epoch 62/200\n",
            "1/1 [==============================] - 0s 129ms/step - loss: 1.1347 - acc: 0.7917\n",
            "Epoch 63/200\n",
            "1/1 [==============================] - 0s 120ms/step - loss: 0.8734 - acc: 0.7917\n",
            "Epoch 64/200\n",
            "1/1 [==============================] - 0s 119ms/step - loss: 0.6190 - acc: 0.7917\n",
            "Epoch 65/200\n",
            "1/1 [==============================] - 0s 117ms/step - loss: 0.4038 - acc: 0.7917\n",
            "Epoch 66/200\n",
            "1/1 [==============================] - 0s 111ms/step - loss: 0.4402 - acc: 0.7917\n",
            "Epoch 67/200\n",
            "1/1 [==============================] - 0s 118ms/step - loss: 0.7874 - acc: 0.7917\n",
            "Epoch 68/200\n",
            "1/1 [==============================] - 0s 125ms/step - loss: 0.5229 - acc: 0.7917\n",
            "Epoch 69/200\n",
            "1/1 [==============================] - 0s 115ms/step - loss: 0.4111 - acc: 0.7917\n",
            "Epoch 70/200\n",
            "1/1 [==============================] - 0s 107ms/step - loss: 0.6333 - acc: 0.7917\n",
            "Epoch 71/200\n",
            "1/1 [==============================] - 0s 137ms/step - loss: 0.4046 - acc: 0.7917\n",
            "Epoch 72/200\n",
            "1/1 [==============================] - 0s 132ms/step - loss: 0.5406 - acc: 0.0362\n",
            "Epoch 73/200\n",
            "1/1 [==============================] - 0s 118ms/step - loss: 1.0035 - acc: 0.7917\n",
            "Epoch 74/200\n",
            "1/1 [==============================] - 0s 119ms/step - loss: 0.7459 - acc: 0.7917\n",
            "Epoch 75/200\n",
            "1/1 [==============================] - 0s 129ms/step - loss: 0.4883 - acc: 0.7917\n",
            "Epoch 76/200\n",
            "1/1 [==============================] - 0s 121ms/step - loss: 0.5527 - acc: 0.1056\n",
            "Epoch 77/200\n",
            "1/1 [==============================] - 0s 119ms/step - loss: 1.0153 - acc: 0.7917\n",
            "Epoch 78/200\n",
            "1/1 [==============================] - 0s 113ms/step - loss: 0.7513 - acc: 0.7917\n",
            "Epoch 79/200\n",
            "1/1 [==============================] - 0s 127ms/step - loss: 0.5197 - acc: 0.7917\n",
            "Epoch 80/200\n",
            "1/1 [==============================] - 0s 116ms/step - loss: 0.4034 - acc: 0.7917\n",
            "Epoch 81/200\n",
            "1/1 [==============================] - 0s 118ms/step - loss: 0.5921 - acc: 0.7917\n",
            "Epoch 82/200\n",
            "1/1 [==============================] - 0s 140ms/step - loss: 0.3853 - acc: 0.7917\n",
            "Epoch 83/200\n",
            "1/1 [==============================] - 0s 122ms/step - loss: 0.4039 - acc: 0.1056\n",
            "Epoch 84/200\n",
            "1/1 [==============================] - 0s 118ms/step - loss: 0.6885 - acc: 0.7917\n",
            "Epoch 85/200\n",
            "1/1 [==============================] - 0s 114ms/step - loss: 0.4536 - acc: 0.7917\n",
            "Epoch 86/200\n",
            "1/1 [==============================] - 0s 116ms/step - loss: 0.4081 - acc: 0.0362\n",
            "Epoch 87/200\n",
            "1/1 [==============================] - 0s 102ms/step - loss: 0.7673 - acc: 0.7917\n",
            "Epoch 88/200\n",
            "1/1 [==============================] - 0s 136ms/step - loss: 0.5157 - acc: 0.7917\n",
            "Epoch 89/200\n",
            "1/1 [==============================] - 0s 120ms/step - loss: 0.3800 - acc: 0.7917\n",
            "Epoch 90/200\n",
            "1/1 [==============================] - 0s 130ms/step - loss: 0.4011 - acc: 0.7917\n",
            "Epoch 91/200\n",
            "1/1 [==============================] - 0s 138ms/step - loss: 0.4960 - acc: 0.1056\n",
            "Epoch 92/200\n",
            "1/1 [==============================] - 0s 110ms/step - loss: 0.9120 - acc: 0.7917\n",
            "Epoch 93/200\n",
            "1/1 [==============================] - 0s 109ms/step - loss: 0.6797 - acc: 0.7917\n",
            "Epoch 94/200\n",
            "1/1 [==============================] - 0s 122ms/step - loss: 0.4667 - acc: 0.7917\n",
            "Epoch 95/200\n",
            "1/1 [==============================] - 0s 138ms/step - loss: 0.4460 - acc: 0.0362\n",
            "Epoch 96/200\n",
            "1/1 [==============================] - 0s 119ms/step - loss: 0.7652 - acc: 0.7917\n",
            "Epoch 97/200\n",
            "1/1 [==============================] - 0s 116ms/step - loss: 0.5462 - acc: 0.7917\n",
            "Epoch 98/200\n",
            "1/1 [==============================] - 0s 116ms/step - loss: 0.3854 - acc: 0.7917\n",
            "Epoch 99/200\n",
            "1/1 [==============================] - 0s 137ms/step - loss: 0.3590 - acc: 0.7917\n",
            "Epoch 100/200\n",
            "1/1 [==============================] - 0s 136ms/step - loss: 0.3344 - acc: 0.7917\n",
            "Epoch 101/200\n",
            "1/1 [==============================] - 0s 133ms/step - loss: 0.3305 - acc: 0.7917\n",
            "Epoch 102/200\n",
            "1/1 [==============================] - 0s 123ms/step - loss: 0.3307 - acc: 0.7917\n",
            "Epoch 103/200\n",
            "1/1 [==============================] - 0s 110ms/step - loss: 0.4242 - acc: 0.1056\n",
            "Epoch 104/200\n",
            "1/1 [==============================] - 0s 127ms/step - loss: 0.8152 - acc: 0.7917\n",
            "Epoch 105/200\n",
            "1/1 [==============================] - 0s 123ms/step - loss: 0.6066 - acc: 0.7917\n",
            "Epoch 106/200\n",
            "1/1 [==============================] - 0s 128ms/step - loss: 0.3874 - acc: 0.7917\n",
            "Epoch 107/200\n",
            "1/1 [==============================] - 0s 114ms/step - loss: 0.4747 - acc: 0.0362\n",
            "Epoch 108/200\n",
            "1/1 [==============================] - 0s 125ms/step - loss: 0.8035 - acc: 0.7917\n",
            "Epoch 109/200\n",
            "1/1 [==============================] - 0s 128ms/step - loss: 0.5638 - acc: 0.7917\n",
            "Epoch 110/200\n",
            "1/1 [==============================] - 0s 120ms/step - loss: 0.4186 - acc: 0.7917\n",
            "Epoch 111/200\n",
            "1/1 [==============================] - 0s 121ms/step - loss: 0.4056 - acc: 0.7917\n",
            "Epoch 112/200\n",
            "1/1 [==============================] - 0s 114ms/step - loss: 0.3924 - acc: 0.7917\n",
            "Epoch 113/200\n",
            "1/1 [==============================] - 0s 120ms/step - loss: 0.5060 - acc: 0.1056\n",
            "Epoch 114/200\n",
            "1/1 [==============================] - 0s 117ms/step - loss: 0.9003 - acc: 0.7917\n",
            "Epoch 115/200\n",
            "1/1 [==============================] - 0s 121ms/step - loss: 0.6887 - acc: 0.7917\n",
            "Epoch 116/200\n",
            "1/1 [==============================] - 0s 120ms/step - loss: 0.4716 - acc: 0.7917\n",
            "Epoch 117/200\n",
            "1/1 [==============================] - 0s 121ms/step - loss: 0.3177 - acc: 0.7917\n",
            "Epoch 118/200\n",
            "1/1 [==============================] - 0s 114ms/step - loss: 0.3038 - acc: 0.7917\n",
            "Epoch 119/200\n",
            "1/1 [==============================] - 0s 133ms/step - loss: 0.3516 - acc: 0.7917\n",
            "Epoch 120/200\n",
            "1/1 [==============================] - 0s 113ms/step - loss: 0.4006 - acc: 0.1056\n",
            "Epoch 121/200\n",
            "1/1 [==============================] - 0s 125ms/step - loss: 0.7543 - acc: 0.7917\n",
            "Epoch 122/200\n",
            "1/1 [==============================] - 0s 118ms/step - loss: 0.5421 - acc: 0.7917\n",
            "Epoch 123/200\n",
            "1/1 [==============================] - 0s 120ms/step - loss: 0.3494 - acc: 0.7917\n",
            "Epoch 124/200\n",
            "1/1 [==============================] - 0s 115ms/step - loss: 0.3525 - acc: 0.0362\n",
            "Epoch 125/200\n",
            "1/1 [==============================] - 0s 119ms/step - loss: 0.6297 - acc: 0.7917\n",
            "Epoch 126/200\n",
            "1/1 [==============================] - 0s 158ms/step - loss: 0.4217 - acc: 0.7917\n",
            "Epoch 127/200\n",
            "1/1 [==============================] - 0s 119ms/step - loss: 0.3066 - acc: 0.7917\n",
            "Epoch 128/200\n",
            "1/1 [==============================] - 0s 121ms/step - loss: 0.3642 - acc: 0.7917\n",
            "Epoch 129/200\n",
            "1/1 [==============================] - 0s 123ms/step - loss: 0.3318 - acc: 0.1056\n",
            "Epoch 130/200\n",
            "1/1 [==============================] - 0s 115ms/step - loss: 0.6013 - acc: 0.7917\n",
            "Epoch 131/200\n",
            "1/1 [==============================] - 0s 121ms/step - loss: 0.3975 - acc: 0.7917\n",
            "Epoch 132/200\n",
            "1/1 [==============================] - 0s 117ms/step - loss: 0.3207 - acc: 0.7917\n",
            "Epoch 133/200\n",
            "1/1 [==============================] - 0s 118ms/step - loss: 0.4530 - acc: 0.7917\n",
            "Epoch 134/200\n",
            "1/1 [==============================] - 0s 125ms/step - loss: 0.3059 - acc: 0.7917\n",
            "Epoch 135/200\n",
            "1/1 [==============================] - 0s 111ms/step - loss: 0.2932 - acc: 0.7917\n",
            "Epoch 136/200\n",
            "1/1 [==============================] - 0s 119ms/step - loss: 0.3522 - acc: 0.7917\n",
            "Epoch 137/200\n",
            "1/1 [==============================] - 0s 124ms/step - loss: 0.3059 - acc: 0.7917\n",
            "Epoch 138/200\n",
            "1/1 [==============================] - 0s 112ms/step - loss: 0.4404 - acc: 0.7917\n",
            "Epoch 139/200\n",
            "1/1 [==============================] - 0s 116ms/step - loss: 0.2953 - acc: 0.7917\n",
            "Epoch 140/200\n",
            "1/1 [==============================] - 0s 123ms/step - loss: 0.3483 - acc: 0.1056\n",
            "Epoch 141/200\n",
            "1/1 [==============================] - 0s 133ms/step - loss: 0.6576 - acc: 0.7917\n",
            "Epoch 142/200\n",
            "1/1 [==============================] - 0s 122ms/step - loss: 0.4571 - acc: 0.7917\n",
            "Epoch 143/200\n",
            "1/1 [==============================] - 0s 126ms/step - loss: 0.2900 - acc: 0.7917\n",
            "Epoch 144/200\n",
            "1/1 [==============================] - 0s 122ms/step - loss: 0.2947 - acc: 0.7917\n",
            "Epoch 145/200\n",
            "1/1 [==============================] - 0s 122ms/step - loss: 0.3515 - acc: 0.7917\n",
            "Epoch 146/200\n",
            "1/1 [==============================] - 0s 125ms/step - loss: 0.3031 - acc: 0.7889\n",
            "Epoch 147/200\n",
            "1/1 [==============================] - 0s 117ms/step - loss: 0.4950 - acc: 0.7917\n",
            "Epoch 148/200\n",
            "1/1 [==============================] - 0s 144ms/step - loss: 0.3054 - acc: 0.7917\n",
            "Epoch 149/200\n",
            "1/1 [==============================] - 0s 104ms/step - loss: 0.3255 - acc: 0.0362\n",
            "Epoch 150/200\n",
            "1/1 [==============================] - 0s 139ms/step - loss: 0.5596 - acc: 0.7917\n",
            "Epoch 151/200\n",
            "1/1 [==============================] - 0s 123ms/step - loss: 0.3849 - acc: 0.7917\n",
            "Epoch 152/200\n",
            "1/1 [==============================] - 0s 124ms/step - loss: 0.3174 - acc: 0.7917\n",
            "Epoch 153/200\n",
            "1/1 [==============================] - 0s 124ms/step - loss: 0.4814 - acc: 0.7917\n",
            "Epoch 154/200\n",
            "1/1 [==============================] - 0s 114ms/step - loss: 0.2921 - acc: 0.7917\n",
            "Epoch 155/200\n",
            "1/1 [==============================] - 0s 114ms/step - loss: 0.3268 - acc: 0.1056\n",
            "Epoch 156/200\n",
            "1/1 [==============================] - 0s 114ms/step - loss: 0.5986 - acc: 0.7917\n",
            "Epoch 157/200\n",
            "1/1 [==============================] - 0s 130ms/step - loss: 0.3876 - acc: 0.7917\n",
            "Epoch 158/200\n",
            "1/1 [==============================] - 0s 112ms/step - loss: 0.2682 - acc: 0.7917\n",
            "Epoch 159/200\n",
            "1/1 [==============================] - 0s 123ms/step - loss: 0.2670 - acc: 0.7917\n",
            "Epoch 160/200\n",
            "1/1 [==============================] - 0s 121ms/step - loss: 0.2913 - acc: 0.7917\n",
            "Epoch 161/200\n",
            "1/1 [==============================] - 0s 116ms/step - loss: 0.4693 - acc: 0.7917\n",
            "Epoch 162/200\n",
            "1/1 [==============================] - 0s 117ms/step - loss: 0.2839 - acc: 0.7917\n",
            "Epoch 163/200\n",
            "1/1 [==============================] - 0s 116ms/step - loss: 0.3098 - acc: 0.0362\n",
            "Epoch 164/200\n",
            "1/1 [==============================] - 0s 126ms/step - loss: 0.5356 - acc: 0.7917\n",
            "Epoch 165/200\n",
            "1/1 [==============================] - 0s 134ms/step - loss: 0.3569 - acc: 0.7917\n",
            "Epoch 166/200\n",
            "1/1 [==============================] - 0s 130ms/step - loss: 0.3022 - acc: 0.7917\n",
            "Epoch 167/200\n",
            "1/1 [==============================] - 0s 122ms/step - loss: 0.4747 - acc: 0.7917\n",
            "Epoch 168/200\n",
            "1/1 [==============================] - 0s 121ms/step - loss: 0.2807 - acc: 0.7917\n",
            "Epoch 169/200\n",
            "1/1 [==============================] - 0s 118ms/step - loss: 0.2941 - acc: 0.1056\n",
            "Epoch 170/200\n",
            "1/1 [==============================] - 0s 127ms/step - loss: 0.5422 - acc: 0.7917\n",
            "Epoch 171/200\n",
            "1/1 [==============================] - 0s 116ms/step - loss: 0.3376 - acc: 0.7917\n",
            "Epoch 172/200\n",
            "1/1 [==============================] - 0s 144ms/step - loss: 0.2577 - acc: 0.7917\n",
            "Epoch 173/200\n",
            "1/1 [==============================] - 0s 119ms/step - loss: 0.3014 - acc: 0.7917\n",
            "Epoch 174/200\n",
            "1/1 [==============================] - 0s 122ms/step - loss: 0.2961 - acc: 0.1056\n",
            "Epoch 175/200\n",
            "1/1 [==============================] - 0s 137ms/step - loss: 0.5383 - acc: 0.7917\n",
            "Epoch 176/200\n",
            "1/1 [==============================] - 0s 121ms/step - loss: 0.3655 - acc: 0.7917\n",
            "Epoch 177/200\n",
            "1/1 [==============================] - 0s 128ms/step - loss: 0.2565 - acc: 0.7917\n",
            "Epoch 178/200\n",
            "1/1 [==============================] - 0s 118ms/step - loss: 0.2610 - acc: 0.7917\n",
            "Epoch 179/200\n",
            "1/1 [==============================] - 0s 124ms/step - loss: 0.3032 - acc: 0.1056\n",
            "Epoch 180/200\n",
            "1/1 [==============================] - 0s 142ms/step - loss: 0.5698 - acc: 0.7917\n",
            "Epoch 181/200\n",
            "1/1 [==============================] - 0s 129ms/step - loss: 0.3860 - acc: 0.7917\n",
            "Epoch 182/200\n",
            "1/1 [==============================] - 0s 125ms/step - loss: 0.2546 - acc: 0.7917\n",
            "Epoch 183/200\n",
            "1/1 [==============================] - 0s 128ms/step - loss: 0.2473 - acc: 0.7917\n",
            "Epoch 184/200\n",
            "1/1 [==============================] - 0s 122ms/step - loss: 0.2613 - acc: 0.7917\n",
            "Epoch 185/200\n",
            "1/1 [==============================] - 0s 124ms/step - loss: 0.3120 - acc: 0.1056\n",
            "Epoch 186/200\n",
            "1/1 [==============================] - 0s 127ms/step - loss: 0.5928 - acc: 0.7917\n",
            "Epoch 187/200\n",
            "1/1 [==============================] - 0s 134ms/step - loss: 0.4025 - acc: 0.7917\n",
            "Epoch 188/200\n",
            "1/1 [==============================] - 0s 123ms/step - loss: 0.2634 - acc: 0.7917\n",
            "Epoch 189/200\n",
            "1/1 [==============================] - 0s 134ms/step - loss: 0.2685 - acc: 0.7917\n",
            "Epoch 190/200\n",
            "1/1 [==============================] - 0s 135ms/step - loss: 0.3808 - acc: 0.7917\n",
            "Epoch 191/200\n",
            "1/1 [==============================] - 0s 132ms/step - loss: 0.2516 - acc: 0.7917\n",
            "Epoch 192/200\n",
            "1/1 [==============================] - 0s 124ms/step - loss: 0.2456 - acc: 0.7917\n",
            "Epoch 193/200\n",
            "1/1 [==============================] - 0s 116ms/step - loss: 0.3144 - acc: 0.7917\n",
            "Epoch 194/200\n",
            "1/1 [==============================] - 0s 126ms/step - loss: 0.2265 - acc: 0.7917\n",
            "Epoch 195/200\n",
            "1/1 [==============================] - 0s 132ms/step - loss: 0.2574 - acc: 0.7917\n",
            "Epoch 196/200\n",
            "1/1 [==============================] - 0s 119ms/step - loss: 0.2977 - acc: 0.1056\n",
            "Epoch 197/200\n",
            "1/1 [==============================] - 0s 119ms/step - loss: 0.5907 - acc: 0.7917\n",
            "Epoch 198/200\n",
            "1/1 [==============================] - 0s 140ms/step - loss: 0.3806 - acc: 0.7917\n",
            "Epoch 199/200\n",
            "1/1 [==============================] - 0s 75ms/step - loss: 0.2428 - acc: 0.7917\n",
            "Epoch 200/200\n",
            "1/1 [==============================] - 0s 80ms/step - loss: 0.2376 - acc: 0.7917\n"
          ]
        },
        {
          "output_type": "execute_result",
          "data": {
            "text/plain": [
              "<keras.callbacks.History at 0x7f10374dda10>"
            ]
          },
          "metadata": {},
          "execution_count": 15
        }
      ]
    },
    {
      "cell_type": "markdown",
      "metadata": {
        "id": "-oF0YahQPIH9"
      },
      "source": [
        "# Saving Model"
      ]
    },
    {
      "cell_type": "code",
      "metadata": {
        "id": "O3MIIgQBPJ85"
      },
      "source": [
        "model.save(\"/content/drive/MyDrive/Project GCN Dataset/IDS_Batch1.h5\")"
      ],
      "execution_count": 20,
      "outputs": []
    }
  ]
}