{
 "cells": [
  {
   "cell_type": "markdown",
   "metadata": {},
   "source": [
    "# Loading Data-Set"
   ]
  },
  {
   "cell_type": "code",
   "execution_count": 280,
   "metadata": {},
   "outputs": [
    {
     "name": "stdout",
     "output_type": "stream",
     "text": [
      "Total Label files are:  110\n",
      "Training Batch-1 files are:  45\n",
      "Training Batch-2 files are:  15\n",
      "Validation files are:  5\n",
      "Testing files are:  5\n"
     ]
    }
   ],
   "source": [
    "# Dataset loading\n",
    "import os\n",
    "\n",
    "dataset = \"./New-Dataset/\"\n",
    "# dataset = \"./Dataset (Labelled Images)/\"\n",
    "lab_files_path = dataset+\"labels/\"\n",
    "# lab_files_path = dataset+\"label/\"\n",
    "\n",
    "# total invoice files\n",
    "files = os.listdir(lab_files_path)\n",
    "\n",
    "\n",
    "# training set\n",
    "Batch_1 = files[:45]\n",
    "\n",
    "Batch_2 = files[45:60]\n",
    "\n",
    "Batch_3 = files[60:70]\n",
    "\n",
    "Batch_4 = files[70:75]\n",
    "\n",
    "# validation set\n",
    "valid_set = files[80:85]\n",
    "\n",
    "# test set\n",
    "test = files[95:100]\n",
    "\n",
    "print(\"Total Label files are: \", len(files))\n",
    "print(\"Training Batch-1 files are: \", len(Batch_1))\n",
    "print(\"Training Batch-2 files are: \", len(Batch_2))\n",
    "print(\"Validation files are: \", len(valid_set))\n",
    "print(\"Testing files are: \", len(test))\n"
   ]
  },
  {
   "cell_type": "markdown",
   "metadata": {},
   "source": [
    "# Geometric Algo"
   ]
  },
  {
   "cell_type": "code",
   "execution_count": 2,
   "metadata": {},
   "outputs": [
    {
     "name": "stderr",
     "output_type": "stream",
     "text": [
      "C:\\Users\\ahsan\\anaconda3\\envs\\Graphs\\lib\\site-packages\\numpy\\_distributor_init.py:30: UserWarning: loaded more than 1 DLL from .libs:\n",
      "C:\\Users\\ahsan\\anaconda3\\envs\\Graphs\\lib\\site-packages\\numpy\\.libs\\libopenblas.NOIJJG62EMASZI6NYURL6JBKM4EVBGM7.gfortran-win_amd64.dll\n",
      "C:\\Users\\ahsan\\anaconda3\\envs\\Graphs\\lib\\site-packages\\numpy\\.libs\\libopenblas.WCDJNK7YVMPZQ2ME2ZZHJJRJ3JIKNDB7.gfortran-win_amd64.dll\n",
      "  warnings.warn(\"loaded more than 1 DLL from .libs:\"\n"
     ]
    }
   ],
   "source": [
    "from PIL.Image import Image\n",
    "from networkx.algorithms.shortest_paths.weighted import single_source_dijkstra\n",
    "import matplotlib.pyplot as plt\n",
    "from pandas.core.frame import DataFrame\n",
    "from PIL import Image\n",
    "import networkx as nx\n",
    "\n",
    "df = 0\n",
    "xMIN, xMAX = [], []\n",
    "yMIN, yMAX = [], []\n",
    "Text = []\n",
    "\n",
    "\n",
    "def findRight(df, df_ind, xMIN, xMAX, yMIN, yMAX):\n",
    "    S_list = []\n",
    "    xmax = xMAX[df_ind]\n",
    "    ymin = yMIN[df_ind]\n",
    "    ymax = yMAX[df_ind]\n",
    "\n",
    "    for i in range(len(df)):\n",
    "        if(xMIN[i] > xmax):\n",
    "            if not (yMIN[i] > ymax or yMAX[i] < ymin):\n",
    "                if(yMIN[i] <= ymin and yMAX[i] <= ymax):\n",
    "                    S_list.append(i)\n",
    "                elif (yMIN[i] <= ymin and yMAX[i] >= ymax):\n",
    "                    S_list.append(i)\n",
    "                elif (yMIN[i] >= ymin and yMAX[i] <= ymax):\n",
    "                    S_list.append(i)\n",
    "                elif (yMIN[i] >= ymin and yMAX[i] >= ymax):\n",
    "                    S_list.append(i)\n",
    "                elif (yMIN[i] == ymin and yMAX[i] == ymax):\n",
    "                    S_list.append(i)\n",
    "\n",
    "    if S_list:\n",
    "        consec = S_list[0]\n",
    "        for j in S_list:\n",
    "            if(xMIN[consec] > xMIN[j]):\n",
    "                consec = j\n",
    "        return consec\n",
    "\n",
    "    return -1\n",
    "\n",
    "\n",
    "def findLeft(df, df_ind, xMIN, xMAX, yMIN, yMAX):\n",
    "    S_list = []\n",
    "    xmin = xMIN[df_ind]\n",
    "    ymin = yMIN[df_ind]\n",
    "    ymax = yMAX[df_ind]\n",
    "\n",
    "    for i in range(len(df)):\n",
    "        if(xMAX[i] < xmin):\n",
    "            if not (yMIN[i] > ymax or yMAX[i] < ymin):\n",
    "                if(yMIN[i] <= ymin and yMAX[i] <= ymax):\n",
    "                    S_list.append(i)\n",
    "                elif (yMIN[i] <= ymin and yMAX[i] >= ymax):\n",
    "                    S_list.append(i)\n",
    "                elif (yMIN[i] >= ymin and yMAX[i] <= ymax):\n",
    "                    S_list.append(i)\n",
    "                elif (yMIN[i] >= ymin and yMAX[i] >= ymax):\n",
    "                    S_list.append(i)\n",
    "                elif (yMIN[i] == ymin and yMAX[i] == ymax):\n",
    "                    S_list.append(i)\n",
    "\n",
    "    if S_list:\n",
    "        consec = S_list[0]\n",
    "        for j in S_list:\n",
    "            if(xMAX[j] > xMAX[consec]):\n",
    "                consec = j\n",
    "        return consec\n",
    "    return -1\n",
    "\n",
    "\n",
    "def findUp(df, df_ind, xMIN, xMAX, yMIN, yMAX):\n",
    "    S_list = []\n",
    "    xmin = xMIN[df_ind]\n",
    "    xmax = xMAX[df_ind]\n",
    "    ymin = yMIN[df_ind]\n",
    "\n",
    "    for i in range(len(df)):\n",
    "        if(yMAX[i] < ymin):\n",
    "            if not (xMAX[i] < xmin or xMIN[i] > xmax):\n",
    "                if(xMIN[i] <= xmin and xMAX[i] <= xmax):\n",
    "                    S_list.append(i)\n",
    "                elif (xMIN[i] <= xmin and xMAX[i] >= xmax):\n",
    "                    S_list.append(i)\n",
    "                elif (xMIN[i] >= xmin and xMAX[i] <= xmax):\n",
    "                    S_list.append(i)\n",
    "                elif (xMIN[i] >= xmin and xMAX[i] >= xmax):\n",
    "                    S_list.append(i)\n",
    "                elif (xMIN[i] == xmin and xMAX[i] == xmax):\n",
    "                    S_list.append(i)\n",
    "\n",
    "    if S_list:\n",
    "        consec = S_list[0]\n",
    "        for j in S_list:\n",
    "            if(yMAX[j] > yMAX[consec]):\n",
    "                consec = j\n",
    "        return consec\n",
    "\n",
    "    return -1\n",
    "\n",
    "\n",
    "def findDown(df, df_ind, xMIN, xMAX, yMIN, yMAX):\n",
    "    S_list = []\n",
    "    xmin = xMIN[df_ind]\n",
    "    xmax = xMAX[df_ind]\n",
    "    ymax = yMAX[df_ind]\n",
    "\n",
    "    for i in range(len(df)):\n",
    "        if(yMIN[i] > ymax):\n",
    "            if not (xMAX[i] < xmin or xMIN[i] > xmax):\n",
    "                if(xMIN[i] <= xmin and xMAX[i] <= xmax):\n",
    "                    S_list.append(i)\n",
    "                elif (xMIN[i] <= xmin and xMAX[i] >= xmax):\n",
    "                    S_list.append(i)\n",
    "                elif (xMIN[i] >= xmin and xMAX[i] <= xmax):\n",
    "                    S_list.append(i)\n",
    "                elif (xMIN[i] >= xmin and xMAX[i] >= xmax):\n",
    "                    S_list.append(i)\n",
    "                elif (xMIN[i] == xmin and xMAX[i] == xmax):\n",
    "                    S_list.append(i)\n",
    "\n",
    "    if S_list:\n",
    "        consec = S_list[0]\n",
    "        for j in S_list:\n",
    "            if(yMIN[j] < yMIN[consec]):\n",
    "                consec = j\n",
    "        return consec\n",
    "\n",
    "    return -1\n",
    "\n",
    "\n",
    "def makeGraph(df):\n",
    "    G = nx.Graph()\n",
    "    xMIN = df['xmin']\n",
    "    xMAX = df['xmax']\n",
    "    yMIN = df['ymin']\n",
    "    yMAX = df['ymax']\n",
    "    Text = df['Object']\n",
    "\n",
    "    for i in range(len(df)):\n",
    "        if findUp(df, i, xMIN, xMAX, yMIN, yMAX):\n",
    "            l = findUp(df, i, xMIN, xMAX, yMIN, yMAX)\n",
    "            if(l != -1):\n",
    "                text = Text[l]\n",
    "                G.add_edge(Text[i], text)\n",
    "        if findRight(df, i, xMIN, xMAX, yMIN, yMAX):\n",
    "            l = findRight(df, i, xMIN, xMAX, yMIN, yMAX)\n",
    "            if (l != -1):\n",
    "                text = Text[l]\n",
    "                G.add_edge(Text[i], text)\n",
    "        if findDown(df, i, xMIN, xMAX, yMIN, yMAX):\n",
    "            l = findDown(df, i, xMIN, xMAX, yMIN, yMAX)\n",
    "            if (l != -1):\n",
    "                text = Text[l]\n",
    "                G.add_edge(Text[i], text)\n",
    "        if findLeft(df, i, xMIN, xMAX, yMIN, yMAX):\n",
    "            l = findLeft(df, i, xMIN, xMAX, yMIN, yMAX)\n",
    "            if (l != -1):\n",
    "                text = Text[l]\n",
    "                G.add_edge(Text[i], text)\n",
    "    return G\n"
   ]
  },
  {
   "cell_type": "markdown",
   "metadata": {},
   "source": [
    "# Matrices Over Diagonal\n",
    "Place an incident Matrix over diagonal with existing matrix"
   ]
  },
  {
   "cell_type": "code",
   "execution_count": 3,
   "metadata": {},
   "outputs": [],
   "source": [
    "from typing import SupportsAbs\n",
    "from numpy.core.fromnumeric import shape\n",
    "import numpy as np\n",
    "\n",
    "# Test Matrices\n",
    "# mat1 = np.array([[1, 2, 3], [4, 5, 6], [7, 8, 9]])\n",
    "# mat2 = np.array([[3, 2, 1, 7], [6, 5, 4, 9], [9, 8, 7, 4], [1, 5, 7, 2]])\n",
    "\n",
    "\n",
    "def alignDiagonally(M1, M2, prev_Len):\n",
    "    for i in range(prev_Len, np.shape(M1)[0]):\n",
    "        for j in range(prev_Len, np.shape(M1)[0]):\n",
    "            x = i - prev_Len\n",
    "            y = j - prev_Len\n",
    "            M1[i][j] = M2[x][y]\n",
    "\n",
    "    return M1\n",
    "\n",
    "\n",
    "def resizeMatrix(M, I):\n",
    "    oldMat_Len = np.shape(M)[0]\n",
    "    z = np.zeros((oldMat_Len, np.shape(I)[0]), dtype=np.int64)\n",
    "    newArray = np.append(M, z, axis=1)\n",
    "    M = newArray\n",
    "\n",
    "    # Appending 1D arrays of zeros in the original Matrix\n",
    "    # (i.e. the matrix in which we want to align othe rmatrices diagonally)\n",
    "    appZero = np.shape(I)[0]\n",
    "    x = oldMat_Len + appZero\n",
    "    L = np.zeros((np.shape(I)[0], x), dtype=np.int64)\n",
    "    newArray = np.append(M, L, axis=0)\n",
    "    M = newArray\n",
    "\n",
    "    M = alignDiagonally(M, I, oldMat_Len)\n",
    "    return M\n"
   ]
  },
  {
   "cell_type": "markdown",
   "metadata": {},
   "source": [
    "# Training Batch-1"
   ]
  },
  {
   "cell_type": "code",
   "execution_count": 4,
   "metadata": {},
   "outputs": [
    {
     "name": "stdout",
     "output_type": "stream",
     "text": [
      "\n",
      "= = = = = = = = = = = = = = = =\n",
      "Iteration No.:  1\n",
      "\n",
      "= = = = = = = = = = = = = = = =\n",
      "Iteration No.:  2\n",
      "\n",
      "= = = = = = = = = = = = = = = =\n",
      "Iteration No.:  3\n",
      "\n",
      "= = = = = = = = = = = = = = = =\n",
      "Iteration No.:  4\n",
      "\n",
      "= = = = = = = = = = = = = = = =\n",
      "Iteration No.:  5\n",
      "\n",
      "= = = = = = = = = = = = = = = =\n",
      "Iteration No.:  6\n",
      "\n",
      "= = = = = = = = = = = = = = = =\n",
      "Iteration No.:  7\n",
      "\n",
      "= = = = = = = = = = = = = = = =\n",
      "Iteration No.:  8\n",
      "\n",
      "= = = = = = = = = = = = = = = =\n",
      "Iteration No.:  9\n",
      "\n",
      "= = = = = = = = = = = = = = = =\n",
      "Iteration No.:  10\n",
      "\n",
      "= = = = = = = = = = = = = = = =\n",
      "Iteration No.:  11\n",
      "\n",
      "= = = = = = = = = = = = = = = =\n",
      "Iteration No.:  12\n",
      "\n",
      "= = = = = = = = = = = = = = = =\n",
      "Iteration No.:  13\n",
      "\n",
      "= = = = = = = = = = = = = = = =\n",
      "Iteration No.:  14\n",
      "\n",
      "= = = = = = = = = = = = = = = =\n",
      "Iteration No.:  15\n",
      "\n",
      "= = = = = = = = = = = = = = = =\n",
      "Iteration No.:  16\n",
      "\n",
      "= = = = = = = = = = = = = = = =\n",
      "Iteration No.:  17\n",
      "\n",
      "= = = = = = = = = = = = = = = =\n",
      "Iteration No.:  18\n",
      "\n",
      "= = = = = = = = = = = = = = = =\n",
      "Iteration No.:  19\n",
      "\n",
      "= = = = = = = = = = = = = = = =\n",
      "Iteration No.:  20\n",
      "\n",
      "= = = = = = = = = = = = = = = =\n",
      "Iteration No.:  21\n",
      "\n",
      "= = = = = = = = = = = = = = = =\n",
      "Iteration No.:  22\n",
      "\n",
      "= = = = = = = = = = = = = = = =\n",
      "Iteration No.:  23\n",
      "\n",
      "= = = = = = = = = = = = = = = =\n",
      "Iteration No.:  24\n",
      "\n",
      "= = = = = = = = = = = = = = = =\n",
      "Iteration No.:  25\n",
      "\n",
      "= = = = = = = = = = = = = = = =\n",
      "Iteration No.:  26\n",
      "\n",
      "= = = = = = = = = = = = = = = =\n",
      "Iteration No.:  27\n",
      "\n",
      "= = = = = = = = = = = = = = = =\n",
      "Iteration No.:  28\n",
      "\n",
      "= = = = = = = = = = = = = = = =\n",
      "Iteration No.:  29\n",
      "\n",
      "= = = = = = = = = = = = = = = =\n",
      "Iteration No.:  30\n",
      "\n",
      "= = = = = = = = = = = = = = = =\n",
      "Iteration No.:  31\n",
      "\n",
      "= = = = = = = = = = = = = = = =\n",
      "Iteration No.:  32\n",
      "\n",
      "= = = = = = = = = = = = = = = =\n",
      "Iteration No.:  33\n",
      "\n",
      "= = = = = = = = = = = = = = = =\n",
      "Iteration No.:  34\n",
      "\n",
      "= = = = = = = = = = = = = = = =\n",
      "Iteration No.:  35\n",
      "\n",
      "= = = = = = = = = = = = = = = =\n",
      "Iteration No.:  36\n",
      "\n",
      "= = = = = = = = = = = = = = = =\n",
      "Iteration No.:  37\n",
      "\n",
      "= = = = = = = = = = = = = = = =\n",
      "Iteration No.:  38\n",
      "\n",
      "= = = = = = = = = = = = = = = =\n",
      "Iteration No.:  39\n",
      "\n",
      "= = = = = = = = = = = = = = = =\n",
      "Iteration No.:  40\n",
      "\n",
      "= = = = = = = = = = = = = = = =\n",
      "Iteration No.:  41\n",
      "\n",
      "= = = = = = = = = = = = = = = =\n",
      "Iteration No.:  42\n",
      "\n",
      "= = = = = = = = = = = = = = = =\n",
      "Iteration No.:  43\n",
      "\n",
      "= = = = = = = = = = = = = = = =\n",
      "Iteration No.:  44\n",
      "Dimentions of Batch 1 matrix is:  (4938, 4938)\n"
     ]
    }
   ],
   "source": [
    "import pandas as pd\n",
    "import networkx as nx\n",
    "import numpy as np\n",
    "from numpy.core.fromnumeric import shape\n",
    "\n",
    "Z_file = lab_files_path + Batch_1[0]\n",
    "df = pd.read_csv(Z_file)\n",
    "G = makeGraph(df)\n",
    "M1 = nx.to_numpy_array(G, dtype=np.int32)\n",
    "\n",
    "for i in range(1, len(Batch_1)):\n",
    "    print(\"\\n= = = = = = = = = = = = = = = =\")\n",
    "    print(\"Iteration No.: \", i)\n",
    "    # Getting file\n",
    "    f = lab_files_path + Batch_1[i]\n",
    "    # Making dataframe of file\n",
    "    df = pd.read_csv(f)\n",
    "    # Making graph of the dataframe.\n",
    "    G = makeGraph(df)\n",
    "    # Storing the graph as an incident matrix(an adjacency matrix)\n",
    "    I = nx.to_numpy_array(G, dtype=np.int32)\n",
    "    # Now resizing the original sparce matrix with the new incident matrix\n",
    "    M1 = resizeMatrix(M1, I)\n",
    "\n",
    "print(\"Dimentions of Batch 1 matrix is: \", np.shape(M1))\n"
   ]
  },
  {
   "cell_type": "markdown",
   "metadata": {},
   "source": [
    "# Training Batch-2"
   ]
  },
  {
   "cell_type": "code",
   "execution_count": 5,
   "metadata": {},
   "outputs": [
    {
     "name": "stdout",
     "output_type": "stream",
     "text": [
      "\n",
      "= = = = = = = = = = = = = = = =\n",
      "Iteration No.:  1\n",
      "\n",
      "= = = = = = = = = = = = = = = =\n",
      "Iteration No.:  2\n",
      "\n",
      "= = = = = = = = = = = = = = = =\n",
      "Iteration No.:  3\n",
      "\n",
      "= = = = = = = = = = = = = = = =\n",
      "Iteration No.:  4\n",
      "\n",
      "= = = = = = = = = = = = = = = =\n",
      "Iteration No.:  5\n",
      "\n",
      "= = = = = = = = = = = = = = = =\n",
      "Iteration No.:  6\n",
      "\n",
      "= = = = = = = = = = = = = = = =\n",
      "Iteration No.:  7\n",
      "\n",
      "= = = = = = = = = = = = = = = =\n",
      "Iteration No.:  8\n",
      "\n",
      "= = = = = = = = = = = = = = = =\n",
      "Iteration No.:  9\n",
      "\n",
      "= = = = = = = = = = = = = = = =\n",
      "Iteration No.:  10\n",
      "\n",
      "= = = = = = = = = = = = = = = =\n",
      "Iteration No.:  11\n",
      "\n",
      "= = = = = = = = = = = = = = = =\n",
      "Iteration No.:  12\n",
      "\n",
      "= = = = = = = = = = = = = = = =\n",
      "Iteration No.:  13\n",
      "\n",
      "= = = = = = = = = = = = = = = =\n",
      "Iteration No.:  14\n",
      "Dimentions of Batch 2 matrix is:  (2460, 2460)\n"
     ]
    }
   ],
   "source": [
    "import pandas as pd\n",
    "import networkx as nx\n",
    "import numpy as np\n",
    "from numpy.core.fromnumeric import shape\n",
    "\n",
    "Z1_file = lab_files_path + Batch_2[0]\n",
    "df = pd.read_csv(Z1_file)\n",
    "G = makeGraph(df)\n",
    "M2 = nx.to_numpy_array(G, dtype=np.int32)\n",
    "\n",
    "for i in range(1, len(Batch_2)):\n",
    "    print(\"\\n= = = = = = = = = = = = = = = =\")\n",
    "    print(\"Iteration No.: \", i)\n",
    "    # Getting file\n",
    "    f = lab_files_path + Batch_2[i]\n",
    "    # Making dataframe of file\n",
    "    df = pd.read_csv(f)\n",
    "    # Making graph of the dataframe.\n",
    "    G = makeGraph(df)\n",
    "    # Storing the graph as an incident matrix(an adjacency matrix)\n",
    "    I = nx.to_numpy_array(G, dtype=np.int32)\n",
    "    # Now resizing the original sparce matrix with the new incident matrix\n",
    "    M2 = resizeMatrix(M2, I)\n",
    "\n",
    "print(\"Dimentions of Batch 2 matrix is: \", np.shape(M2))\n"
   ]
  },
  {
   "cell_type": "markdown",
   "metadata": {},
   "source": [
    "# Training Batch-3"
   ]
  },
  {
   "cell_type": "code",
   "execution_count": 6,
   "metadata": {},
   "outputs": [
    {
     "name": "stdout",
     "output_type": "stream",
     "text": [
      "\n",
      "= = = = = = = = = = = = = = = =\n",
      "Iteration No.:  1\n",
      "\n",
      "= = = = = = = = = = = = = = = =\n",
      "Iteration No.:  2\n",
      "\n",
      "= = = = = = = = = = = = = = = =\n",
      "Iteration No.:  3\n",
      "\n",
      "= = = = = = = = = = = = = = = =\n",
      "Iteration No.:  4\n",
      "\n",
      "= = = = = = = = = = = = = = = =\n",
      "Iteration No.:  5\n",
      "\n",
      "= = = = = = = = = = = = = = = =\n",
      "Iteration No.:  6\n",
      "\n",
      "= = = = = = = = = = = = = = = =\n",
      "Iteration No.:  7\n",
      "\n",
      "= = = = = = = = = = = = = = = =\n",
      "Iteration No.:  8\n",
      "\n",
      "= = = = = = = = = = = = = = = =\n",
      "Iteration No.:  9\n",
      "Dimentions of Batch 3 matrix is:  (856, 856)\n"
     ]
    }
   ],
   "source": [
    "import pandas as pd\n",
    "import networkx as nx\n",
    "import numpy as np\n",
    "from numpy.core.fromnumeric import shape\n",
    "\n",
    "Z2_file = lab_files_path + Batch_3[0]\n",
    "df = pd.read_csv(Z2_file)\n",
    "G = makeGraph(df)\n",
    "M3 = nx.to_numpy_array(G, dtype=np.int32)\n",
    "\n",
    "for i in range(1, len(Batch_3)):\n",
    "    print(\"\\n= = = = = = = = = = = = = = = =\")\n",
    "    print(\"Iteration No.: \", i)\n",
    "    # Getting file\n",
    "    f = lab_files_path + Batch_3[i]\n",
    "    # Making dataframe of file\n",
    "    df = pd.read_csv(f)\n",
    "    # Making graph of the dataframe.\n",
    "    G = makeGraph(df)\n",
    "    # Storing the graph as an incident matrix(an adjacency matrix)\n",
    "    I = nx.to_numpy_array(G, dtype=np.int32)\n",
    "    # Now resizing the original sparce matrix with the new incident matrix\n",
    "    M3 = resizeMatrix(M3, I)\n",
    "\n",
    "print(\"Dimentions of Batch 3 matrix is: \", np.shape(M3))\n"
   ]
  },
  {
   "cell_type": "markdown",
   "metadata": {},
   "source": [
    "# Training Batch-4"
   ]
  },
  {
   "cell_type": "code",
   "execution_count": 7,
   "metadata": {},
   "outputs": [
    {
     "name": "stdout",
     "output_type": "stream",
     "text": [
      "\n",
      "= = = = = = = = = = = = = = = =\n",
      "Iteration No.:  1\n",
      "\n",
      "= = = = = = = = = = = = = = = =\n",
      "Iteration No.:  2\n",
      "\n",
      "= = = = = = = = = = = = = = = =\n",
      "Iteration No.:  3\n",
      "\n",
      "= = = = = = = = = = = = = = = =\n",
      "Iteration No.:  4\n",
      "Dimentions of Batch 4 matrix is:  (451, 451)\n"
     ]
    }
   ],
   "source": [
    "import pandas as pd\n",
    "import networkx as nx\n",
    "import numpy as np\n",
    "from numpy.core.fromnumeric import shape\n",
    "\n",
    "Z5_file = lab_files_path + Batch_4[0]\n",
    "df = pd.read_csv(Z5_file)\n",
    "G = makeGraph(df)\n",
    "M6 = nx.to_numpy_array(G, dtype=np.int32)\n",
    "\n",
    "for i in range(1, len(Batch_4)):\n",
    "    print(\"\\n= = = = = = = = = = = = = = = =\")\n",
    "    print(\"Iteration No.: \", i)\n",
    "    # Getting file\n",
    "    f = lab_files_path + Batch_4[i]\n",
    "    # Making dataframe of file\n",
    "    df = pd.read_csv(f)\n",
    "    # Making graph of the dataframe.\n",
    "    G = makeGraph(df)\n",
    "    # Storing the graph as an incident matrix(an adjacency matrix)\n",
    "    I = nx.to_numpy_array(G, dtype=np.int32)\n",
    "    # Now resizing the original sparce matrix with the new incident matrix\n",
    "    M6 = resizeMatrix(M6, I)\n",
    "\n",
    "print(\"Dimentions of Batch 4 matrix is: \", np.shape(M6))\n"
   ]
  },
  {
   "cell_type": "markdown",
   "metadata": {},
   "source": [
    "# Validation Batch"
   ]
  },
  {
   "cell_type": "code",
   "execution_count": 8,
   "metadata": {},
   "outputs": [
    {
     "name": "stdout",
     "output_type": "stream",
     "text": [
      "\n",
      "= = = = = = = = = = = = = = = =\n",
      "Iteration No.:  1\n",
      "\n",
      "= = = = = = = = = = = = = = = =\n",
      "Iteration No.:  2\n",
      "\n",
      "= = = = = = = = = = = = = = = =\n",
      "Iteration No.:  3\n",
      "\n",
      "= = = = = = = = = = = = = = = =\n",
      "Iteration No.:  4\n",
      "Dimentions of Validation matrix is:  (956, 956)\n"
     ]
    }
   ],
   "source": [
    "Z3_file = lab_files_path + valid_set[0]\n",
    "df = pd.read_csv(Z3_file)\n",
    "G = makeGraph(df)\n",
    "M4 = nx.to_numpy_array(G, dtype=np.int32)\n",
    "\n",
    "for i in range(1, len(valid_set)):\n",
    "    print(\"\\n= = = = = = = = = = = = = = = =\")\n",
    "    print(\"Iteration No.: \", i)\n",
    "    # Getting file\n",
    "    f = lab_files_path + valid_set[i]\n",
    "    # Making dataframe of file\n",
    "    df = pd.read_csv(f)\n",
    "    # Making graph of the dataframe.\n",
    "    G = makeGraph(df)\n",
    "    # Storing the graph as an incident matrix(an adjacency matrix)\n",
    "    I = nx.to_numpy_array(G, dtype=np.int32)\n",
    "    # Now resizing the original sparce matrix with the new incident matrix\n",
    "    M4 = resizeMatrix(M4, I)\n",
    "\n",
    "print(\"Dimentions of Validation matrix is: \", np.shape(M4))\n"
   ]
  },
  {
   "cell_type": "markdown",
   "metadata": {},
   "source": [
    "# Testing Batch"
   ]
  },
  {
   "cell_type": "code",
   "execution_count": 9,
   "metadata": {},
   "outputs": [
    {
     "name": "stdout",
     "output_type": "stream",
     "text": [
      "\n",
      "= = = = = = = = = = = = = = = =\n",
      "Iteration No.:  1\n",
      "\n",
      "= = = = = = = = = = = = = = = =\n",
      "Iteration No.:  2\n",
      "\n",
      "= = = = = = = = = = = = = = = =\n",
      "Iteration No.:  3\n",
      "\n",
      "= = = = = = = = = = = = = = = =\n",
      "Iteration No.:  4\n",
      "Dimentions of Batch 3 matrix is:  (1012, 1012)\n"
     ]
    }
   ],
   "source": [
    "Z4_file = lab_files_path + test[0]\n",
    "df = pd.read_csv(Z4_file)\n",
    "G = makeGraph(df)\n",
    "M5 = nx.to_numpy_array(G, dtype=np.int32)\n",
    "\n",
    "for i in range(1, len(test)):\n",
    "    print(\"\\n= = = = = = = = = = = = = = = =\")\n",
    "    print(\"Iteration No.: \", i)\n",
    "    # Getting file\n",
    "    f = lab_files_path + test[i]\n",
    "    # Making dataframe of file\n",
    "    df = pd.read_csv(f)\n",
    "    # Making graph of the dataframe.\n",
    "    G = makeGraph(df)\n",
    "    # Storing the graph as an incident matrix(an adjacency matrix)\n",
    "    I = nx.to_numpy_array(G, dtype=np.int32)\n",
    "    # Now resizing the original sparce matrix with the new incident matrix\n",
    "    M5 = resizeMatrix(M5, I)\n",
    "\n",
    "print(\"Dimentions of Batch 3 matrix is: \", np.shape(M5))\n"
   ]
  },
  {
   "cell_type": "markdown",
   "metadata": {},
   "source": [
    "# Saving Matrices"
   ]
  },
  {
   "cell_type": "code",
   "execution_count": 10,
   "metadata": {},
   "outputs": [
    {
     "name": "stdout",
     "output_type": "stream",
     "text": [
      "Saving Matrix\n"
     ]
    }
   ],
   "source": [
    "print(\"Saving Matrix\")\n",
    "# np.save(\"./Matrices/Matrix_b1.npy\", M1)\n",
    "np.save(\"./IDS Model File Matrices/Train_B1.npy\", M1)\n",
    "np.save(\"./IDS Model File Matrices/Train_B2.npy\", M2)\n",
    "np.save(\"./IDS Model File Matrices/Train_B3.npy\", M3)\n",
    "np.save(\"./IDS Model File Matrices/Train_B4.npy\", M6)\n",
    "np.save(\"./IDS Model File Matrices/Validation.npy\", M4)\n",
    "np.save(\"./IDS Model File Matrices/Test.npy\", M5)\n"
   ]
  },
  {
   "cell_type": "markdown",
   "metadata": {},
   "source": [
    "# Loading Training Matrix"
   ]
  },
  {
   "cell_type": "code",
   "execution_count": 281,
   "metadata": {},
   "outputs": [
    {
     "name": "stdout",
     "output_type": "stream",
     "text": [
      "Printing Training Batch_1\n",
      "[[1 1 0 ... 0 0 0]\n",
      " [1 0 1 ... 0 0 0]\n",
      " [0 1 0 ... 0 0 0]\n",
      " ...\n",
      " [0 0 0 ... 0 0 0]\n",
      " [0 0 0 ... 0 0 0]\n",
      " [0 0 0 ... 0 0 0]]\n",
      "(4938, 4938)\n",
      "Printing Training Batch_2\n",
      "[[0 1 1 ... 0 0 0]\n",
      " [1 0 0 ... 0 0 0]\n",
      " [1 0 0 ... 0 0 0]\n",
      " ...\n",
      " [0 0 0 ... 0 1 0]\n",
      " [0 0 0 ... 1 0 0]\n",
      " [0 0 0 ... 0 0 0]]\n",
      "(2460, 2460)\n",
      "Printing Validation Batch\n",
      "[[0 1 1 ... 0 0 0]\n",
      " [1 0 0 ... 0 0 0]\n",
      " [1 0 0 ... 0 0 0]\n",
      " ...\n",
      " [0 0 0 ... 0 0 0]\n",
      " [0 0 0 ... 0 0 0]\n",
      " [0 0 0 ... 0 0 0]]\n",
      "(956, 956)\n",
      "Printing Test Batch\n",
      "[[0 1 1 ... 0 0 0]\n",
      " [1 0 0 ... 0 0 0]\n",
      " [1 0 0 ... 0 0 0]\n",
      " ...\n",
      " [0 0 0 ... 0 0 0]\n",
      " [0 0 0 ... 0 0 1]\n",
      " [0 0 0 ... 0 1 0]]\n",
      "(1012, 1012)\n"
     ]
    }
   ],
   "source": [
    "import numpy as np\n",
    "\n",
    "A1 = np.load(\"./IDS Model File Matrices/Train_B1.npy\")\n",
    "A2 = np.load(\"./IDS Model File Matrices/Train_B2.npy\")\n",
    "A3 = np.load(\"./IDS Model File Matrices/Train_B3.npy\")\n",
    "A4 = np.load(\"./IDS Model File Matrices/Validation.npy\")\n",
    "A5 = np.load(\"./IDS Model File Matrices/Test.npy\")\n",
    "A6 = np.load(\"./IDS Model File Matrices/Train_B4.npy\")\n",
    "\n",
    "print(\"Printing Training Batch_1\")\n",
    "print(A1)\n",
    "print(np.shape(A1))\n",
    "print(\"Printing Training Batch_2\")\n",
    "print(A2)\n",
    "print(np.shape(A2))\n",
    "print(\"Printing Validation Batch\")\n",
    "print(A4)\n",
    "print(np.shape(A4))\n",
    "print(\"Printing Test Batch\")\n",
    "print(A5)\n",
    "print(np.shape(A5))\n"
   ]
  },
  {
   "cell_type": "markdown",
   "metadata": {},
   "source": [
    "# Checking Train Matrix"
   ]
  },
  {
   "cell_type": "code",
   "execution_count": 282,
   "metadata": {},
   "outputs": [
    {
     "name": "stdout",
     "output_type": "stream",
     "text": [
      "(4938, 4938)\n"
     ]
    },
    {
     "data": {
      "image/png": "[encoded data removed]",
      "text/plain": [
       "<Figure size 288x288 with 1 Axes>"
      ]
     },
     "metadata": {
      "needs_background": "light"
     },
     "output_type": "display_data"
    }
   ],
   "source": [
    "import matplotlib.pyplot as plt\n",
    "plt.matshow(A1)\n",
    "print(np.shape(A1))\n"
   ]
  },
  {
   "cell_type": "markdown",
   "metadata": {},
   "source": [
    "# Generating Labels"
   ]
  },
  {
   "cell_type": "code",
   "execution_count": 283,
   "metadata": {},
   "outputs": [],
   "source": [
    "from numpy import nan\n",
    "\n",
    "\n",
    "def returnLabels(direc, files):\n",
    "    train_text = []\n",
    "    labels = []\n",
    "    for f in range(len(files)):\n",
    "        seenList = []\n",
    "        df = pd.read_csv(direc + files[f])\n",
    "        text = df['Object'].to_list()\n",
    "        T_labels = df['labels'].to_list()\n",
    "\n",
    "        for i in range(len(text)):\n",
    "            if(text[i] not in seenList):\n",
    "                labels.append(T_labels[i])\n",
    "                train_text.append(text[i])\n",
    "            seenList.append(text[i])\n",
    "\n",
    "    return labels, train_text\n"
   ]
  },
  {
   "cell_type": "markdown",
   "metadata": {},
   "source": [
    "# Encoding Labels\n",
    "1. Get a list of labels from CSV files.\n",
    "2. Catagorically encode the labels "
   ]
  },
  {
   "cell_type": "code",
   "execution_count": 285,
   "metadata": {},
   "outputs": [
    {
     "name": "stdout",
     "output_type": "stream",
     "text": [
      "Total train labels are:  4938\n",
      "Total train text is:  4938\n",
      "Total train encodings are:  4938\n",
      "Unique train encodings are:  {0, 1, 2, 3, 4, 5, 6, 7, 8, 9}\n",
      "=============================================\n",
      "Total train labels are:  2460\n",
      "Total train text is:  2460\n",
      "Total train encodings are:  2460\n",
      "Unique train encodings are:  {0, 1, 2, 3, 4, 5, 6, 7, 8, 9}\n",
      "=============================================\n",
      "Total train labels are:  856\n",
      "Total train text is:  856\n",
      "Total train encodings are:  856\n",
      "Unique train encodings are:  {0, 1, 2, 3, 4, 5, 6, 7, 8}\n",
      "=============================================\n",
      "Total train labels are:  451\n",
      "Total train text is:  451\n",
      "Total train encodings are:  451\n",
      "Unique train encodings are:  {0, 1, 2, 3, 4, 5, 6, 7, 8}\n",
      "=============================================\n",
      "Total validation labels are:  956\n",
      "Total train encodings are:  956\n",
      "Unique validation encodings are:  {0, 1, 2, 3, 4, 5, 6, 7, 8, 9}\n",
      "=============================================\n"
     ]
    }
   ],
   "source": [
    "from sklearn.preprocessing import LabelEncoder\n",
    "import pandas as pd\n",
    "\n",
    "b1_labels, b1_text = returnLabels(lab_files_path, Batch_1)\n",
    "print(\"Total train labels are: \", len(b1_labels))\n",
    "print(\"Total train text is: \", len(b1_text))\n",
    "\n",
    "lab_encoder = LabelEncoder()\n",
    "b1_encodings = lab_encoder.fit_transform(b1_labels)\n",
    "print(\"Total train encodings are: \", len(b1_encodings))\n",
    "\n",
    "\n",
    "uni_b1_enc = set(b1_encodings)\n",
    "print(\"Unique train encodings are: \", uni_b1_enc)\n",
    "print(\"=============================================\")\n",
    "\n",
    "b2_labels, b2_text = returnLabels(lab_files_path, Batch_2)\n",
    "print(\"Total train labels are: \", len(b2_labels))\n",
    "print(\"Total train text is: \", len(b2_text))\n",
    "\n",
    "lab_encoder = LabelEncoder()\n",
    "b2_encodings = lab_encoder.fit_transform(b2_labels)\n",
    "print(\"Total train encodings are: \", len(b2_encodings))\n",
    "\n",
    "\n",
    "uni_b2_enc = set(b2_encodings)\n",
    "print(\"Unique train encodings are: \", uni_b2_enc)\n",
    "print(\"=============================================\")\n",
    "\n",
    "b3_labels, b3_text = returnLabels(lab_files_path, Batch_3)\n",
    "print(\"Total train labels are: \", len(b3_labels))\n",
    "print(\"Total train text is: \", len(b3_text))\n",
    "\n",
    "lab_encoder = LabelEncoder()\n",
    "b3_encodings = lab_encoder.fit_transform(b3_labels)\n",
    "print(\"Total train encodings are: \", len(b3_encodings))\n",
    "\n",
    "\n",
    "uni_b3_enc = set(b3_encodings)\n",
    "print(\"Unique train encodings are: \", uni_b3_enc)\n",
    "print(\"=============================================\")\n",
    "\n",
    "b4_labels, b4_text = returnLabels(lab_files_path, Batch_4)\n",
    "print(\"Total train labels are: \", len(b4_labels))\n",
    "print(\"Total train text is: \", len(b4_text))\n",
    "\n",
    "lab_encoder = LabelEncoder()\n",
    "b4_encodings = lab_encoder.fit_transform(b4_labels)\n",
    "print(\"Total train encodings are: \", len(b4_encodings))\n",
    "\n",
    "\n",
    "uni_b4_enc = set(b4_encodings)\n",
    "print(\"Unique train encodings are: \", uni_b4_enc)\n",
    "print(\"=============================================\")\n",
    "\n",
    "valid_labels, valid_text = returnLabels(lab_files_path, valid_set)\n",
    "print(\"Total validation labels are: \", len(valid_labels))\n",
    "\n",
    "lab_encoder = LabelEncoder()\n",
    "valid_encodings = lab_encoder.fit_transform(valid_labels)\n",
    "print(\"Total train encodings are: \", len(valid_encodings))\n",
    "\n",
    "\n",
    "uni_valid_enc = set(valid_encodings)\n",
    "print(\"Unique validation encodings are: \", uni_valid_enc)\n",
    "print(\"=============================================\")\n"
   ]
  },
  {
   "cell_type": "markdown",
   "metadata": {},
   "source": [
    "# Deep Learning Libraries"
   ]
  },
  {
   "cell_type": "code",
   "execution_count": 286,
   "metadata": {},
   "outputs": [
    {
     "name": "stdout",
     "output_type": "stream",
     "text": [
      "Libraries Imported..\n"
     ]
    }
   ],
   "source": [
    "# from tensorflow.keras import Sequential\n",
    "\n",
    "from tensorflow.keras.models import Model\n",
    "from tensorflow.keras.layers import Input, Dropout, Dense, Flatten, Activation\n",
    "from tensorflow.keras.callbacks import TensorBoard, EarlyStopping, ModelCheckpoint, ReduceLROnPlateau\n",
    "import tensorflow as tf\n",
    "from tensorflow.keras.regularizers import l2\n",
    "\n",
    "\n",
    "from spektral.utils.sparse import sp_matrix_to_sp_tensor\n",
    "from spektral.layers import GCNConv\n",
    "from sklearn.metrics import classification_report\n",
    "from spektral.utils import normalized_laplacian\n",
    "from spektral.utils.sparse import sp_matrix_to_sp_tensor\n",
    "\n",
    "import matplotlib.pyplot as plt\n",
    "print(\"Libraries Imported..\")\n"
   ]
  },
  {
   "cell_type": "markdown",
   "metadata": {},
   "source": [
    "# Model Hyperparameters"
   ]
  },
  {
   "cell_type": "code",
   "execution_count": 287,
   "metadata": {},
   "outputs": [],
   "source": [
    "# Hyper-parameters\n",
    "dropout = 0.5\n",
    "learning_rate = 1e-4\n",
    "l2_reg = 0.001\n",
    "batch_size = 16\n",
    "es_patience = 10\n"
   ]
  },
  {
   "cell_type": "markdown",
   "metadata": {},
   "source": [
    "# Embeddings for train matrix"
   ]
  },
  {
   "cell_type": "code",
   "execution_count": 288,
   "metadata": {},
   "outputs": [
    {
     "name": "stdout",
     "output_type": "stream",
     "text": [
      "4938\n",
      "Total train test is:  4938\n"
     ]
    }
   ],
   "source": [
    "from gensim.models import Word2Vec\n",
    "Emb_Model = \"./Model/Word2Vec_Model.bin\"\n",
    "Loaded_model = Word2Vec.load(Emb_Model)\n",
    "\n",
    "train_embeddings = []\n",
    "for t in b1_text:\n",
    "    train_embeddings.append(Loaded_model.wv[t])\n",
    "    \n",
    "print(len(train_embeddings))\n",
    "    \n",
    "print(\"Total train test is: \", len(b1_text))\n"
   ]
  },
  {
   "cell_type": "markdown",
   "metadata": {},
   "source": [
    "# Model Definition"
   ]
  },
  {
   "cell_type": "code",
   "execution_count": 316,
   "metadata": {},
   "outputs": [
    {
     "name": "stdout",
     "output_type": "stream",
     "text": [
      "100\n",
      "Total classes are:  10\n",
      "Shape of X-in is:  (None, 100)\n",
      "Shape of A-in is:  (None, None)\n",
      "Model: \"model_23\"\n",
      "__________________________________________________________________________________________________\n",
      " Layer (type)                   Output Shape         Param #     Connected to                     \n",
      "==================================================================================================\n",
      " input_47 (InputLayer)          [(None, 100)]        0           []                               \n",
      "                                                                                                  \n",
      " input_48 (InputLayer)          [(None, None)]       0           []                               \n",
      "                                                                                                  \n",
      " gcn_conv_46 (GCNConv)          (None, 512)          51712       ['input_47[0][0]',               \n",
      "                                                                  'input_48[0][0]']               \n",
      "                                                                                                  \n",
      " gcn_conv_47 (GCNConv)          (None, 256)          131328      ['gcn_conv_46[0][0]',            \n",
      "                                                                  'input_48[0][0]']               \n",
      "                                                                                                  \n",
      " flatten_23 (Flatten)           (None, 256)          0           ['gcn_conv_47[0][0]']            \n",
      "                                                                                                  \n",
      " dense_69 (Dense)               (None, 256)          65792       ['flatten_23[0][0]']             \n",
      "                                                                                                  \n",
      " dense_70 (Dense)               (None, 64)           16448       ['dense_69[0][0]']               \n",
      "                                                                                                  \n",
      " dense_71 (Dense)               (None, 10)           650         ['dense_70[0][0]']               \n",
      "                                                                                                  \n",
      "==================================================================================================\n",
      "Total params: 265,930\n",
      "Trainable params: 265,930\n",
      "Non-trainable params: 0\n",
      "__________________________________________________________________________________________________\n"
     ]
    }
   ],
   "source": [
    "\n",
    "N = A1.shape[0]\n",
    "F = np.shape(train_embeddings)[1]\n",
    "train_embeddings = np.array(train_embeddings)\n",
    "print(F)\n",
    "\n",
    "classes = len(set(b1_labels))\n",
    "print(\"Total classes are: \", classes)\n",
    "\n",
    "# X_in = Input(batch_size=N, shape=(F))\n",
    "X_in = Input(batch_size=None, shape=(F,))\n",
    "print(\"Shape of X-in is: \", np.shape(X_in))\n",
    "\n",
    "# A_in = Input(tensor=sp_matrix_to_sp_tensor(fltr), sparse=True)\n",
    "# A_in = Input(shape=(None,), sparse=True)\n",
    "A_in = Input(shape=(None,))\n",
    "print(\"Shape of A-in is: \", np.shape(A_in))\n",
    "\n",
    "# D1 = Dropout(dropout)(X_in)\n",
    "G1 = GCNConv(512, activation='LeakyReLU',\n",
    "             kernel_regularizer=l2(l2_reg), use_bias=True)([X_in, A_in])\n",
    "# G1 = GCNConv(512, activation='LeakyReLU', use_bias=True)([X_in, A_in])\n",
    "# D2 = Dropout(dropout)(G1)\n",
    "G2 = GCNConv(256, activation='LeakyReLU',\n",
    "             kernel_regularizer=l2(l2_reg), use_bias=True)([G1, A_in])\n",
    "# G2 = GCNConv(256, activation='LeakyReLU', use_bias=True)([G1, A_in])\n",
    "\n",
    "# # BN = BatchNormalization()(G2)\n",
    "flatten = Flatten()(G2)\n",
    "\n",
    "D1 = Dense(256, activation='relu')(flatten)\n",
    "# Dr1 = Dropout(dropout)(D1)\n",
    "D2 = Dense(64, activation='relu')(D1)\n",
    "# Dr2 = Dropout(dropout)(D2)\n",
    "# D3 = Dense(16, activation='LeakyReLU')(D2)\n",
    "\n",
    "D2_out = Dense(classes, activation='softmax')(D2)\n",
    "\n",
    "model = Model(inputs=[X_in, A_in], outputs=D2_out)\n",
    "\n",
    "# global_step = tf.Variable(0, trainable=False)\n",
    "# learning_rate = tf.compat.v1.train.exponential_decay(0.0001,global_step,10000, 0.96, staircase=True)\n",
    "opt = tf.optimizers.Adam(learning_rate)\n",
    "model.compile(optimizer=opt,\n",
    "              loss='sparse_categorical_crossentropy', weighted_metrics=['acc'])\n",
    "\n",
    "model.summary()\n"
   ]
  },
  {
   "cell_type": "markdown",
   "metadata": {},
   "source": [
    "# Training Model"
   ]
  },
  {
   "cell_type": "code",
   "execution_count": 317,
   "metadata": {},
   "outputs": [
    {
     "name": "stdout",
     "output_type": "stream",
     "text": [
      "Epoch 1/95\n",
      "1/1 [==============================] - 2s 2s/step - loss: 5.3615 - acc: 0.1428 - val_loss: 4.7279 - val_acc: 0.2207\n",
      "Epoch 2/95\n",
      "1/1 [==============================] - 1s 1s/step - loss: 4.4601 - acc: 0.1365 - val_loss: 4.1726 - val_acc: 0.2186\n",
      "Epoch 3/95\n",
      "1/1 [==============================] - 1s 1s/step - loss: 3.9684 - acc: 0.1292 - val_loss: 3.8348 - val_acc: 0.1998\n",
      "Epoch 4/95\n",
      "1/1 [==============================] - 1s 984ms/step - loss: 3.6767 - acc: 0.1330 - val_loss: 3.6368 - val_acc: 0.1789\n",
      "Epoch 5/95\n",
      "1/1 [==============================] - 1s 1s/step - loss: 3.4350 - acc: 0.1304 - val_loss: 3.4677 - val_acc: 0.1653\n",
      "Epoch 6/95\n",
      "1/1 [==============================] - 1s 970ms/step - loss: 3.2387 - acc: 0.1316 - val_loss: 3.2770 - val_acc: 0.1611\n",
      "Epoch 7/95\n",
      "1/1 [==============================] - 1s 991ms/step - loss: 3.0142 - acc: 0.1333 - val_loss: 3.0816 - val_acc: 0.1747\n",
      "Epoch 8/95\n",
      "1/1 [==============================] - 1s 976ms/step - loss: 2.8549 - acc: 0.1207 - val_loss: 2.9339 - val_acc: 0.1914\n",
      "Epoch 9/95\n",
      "1/1 [==============================] - 1s 979ms/step - loss: 2.7881 - acc: 0.1476 - val_loss: 2.8620 - val_acc: 0.2155\n",
      "Epoch 10/95\n",
      "1/1 [==============================] - 1s 974ms/step - loss: 2.8401 - acc: 0.1693 - val_loss: 2.8476 - val_acc: 0.2228\n",
      "Epoch 11/95\n",
      "1/1 [==============================] - 1s 974ms/step - loss: 2.8925 - acc: 0.1740 - val_loss: 2.8527 - val_acc: 0.2312\n",
      "Epoch 12/95\n",
      "1/1 [==============================] - 1s 989ms/step - loss: 2.9339 - acc: 0.1683 - val_loss: 2.8624 - val_acc: 0.2437\n",
      "Epoch 13/95\n",
      "1/1 [==============================] - 1s 1s/step - loss: 2.8823 - acc: 0.1689 - val_loss: 2.8794 - val_acc: 0.2531\n",
      "Epoch 14/95\n",
      "1/1 [==============================] - 1s 1s/step - loss: 2.8341 - acc: 0.1798 - val_loss: 2.9140 - val_acc: 0.2542\n",
      "Epoch 15/95\n",
      "1/1 [==============================] - 1s 1s/step - loss: 2.7664 - acc: 0.1764 - val_loss: 2.9680 - val_acc: 0.2354\n",
      "Epoch 16/95\n",
      "1/1 [==============================] - 1s 1s/step - loss: 2.7445 - acc: 0.1693 - val_loss: 3.0312 - val_acc: 0.2238\n",
      "Epoch 17/95\n",
      "1/1 [==============================] - 1s 956ms/step - loss: 2.7586 - acc: 0.1640 - val_loss: 3.0646 - val_acc: 0.2249\n",
      "Epoch 18/95\n",
      "1/1 [==============================] - 1s 942ms/step - loss: 2.7460 - acc: 0.1731 - val_loss: 3.0521 - val_acc: 0.2249\n",
      "Epoch 19/95\n",
      "1/1 [==============================] - 1s 948ms/step - loss: 2.7477 - acc: 0.1529 - val_loss: 2.9997 - val_acc: 0.2385\n",
      "Epoch 20/95\n",
      "1/1 [==============================] - 1s 955ms/step - loss: 2.7228 - acc: 0.1661 - val_loss: 2.9317 - val_acc: 0.2573\n",
      "Epoch 21/95\n",
      "1/1 [==============================] - 1s 957ms/step - loss: 2.7130 - acc: 0.1685 - val_loss: 2.8718 - val_acc: 0.2646\n",
      "Epoch 22/95\n",
      "1/1 [==============================] - 1s 957ms/step - loss: 2.7101 - acc: 0.1574 - val_loss: 2.8298 - val_acc: 0.2688\n",
      "Epoch 23/95\n",
      "1/1 [==============================] - 1s 972ms/step - loss: 2.7029 - acc: 0.1634 - val_loss: 2.8048 - val_acc: 0.2741\n",
      "Epoch 24/95\n",
      "1/1 [==============================] - 1s 972ms/step - loss: 2.7058 - acc: 0.1588 - val_loss: 2.7913 - val_acc: 0.2772\n",
      "Epoch 25/95\n",
      "1/1 [==============================] - 1s 948ms/step - loss: 2.6933 - acc: 0.1618 - val_loss: 2.7810 - val_acc: 0.2793\n",
      "Epoch 26/95\n",
      "1/1 [==============================] - 1s 1s/step - loss: 2.6897 - acc: 0.1636 - val_loss: 2.7719 - val_acc: 0.2762\n",
      "Epoch 27/95\n",
      "1/1 [==============================] - 1s 1s/step - loss: 2.6994 - acc: 0.1535 - val_loss: 2.7634 - val_acc: 0.2720\n",
      "Epoch 28/95\n",
      "1/1 [==============================] - 1s 954ms/step - loss: 2.7113 - acc: 0.1367 - val_loss: 2.7551 - val_acc: 0.2688\n",
      "Epoch 29/95\n",
      "1/1 [==============================] - 1s 954ms/step - loss: 2.6639 - acc: 0.1677 - val_loss: 2.7487 - val_acc: 0.2646\n",
      "Epoch 30/95\n",
      "1/1 [==============================] - 1s 947ms/step - loss: 2.6805 - acc: 0.1527 - val_loss: 2.7460 - val_acc: 0.2615\n",
      "Epoch 31/95\n",
      "1/1 [==============================] - 1s 950ms/step - loss: 2.6640 - acc: 0.1661 - val_loss: 2.7468 - val_acc: 0.2657\n",
      "Epoch 32/95\n",
      "1/1 [==============================] - 1s 964ms/step - loss: 2.6701 - acc: 0.1655 - val_loss: 2.7487 - val_acc: 0.2688\n",
      "Epoch 33/95\n",
      "1/1 [==============================] - 1s 957ms/step - loss: 2.6803 - acc: 0.1634 - val_loss: 2.7523 - val_acc: 0.2824\n",
      "Epoch 34/95\n",
      "1/1 [==============================] - 1s 965ms/step - loss: 2.6623 - acc: 0.1709 - val_loss: 2.7547 - val_acc: 0.2845\n",
      "Epoch 35/95\n",
      "1/1 [==============================] - 1s 960ms/step - loss: 2.6580 - acc: 0.1756 - val_loss: 2.7564 - val_acc: 0.2877\n",
      "Epoch 36/95\n",
      "1/1 [==============================] - 1s 981ms/step - loss: 2.6477 - acc: 0.1727 - val_loss: 2.7573 - val_acc: 0.2897\n",
      "Epoch 37/95\n",
      "1/1 [==============================] - 1s 956ms/step - loss: 2.6593 - acc: 0.1908 - val_loss: 2.7558 - val_acc: 0.2929\n",
      "Epoch 38/95\n",
      "1/1 [==============================] - 1s 947ms/step - loss: 2.6527 - acc: 0.1851 - val_loss: 2.7510 - val_acc: 0.2981\n",
      "Epoch 39/95\n",
      "1/1 [==============================] - 1s 954ms/step - loss: 2.6501 - acc: 0.1800 - val_loss: 2.7434 - val_acc: 0.2992\n",
      "Epoch 40/95\n",
      "1/1 [==============================] - 1s 958ms/step - loss: 2.6429 - acc: 0.1810 - val_loss: 2.7349 - val_acc: 0.3023\n",
      "Epoch 41/95\n",
      "1/1 [==============================] - 1s 955ms/step - loss: 2.6510 - acc: 0.1768 - val_loss: 2.7262 - val_acc: 0.3023\n",
      "Epoch 42/95\n",
      "1/1 [==============================] - 1s 960ms/step - loss: 2.6540 - acc: 0.1626 - val_loss: 2.7183 - val_acc: 0.3086\n",
      "Epoch 43/95\n",
      "1/1 [==============================] - 1s 954ms/step - loss: 2.6453 - acc: 0.1731 - val_loss: 2.7122 - val_acc: 0.3138\n",
      "Epoch 44/95\n",
      "1/1 [==============================] - 1s 958ms/step - loss: 2.6506 - acc: 0.1671 - val_loss: 2.7084 - val_acc: 0.3128\n",
      "Epoch 45/95\n",
      "1/1 [==============================] - 1s 980ms/step - loss: 2.6481 - acc: 0.1640 - val_loss: 2.7068 - val_acc: 0.3107\n",
      "Epoch 46/95\n",
      "1/1 [==============================] - 1s 961ms/step - loss: 2.6492 - acc: 0.1671 - val_loss: 2.7073 - val_acc: 0.3096\n",
      "Epoch 47/95\n",
      "1/1 [==============================] - 1s 1s/step - loss: 2.6488 - acc: 0.1598 - val_loss: 2.7094 - val_acc: 0.3138\n",
      "Epoch 48/95\n",
      "1/1 [==============================] - 1s 951ms/step - loss: 2.6350 - acc: 0.1760 - val_loss: 2.7133 - val_acc: 0.3253\n",
      "Epoch 49/95\n",
      "1/1 [==============================] - 1s 949ms/step - loss: 2.6498 - acc: 0.1725 - val_loss: 2.7189 - val_acc: 0.3285\n",
      "Epoch 50/95\n",
      "1/1 [==============================] - 1s 959ms/step - loss: 2.6376 - acc: 0.1750 - val_loss: 2.7257 - val_acc: 0.3337\n",
      "Epoch 51/95\n",
      "1/1 [==============================] - 1s 975ms/step - loss: 2.6402 - acc: 0.1806 - val_loss: 2.7312 - val_acc: 0.3441\n",
      "Epoch 52/95\n",
      "1/1 [==============================] - 1s 975ms/step - loss: 2.6415 - acc: 0.1756 - val_loss: 2.7358 - val_acc: 0.3462\n",
      "Epoch 53/95\n",
      "1/1 [==============================] - 1s 981ms/step - loss: 2.6434 - acc: 0.1754 - val_loss: 2.7395 - val_acc: 0.3452\n",
      "Epoch 54/95\n",
      "1/1 [==============================] - 1s 969ms/step - loss: 2.6343 - acc: 0.1806 - val_loss: 2.7419 - val_acc: 0.3473\n",
      "Epoch 55/95\n",
      "1/1 [==============================] - 1s 957ms/step - loss: 2.6351 - acc: 0.1709 - val_loss: 2.7440 - val_acc: 0.3441\n",
      "Epoch 56/95\n",
      "1/1 [==============================] - 1s 957ms/step - loss: 2.6364 - acc: 0.1766 - val_loss: 2.7462 - val_acc: 0.3400\n",
      "Epoch 57/95\n",
      "1/1 [==============================] - 1s 972ms/step - loss: 2.6284 - acc: 0.1711 - val_loss: 2.7475 - val_acc: 0.3452\n",
      "Epoch 58/95\n",
      "1/1 [==============================] - 1s 978ms/step - loss: 2.6471 - acc: 0.1652 - val_loss: 2.7473 - val_acc: 0.3400\n",
      "Epoch 59/95\n",
      "1/1 [==============================] - 1s 986ms/step - loss: 2.6390 - acc: 0.1746 - val_loss: 2.7478 - val_acc: 0.3389\n",
      "Epoch 60/95\n",
      "1/1 [==============================] - 1s 953ms/step - loss: 2.6365 - acc: 0.1776 - val_loss: 2.7484 - val_acc: 0.3400\n",
      "Epoch 61/95\n",
      "1/1 [==============================] - 1s 962ms/step - loss: 2.6412 - acc: 0.1715 - val_loss: 2.7494 - val_acc: 0.3379\n",
      "Epoch 62/95\n",
      "1/1 [==============================] - 1s 952ms/step - loss: 2.6512 - acc: 0.1600 - val_loss: 2.7504 - val_acc: 0.3358\n",
      "Epoch 63/95\n",
      "1/1 [==============================] - 1s 958ms/step - loss: 2.6361 - acc: 0.1766 - val_loss: 2.7513 - val_acc: 0.3410\n",
      "Epoch 64/95\n",
      "1/1 [==============================] - 1s 971ms/step - loss: 2.6359 - acc: 0.1792 - val_loss: 2.7530 - val_acc: 0.3452\n",
      "Epoch 65/95\n",
      "1/1 [==============================] - 1s 965ms/step - loss: 2.6308 - acc: 0.1786 - val_loss: 2.7571 - val_acc: 0.3504\n",
      "Epoch 66/95\n",
      "1/1 [==============================] - 1s 966ms/step - loss: 2.6255 - acc: 0.1717 - val_loss: 2.7623 - val_acc: 0.3525\n",
      "Epoch 67/95\n",
      "1/1 [==============================] - 1s 972ms/step - loss: 2.6265 - acc: 0.1827 - val_loss: 2.7691 - val_acc: 0.3525\n",
      "Epoch 68/95\n",
      "1/1 [==============================] - 1s 979ms/step - loss: 2.6255 - acc: 0.1806 - val_loss: 2.7766 - val_acc: 0.3462\n",
      "Epoch 69/95\n",
      "1/1 [==============================] - 1s 993ms/step - loss: 2.6330 - acc: 0.1685 - val_loss: 2.7836 - val_acc: 0.3462\n",
      "Epoch 70/95\n",
      "1/1 [==============================] - 1s 959ms/step - loss: 2.6317 - acc: 0.1796 - val_loss: 2.7898 - val_acc: 0.3431\n",
      "Epoch 71/95\n",
      "1/1 [==============================] - 1s 949ms/step - loss: 2.6229 - acc: 0.1808 - val_loss: 2.7941 - val_acc: 0.3431\n",
      "Epoch 72/95\n",
      "1/1 [==============================] - 1s 962ms/step - loss: 2.6231 - acc: 0.1748 - val_loss: 2.7984 - val_acc: 0.3410\n",
      "Epoch 73/95\n",
      "1/1 [==============================] - 1s 965ms/step - loss: 2.6232 - acc: 0.1800 - val_loss: 2.8025 - val_acc: 0.3452\n",
      "Epoch 74/95\n",
      "1/1 [==============================] - 1s 954ms/step - loss: 2.6242 - acc: 0.1825 - val_loss: 2.8052 - val_acc: 0.3462\n",
      "Epoch 75/95\n",
      "1/1 [==============================] - 1s 960ms/step - loss: 2.6218 - acc: 0.1819 - val_loss: 2.8063 - val_acc: 0.3473\n",
      "Epoch 76/95\n",
      "1/1 [==============================] - 1s 970ms/step - loss: 2.6205 - acc: 0.1823 - val_loss: 2.8078 - val_acc: 0.3452\n",
      "Epoch 77/95\n",
      "1/1 [==============================] - 1s 967ms/step - loss: 2.6279 - acc: 0.1695 - val_loss: 2.8120 - val_acc: 0.3431\n",
      "Epoch 78/95\n",
      "1/1 [==============================] - 1s 1s/step - loss: 2.6179 - acc: 0.1764 - val_loss: 2.8166 - val_acc: 0.3452\n",
      "Epoch 79/95\n",
      "1/1 [==============================] - 1s 972ms/step - loss: 2.6182 - acc: 0.1788 - val_loss: 2.8237 - val_acc: 0.3421\n",
      "Epoch 80/95\n",
      "1/1 [==============================] - 1s 965ms/step - loss: 2.6194 - acc: 0.1841 - val_loss: 2.8311 - val_acc: 0.3431\n",
      "Epoch 81/95\n",
      "1/1 [==============================] - 1s 964ms/step - loss: 2.6229 - acc: 0.1731 - val_loss: 2.8369 - val_acc: 0.3452\n",
      "Epoch 82/95\n",
      "1/1 [==============================] - 1s 960ms/step - loss: 2.6278 - acc: 0.1861 - val_loss: 2.8414 - val_acc: 0.3483\n",
      "Epoch 83/95\n",
      "1/1 [==============================] - 1s 956ms/step - loss: 2.6214 - acc: 0.1833 - val_loss: 2.8442 - val_acc: 0.3483\n",
      "Epoch 84/95\n",
      "1/1 [==============================] - 1s 959ms/step - loss: 2.6169 - acc: 0.1932 - val_loss: 2.8479 - val_acc: 0.3494\n",
      "Epoch 85/95\n",
      "1/1 [==============================] - 1s 957ms/step - loss: 2.6114 - acc: 0.1898 - val_loss: 2.8511 - val_acc: 0.3483\n",
      "Epoch 86/95\n",
      "1/1 [==============================] - 1s 963ms/step - loss: 2.6126 - acc: 0.1964 - val_loss: 2.8533 - val_acc: 0.3483\n",
      "Epoch 87/95\n",
      "1/1 [==============================] - 1s 987ms/step - loss: 2.6202 - acc: 0.1950 - val_loss: 2.8564 - val_acc: 0.3494\n",
      "Epoch 88/95\n",
      "1/1 [==============================] - 1s 959ms/step - loss: 2.6122 - acc: 0.1760 - val_loss: 2.8620 - val_acc: 0.3483\n",
      "Epoch 89/95\n",
      "1/1 [==============================] - 1s 978ms/step - loss: 2.6116 - acc: 0.1827 - val_loss: 2.8699 - val_acc: 0.3483\n",
      "Epoch 90/95\n",
      "1/1 [==============================] - 1s 986ms/step - loss: 2.6229 - acc: 0.1752 - val_loss: 2.8789 - val_acc: 0.3452\n",
      "Epoch 91/95\n",
      "1/1 [==============================] - 1s 1s/step - loss: 2.6165 - acc: 0.1780 - val_loss: 2.8882 - val_acc: 0.3441\n",
      "Epoch 92/95\n",
      "1/1 [==============================] - 1s 940ms/step - loss: 2.6199 - acc: 0.1744 - val_loss: 2.8962 - val_acc: 0.3431\n",
      "Epoch 93/95\n",
      "1/1 [==============================] - 1s 936ms/step - loss: 2.6142 - acc: 0.1885 - val_loss: 2.9030 - val_acc: 0.3421\n",
      "Epoch 94/95\n",
      "1/1 [==============================] - 1s 957ms/step - loss: 2.6215 - acc: 0.1881 - val_loss: 2.9090 - val_acc: 0.3400\n",
      "Epoch 95/95\n",
      "1/1 [==============================] - 1s 942ms/step - loss: 2.6125 - acc: 0.1885 - val_loss: 2.9152 - val_acc: 0.3379\n"
     ]
    }
   ],
   "source": [
    "validation_text = []\n",
    "for i in range(len(valid_set)):\n",
    "    df = pd.read_csv(lab_files_path+valid_set[i])\n",
    "    Text = df['Object'].to_list()\n",
    "\n",
    "    for T in Text:\n",
    "        validation_text.append(T)\n",
    "\n",
    "\n",
    "valid_embeddings = []\n",
    "for t in valid_text:\n",
    "    valid_embeddings.append(Loaded_model.wv[t])\n",
    "    \n",
    "valid_embeddings = np.array(valid_embeddings)\n",
    "\n",
    "callback = tf.keras.callbacks.EarlyStopping(monitor=\"val_loss\", patience=10)\n",
    "\n",
    "# checkpoint = ModelCheckpoint(\n",
    "#     \"./Model/Model-{val_acc:.4f}.h5\", monitor='val_acc', save_best_only=True, mode='max')\n",
    "\n",
    "# early_stopping = EarlyStopping(monitor='val_loss',\n",
    "#                             min_delta=0,\n",
    "#                             patience=10,\n",
    "#                             verbose=1,\n",
    "#                             restore_best_weights=True\n",
    "#                             )\n",
    "\n",
    "reduce_learningrate = ReduceLROnPlateau(monitor='val_loss',\n",
    "                                        factor=0.05,\n",
    "                                        patience=10,\n",
    "                                        verbose=1,\n",
    "                                        mode = \"min\",\n",
    "                                        min_delta=0.00001)\n",
    "\n",
    "history = model.fit([train_embeddings, A1],\n",
    "                    b1_encodings,\n",
    "                    epochs=95,\n",
    "                    batch_size=N,\n",
    "                    # class_weight=W,\n",
    "                    validation_data=([valid_embeddings, A4], valid_encodings),\n",
    "                    # callbacks=[checkpoint]\n",
    "                    )\n"
   ]
  },
  {
   "cell_type": "markdown",
   "metadata": {},
   "source": [
    "# Losses"
   ]
  },
  {
   "cell_type": "code",
   "execution_count": 318,
   "metadata": {},
   "outputs": [
    {
     "data": {
      "text/plain": [
       "[<matplotlib.lines.Line2D at 0x1273ce12fa0>]"
      ]
     },
     "execution_count": 318,
     "metadata": {},
     "output_type": "execute_result"
    },
    {
     "data": {
      "image/png": "[encoded data removed]",
      "text/plain": [
       "<Figure size 432x288 with 1 Axes>"
      ]
     },
     "metadata": {
      "needs_background": "light"
     },
     "output_type": "display_data"
    }
   ],
   "source": [
    "import keras\n",
    "from matplotlib import pyplot as plt\n",
    "plt.plot(history.history['loss'])\n",
    "plt.plot(history.history['val_loss'])"
   ]
  },
  {
   "cell_type": "markdown",
   "metadata": {},
   "source": [
    "# Accuracy"
   ]
  },
  {
   "cell_type": "code",
   "execution_count": 319,
   "metadata": {},
   "outputs": [
    {
     "data": {
      "text/plain": [
       "[<matplotlib.lines.Line2D at 0x1273cee7730>]"
      ]
     },
     "execution_count": 319,
     "metadata": {},
     "output_type": "execute_result"
    },
    {
     "data": {
      "image/png": "[encoded data removed]",
      "text/plain": [
       "<Figure size 432x288 with 1 Axes>"
      ]
     },
     "metadata": {
      "needs_background": "light"
     },
     "output_type": "display_data"
    }
   ],
   "source": [
    "import keras\n",
    "from matplotlib import pyplot as plt\n",
    "plt.plot(history.history['acc'])\n",
    "plt.plot(history.history['val_acc'])"
   ]
  },
  {
   "cell_type": "markdown",
   "metadata": {},
   "source": [
    "# Saving Model"
   ]
  },
  {
   "cell_type": "code",
   "execution_count": 323,
   "metadata": {},
   "outputs": [],
   "source": [
    "model.save(\n",
    "    \"./Model/Model-0.3379.h5\")\n"
   ]
  },
  {
   "cell_type": "markdown",
   "metadata": {},
   "source": [
    "# Loading Model"
   ]
  },
  {
   "cell_type": "code",
   "execution_count": 335,
   "metadata": {},
   "outputs": [],
   "source": [
    "from keras.models import load_model\n",
    "model = load_model(\"./Model/Model-0.3379.h5\",\n",
    "                   custom_objects={\"GCNConv\": GCNConv})\n",
    "# model.summary()\n"
   ]
  },
  {
   "cell_type": "markdown",
   "metadata": {},
   "source": [
    "# Training on Batch-2"
   ]
  },
  {
   "cell_type": "code",
   "execution_count": 336,
   "metadata": {},
   "outputs": [
    {
     "name": "stdout",
     "output_type": "stream",
     "text": [
      "Epoch 1/12\n",
      "1/1 [==============================] - 1s 1s/step - loss: 2.9138 - acc: 0.1280 - val_loss: 2.8546 - val_acc: 0.3441\n",
      "Epoch 2/12\n",
      "1/1 [==============================] - 0s 383ms/step - loss: 2.8632 - acc: 0.1358 - val_loss: 2.7882 - val_acc: 0.3389\n",
      "Epoch 3/12\n",
      "1/1 [==============================] - 0s 395ms/step - loss: 2.7875 - acc: 0.1232 - val_loss: 2.7556 - val_acc: 0.3169\n",
      "Epoch 4/12\n",
      "1/1 [==============================] - 0s 346ms/step - loss: 2.7365 - acc: 0.1764 - val_loss: 2.7675 - val_acc: 0.2709\n",
      "Epoch 5/12\n",
      "1/1 [==============================] - 0s 406ms/step - loss: 2.7388 - acc: 0.1907 - val_loss: 2.8009 - val_acc: 0.2354\n",
      "Epoch 6/12\n",
      "1/1 [==============================] - 0s 366ms/step - loss: 2.7617 - acc: 0.2008 - val_loss: 2.8272 - val_acc: 0.2144\n",
      "Epoch 7/12\n",
      "1/1 [==============================] - 0s 337ms/step - loss: 2.7725 - acc: 0.1902 - val_loss: 2.8300 - val_acc: 0.2197\n",
      "Epoch 8/12\n",
      "1/1 [==============================] - 0s 341ms/step - loss: 2.7693 - acc: 0.1963 - val_loss: 2.8117 - val_acc: 0.2176\n",
      "Epoch 9/12\n",
      "1/1 [==============================] - 0s 337ms/step - loss: 2.7602 - acc: 0.1748 - val_loss: 2.7820 - val_acc: 0.2364\n",
      "Epoch 10/12\n",
      "1/1 [==============================] - 0s 336ms/step - loss: 2.7362 - acc: 0.1720 - val_loss: 2.7540 - val_acc: 0.2427\n",
      "Epoch 11/12\n",
      "1/1 [==============================] - 0s 341ms/step - loss: 2.7177 - acc: 0.1732 - val_loss: 2.7337 - val_acc: 0.2741\n",
      "Epoch 12/12\n",
      "1/1 [==============================] - 0s 333ms/step - loss: 2.6914 - acc: 0.1829 - val_loss: 2.7249 - val_acc: 0.2877\n"
     ]
    }
   ],
   "source": [
    "b2_embeddings = []\n",
    "# print(len(b2_text))\n",
    "\n",
    "for t2 in b2_text:\n",
    "    b2_embeddings.append(Loaded_model.wv[t2])\n",
    "\n",
    "b2_embeddings=np.array(b2_embeddings)\n",
    "\n",
    "\n",
    "history = model.fit([b2_embeddings, A2],\n",
    "                    b2_encodings,\n",
    "                    epochs=12,\n",
    "                    batch_size=N,\n",
    "                    # class_weight=W,\n",
    "                    validation_data=([valid_embeddings, A4], valid_encodings),\n",
    "                    # callbacks=[reduce_learningrate]\n",
    "                    )\n"
   ]
  },
  {
   "cell_type": "markdown",
   "metadata": {},
   "source": [
    "# Checking loss for Batch-2"
   ]
  },
  {
   "cell_type": "code",
   "execution_count": 337,
   "metadata": {},
   "outputs": [
    {
     "data": {
      "text/plain": [
       "[<matplotlib.lines.Line2D at 0x1274dfb45e0>]"
      ]
     },
     "execution_count": 337,
     "metadata": {},
     "output_type": "execute_result"
    },
    {
     "data": {
      "image/png": "[encoded data removed]",
      "text/plain": [
       "<Figure size 432x288 with 1 Axes>"
      ]
     },
     "metadata": {
      "needs_background": "light"
     },
     "output_type": "display_data"
    }
   ],
   "source": [
    "import keras\n",
    "from matplotlib import pyplot as plt\n",
    "plt.plot(history.history['loss'])\n",
    "plt.plot(history.history['val_loss'])\n"
   ]
  },
  {
   "cell_type": "markdown",
   "metadata": {},
   "source": [
    "# Checking accuracy for Batch-2"
   ]
  },
  {
   "cell_type": "code",
   "execution_count": 338,
   "metadata": {},
   "outputs": [
    {
     "data": {
      "text/plain": [
       "[<matplotlib.lines.Line2D at 0x127513bc250>]"
      ]
     },
     "execution_count": 338,
     "metadata": {},
     "output_type": "execute_result"
    },
    {
     "data": {
      "image/png": "[encoded data removed]",
      "text/plain": [
       "<Figure size 432x288 with 1 Axes>"
      ]
     },
     "metadata": {
      "needs_background": "light"
     },
     "output_type": "display_data"
    }
   ],
   "source": [
    "import keras\n",
    "from matplotlib import pyplot as plt\n",
    "plt.plot(history.history['acc'])\n",
    "plt.plot(history.history['val_acc'])"
   ]
  },
  {
   "cell_type": "markdown",
   "metadata": {},
   "source": [
    "# Saving Second Batch-Training"
   ]
  },
  {
   "cell_type": "code",
   "execution_count": 339,
   "metadata": {},
   "outputs": [],
   "source": [
    "model.save(\n",
    "    \"./Model/IDS_Batch1_2877.h5\")\n"
   ]
  },
  {
   "cell_type": "markdown",
   "metadata": {},
   "source": [
    "# Loading Model"
   ]
  },
  {
   "cell_type": "code",
   "execution_count": 348,
   "metadata": {},
   "outputs": [],
   "source": [
    "\n",
    "from keras.models import load_model\n",
    "model = load_model(\"./Model/IDS_Batch1_{val_acc:03f}.h5\",\n",
    "                   custom_objects={\"GCNConv\": GCNConv})\n",
    "# model.summary()\n"
   ]
  },
  {
   "cell_type": "markdown",
   "metadata": {},
   "source": [
    "# Training Batch-3"
   ]
  },
  {
   "cell_type": "code",
   "execution_count": 349,
   "metadata": {},
   "outputs": [
    {
     "name": "stdout",
     "output_type": "stream",
     "text": [
      "1/1 [==============================] - 1s 700ms/step - loss: 3.3873 - acc: 0.0117 - val_loss: 2.8574 - val_acc: 0.1789\n"
     ]
    }
   ],
   "source": [
    "b3_embeddings = []\n",
    "# print(len(b2_text))\n",
    "\n",
    "for t3 in b3_text:\n",
    "    b3_embeddings.append(Loaded_model.wv[t3])\n",
    "\n",
    "b3_embeddings = np.array(b3_embeddings)\n",
    "\n",
    "\n",
    "history = model.fit([b3_embeddings, A3],\n",
    "                    b3_encodings,\n",
    "                    epochs=1,\n",
    "                    batch_size=N,\n",
    "                    # class_weight=W,\n",
    "                    validation_data=([valid_embeddings, A4], valid_encodings),\n",
    "                    # callbacks=[reduce_learningrate]\n",
    "                    )\n"
   ]
  },
  {
   "cell_type": "markdown",
   "metadata": {},
   "source": [
    "# Checking-Loss"
   ]
  },
  {
   "cell_type": "code",
   "execution_count": 350,
   "metadata": {},
   "outputs": [
    {
     "data": {
      "text/plain": [
       "[<matplotlib.lines.Line2D at 0x1272331b730>]"
      ]
     },
     "execution_count": 350,
     "metadata": {},
     "output_type": "execute_result"
    },
    {
     "data": {
      "image/png": "[encoded data removed]",
      "text/plain": [
       "<Figure size 432x288 with 1 Axes>"
      ]
     },
     "metadata": {
      "needs_background": "light"
     },
     "output_type": "display_data"
    }
   ],
   "source": [
    "import keras\n",
    "from matplotlib import pyplot as plt\n",
    "plt.plot(history.history['loss'])\n",
    "plt.plot(history.history['val_loss'])\n"
   ]
  },
  {
   "cell_type": "markdown",
   "metadata": {},
   "source": [
    "# Checking Accuracy"
   ]
  },
  {
   "cell_type": "code",
   "execution_count": 351,
   "metadata": {},
   "outputs": [
    {
     "data": {
      "text/plain": [
       "[<matplotlib.lines.Line2D at 0x127509a6d30>]"
      ]
     },
     "execution_count": 351,
     "metadata": {},
     "output_type": "execute_result"
    },
    {
     "data": {
      "image/png": "[encoded data removed]",
      "text/plain": [
       "<Figure size 432x288 with 1 Axes>"
      ]
     },
     "metadata": {
      "needs_background": "light"
     },
     "output_type": "display_data"
    }
   ],
   "source": [
    "import keras\n",
    "from matplotlib import pyplot as plt\n",
    "plt.plot(history.history['acc'])\n",
    "plt.plot(history.history['val_acc'])\n"
   ]
  },
  {
   "cell_type": "markdown",
   "metadata": {},
   "source": [
    "# Saving Model"
   ]
  },
  {
   "cell_type": "code",
   "execution_count": 353,
   "metadata": {},
   "outputs": [],
   "source": [
    "model.save(\n",
    "    \"./Model/IDS_Batch1_0.1789.h5\")\n"
   ]
  },
  {
   "cell_type": "markdown",
   "metadata": {},
   "source": [
    "# Loading Model"
   ]
  },
  {
   "cell_type": "code",
   "execution_count": 354,
   "metadata": {},
   "outputs": [],
   "source": [
    "from keras.models import load_model\n",
    "model = load_model(\"./Model/IDS_Batch1_0.1789.h5\",\n",
    "                   custom_objects={\"GCNConv\": GCNConv})\n",
    "# model.summary()\n",
    "# "
   ]
  },
  {
   "cell_type": "markdown",
   "metadata": {},
   "source": [
    "# Training Batch-4"
   ]
  },
  {
   "cell_type": "code",
   "execution_count": 355,
   "metadata": {},
   "outputs": [
    {
     "name": "stdout",
     "output_type": "stream",
     "text": [
      "1/1 [==============================] - 1s 667ms/step - loss: 3.3939 - acc: 0.0222 - val_loss: 2.9400 - val_acc: 0.1234\n"
     ]
    }
   ],
   "source": [
    "b4_embeddings = []\n",
    "# print(len(b2_text))\n",
    "\n",
    "for t4 in b4_text:\n",
    "    b4_embeddings.append(Loaded_model.wv[t4])\n",
    "\n",
    "b4_embeddings = np.array(b4_embeddings)\n",
    "\n",
    "valid_embeddings = []\n",
    "for t in valid_text:\n",
    "    valid_embeddings.append(Loaded_model.wv[t])\n",
    "\n",
    "valid_embeddings = np.array(valid_embeddings)\n",
    "\n",
    "callback = tf.keras.callbacks.EarlyStopping(monitor=\"val_acc\", patience=25)\n",
    "\n",
    "history = model.fit([b4_embeddings, A6],\n",
    "                    b4_encodings,\n",
    "                    epochs=1,\n",
    "                    batch_size=N,\n",
    "                    # class_weight=W,\n",
    "                    validation_data=([valid_embeddings, A4], valid_encodings),\n",
    "                    # callbacks=[callback]\n",
    "                    )\n"
   ]
  }
 ],
 "metadata": {
  "interpreter": {
   "hash": "35146d2ce121e8e653791712ad16cca408ea08bd1c84e92938f653a743d84e6c"
  },
  "kernelspec": {
   "display_name": "Python 3.8.10 64-bit ('Graphs': conda)",
   "language": "python",
   "name": "python3"
  },
  "language_info": {
   "codemirror_mode": {
    "name": "ipython",
    "version": 3
   },
   "file_extension": ".py",
   "mimetype": "text/x-python",
   "name": "python",
   "nbconvert_exporter": "python",
   "pygments_lexer": "ipython3",
   "version": "3.8.10"
  },
  "orig_nbformat": 4
 },
 "nbformat": 4,
 "nbformat_minor": 2
}
