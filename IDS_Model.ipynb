{
  "cells": [
    {
      "cell_type": "markdown",
      "metadata": {
        "id": "VcCNAgviN6Ki"
      },
      "source": [
        "# Mounting Drive\n",
        "Mounting drive to fetch dataset and other resources from the drive"
      ]
    },
    {
      "cell_type": "code",
      "execution_count": null,
      "metadata": {
        "colab": {
          "base_uri": "https://localhost:8080/"
        },
        "id": "mmchhkO9S-1R",
        "outputId": "30fd133e-6f6f-4613-fe2e-783f91953950"
      },
      "outputs": [
        {
          "name": "stdout",
          "output_type": "stream",
          "text": [
            "Mounted at /content/drive\n"
          ]
        }
      ],
      "source": [
        "from google.colab import drive\n",
        "drive.mount(\"/content/drive\")"
      ]
    },
    {
      "cell_type": "markdown",
      "metadata": {
        "id": "caLVJ7fVTETv"
      },
      "source": [
        "# Installing Spektral Library\n"
      ]
    },
    {
      "cell_type": "code",
      "execution_count": null,
      "metadata": {
        "colab": {
          "base_uri": "https://localhost:8080/"
        },
        "id": "4pbGlTrXTIl8",
        "outputId": "03fabeb3-b09d-4d0a-83de-8b35d9cb149f"
      },
      "outputs": [
        {
          "name": "stdout",
          "output_type": "stream",
          "text": [
            "Collecting git+https://github.com/danielegrattarola/spektral\n",
            "  Cloning https://github.com/danielegrattarola/spektral to /tmp/pip-req-build-a2p4bbyn\n",
            "  Running command git clone -q https://github.com/danielegrattarola/spektral /tmp/pip-req-build-a2p4bbyn\n",
            "Requirement already satisfied: joblib in /usr/local/lib/python3.7/dist-packages (from spektral==1.0.8) (1.0.1)\n",
            "Requirement already satisfied: lxml in /usr/local/lib/python3.7/dist-packages (from spektral==1.0.8) (4.2.6)\n",
            "Requirement already satisfied: networkx in /usr/local/lib/python3.7/dist-packages (from spektral==1.0.8) (2.6.3)\n",
            "Requirement already satisfied: numpy<1.20 in /usr/local/lib/python3.7/dist-packages (from spektral==1.0.8) (1.19.5)\n",
            "Requirement already satisfied: pandas in /usr/local/lib/python3.7/dist-packages (from spektral==1.0.8) (1.1.5)\n",
            "Requirement already satisfied: requests in /usr/local/lib/python3.7/dist-packages (from spektral==1.0.8) (2.23.0)\n",
            "Requirement already satisfied: scikit-learn in /usr/local/lib/python3.7/dist-packages (from spektral==1.0.8) (0.22.2.post1)\n",
            "Requirement already satisfied: scipy in /usr/local/lib/python3.7/dist-packages (from spektral==1.0.8) (1.4.1)\n",
            "Requirement already satisfied: tensorflow>=2.1.0 in /usr/local/lib/python3.7/dist-packages (from spektral==1.0.8) (2.6.0)\n",
            "Requirement already satisfied: tqdm in /usr/local/lib/python3.7/dist-packages (from spektral==1.0.8) (4.62.3)\n",
            "Requirement already satisfied: opt-einsum~=3.3.0 in /usr/local/lib/python3.7/dist-packages (from tensorflow>=2.1.0->spektral==1.0.8) (3.3.0)\n",
            "Requirement already satisfied: flatbuffers~=1.12.0 in /usr/local/lib/python3.7/dist-packages (from tensorflow>=2.1.0->spektral==1.0.8) (1.12)\n",
            "Requirement already satisfied: termcolor~=1.1.0 in /usr/local/lib/python3.7/dist-packages (from tensorflow>=2.1.0->spektral==1.0.8) (1.1.0)\n",
            "Requirement already satisfied: astunparse~=1.6.3 in /usr/local/lib/python3.7/dist-packages (from tensorflow>=2.1.0->spektral==1.0.8) (1.6.3)\n",
            "Requirement already satisfied: keras~=2.6 in /usr/local/lib/python3.7/dist-packages (from tensorflow>=2.1.0->spektral==1.0.8) (2.6.0)\n",
            "Requirement already satisfied: wrapt~=1.12.1 in /usr/local/lib/python3.7/dist-packages (from tensorflow>=2.1.0->spektral==1.0.8) (1.12.1)\n",
            "Requirement already satisfied: h5py~=3.1.0 in /usr/local/lib/python3.7/dist-packages (from tensorflow>=2.1.0->spektral==1.0.8) (3.1.0)\n",
            "Requirement already satisfied: six~=1.15.0 in /usr/local/lib/python3.7/dist-packages (from tensorflow>=2.1.0->spektral==1.0.8) (1.15.0)\n",
            "Requirement already satisfied: protobuf>=3.9.2 in /usr/local/lib/python3.7/dist-packages (from tensorflow>=2.1.0->spektral==1.0.8) (3.17.3)\n",
            "Requirement already satisfied: keras-preprocessing~=1.1.2 in /usr/local/lib/python3.7/dist-packages (from tensorflow>=2.1.0->spektral==1.0.8) (1.1.2)\n",
            "Requirement already satisfied: tensorboard~=2.6 in /usr/local/lib/python3.7/dist-packages (from tensorflow>=2.1.0->spektral==1.0.8) (2.6.0)\n",
            "Requirement already satisfied: tensorflow-estimator~=2.6 in /usr/local/lib/python3.7/dist-packages (from tensorflow>=2.1.0->spektral==1.0.8) (2.6.0)\n",
            "Requirement already satisfied: google-pasta~=0.2 in /usr/local/lib/python3.7/dist-packages (from tensorflow>=2.1.0->spektral==1.0.8) (0.2.0)\n",
            "Requirement already satisfied: clang~=5.0 in /usr/local/lib/python3.7/dist-packages (from tensorflow>=2.1.0->spektral==1.0.8) (5.0)\n",
            "Requirement already satisfied: absl-py~=0.10 in /usr/local/lib/python3.7/dist-packages (from tensorflow>=2.1.0->spektral==1.0.8) (0.12.0)\n",
            "Requirement already satisfied: grpcio<2.0,>=1.37.0 in /usr/local/lib/python3.7/dist-packages (from tensorflow>=2.1.0->spektral==1.0.8) (1.40.0)\n",
            "Requirement already satisfied: typing-extensions~=3.7.4 in /usr/local/lib/python3.7/dist-packages (from tensorflow>=2.1.0->spektral==1.0.8) (3.7.4.3)\n",
            "Requirement already satisfied: gast==0.4.0 in /usr/local/lib/python3.7/dist-packages (from tensorflow>=2.1.0->spektral==1.0.8) (0.4.0)\n",
            "Requirement already satisfied: wheel~=0.35 in /usr/local/lib/python3.7/dist-packages (from tensorflow>=2.1.0->spektral==1.0.8) (0.37.0)\n",
            "Requirement already satisfied: cached-property in /usr/local/lib/python3.7/dist-packages (from h5py~=3.1.0->tensorflow>=2.1.0->spektral==1.0.8) (1.5.2)\n",
            "Requirement already satisfied: tensorboard-data-server<0.7.0,>=0.6.0 in /usr/local/lib/python3.7/dist-packages (from tensorboard~=2.6->tensorflow>=2.1.0->spektral==1.0.8) (0.6.1)\n",
            "Requirement already satisfied: setuptools>=41.0.0 in /usr/local/lib/python3.7/dist-packages (from tensorboard~=2.6->tensorflow>=2.1.0->spektral==1.0.8) (57.4.0)\n",
            "Requirement already satisfied: werkzeug>=0.11.15 in /usr/local/lib/python3.7/dist-packages (from tensorboard~=2.6->tensorflow>=2.1.0->spektral==1.0.8) (1.0.1)\n",
            "Requirement already satisfied: google-auth<2,>=1.6.3 in /usr/local/lib/python3.7/dist-packages (from tensorboard~=2.6->tensorflow>=2.1.0->spektral==1.0.8) (1.35.0)\n",
            "Requirement already satisfied: markdown>=2.6.8 in /usr/local/lib/python3.7/dist-packages (from tensorboard~=2.6->tensorflow>=2.1.0->spektral==1.0.8) (3.3.4)\n",
            "Requirement already satisfied: google-auth-oauthlib<0.5,>=0.4.1 in /usr/local/lib/python3.7/dist-packages (from tensorboard~=2.6->tensorflow>=2.1.0->spektral==1.0.8) (0.4.6)\n",
            "Requirement already satisfied: tensorboard-plugin-wit>=1.6.0 in /usr/local/lib/python3.7/dist-packages (from tensorboard~=2.6->tensorflow>=2.1.0->spektral==1.0.8) (1.8.0)\n",
            "Requirement already satisfied: rsa<5,>=3.1.4 in /usr/local/lib/python3.7/dist-packages (from google-auth<2,>=1.6.3->tensorboard~=2.6->tensorflow>=2.1.0->spektral==1.0.8) (4.7.2)\n",
            "Requirement already satisfied: pyasn1-modules>=0.2.1 in /usr/local/lib/python3.7/dist-packages (from google-auth<2,>=1.6.3->tensorboard~=2.6->tensorflow>=2.1.0->spektral==1.0.8) (0.2.8)\n",
            "Requirement already satisfied: cachetools<5.0,>=2.0.0 in /usr/local/lib/python3.7/dist-packages (from google-auth<2,>=1.6.3->tensorboard~=2.6->tensorflow>=2.1.0->spektral==1.0.8) (4.2.2)\n",
            "Requirement already satisfied: requests-oauthlib>=0.7.0 in /usr/local/lib/python3.7/dist-packages (from google-auth-oauthlib<0.5,>=0.4.1->tensorboard~=2.6->tensorflow>=2.1.0->spektral==1.0.8) (1.3.0)\n",
            "Requirement already satisfied: importlib-metadata in /usr/local/lib/python3.7/dist-packages (from markdown>=2.6.8->tensorboard~=2.6->tensorflow>=2.1.0->spektral==1.0.8) (4.8.1)\n",
            "Requirement already satisfied: pyasn1<0.5.0,>=0.4.6 in /usr/local/lib/python3.7/dist-packages (from pyasn1-modules>=0.2.1->google-auth<2,>=1.6.3->tensorboard~=2.6->tensorflow>=2.1.0->spektral==1.0.8) (0.4.8)\n",
            "Requirement already satisfied: chardet<4,>=3.0.2 in /usr/local/lib/python3.7/dist-packages (from requests->spektral==1.0.8) (3.0.4)\n",
            "Requirement already satisfied: certifi>=2017.4.17 in /usr/local/lib/python3.7/dist-packages (from requests->spektral==1.0.8) (2021.5.30)\n",
            "Requirement already satisfied: urllib3!=1.25.0,!=1.25.1,<1.26,>=1.21.1 in /usr/local/lib/python3.7/dist-packages (from requests->spektral==1.0.8) (1.24.3)\n",
            "Requirement already satisfied: idna<3,>=2.5 in /usr/local/lib/python3.7/dist-packages (from requests->spektral==1.0.8) (2.10)\n",
            "Requirement already satisfied: oauthlib>=3.0.0 in /usr/local/lib/python3.7/dist-packages (from requests-oauthlib>=0.7.0->google-auth-oauthlib<0.5,>=0.4.1->tensorboard~=2.6->tensorflow>=2.1.0->spektral==1.0.8) (3.1.1)\n",
            "Requirement already satisfied: zipp>=0.5 in /usr/local/lib/python3.7/dist-packages (from importlib-metadata->markdown>=2.6.8->tensorboard~=2.6->tensorflow>=2.1.0->spektral==1.0.8) (3.5.0)\n",
            "Requirement already satisfied: python-dateutil>=2.7.3 in /usr/local/lib/python3.7/dist-packages (from pandas->spektral==1.0.8) (2.8.2)\n",
            "Requirement already satisfied: pytz>=2017.2 in /usr/local/lib/python3.7/dist-packages (from pandas->spektral==1.0.8) (2018.9)\n",
            "Building wheels for collected packages: spektral\n",
            "  Building wheel for spektral (setup.py) ... \u001b[?25l\u001b[?25hdone\n",
            "  Created wheel for spektral: filename=spektral-1.0.8-py3-none-any.whl size=123417 sha256=1c0e6e389d600bba6468ebce740e3848d6360c910f5377f624328f0d73fb6b1c\n",
            "  Stored in directory: /tmp/pip-ephem-wheel-cache-xnaqvw1y/wheels/af/7c/1f/e06aba9c0f493bb708968b8b396fe7523fdfb1c1c0818730be\n",
            "Successfully built spektral\n",
            "Installing collected packages: spektral\n",
            "Successfully installed spektral-1.0.8\n"
          ]
        }
      ],
      "source": [
        "!pip install git+https://github.com/danielegrattarola/spektral"
      ]
    },
    {
      "cell_type": "markdown",
      "metadata": {
        "id": "cbVDhozDN0Nd"
      },
      "source": [
        "# Loading Label Files"
      ]
    },
    {
      "cell_type": "code",
      "execution_count": null,
      "metadata": {
        "colab": {
          "base_uri": "https://localhost:8080/"
        },
        "id": "xm6klvIIN0Nk",
        "outputId": "73f65bae-f5f1-4f8a-eab9-e48a4311a93f"
      },
      "outputs": [
        {
          "name": "stdout",
          "output_type": "stream",
          "text": [
            "Total Label files are:  129\n"
          ]
        }
      ],
      "source": [
        "# Dataset loading\n",
        "import os\n",
        "\n",
        "dataset = \"/content/drive/MyDrive/Project GCN Dataset/Dataset (Labelled Images)/\"\n",
        "lab_files_path = dataset+\"Labels/\"\n",
        "\n",
        "files = os.listdir(lab_files_path)\n",
        "print(\"Total Label files are: \", len(files))"
      ]
    },
    {
      "cell_type": "markdown",
      "metadata": {
        "id": "nEkBSTLnN0No"
      },
      "source": [
        "# Sparse Matrix Creation\n",
        "\n",
        "Iterate all the csv files and do the following three steps:\n",
        "1. Make a graph of CSV file.\n",
        "2. Turn the graph into adjacency matrix.\n",
        "3. Append that adjacency matrix into sparce matrix(i.e. bigger matrix)\n",
        "\n",
        "# DON'T RUN THIS TAKES A HELL LOT OF TIME\n",
        "# SPARCE MATRIX IS ALREADY CREATED AND SAVED"
      ]
    },
    {
      "cell_type": "code",
      "execution_count": null,
      "metadata": {
        "id": "rJwo6iIWN0Np"
      },
      "outputs": [],
      "source": [
        "import pandas as pd\n",
        "import Mat_Package.Grapher as GMaker\n",
        "import Mat_Package.MatricesOverDiagonal as DiagPlacer\n",
        "import networkx as nx\n",
        "import numpy as np\n",
        "from numpy.core.fromnumeric import shape\n",
        "\n",
        "\n",
        "Z_file = lab_files_path + files[0]\n",
        "df = pd.read_csv(Z_file)\n",
        "G = GMaker.makeGraph(df)\n",
        "M = nx.to_numpy_array(G, dtype=np.int32)\n",
        "\n",
        "\n",
        "for i in range(1, len(files)):\n",
        "    print(\"\\n= = = = = = = = = = = = = = = =\")\n",
        "    print(\"Iteration No.: \", i)\n",
        "    # Getting file\n",
        "    f = lab_files_path + files[i]\n",
        "    # Making dataframe of file\n",
        "    df = pd.read_csv(f)\n",
        "    # Making graph of the dataframe. \n",
        "    G = GMaker.makeGraph(df)\n",
        "    # Storing the graph as an incident matrix(an adjacency matrix)\n",
        "    I = nx.to_numpy_array(G, dtype=np.int32)\n",
        "    # Now resizing the original sparce matrix with the new incident matrix\n",
        "    M = DiagPlacer.resizeMatrix(M, I)\n",
        "    \n",
        "print(\"Final Matix Done\")\n",
        "print(\"Dimentions of sparce matrix are: \", np.shape(M))\n"
      ]
    },
    {
      "cell_type": "code",
      "execution_count": null,
      "metadata": {
        "id": "OMEFmXdpDs-f"
      },
      "outputs": [],
      "source": [
        "import pandas as pd\n",
        "import networkx as nx\n",
        "import numpy as np\n",
        "from numpy.core.fromnumeric import shape"
      ]
    },
    {
      "cell_type": "markdown",
      "metadata": {
        "id": "nomU0PgWZLqu"
      },
      "source": [
        "# Geometric Algorithms for converting dataframes to Graphs\n",
        "It connects a node with its neighbouring nodes  "
      ]
    },
    {
      "cell_type": "code",
      "execution_count": null,
      "metadata": {
        "id": "QTxAf2dxkJ_8"
      },
      "outputs": [],
      "source": [
        "from PIL.Image import Image\n",
        "import networkx as nx\n",
        "from networkx.algorithms.shortest_paths.weighted import single_source_dijkstra\n",
        "import pandas as pd\n",
        "import matplotlib.pyplot as plt\n",
        "from pandas.core.frame import DataFrame\n",
        "from PIL import Image\n",
        "\n",
        "\n",
        "# csv = './A-10.csv'\n",
        "# df = pd.read_csv(csv)\n",
        "df = 0\n",
        "xMIN, xMAX = [], []\n",
        "yMIN, yMAX = [], []\n",
        "Text = []\n",
        "\n",
        "\n",
        "def findRight(df, df_ind, xMIN, xMAX, yMIN, yMAX):\n",
        "    S_list = []\n",
        "    xmax = xMAX[df_ind]\n",
        "    ymin = yMIN[df_ind]\n",
        "    ymax = yMAX[df_ind]\n",
        "\n",
        "    for i in range(len(df)):\n",
        "        if(xMIN[i] > xmax):\n",
        "            if not (yMIN[i] > ymax or yMAX[i] < ymin):\n",
        "                if(yMIN[i] <= ymin and yMAX[i] <= ymax):\n",
        "                    S_list.append(i)\n",
        "                elif (yMIN[i] <= ymin and yMAX[i] >= ymax):\n",
        "                    S_list.append(i)\n",
        "                elif (yMIN[i] >= ymin and yMAX[i] <= ymax):\n",
        "                    S_list.append(i)\n",
        "                elif (yMIN[i] >= ymin and yMAX[i] >= ymax):\n",
        "                    S_list.append(i)\n",
        "                elif (yMIN[i] == ymin and yMAX[i] == ymax):\n",
        "                    S_list.append(i)\n",
        "\n",
        "    # print(S_list)\n",
        "    if S_list:\n",
        "        consec = S_list[0]\n",
        "        for j in S_list:\n",
        "            if(xMIN[consec] > xMIN[j]):\n",
        "                consec = j\n",
        "        return consec\n",
        "\n",
        "    return -1\n",
        "\n",
        "\n",
        "def findLeft(df, df_ind, xMIN, xMAX, yMIN, yMAX):\n",
        "    S_list = []\n",
        "    xmin = xMIN[df_ind]\n",
        "    ymin = yMIN[df_ind]\n",
        "    ymax = yMAX[df_ind]\n",
        "\n",
        "    for i in range(len(df)):\n",
        "        if(xMAX[i] < xmin):\n",
        "            if not (yMIN[i] > ymax or yMAX[i] < ymin):\n",
        "                if(yMIN[i] <= ymin and yMAX[i] <= ymax):\n",
        "                    S_list.append(i)\n",
        "                elif (yMIN[i] <= ymin and yMAX[i] >= ymax):\n",
        "                    S_list.append(i)\n",
        "                elif (yMIN[i] >= ymin and yMAX[i] <= ymax):\n",
        "                    S_list.append(i)\n",
        "                elif (yMIN[i] >= ymin and yMAX[i] >= ymax):\n",
        "                    S_list.append(i)\n",
        "                elif (yMIN[i] == ymin and yMAX[i] == ymax):\n",
        "                    S_list.append(i)\n",
        "    # print(S_list)\n",
        "    if S_list:\n",
        "        consec = S_list[0]\n",
        "        for j in S_list:\n",
        "            if(xMAX[j] > xMAX[consec]):\n",
        "                consec = j\n",
        "        return consec\n",
        "    return -1\n",
        "\n",
        "\n",
        "def findUp(df, df_ind, xMIN, xMAX, yMIN, yMAX):\n",
        "    S_list = []\n",
        "    xmin = xMIN[df_ind]\n",
        "    xmax = xMAX[df_ind]\n",
        "    ymin = yMIN[df_ind]\n",
        "\n",
        "    for i in range(len(df)):\n",
        "        if(yMAX[i] < ymin):\n",
        "            if not (xMAX[i] < xmin or xMIN[i] > xmax):\n",
        "                if(xMIN[i] <= xmin and xMAX[i] <= xmax):\n",
        "                    S_list.append(i)\n",
        "                elif (xMIN[i] <= xmin and xMAX[i] >= xmax):\n",
        "                    S_list.append(i)\n",
        "                elif (xMIN[i] >= xmin and xMAX[i] <= xmax):\n",
        "                    S_list.append(i)\n",
        "                elif (xMIN[i] >= xmin and xMAX[i] >= xmax):\n",
        "                    S_list.append(i)\n",
        "                elif (xMIN[i] == xmin and xMAX[i] == xmax):\n",
        "                    S_list.append(i)\n",
        "    # print(S_list)\n",
        "\n",
        "    if S_list:\n",
        "        consec = S_list[0]\n",
        "        for j in S_list:\n",
        "            if(yMAX[j] > yMAX[consec]):\n",
        "                consec = j\n",
        "        return consec\n",
        "\n",
        "    return -1\n",
        "\n",
        "\n",
        "def findDown(df, df_ind, xMIN, xMAX, yMIN, yMAX):\n",
        "    S_list = []\n",
        "    xmin = xMIN[df_ind]\n",
        "    xmax = xMAX[df_ind]\n",
        "    ymax = yMAX[df_ind]\n",
        "\n",
        "    for i in range(len(df)):\n",
        "        if(yMIN[i] > ymax):\n",
        "            if not (xMAX[i] < xmin or xMIN[i] > xmax):\n",
        "                if(xMIN[i] <= xmin and xMAX[i] <= xmax):\n",
        "                    S_list.append(i)\n",
        "                elif (xMIN[i] <= xmin and xMAX[i] >= xmax):\n",
        "                    S_list.append(i)\n",
        "                elif (xMIN[i] >= xmin and xMAX[i] <= xmax):\n",
        "                    S_list.append(i)\n",
        "                elif (xMIN[i] >= xmin and xMAX[i] >= xmax):\n",
        "                    S_list.append(i)\n",
        "                elif (xMIN[i] == xmin and xMAX[i] == xmax):\n",
        "                    S_list.append(i)\n",
        "    # print(S_list)\n",
        "    if S_list:\n",
        "        consec = S_list[0]\n",
        "        for j in S_list:\n",
        "            if(yMIN[j] < yMIN[consec]):\n",
        "                consec = j\n",
        "        return consec\n",
        "\n",
        "    return -1\n",
        "\n",
        "\n",
        "def makeGraph(df):\n",
        "    G = nx.Graph()\n",
        "    xMIN = df['xmin']\n",
        "    xMAX = df['xmax']\n",
        "    yMIN = df['ymin']\n",
        "    yMAX = df['ymax']\n",
        "    Text = df['Object']\n",
        "\n",
        "    for i in range(len(df)):\n",
        "        if findUp(df, i, xMIN, xMAX, yMIN, yMAX):\n",
        "            l = findUp(df, i, xMIN, xMAX, yMIN, yMAX)\n",
        "            if(l != -1):\n",
        "                text = Text[l]\n",
        "                G.add_edge(Text[i], text)\n",
        "        if findRight(df, i, xMIN, xMAX, yMIN, yMAX):\n",
        "            l = findRight(df, i, xMIN, xMAX, yMIN, yMAX)\n",
        "            if (l != -1):\n",
        "                text = Text[l]\n",
        "                G.add_edge(Text[i], text)\n",
        "        if findDown(df, i, xMIN, xMAX, yMIN, yMAX):\n",
        "            l = findDown(df, i, xMIN, xMAX, yMIN, yMAX)\n",
        "            if (l != -1):\n",
        "                text = Text[l]\n",
        "                G.add_edge(Text[i], text)\n",
        "        if findLeft(df, i, xMIN, xMAX, yMIN, yMAX):\n",
        "            l = findLeft(df, i, xMIN, xMAX, yMIN, yMAX)\n",
        "            if (l != -1):\n",
        "                text = Text[l]\n",
        "                G.add_edge(Text[i], text)\n",
        "    return G\n"
      ]
    },
    {
      "cell_type": "markdown",
      "metadata": {
        "id": "ln7Fs0dRkoIf"
      },
      "source": [
        "# Matrices Over Diagonal\n",
        "Place an incident Matrix over diagonal with existing matrix"
      ]
    },
    {
      "cell_type": "code",
      "execution_count": null,
      "metadata": {
        "id": "vRjN1IPHk_bO"
      },
      "outputs": [],
      "source": [
        "from typing import SupportsAbs\n",
        "import numpy as np\n",
        "from numpy.core.fromnumeric import shape\n",
        "\n",
        "# Test Matrices\n",
        "# mat1 = np.array([[1, 2, 3], [4, 5, 6], [7, 8, 9]])\n",
        "# mat2 = np.array([[3, 2, 1, 7], [6, 5, 4, 9], [9, 8, 7, 4], [1, 5, 7, 2]])\n",
        "\n",
        "\n",
        "def alignDiagonally(M1, M2, prev_Len):\n",
        "    for i in range(prev_Len, np.shape(M1)[0]):\n",
        "        for j in range(prev_Len, np.shape(M1)[0]):\n",
        "            x = i - prev_Len\n",
        "            y = j - prev_Len\n",
        "            M1[i][j] = M2[x][y]\n",
        "    return M1\n",
        "\n",
        "\n",
        "def resizeMatrix(M, I):\n",
        "    oldMat_Len = np.shape(M)[0]\n",
        "    z = np.zeros((oldMat_Len, np.shape(I)[0]), dtype=np.int64)\n",
        "    newArray = np.append(M, z, axis=1)\n",
        "    M = newArray\n",
        "\n",
        "    # Appending 1D arrays of zeros in the original Matrix\n",
        "    # (i.e. the matrix in which we want to align othe rmatrices diagonally)\n",
        "    # for i in range(appZero):\n",
        "    #     M = np.vstack((M, L))\n",
        "    appZero = np.shape(I)[0]\n",
        "    x = oldMat_Len + appZero\n",
        "    L = np.zeros((np.shape(I)[0], x), dtype=np.int64)\n",
        "    newArray = np.append(M, L, axis=0)\n",
        "    M = newArray\n",
        "\n",
        "    M = alignDiagonally(M, I, oldMat_Len)\n",
        "    return M\n",
        "\n",
        "\n",
        "# print(resizeMatrix(mat1, mat2))\n"
      ]
    },
    {
      "cell_type": "markdown",
      "metadata": {
        "id": "4migFjSpUxCP"
      },
      "source": [
        "# Dividing Dataset into smaller datasets\n",
        "Creating a total of four sparse matrices and saving it to drive. "
      ]
    },
    {
      "cell_type": "markdown",
      "metadata": {
        "id": "2Kuu2G9BAY_O"
      },
      "source": [
        "# Dataset Batch 1"
      ]
    },
    {
      "cell_type": "code",
      "execution_count": null,
      "metadata": {
        "colab": {
          "base_uri": "https://localhost:8080/"
        },
        "id": "StRWr_C0U8uj",
        "outputId": "216662d6-e578-4872-c20c-5518f28dff7e"
      },
      "outputs": [
        {
          "name": "stdout",
          "output_type": "stream",
          "text": [
            "\n",
            "= = = = = = = = = = = = = = = =\n",
            "Iteration No.:  1\n",
            "\n",
            "= = = = = = = = = = = = = = = =\n",
            "Iteration No.:  2\n",
            "\n",
            "= = = = = = = = = = = = = = = =\n",
            "Iteration No.:  3\n",
            "\n",
            "= = = = = = = = = = = = = = = =\n",
            "Iteration No.:  4\n",
            "\n",
            "= = = = = = = = = = = = = = = =\n",
            "Iteration No.:  5\n",
            "\n",
            "= = = = = = = = = = = = = = = =\n",
            "Iteration No.:  6\n",
            "\n",
            "= = = = = = = = = = = = = = = =\n",
            "Iteration No.:  7\n",
            "\n",
            "= = = = = = = = = = = = = = = =\n",
            "Iteration No.:  8\n",
            "\n",
            "= = = = = = = = = = = = = = = =\n",
            "Iteration No.:  9\n",
            "\n",
            "= = = = = = = = = = = = = = = =\n",
            "Iteration No.:  10\n",
            "\n",
            "= = = = = = = = = = = = = = = =\n",
            "Iteration No.:  11\n",
            "\n",
            "= = = = = = = = = = = = = = = =\n",
            "Iteration No.:  12\n",
            "\n",
            "= = = = = = = = = = = = = = = =\n",
            "Iteration No.:  13\n",
            "\n",
            "= = = = = = = = = = = = = = = =\n",
            "Iteration No.:  14\n",
            "\n",
            "= = = = = = = = = = = = = = = =\n",
            "Iteration No.:  15\n",
            "\n",
            "= = = = = = = = = = = = = = = =\n",
            "Iteration No.:  16\n",
            "\n",
            "= = = = = = = = = = = = = = = =\n",
            "Iteration No.:  17\n",
            "\n",
            "= = = = = = = = = = = = = = = =\n",
            "Iteration No.:  18\n",
            "\n",
            "= = = = = = = = = = = = = = = =\n",
            "Iteration No.:  19\n",
            "\n",
            "= = = = = = = = = = = = = = = =\n",
            "Iteration No.:  20\n",
            "\n",
            "= = = = = = = = = = = = = = = =\n",
            "Iteration No.:  21\n",
            "\n",
            "= = = = = = = = = = = = = = = =\n",
            "Iteration No.:  22\n",
            "\n",
            "= = = = = = = = = = = = = = = =\n",
            "Iteration No.:  23\n",
            "\n",
            "= = = = = = = = = = = = = = = =\n",
            "Iteration No.:  24\n",
            "\n",
            "= = = = = = = = = = = = = = = =\n",
            "Iteration No.:  25\n",
            "Dimentions of Batch 1 matrix is:  (5762, 5762)\n"
          ]
        }
      ],
      "source": [
        "import pandas as pd\n",
        "import networkx as nx\n",
        "import numpy as np\n",
        "from numpy.core.fromnumeric import shape\n",
        "\n",
        "Z_file = lab_files_path + files[0]\n",
        "df = pd.read_csv(Z_file)\n",
        "G = makeGraph(df)\n",
        "M1 = nx.to_numpy_array(G, dtype=np.int32)\n",
        "\n",
        "for i in range(1, 26):\n",
        "    print(\"\\n= = = = = = = = = = = = = = = =\")\n",
        "    print(\"Iteration No.: \", i)\n",
        "    # Getting file\n",
        "    f = lab_files_path + files[i]\n",
        "    # Making dataframe of file\n",
        "    df = pd.read_csv(f)\n",
        "    # Making graph of the dataframe. \n",
        "    G = makeGraph(df)\n",
        "    # Storing the graph as an incident matrix(an adjacency matrix)\n",
        "    I = nx.to_numpy_array(G, dtype=np.int32)\n",
        "    # Now resizing the original sparce matrix with the new incident matrix\n",
        "    M1 = resizeMatrix(M1, I)\n",
        "\n",
        "print(\"Dimentions of Batch 1 matrix is: \", np.shape(M1))"
      ]
    },
    {
      "cell_type": "markdown",
      "metadata": {
        "id": "14pae4cQAmoa"
      },
      "source": [
        "# Dataset Batch 2"
      ]
    },
    {
      "cell_type": "code",
      "execution_count": null,
      "metadata": {
        "colab": {
          "base_uri": "https://localhost:8080/"
        },
        "id": "kuO0iRx_Aphl",
        "outputId": "8ba57aaa-6f10-49ef-f6c0-6d514f5b8d2b"
      },
      "outputs": [
        {
          "name": "stdout",
          "output_type": "stream",
          "text": [
            "\n",
            "= = = = = = = = = = = = = = = =\n",
            "Iteration No.:  27\n",
            "\n",
            "= = = = = = = = = = = = = = = =\n",
            "Iteration No.:  28\n",
            "\n",
            "= = = = = = = = = = = = = = = =\n",
            "Iteration No.:  29\n",
            "\n",
            "= = = = = = = = = = = = = = = =\n",
            "Iteration No.:  30\n",
            "\n",
            "= = = = = = = = = = = = = = = =\n",
            "Iteration No.:  31\n",
            "\n",
            "= = = = = = = = = = = = = = = =\n",
            "Iteration No.:  32\n",
            "\n",
            "= = = = = = = = = = = = = = = =\n",
            "Iteration No.:  33\n",
            "\n",
            "= = = = = = = = = = = = = = = =\n",
            "Iteration No.:  34\n",
            "\n",
            "= = = = = = = = = = = = = = = =\n",
            "Iteration No.:  35\n",
            "\n",
            "= = = = = = = = = = = = = = = =\n",
            "Iteration No.:  36\n",
            "\n",
            "= = = = = = = = = = = = = = = =\n",
            "Iteration No.:  37\n",
            "\n",
            "= = = = = = = = = = = = = = = =\n",
            "Iteration No.:  38\n",
            "\n",
            "= = = = = = = = = = = = = = = =\n",
            "Iteration No.:  39\n",
            "\n",
            "= = = = = = = = = = = = = = = =\n",
            "Iteration No.:  40\n",
            "\n",
            "= = = = = = = = = = = = = = = =\n",
            "Iteration No.:  41\n",
            "\n",
            "= = = = = = = = = = = = = = = =\n",
            "Iteration No.:  42\n",
            "\n",
            "= = = = = = = = = = = = = = = =\n",
            "Iteration No.:  43\n",
            "\n",
            "= = = = = = = = = = = = = = = =\n",
            "Iteration No.:  44\n",
            "\n",
            "= = = = = = = = = = = = = = = =\n",
            "Iteration No.:  45\n",
            "\n",
            "= = = = = = = = = = = = = = = =\n",
            "Iteration No.:  46\n",
            "\n",
            "= = = = = = = = = = = = = = = =\n",
            "Iteration No.:  47\n",
            "\n",
            "= = = = = = = = = = = = = = = =\n",
            "Iteration No.:  48\n",
            "\n",
            "= = = = = = = = = = = = = = = =\n",
            "Iteration No.:  49\n",
            "\n",
            "= = = = = = = = = = = = = = = =\n",
            "Iteration No.:  50\n",
            "\n",
            "= = = = = = = = = = = = = = = =\n",
            "Iteration No.:  51\n",
            "\n",
            "= = = = = = = = = = = = = = = =\n",
            "Iteration No.:  52\n",
            "\n",
            "= = = = = = = = = = = = = = = =\n",
            "Iteration No.:  53\n",
            "\n",
            "= = = = = = = = = = = = = = = =\n",
            "Iteration No.:  54\n",
            "\n",
            "= = = = = = = = = = = = = = = =\n",
            "Iteration No.:  55\n",
            "\n",
            "= = = = = = = = = = = = = = = =\n",
            "Iteration No.:  56\n",
            "\n",
            "= = = = = = = = = = = = = = = =\n",
            "Iteration No.:  57\n",
            "\n",
            "= = = = = = = = = = = = = = = =\n",
            "Iteration No.:  58\n",
            "\n",
            "= = = = = = = = = = = = = = = =\n",
            "Iteration No.:  59\n",
            "\n",
            "= = = = = = = = = = = = = = = =\n",
            "Iteration No.:  60\n",
            "\n",
            "= = = = = = = = = = = = = = = =\n",
            "Iteration No.:  61\n",
            "\n",
            "= = = = = = = = = = = = = = = =\n",
            "Iteration No.:  62\n",
            "\n",
            "= = = = = = = = = = = = = = = =\n",
            "Iteration No.:  63\n",
            "\n",
            "= = = = = = = = = = = = = = = =\n",
            "Iteration No.:  64\n",
            "Dimentions of Batch 2 matrix is:  (5410, 5410)\n"
          ]
        }
      ],
      "source": [
        "Z1_file = lab_files_path + files[26]\n",
        "df = pd.read_csv(Z1_file)\n",
        "G = makeGraph(df)\n",
        "M2 = nx.to_numpy_array(G, dtype=np.int32)\n",
        "\n",
        "for i in range(27, 65):\n",
        "    print(\"\\n= = = = = = = = = = = = = = = =\")\n",
        "    print(\"Iteration No.: \", i)\n",
        "    # Getting file\n",
        "    f = lab_files_path + files[i]\n",
        "    # Making dataframe of file\n",
        "    df = pd.read_csv(f)\n",
        "    # Making graph of the dataframe. \n",
        "    G = makeGraph(df)\n",
        "    # Storing the graph as an incident matrix(an adjacency matrix)\n",
        "    I = nx.to_numpy_array(G, dtype=np.int32)\n",
        "    # Now resizing the original sparce matrix with the new incident matrix\n",
        "    M2 = resizeMatrix(M2, I)\n",
        "\n",
        "print(\"Dimentions of Batch 2 matrix is: \", np.shape(M2))  "
      ]
    },
    {
      "cell_type": "markdown",
      "metadata": {
        "id": "2-2GlwRWArD1"
      },
      "source": [
        "# Dataset Batch 3"
      ]
    },
    {
      "cell_type": "code",
      "execution_count": null,
      "metadata": {
        "colab": {
          "base_uri": "https://localhost:8080/"
        },
        "id": "4b3ucBbqAt8Z",
        "outputId": "ee7891f7-d6b0-4f1b-aa47-784f184acbb2"
      },
      "outputs": [
        {
          "name": "stdout",
          "output_type": "stream",
          "text": [
            "\n",
            "= = = = = = = = = = = = = = = =\n",
            "Iteration No.:  66\n",
            "\n",
            "= = = = = = = = = = = = = = = =\n",
            "Iteration No.:  67\n",
            "\n",
            "= = = = = = = = = = = = = = = =\n",
            "Iteration No.:  68\n",
            "\n",
            "= = = = = = = = = = = = = = = =\n",
            "Iteration No.:  69\n",
            "\n",
            "= = = = = = = = = = = = = = = =\n",
            "Iteration No.:  70\n",
            "\n",
            "= = = = = = = = = = = = = = = =\n",
            "Iteration No.:  71\n",
            "\n",
            "= = = = = = = = = = = = = = = =\n",
            "Iteration No.:  72\n",
            "\n",
            "= = = = = = = = = = = = = = = =\n",
            "Iteration No.:  73\n",
            "\n",
            "= = = = = = = = = = = = = = = =\n",
            "Iteration No.:  74\n",
            "\n",
            "= = = = = = = = = = = = = = = =\n",
            "Iteration No.:  75\n",
            "\n",
            "= = = = = = = = = = = = = = = =\n",
            "Iteration No.:  76\n",
            "\n",
            "= = = = = = = = = = = = = = = =\n",
            "Iteration No.:  77\n",
            "\n",
            "= = = = = = = = = = = = = = = =\n",
            "Iteration No.:  78\n",
            "\n",
            "= = = = = = = = = = = = = = = =\n",
            "Iteration No.:  79\n",
            "\n",
            "= = = = = = = = = = = = = = = =\n",
            "Iteration No.:  80\n",
            "\n",
            "= = = = = = = = = = = = = = = =\n",
            "Iteration No.:  81\n",
            "\n",
            "= = = = = = = = = = = = = = = =\n",
            "Iteration No.:  82\n",
            "\n",
            "= = = = = = = = = = = = = = = =\n",
            "Iteration No.:  83\n",
            "\n",
            "= = = = = = = = = = = = = = = =\n",
            "Iteration No.:  84\n",
            "\n",
            "= = = = = = = = = = = = = = = =\n",
            "Iteration No.:  85\n",
            "\n",
            "= = = = = = = = = = = = = = = =\n",
            "Iteration No.:  86\n",
            "\n",
            "= = = = = = = = = = = = = = = =\n",
            "Iteration No.:  87\n",
            "\n",
            "= = = = = = = = = = = = = = = =\n",
            "Iteration No.:  88\n",
            "\n",
            "= = = = = = = = = = = = = = = =\n",
            "Iteration No.:  89\n",
            "\n",
            "= = = = = = = = = = = = = = = =\n",
            "Iteration No.:  90\n",
            "\n",
            "= = = = = = = = = = = = = = = =\n",
            "Iteration No.:  91\n",
            "\n",
            "= = = = = = = = = = = = = = = =\n",
            "Iteration No.:  92\n",
            "\n",
            "= = = = = = = = = = = = = = = =\n",
            "Iteration No.:  93\n",
            "\n",
            "= = = = = = = = = = = = = = = =\n",
            "Iteration No.:  94\n",
            "\n",
            "= = = = = = = = = = = = = = = =\n",
            "Iteration No.:  95\n",
            "\n",
            "= = = = = = = = = = = = = = = =\n",
            "Iteration No.:  96\n",
            "\n",
            "= = = = = = = = = = = = = = = =\n",
            "Iteration No.:  97\n",
            "\n",
            "= = = = = = = = = = = = = = = =\n",
            "Iteration No.:  98\n",
            "\n",
            "= = = = = = = = = = = = = = = =\n",
            "Iteration No.:  99\n",
            "Dimentions of Batch 3 matrix is:  (7432, 7432)\n"
          ]
        }
      ],
      "source": [
        "Z2_file = lab_files_path + files[65]\n",
        "df = pd.read_csv(Z2_file)\n",
        "G = makeGraph(df)\n",
        "M3 = nx.to_numpy_array(G, dtype=np.int32)\n",
        "    \n",
        "for i in range(66, 100):\n",
        "    print(\"\\n= = = = = = = = = = = = = = = =\")\n",
        "    print(\"Iteration No.: \", i)\n",
        "    # Getting file\n",
        "    f = lab_files_path + files[i]\n",
        "    # Making dataframe of file\n",
        "    df = pd.read_csv(f)\n",
        "    # Making graph of the dataframe. \n",
        "    G = makeGraph(df)\n",
        "    # Storing the graph as an incident matrix(an adjacency matrix)\n",
        "    I = nx.to_numpy_array(G, dtype=np.int32)\n",
        "    # Now resizing the original sparce matrix with the new incident matrix\n",
        "    M3 = resizeMatrix(M3, I)\n",
        "\n",
        "print(\"Dimentions of Batch 3 matrix is: \", np.shape(M3))"
      ]
    },
    {
      "cell_type": "markdown",
      "metadata": {
        "id": "PfGcavncA3Iu"
      },
      "source": [
        "# Dataset Batch 4\n"
      ]
    },
    {
      "cell_type": "code",
      "execution_count": null,
      "metadata": {
        "colab": {
          "base_uri": "https://localhost:8080/"
        },
        "id": "YA9wfeuLA5Kv",
        "outputId": "4ff4e9b6-270a-4482-80a5-2654918df8fb"
      },
      "outputs": [
        {
          "name": "stdout",
          "output_type": "stream",
          "text": [
            "\n",
            "= = = = = = = = = = = = = = = =\n",
            "Iteration No.:  101\n",
            "\n",
            "= = = = = = = = = = = = = = = =\n",
            "Iteration No.:  102\n",
            "\n",
            "= = = = = = = = = = = = = = = =\n",
            "Iteration No.:  103\n",
            "\n",
            "= = = = = = = = = = = = = = = =\n",
            "Iteration No.:  104\n",
            "\n",
            "= = = = = = = = = = = = = = = =\n",
            "Iteration No.:  105\n",
            "\n",
            "= = = = = = = = = = = = = = = =\n",
            "Iteration No.:  106\n",
            "\n",
            "= = = = = = = = = = = = = = = =\n",
            "Iteration No.:  107\n",
            "\n",
            "= = = = = = = = = = = = = = = =\n",
            "Iteration No.:  108\n",
            "\n",
            "= = = = = = = = = = = = = = = =\n",
            "Iteration No.:  109\n",
            "\n",
            "= = = = = = = = = = = = = = = =\n",
            "Iteration No.:  110\n",
            "\n",
            "= = = = = = = = = = = = = = = =\n",
            "Iteration No.:  111\n",
            "\n",
            "= = = = = = = = = = = = = = = =\n",
            "Iteration No.:  112\n",
            "\n",
            "= = = = = = = = = = = = = = = =\n",
            "Iteration No.:  113\n",
            "\n",
            "= = = = = = = = = = = = = = = =\n",
            "Iteration No.:  114\n",
            "\n",
            "= = = = = = = = = = = = = = = =\n",
            "Iteration No.:  115\n",
            "\n",
            "= = = = = = = = = = = = = = = =\n",
            "Iteration No.:  116\n",
            "\n",
            "= = = = = = = = = = = = = = = =\n",
            "Iteration No.:  117\n",
            "\n",
            "= = = = = = = = = = = = = = = =\n",
            "Iteration No.:  118\n",
            "\n",
            "= = = = = = = = = = = = = = = =\n",
            "Iteration No.:  119\n",
            "\n",
            "= = = = = = = = = = = = = = = =\n",
            "Iteration No.:  120\n",
            "\n",
            "= = = = = = = = = = = = = = = =\n",
            "Iteration No.:  121\n",
            "\n",
            "= = = = = = = = = = = = = = = =\n",
            "Iteration No.:  122\n",
            "\n",
            "= = = = = = = = = = = = = = = =\n",
            "Iteration No.:  123\n",
            "\n",
            "= = = = = = = = = = = = = = = =\n",
            "Iteration No.:  124\n",
            "\n",
            "= = = = = = = = = = = = = = = =\n",
            "Iteration No.:  125\n",
            "\n",
            "= = = = = = = = = = = = = = = =\n",
            "Iteration No.:  126\n",
            "\n",
            "= = = = = = = = = = = = = = = =\n",
            "Iteration No.:  127\n",
            "\n",
            "= = = = = = = = = = = = = = = =\n",
            "Iteration No.:  128\n",
            "Dimentions of Batch 4 matrix is:  (2493, 2493)\n"
          ]
        }
      ],
      "source": [
        "Z3_file = lab_files_path + files[100]\n",
        "df = pd.read_csv(Z3_file)\n",
        "G = makeGraph(df)\n",
        "M4 = nx.to_numpy_array(G, dtype=np.int32)\n",
        "\n",
        "for i in range(101, len(files)):\n",
        "    print(\"\\n= = = = = = = = = = = = = = = =\")\n",
        "    print(\"Iteration No.: \", i)\n",
        "    # Getting file\n",
        "    f = lab_files_path + files[i]\n",
        "    # Making dataframe of file\n",
        "    df = pd.read_csv(f)\n",
        "    # Making graph of the dataframe. \n",
        "    G = makeGraph(df)\n",
        "    # Storing the graph as an incident matrix(an adjacency matrix)\n",
        "    I = nx.to_numpy_array(G, dtype=np.int32)\n",
        "    # Now resizing the original sparce matrix with the new incident matrix\n",
        "    M4 = resizeMatrix(M4, I)\n",
        "\n",
        "print(\"Dimentions of Batch 4 matrix is: \", np.shape(M4))\n"
      ]
    },
    {
      "cell_type": "markdown",
      "metadata": {
        "id": "7FWHWx2nGk6K"
      },
      "source": [
        "# Verifying dataset batches size"
      ]
    },
    {
      "cell_type": "code",
      "execution_count": null,
      "metadata": {
        "colab": {
          "base_uri": "https://localhost:8080/"
        },
        "id": "lAMbTr8WGrrc",
        "outputId": "a799c8e3-2c17-4be7-a61b-e40295997d05"
      },
      "outputs": [
        {
          "name": "stdout",
          "output_type": "stream",
          "text": [
            "Overall dimention is:  21097\n"
          ]
        }
      ],
      "source": [
        "t_size = np.shape(M1)[0] + np.shape(M2)[0]  + np.shape(M3)[0] + np.shape(M4)[0] \n",
        "print(\"Overall dimention is: \", t_size)"
      ]
    },
    {
      "cell_type": "markdown",
      "metadata": {
        "id": "UrbU0aV1lX75"
      },
      "source": [
        "# Saving the four Matrices\n",
        "Saving the matrices named Mat_batch(no.)"
      ]
    },
    {
      "cell_type": "code",
      "execution_count": null,
      "metadata": {
        "id": "GfifTHr6lowY"
      },
      "outputs": [],
      "source": [
        "np.save(\"drive/MyDrive/Project GCN Dataset/Mat_b1.npy\", M1)\n",
        "np.save(\"drive/MyDrive/Project GCN Dataset/Mat_b2.npy\", M2)\n",
        "np.save(\"drive/MyDrive/Project GCN Dataset/Mat_b3.npy\", M3)\n",
        "np.save(\"drive/MyDrive/Project GCN Dataset/Mat_b4.npy\", M4)"
      ]
    },
    {
      "cell_type": "markdown",
      "metadata": {
        "id": "sNtE4-hmN0Nq"
      },
      "source": [
        "# Saving Matrix\n",
        "\n",
        "# MATRIX ALREADY SAVED\n",
        "# PLEASE DONOT RUN THIS CELL"
      ]
    },
    {
      "cell_type": "code",
      "execution_count": null,
      "metadata": {
        "id": "0XdyNtrDN0Nr"
      },
      "outputs": [],
      "source": [
        "print(\"Saving Matrix\")\n",
        "np.save(\"drive/MyDrive/Project GCN Dataset/Matrix.npy\", M)\n",
        "\n",
        "print(\"Saved\")"
      ]
    },
    {
      "cell_type": "markdown",
      "metadata": {
        "id": "UDBgT62fN0Ns"
      },
      "source": [
        "# Loading Matrix\n",
        "Loading the sparce matrix in a variable A."
      ]
    },
    {
      "cell_type": "code",
      "execution_count": null,
      "metadata": {
        "colab": {
          "base_uri": "https://localhost:8080/"
        },
        "id": "n8Popt5iN0Nt",
        "outputId": "cb643646-a49c-445f-9c29-9d7e2c1a5bff"
      },
      "outputs": [
        {
          "name": "stdout",
          "output_type": "stream",
          "text": [
            "Printing Sparse Matrix..\n",
            "[[0 1 1 ... 0 0 0]\n",
            " [1 0 0 ... 0 0 0]\n",
            " [1 0 0 ... 0 0 0]\n",
            " ...\n",
            " [0 0 0 ... 0 0 0]\n",
            " [0 0 0 ... 0 0 1]\n",
            " [0 0 0 ... 0 1 0]]\n",
            "[[1 1 0 ... 0 0 0]\n",
            " [1 1 1 ... 0 0 0]\n",
            " [0 1 0 ... 0 0 0]\n",
            " ...\n",
            " [0 0 0 ... 0 1 0]\n",
            " [0 0 0 ... 1 0 1]\n",
            " [0 0 0 ... 0 1 0]]\n",
            "[[0 1 1 ... 0 0 0]\n",
            " [1 0 0 ... 0 0 0]\n",
            " [1 0 0 ... 0 0 0]\n",
            " ...\n",
            " [0 0 0 ... 0 0 0]\n",
            " [0 0 0 ... 0 0 0]\n",
            " [0 0 0 ... 0 0 0]]\n",
            "[[0 1 1 ... 0 0 0]\n",
            " [1 0 1 ... 0 0 0]\n",
            " [1 1 0 ... 0 0 0]\n",
            " ...\n",
            " [0 0 0 ... 0 1 0]\n",
            " [0 0 0 ... 1 0 1]\n",
            " [0 0 0 ... 0 1 0]]\n",
            "(5762, 5762)\n",
            "(5410, 5410)\n",
            "(7432, 7432)\n",
            "(2493, 2493)\n"
          ]
        }
      ],
      "source": [
        "import numpy as np\n",
        "\n",
        "# loading matrix\n",
        "A1 = np.load(\"/content/drive/MyDrive/Project GCN Dataset/Mat_b1.npy\")\n",
        "A2 = np.load(\"/content/drive/MyDrive/Project GCN Dataset/Mat_b2.npy\")\n",
        "A3 = np.load(\"/content/drive/MyDrive/Project GCN Dataset/Mat_b3.npy\")\n",
        "A4 = np.load(\"/content/drive/MyDrive/Project GCN Dataset/Mat_b4.npy\")\n",
        "print(\"Printing Sparse Matrix..\")\n",
        "print(A1)\n",
        "print(A2)\n",
        "print(A3)\n",
        "print(A4)\n",
        "print(np.shape(A1))\n",
        "print(np.shape(A2))\n",
        "print(np.shape(A3))\n",
        "print(np.shape(A4))"
      ]
    },
    {
      "cell_type": "markdown",
      "metadata": {
        "id": "5oWMhfx0o5n8"
      },
      "source": [
        "# Checking Sparse Matrix"
      ]
    },
    {
      "cell_type": "code",
      "execution_count": null,
      "metadata": {
        "colab": {
          "base_uri": "https://localhost:8080/",
          "height": 1000
        },
        "id": "Uadt4RY4o800",
        "outputId": "2cdcd949-0d0d-4b4c-f92b-132d4aa82581"
      },
      "outputs": [
        {
          "name": "stdout",
          "output_type": "stream",
          "text": [
            "(5762, 5762)\n",
            "(5410, 5410)\n",
            "(7432, 7432)\n",
            "(2493, 2493)\n"
          ]
        },
        {
          "data": {
            "image/png": "[encoded data removed]",
            "text/plain": [
              "<Figure size 288x288 with 1 Axes>"
            ]
          },
          "metadata": {},
          "output_type": "display_data"
        },
        {
          "data": {
            "image/png": "[encoded data removed]",
            "text/plain": [
              "<Figure size 288x288 with 1 Axes>"
            ]
          },
          "metadata": {},
          "output_type": "display_data"
        },
        {
          "data": {
            "image/png": "[encoded data removed]",
            "text/plain": [
              "<Figure size 288x288 with 1 Axes>"
            ]
          },
          "metadata": {},
          "output_type": "display_data"
        },
        {
          "data": {
            "image/png": "[encoded data removed]",
            "text/plain": [
              "<Figure size 288x288 with 1 Axes>"
            ]
          },
          "metadata": {},
          "output_type": "display_data"
        }
      ],
      "source": [
        "import matplotlib.pyplot as plt\n",
        "\n",
        "plt.matshow(A1)\n",
        "plt.matshow(A2)\n",
        "plt.matshow(A3)\n",
        "\n",
        "print(np.shape(A1))\n",
        "print(np.shape(A2))\n",
        "print(np.shape(A3))\n",
        "print(np.shape(A4))"
      ]
    },
    {
      "cell_type": "markdown",
      "metadata": {
        "id": "br5DRJSKn2ha"
      },
      "source": [
        "# Generating Labels"
      ]
    },
    {
      "cell_type": "code",
      "execution_count": null,
      "metadata": {
        "id": "wfSeOkKon5mi"
      },
      "outputs": [],
      "source": [
        "from numpy import nan\n",
        "import pandas as pd\n",
        "\n",
        "\n",
        "def returnLabels(direc, files):\n",
        "    labels = []\n",
        "    for f in range(len(files)):\n",
        "        seenList = []\n",
        "        df = pd.read_csv(direc + files[f])\n",
        "        text = df['Object'].to_list()\n",
        "        T_labels = df['labels'].to_list()\n",
        "\n",
        "        for i in range(len(text)):\n",
        "            if(text[i] not in seenList):\n",
        "                labels.append(T_labels[i])\n",
        "            seenList.append(text[i])\n",
        "\n",
        "    return labels\n",
        "  \n"
      ]
    },
    {
      "cell_type": "markdown",
      "metadata": {
        "id": "jcOYerByN0Nv"
      },
      "source": [
        "# Encoding Labels\n",
        "1. Get a list of labels from CSV files.\n",
        "2. Catagorically encode the labels "
      ]
    },
    {
      "cell_type": "code",
      "execution_count": null,
      "metadata": {
        "colab": {
          "base_uri": "https://localhost:8080/"
        },
        "id": "W6o6X8zRN0Nx",
        "outputId": "bc388ca6-c2c8-40bc-cc9a-d05f8715074b"
      },
      "outputs": [
        {
          "name": "stdout",
          "output_type": "stream",
          "text": [
            "Total labels are:  21097\n",
            "Encoding list..\n",
            "Total Encodings are:  21097\n",
            "Unique Encodings are:  {0, 1, 2, 3, 4, 5, 6, 7, 8, 9, 10, 11}\n",
            "Size of batch1 matrix is:  5762\n",
            "Total encodings for batch1 matrix are:  5762\n",
            "Size of batch1 matrix is:  5762\n",
            "Total encodings for batch2 matrix are:  5410\n",
            "Size of batch1 matrix is:  5762\n",
            "Total encodings for batch3 matrix are:  7432\n",
            "Size of batch1 matrix is:  5762\n",
            "Total encodings for batch4 matrix are:  2493\n",
            "Total length 21097\n",
            "Encodings for Batch 1 Matrix is:  {2, 3, 5, 6, 8, 9, 10, 11}\n"
          ]
        }
      ],
      "source": [
        "from sklearn.preprocessing import LabelEncoder\n",
        "\n",
        "labels = returnLabels(lab_files_path, files)\n",
        "print(\"Total labels are: \", len(labels))\n",
        "\n",
        "print(\"Encoding list..\")\n",
        "lab_encoder = LabelEncoder()\n",
        "encodings = lab_encoder.fit_transform(labels)\n",
        "print(\"Total Encodings are: \", len(encodings))\n",
        "\n",
        "\n",
        "# t_file = open(\"Encodings.txt\", \"w\")\n",
        "# for element in encodings:\n",
        "#     t_file.write(\"%i\\n\" % element)\n",
        "\n",
        "# t_file.close()\n",
        "\n",
        "\n",
        "uni_enc = set(encodings)\n",
        "print(\"Unique Encodings are: \", uni_enc)\n",
        "encodings = np.transpose(encodings)  \n",
        "\n",
        "# Encodings for Mat_b1 are\n",
        "e1_encodings_size = np.shape(A1)[0]\n",
        "print(\"Size of batch1 matrix is: \", e1_encodings_size)\n",
        "e1 = encodings[0:e1_encodings_size]\n",
        "print(\"Total encodings for batch1 matrix are: \", len(e1))\n",
        "\n",
        "# Encodings for Mat_b2 are\n",
        "e2_encodings_size = np.shape(A2)[0]\n",
        "print(\"Size of batch1 matrix is: \", e1_encodings_size)\n",
        "e2 = encodings[e1_encodings_size:e2_encodings_size+e1_encodings_size]\n",
        "print(\"Total encodings for batch2 matrix are: \", len(e2))\n",
        "\n",
        "# Encodings for Mat_b3 are\n",
        "e3_encodings_size = np.shape(A3)[0]\n",
        "start = e2_encodings_size+e1_encodings_size \n",
        "print(\"Size of batch1 matrix is: \", e1_encodings_size)\n",
        "e3 = encodings[start:start+e3_encodings_size]\n",
        "print(\"Total encodings for batch3 matrix are: \", len(e3))\n",
        "\n",
        "# Encodings for Mat_b4 are\n",
        "e4_encodings_size = np.shape(A4)[0]\n",
        "start += e3_encodings_size\n",
        "print(\"Size of batch1 matrix is: \", e1_encodings_size)\n",
        "e4 = encodings[start:start+e4_encodings_size]\n",
        "print(\"Total encodings for batch4 matrix are: \", len(e4))\n",
        "\n",
        "print(\"Total length\", (len(e1) + len(e2) + len(e3) +len(e4)))\n",
        "\n",
        "print(\"Encodings for Batch 1 Matrix is: \", set(e1))\n"
      ]
    },
    {
      "cell_type": "markdown",
      "metadata": {
        "id": "LhFDji2YN0Ny"
      },
      "source": [
        "# Importing Libraries"
      ]
    },
    {
      "cell_type": "code",
      "execution_count": null,
      "metadata": {
        "colab": {
          "base_uri": "https://localhost:8080/"
        },
        "id": "iejwmS9VN0Nz",
        "outputId": "6a3aa4d9-063f-4549-b532-c4069376c026"
      },
      "outputs": [
        {
          "name": "stdout",
          "output_type": "stream",
          "text": [
            "Libraries Imported..\n"
          ]
        }
      ],
      "source": [
        "from sklearn.utils import shuffle\n",
        "\n",
        "# from tensorflow.keras import Sequential\n",
        "from tensorflow.keras.models import Model\n",
        "from tensorflow.keras.layers import Input, Dropout, Dense, Flatten, MaxPool2D, BatchNormalization, Activation\n",
        "from tensorflow.keras.optimizers import Adam\n",
        "from tensorflow.keras.callbacks import TensorBoard, EarlyStopping\n",
        "import tensorflow as tf\n",
        "from tensorflow.keras.regularizers import l2\n",
        "\n",
        "\n",
        "from spektral.utils.sparse import sp_matrix_to_sp_tensor\n",
        "from spektral.layers import GCNConv\n",
        "from sklearn.metrics import classification_report\n",
        "from spektral.utils import normalized_laplacian\n",
        "from spektral.utils.sparse import sp_matrix_to_sp_tensor\n",
        "\n",
        "import matplotlib.pyplot as plt\n",
        "print(\"Libraries Imported..\")\n"
      ]
    },
    {
      "cell_type": "markdown",
      "metadata": {
        "id": "GTQOoH9xN0N0"
      },
      "source": [
        "# Model Hyper-parameters\n",
        "Adding model hyper-parameters:\n",
        "1. Learning rate(At whar pace should the model be learning)\n",
        "2. Channels(Neurons)\n",
        "3. Dropout rate(Now many neurons should be active at a time)\n",
        "4. Epochs(How many times a data is passed through the model)\n",
        "5. Batch size(How much data should be fed to the model at a time)\n",
        "etc"
      ]
    },
    {
      "cell_type": "code",
      "execution_count": null,
      "metadata": {
        "id": "AVOMWygNN0N0"
      },
      "outputs": [],
      "source": [
        "# Hyper-parameters\n",
        "\n",
        "channels = 32\n",
        "dropout = 0.5\n",
        "# learning_rate = 5e-4\n",
        "l2_reg = 0.001\n",
        "learning_rate = 0.005\n",
        "epochs = 200\n",
        "batch_size = 5762\n",
        "es_patience = 10\n",
        "\n",
        "out_classes = 12\n"
      ]
    },
    {
      "cell_type": "markdown",
      "metadata": {
        "id": "6UNUsu-PzHLh"
      },
      "source": [
        "# Getting Node Features\n",
        "\n"
      ]
    },
    {
      "cell_type": "code",
      "execution_count": null,
      "metadata": {
        "colab": {
          "base_uri": "https://localhost:8080/"
        },
        "id": "CJWoN1DDzOU6",
        "outputId": "92a4898c-1462-43f3-e290-18aebc8e6758"
      },
      "outputs": [
        {
          "name": "stdout",
          "output_type": "stream",
          "text": [
            "Printing Feature Matrix..\n",
            "[[ 0.000e+00  0.000e+00]\n",
            " [ 1.000e+00 -1.000e+00]\n",
            " [ 2.000e+00 -2.000e+00]\n",
            " ...\n",
            " [ 5.407e+03 -5.407e+03]\n",
            " [ 5.408e+03 -5.408e+03]\n",
            " [ 5.409e+03 -5.409e+03]]\n",
            "Output feature representation..\n",
            "Prining features in an array [[7.81826347e-01 7.45754333e-01 6.21740461e-01 ... 1.34043824e-01\n",
            "  5.78167018e-01 0.00000000e+00]\n",
            " [9.37306322e-01 8.94060750e-01 7.45384530e-01 ... 1.60700806e-01\n",
            "  6.93145738e-01 0.00000000e+00]\n",
            " [9.12960703e-02 8.70838393e-02 7.26023892e-02 ... 1.56526759e-02\n",
            "  6.75141953e-02 0.00000000e+00]\n",
            " ...\n",
            " [8.97149884e+01 8.55757055e+01 7.13450479e+01 ... 1.53816000e+01\n",
            "  6.63449722e+01 0.00000000e+00]\n",
            " [8.97398873e+01 8.55994557e+01 7.13648485e+01 ... 1.53858689e+01\n",
            "  6.63633851e+01 0.00000000e+00]\n",
            " [8.97772357e+01 8.56350809e+01 7.13945495e+01 ... 1.53922723e+01\n",
            "  6.63910046e+01 0.00000000e+00]]\n",
            "Shape of vals is:  (5410, 8)\n"
          ]
        }
      ],
      "source": [
        "import numpy as np\n",
        "import networkx as nx\n",
        "\n",
        "\n",
        "def nodeFeatures(A):\n",
        "    # X = Features Matrix\n",
        "    X = np.matrix([[i, -i] for i in range(A.shape[0])], dtype=float)\n",
        "    print(\"Printing Feature Matrix..\")\n",
        "    print(X)\n",
        "\n",
        "    # Identity matrix of the same shape as adjacency matrix\n",
        "    I = np.matrix(np.eye(A.shape[0]))\n",
        "\n",
        "    # Self looping making node connections with themselves\n",
        "    # i.e. multiply the adjacency matrix with identity matrix\n",
        "    A_new = A + I\n",
        "\n",
        "    # Multiplying the self-looped graph with the feature matrix\n",
        "\n",
        "    # Stores the sum of array(Row wise) in a new array called D\n",
        "    D = np.array(np.sum(A, axis=0))[0]\n",
        "\n",
        "    # Making the diagonal matrix named D containing the elements of 1D array D\n",
        "    # D = np.matrix(np.diag(D))\n",
        "    # print(\"Printing the 2D array named D containing the elemnets of 1D D in diagonal\")\n",
        "    # print(D)\n",
        "\n",
        "    # Stores the degree of the graph in a 1D array called D\n",
        "    D = np.array(np.sum(A_new, axis=0))[0]\n",
        "    # Transforming that 1D array to a degree matrix\n",
        "    D = np.matrix(np.diag(D))\n",
        "    # print(\"Degree matrix of A_new multiplied by A_new..\")\n",
        "    D_new = D * A_new\n",
        "    # print(D_new)\n",
        "\n",
        "    # Weight Matrix\n",
        "    W0 = np.random.randn(X.shape[1], 8) * 0.01\n",
        "\n",
        "    print(\"Printing Weights\")\n",
        "    print(W0)\n",
        "\n",
        "    # Reducing feature of output feature representation..\n",
        "    print(\"Output feature representation..\")\n",
        "    final = D_new**-1 * A_new * X * W0\n",
        "\n",
        "    def relu(x):\n",
        "        return np.maximum(0, x)\n",
        "\n",
        "    H_1 = relu(final)\n",
        "    # print(\"After applying relu function..\")\n",
        "    # print(H_1)\n",
        "\n",
        "    output = H_1\n",
        "\n",
        "    # print(\"Printing A_new matrix..\")\n",
        "    # print(A_new)\n",
        "\n",
        "    G = nx.from_numpy_matrix(np.array(A_new))\n",
        "    # nx.draw_networkx_edges(G, pos=nx.spring_layout(\n",
        "    #     G), arrowstyle=\"<|-\", style=\"dashed\")\n",
        "    # plt.show()\n",
        "    # nx.draw(G)\n",
        "    # plt.savefig(\"/content/Sample Graph.png\")\n",
        "    feature_representations = {\n",
        "        node: np.array(output)[node]\n",
        "        for node in G.nodes()\n",
        "    }\n",
        "\n",
        "    features = np.array(feature_representations.values())\n",
        "\n",
        "    # print(\"Printing feature representation..\")\n",
        "    # print(features)\n",
        "\n",
        "    vals = []\n",
        "\n",
        "    for v in feature_representations.values():\n",
        "        vals.append(v)\n",
        "\n",
        "    vals = np.array(vals)\n",
        "\n",
        "    # print(\"Prining features in an array\", vals)\n",
        "\n",
        "    # print(\"Shape of vals is: \", np.shape(vals))\n",
        "\n",
        "    return vals\n"
      ]
    },
    {
      "cell_type": "markdown",
      "metadata": {
        "id": "U87KGv4sN0N1"
      },
      "source": [
        "# Model Definition\n",
        "3 GCN-Conv Layers & 2 Dense Layers"
      ]
    },
    {
      "cell_type": "code",
      "execution_count": null,
      "metadata": {
        "colab": {
          "background_save": true,
          "base_uri": "https://localhost:8080/",
          "height": 235
        },
        "id": "NZwuo9T0N0N1",
        "outputId": "a02465c2-5c33-4532-dd35-0b3bfc4261da"
      },
      "outputs": [
        {
          "name": "stdout",
          "output_type": "stream",
          "text": [
            "Node has  8  features\n",
            "Total Nodes are:  7432\n",
            "Shape of X-in is:  (7432, 8)\n",
            "Shape of A-in is:  (7432, 7432)\n",
            "Model: \"model_1\"\n",
            "__________________________________________________________________________________________________\n",
            "Layer (type)                    Output Shape         Param #     Connected to                     \n",
            "==================================================================================================\n",
            "input_3 (InputLayer)            [(7432, 8)]          0                                            \n",
            "__________________________________________________________________________________________________\n",
            "input_4 (InputLayer)            [(7432, 7432)]       0                                            \n",
            "__________________________________________________________________________________________________\n",
            "gcn_conv_2 (GCNConv)            (None, 32)           288         input_3[0][0]                    \n",
            "                                                                 input_4[0][0]                    \n",
            "__________________________________________________________________________________________________\n",
            "gcn_conv_3 (GCNConv)            (None, 32)           1056        gcn_conv_2[0][0]                 \n",
            "                                                                 input_4[0][0]                    \n",
            "__________________________________________________________________________________________________\n",
            "flatten_1 (Flatten)             (None, 32)           0           gcn_conv_3[0][0]                 \n",
            "__________________________________________________________________________________________________\n",
            "dense_3 (Dense)                 (None, 512)          16896       flatten_1[0][0]                  \n",
            "__________________________________________________________________________________________________\n",
            "dense_4 (Dense)                 (None, 32)           16416       dense_3[0][0]                    \n",
            "__________________________________________________________________________________________________\n",
            "dense_5 (Dense)                 (None, 12)           396         dense_4[0][0]                    \n",
            "==================================================================================================\n",
            "Total params: 35,052\n",
            "Trainable params: 35,052\n",
            "Non-trainable params: 0\n",
            "__________________________________________________________________________________________________\n"
          ]
        }
      ],
      "source": [
        "\n",
        "def Model(A):\n",
        "    N = A.shape[0]\n",
        "    F = nodeFeatures(A).shape[1]\n",
        "\n",
        "    # print(\"Node has \", F, \" features\")\n",
        "    # print(\"Total Nodes are: \", N)\n",
        "\n",
        "    fltr = normalized_laplacian(A)\n",
        "    X_in = Input(batch_size = N, shape=(F))\n",
        "    # print(\"Shape of X-in is: \", np.shape(X_in))\n",
        "\n",
        "    A_in = Input(tensor=sp_matrix_to_sp_tensor(fltr))\n",
        "    # print(\"Shape of A-in is: \", np.shape(A_in))\n",
        "\n",
        "    G1 = GCNConv(channels, activation='LeakyReLU', kernel_regularizer=l2(l2_reg), use_bias=True)([X_in, A_in])\n",
        "\n",
        "    G2 = GCNConv(channels, activation='LeakyReLU', kernel_regularizer=l2(l2_reg), use_bias=True)([G1, A_in])\n",
        "\n",
        "    flatten = Flatten()(G2)\n",
        "\n",
        "    D1 = Dense(512, activation='LeakyReLU')(flatten)\n",
        "\n",
        "    D2 = Dense(32, activation='LeakyReLU')(D1)\n",
        "\n",
        "\n",
        "    D2_out = Dense(out_classes, activation='softmax')(D2)\n",
        "\n",
        "    model = Model(inputs = [X_in, A_in], outputs=D2_out)\n",
        "    model.compile(optimizer = 'Adagrad', loss = 'sparse_categorical_crossentropy', weighted_metrics=['acc'])\n",
        "\n",
        "    model.summary()\n",
        "    return model\n"
      ]
    },
    {
      "cell_type": "markdown",
      "metadata": {
        "id": "5sQcuJa7N0N2"
      },
      "source": [
        "# Training Model"
      ]
    },
    {
      "cell_type": "code",
      "execution_count": 1,
      "metadata": {
        "colab": {
          "base_uri": "https://localhost:8080/"
        },
        "id": "uSKbBOwt7Cyd",
        "outputId": "315bdb51-3ef7-464c-f46e-a0dbe37d8336"
      },
      "outputs": [
        {
          "ename": "NameError",
          "evalue": "name 'np' is not defined",
          "output_type": "error",
          "traceback": [
            "\u001b[1;31m---------------------------------------------------------------------------\u001b[0m",
            "\u001b[1;31mNameError\u001b[0m                                 Traceback (most recent call last)",
            "\u001b[1;32m~\\AppData\\Local\\Temp/ipykernel_15208/2358056970.py\u001b[0m in \u001b[0;36m<module>\u001b[1;34m\u001b[0m\n\u001b[1;32m----> 1\u001b[1;33m \u001b[0mprint\u001b[0m\u001b[1;33m(\u001b[0m\u001b[0mnp\u001b[0m\u001b[1;33m.\u001b[0m\u001b[0mshape\u001b[0m\u001b[1;33m(\u001b[0m\u001b[0mvals\u001b[0m\u001b[1;33m)\u001b[0m\u001b[1;33m)\u001b[0m\u001b[1;33m\u001b[0m\u001b[1;33m\u001b[0m\u001b[0m\n\u001b[0m\u001b[0;32m      2\u001b[0m \u001b[1;33m\u001b[0m\u001b[0m\n\u001b[0;32m      3\u001b[0m \u001b[0mb1_features\u001b[0m \u001b[1;33m=\u001b[0m \u001b[0mnodeFeatures\u001b[0m\u001b[1;33m(\u001b[0m\u001b[0mA1\u001b[0m\u001b[1;33m)\u001b[0m\u001b[1;33m\u001b[0m\u001b[1;33m\u001b[0m\u001b[0m\n\u001b[0;32m      4\u001b[0m \u001b[0mb1_features\u001b[0m \u001b[1;33m=\u001b[0m \u001b[0mnodeFeatures\u001b[0m\u001b[1;33m(\u001b[0m\u001b[0mA2\u001b[0m\u001b[1;33m)\u001b[0m\u001b[1;33m\u001b[0m\u001b[1;33m\u001b[0m\u001b[0m\n\u001b[0;32m      5\u001b[0m \u001b[0mb1_features\u001b[0m \u001b[1;33m=\u001b[0m \u001b[0mnodeFeatures\u001b[0m\u001b[1;33m(\u001b[0m\u001b[0mA3\u001b[0m\u001b[1;33m)\u001b[0m\u001b[1;33m\u001b[0m\u001b[1;33m\u001b[0m\u001b[0m\n",
            "\u001b[1;31mNameError\u001b[0m: name 'np' is not defined"
          ]
        }
      ],
      "source": [
        "\n",
        "b1_features = nodeFeatures(A1)\n",
        "b2_features = nodeFeatures(A2)\n",
        "b3_features = nodeFeatures(A3)\n",
        "b4_features = nodeFeatures(A4)\n",
        "\n",
        "def trainModel(A, F, L):\n",
        "    # {2, 3, 5, 6, 8, 9, 10, 11}\n",
        "    W = {\n",
        "        0:np.random.rand(),\n",
        "        1:np.random.rand(),\n",
        "        2:np.random.rand(),\n",
        "        3:np.random.rand(),\n",
        "        4:np.random.rand(),\n",
        "        5:np.random.rand(),\n",
        "        6:np.random.rand(),\n",
        "        7:np.random.rand(),\n",
        "        8:np.random.rand(),\n",
        "        9:np.random.rand(),\n",
        "        10:np.random.rand(),\n",
        "        11:np.random.rand(),\n",
        "    }\n",
        "    model.fit([F, A],\n",
        "            L,\n",
        "            epochs = 200,\n",
        "            batch_size = np.shape(A),\n",
        "            class_weight=W,\n",
        "            )\n"
      ]
    },
    {
      "cell_type": "markdown",
      "metadata": {},
      "source": [
        "# Training Batches\n",
        "We have a total of 4 dataset batches on which we will be training our model "
      ]
    },
    {
      "cell_type": "code",
      "execution_count": null,
      "metadata": {},
      "outputs": [],
      "source": [
        "# Training batch 1\n",
        "model = Model(A1)\n",
        "trainModel(A1, b1_features)\n",
        "\n",
        "# Training batch 2\n",
        "model = Model(A2)\n",
        "trainModel(A2, b2_features)\n",
        "\n",
        "# Training batch 3\n",
        "model = Model(A3)\n",
        "trainModel(A3, b3_features)\n",
        "\n",
        "# Training batch 1\n",
        "# model = Model(A1)\n",
        "# trainModel(A1, b1_features)\n"
      ]
    },
    {
      "cell_type": "markdown",
      "metadata": {
        "id": "-oF0YahQPIH9"
      },
      "source": [
        "# Saving Model"
      ]
    },
    {
      "cell_type": "code",
      "execution_count": null,
      "metadata": {
        "id": "O3MIIgQBPJ85"
      },
      "outputs": [],
      "source": [
        "model.save(\"/content/drive/MyDrive/Project GCN Dataset/IDS_Batch1_0.9267.h5\")"
      ]
    }
  ],
  "metadata": {
    "accelerator": "GPU",
    "colab": {
      "collapsed_sections": [],
      "name": "IDS_Model.ipynb",
      "provenance": []
    },
    "interpreter": {
      "hash": "35146d2ce121e8e653791712ad16cca408ea08bd1c84e92938f653a743d84e6c"
    },
    "kernelspec": {
      "display_name": "Python 3.8.10 64-bit ('Graphs': conda)",
      "name": "python3"
    },
    "language_info": {
      "codemirror_mode": {
        "name": "ipython",
        "version": 3
      },
      "file_extension": ".py",
      "mimetype": "text/x-python",
      "name": "python",
      "nbconvert_exporter": "python",
      "pygments_lexer": "ipython3",
      "version": "3.8.10"
    }
  },
  "nbformat": 4,
  "nbformat_minor": 2
}
