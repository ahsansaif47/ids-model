{
 "cells": [
  {
   "cell_type": "markdown",
   "metadata": {},
   "source": [
    "# Loading Data-Set"
   ]
  },
  {
   "cell_type": "code",
   "execution_count": 229,
   "metadata": {},
   "outputs": [
    {
     "name": "stdout",
     "output_type": "stream",
     "text": [
      "Total Label files are:  110\n",
      "Training Batch-1 files are:  45\n",
      "Training Batch-2 files are:  15\n",
      "Validation files are:  5\n",
      "Testing files are:  5\n"
     ]
    }
   ],
   "source": [
    "# Dataset loading\n",
    "import os\n",
    "\n",
    "dataset = \"./New-Dataset/\"\n",
    "# dataset = \"./Dataset (Labelled Images)/\"\n",
    "lab_files_path = dataset+\"labels/\"\n",
    "# lab_files_path = dataset+\"label/\"\n",
    "\n",
    "# total invoice files\n",
    "files = os.listdir(lab_files_path)\n",
    "\n",
    "\n",
    "# training set\n",
    "Batch_1 = files[:45]\n",
    "\n",
    "Batch_2 = files[45:60]\n",
    "\n",
    "Batch_3 = files[60:70]\n",
    "\n",
    "Batch_4 = files[70:75]\n",
    "\n",
    "# validation set\n",
    "valid_set = files[80:85]\n",
    "\n",
    "# test set\n",
    "test = files[95:100]\n",
    "\n",
    "print(\"Total Label files are: \", len(files))\n",
    "print(\"Training Batch-1 files are: \", len(Batch_1))\n",
    "print(\"Training Batch-2 files are: \", len(Batch_2))\n",
    "print(\"Validation files are: \", len(valid_set))\n",
    "print(\"Testing files are: \", len(test))\n"
   ]
  },
  {
   "cell_type": "markdown",
   "metadata": {},
   "source": [
    "# Geometric Algo"
   ]
  },
  {
   "cell_type": "code",
   "execution_count": 2,
   "metadata": {},
   "outputs": [
    {
     "name": "stderr",
     "output_type": "stream",
     "text": [
      "C:\\Users\\ahsan\\anaconda3\\envs\\Graphs\\lib\\site-packages\\numpy\\_distributor_init.py:30: UserWarning: loaded more than 1 DLL from .libs:\n",
      "C:\\Users\\ahsan\\anaconda3\\envs\\Graphs\\lib\\site-packages\\numpy\\.libs\\libopenblas.NOIJJG62EMASZI6NYURL6JBKM4EVBGM7.gfortran-win_amd64.dll\n",
      "C:\\Users\\ahsan\\anaconda3\\envs\\Graphs\\lib\\site-packages\\numpy\\.libs\\libopenblas.WCDJNK7YVMPZQ2ME2ZZHJJRJ3JIKNDB7.gfortran-win_amd64.dll\n",
      "  warnings.warn(\"loaded more than 1 DLL from .libs:\"\n"
     ]
    }
   ],
   "source": [
    "from PIL.Image import Image\n",
    "from networkx.algorithms.shortest_paths.weighted import single_source_dijkstra\n",
    "import matplotlib.pyplot as plt\n",
    "from pandas.core.frame import DataFrame\n",
    "from PIL import Image\n",
    "import networkx as nx\n",
    "\n",
    "df = 0\n",
    "xMIN, xMAX = [], []\n",
    "yMIN, yMAX = [], []\n",
    "Text = []\n",
    "\n",
    "\n",
    "def findRight(df, df_ind, xMIN, xMAX, yMIN, yMAX):\n",
    "    S_list = []\n",
    "    xmax = xMAX[df_ind]\n",
    "    ymin = yMIN[df_ind]\n",
    "    ymax = yMAX[df_ind]\n",
    "\n",
    "    for i in range(len(df)):\n",
    "        if(xMIN[i] > xmax):\n",
    "            if not (yMIN[i] > ymax or yMAX[i] < ymin):\n",
    "                if(yMIN[i] <= ymin and yMAX[i] <= ymax):\n",
    "                    S_list.append(i)\n",
    "                elif (yMIN[i] <= ymin and yMAX[i] >= ymax):\n",
    "                    S_list.append(i)\n",
    "                elif (yMIN[i] >= ymin and yMAX[i] <= ymax):\n",
    "                    S_list.append(i)\n",
    "                elif (yMIN[i] >= ymin and yMAX[i] >= ymax):\n",
    "                    S_list.append(i)\n",
    "                elif (yMIN[i] == ymin and yMAX[i] == ymax):\n",
    "                    S_list.append(i)\n",
    "\n",
    "    if S_list:\n",
    "        consec = S_list[0]\n",
    "        for j in S_list:\n",
    "            if(xMIN[consec] > xMIN[j]):\n",
    "                consec = j\n",
    "        return consec\n",
    "\n",
    "    return -1\n",
    "\n",
    "\n",
    "def findLeft(df, df_ind, xMIN, xMAX, yMIN, yMAX):\n",
    "    S_list = []\n",
    "    xmin = xMIN[df_ind]\n",
    "    ymin = yMIN[df_ind]\n",
    "    ymax = yMAX[df_ind]\n",
    "\n",
    "    for i in range(len(df)):\n",
    "        if(xMAX[i] < xmin):\n",
    "            if not (yMIN[i] > ymax or yMAX[i] < ymin):\n",
    "                if(yMIN[i] <= ymin and yMAX[i] <= ymax):\n",
    "                    S_list.append(i)\n",
    "                elif (yMIN[i] <= ymin and yMAX[i] >= ymax):\n",
    "                    S_list.append(i)\n",
    "                elif (yMIN[i] >= ymin and yMAX[i] <= ymax):\n",
    "                    S_list.append(i)\n",
    "                elif (yMIN[i] >= ymin and yMAX[i] >= ymax):\n",
    "                    S_list.append(i)\n",
    "                elif (yMIN[i] == ymin and yMAX[i] == ymax):\n",
    "                    S_list.append(i)\n",
    "\n",
    "    if S_list:\n",
    "        consec = S_list[0]\n",
    "        for j in S_list:\n",
    "            if(xMAX[j] > xMAX[consec]):\n",
    "                consec = j\n",
    "        return consec\n",
    "    return -1\n",
    "\n",
    "\n",
    "def findUp(df, df_ind, xMIN, xMAX, yMIN, yMAX):\n",
    "    S_list = []\n",
    "    xmin = xMIN[df_ind]\n",
    "    xmax = xMAX[df_ind]\n",
    "    ymin = yMIN[df_ind]\n",
    "\n",
    "    for i in range(len(df)):\n",
    "        if(yMAX[i] < ymin):\n",
    "            if not (xMAX[i] < xmin or xMIN[i] > xmax):\n",
    "                if(xMIN[i] <= xmin and xMAX[i] <= xmax):\n",
    "                    S_list.append(i)\n",
    "                elif (xMIN[i] <= xmin and xMAX[i] >= xmax):\n",
    "                    S_list.append(i)\n",
    "                elif (xMIN[i] >= xmin and xMAX[i] <= xmax):\n",
    "                    S_list.append(i)\n",
    "                elif (xMIN[i] >= xmin and xMAX[i] >= xmax):\n",
    "                    S_list.append(i)\n",
    "                elif (xMIN[i] == xmin and xMAX[i] == xmax):\n",
    "                    S_list.append(i)\n",
    "\n",
    "    if S_list:\n",
    "        consec = S_list[0]\n",
    "        for j in S_list:\n",
    "            if(yMAX[j] > yMAX[consec]):\n",
    "                consec = j\n",
    "        return consec\n",
    "\n",
    "    return -1\n",
    "\n",
    "\n",
    "def findDown(df, df_ind, xMIN, xMAX, yMIN, yMAX):\n",
    "    S_list = []\n",
    "    xmin = xMIN[df_ind]\n",
    "    xmax = xMAX[df_ind]\n",
    "    ymax = yMAX[df_ind]\n",
    "\n",
    "    for i in range(len(df)):\n",
    "        if(yMIN[i] > ymax):\n",
    "            if not (xMAX[i] < xmin or xMIN[i] > xmax):\n",
    "                if(xMIN[i] <= xmin and xMAX[i] <= xmax):\n",
    "                    S_list.append(i)\n",
    "                elif (xMIN[i] <= xmin and xMAX[i] >= xmax):\n",
    "                    S_list.append(i)\n",
    "                elif (xMIN[i] >= xmin and xMAX[i] <= xmax):\n",
    "                    S_list.append(i)\n",
    "                elif (xMIN[i] >= xmin and xMAX[i] >= xmax):\n",
    "                    S_list.append(i)\n",
    "                elif (xMIN[i] == xmin and xMAX[i] == xmax):\n",
    "                    S_list.append(i)\n",
    "\n",
    "    if S_list:\n",
    "        consec = S_list[0]\n",
    "        for j in S_list:\n",
    "            if(yMIN[j] < yMIN[consec]):\n",
    "                consec = j\n",
    "        return consec\n",
    "\n",
    "    return -1\n",
    "\n",
    "\n",
    "def makeGraph(df):\n",
    "    G = nx.Graph()\n",
    "    xMIN = df['xmin']\n",
    "    xMAX = df['xmax']\n",
    "    yMIN = df['ymin']\n",
    "    yMAX = df['ymax']\n",
    "    Text = df['Object']\n",
    "\n",
    "    for i in range(len(df)):\n",
    "        if findUp(df, i, xMIN, xMAX, yMIN, yMAX):\n",
    "            l = findUp(df, i, xMIN, xMAX, yMIN, yMAX)\n",
    "            if(l != -1):\n",
    "                text = Text[l]\n",
    "                G.add_edge(Text[i], text)\n",
    "        if findRight(df, i, xMIN, xMAX, yMIN, yMAX):\n",
    "            l = findRight(df, i, xMIN, xMAX, yMIN, yMAX)\n",
    "            if (l != -1):\n",
    "                text = Text[l]\n",
    "                G.add_edge(Text[i], text)\n",
    "        if findDown(df, i, xMIN, xMAX, yMIN, yMAX):\n",
    "            l = findDown(df, i, xMIN, xMAX, yMIN, yMAX)\n",
    "            if (l != -1):\n",
    "                text = Text[l]\n",
    "                G.add_edge(Text[i], text)\n",
    "        if findLeft(df, i, xMIN, xMAX, yMIN, yMAX):\n",
    "            l = findLeft(df, i, xMIN, xMAX, yMIN, yMAX)\n",
    "            if (l != -1):\n",
    "                text = Text[l]\n",
    "                G.add_edge(Text[i], text)\n",
    "    return G\n"
   ]
  },
  {
   "cell_type": "markdown",
   "metadata": {},
   "source": [
    "# Matrices Over Diagonal\n",
    "Place an incident Matrix over diagonal with existing matrix"
   ]
  },
  {
   "cell_type": "code",
   "execution_count": 3,
   "metadata": {},
   "outputs": [],
   "source": [
    "from typing import SupportsAbs\n",
    "from numpy.core.fromnumeric import shape\n",
    "import numpy as np\n",
    "\n",
    "# Test Matrices\n",
    "# mat1 = np.array([[1, 2, 3], [4, 5, 6], [7, 8, 9]])\n",
    "# mat2 = np.array([[3, 2, 1, 7], [6, 5, 4, 9], [9, 8, 7, 4], [1, 5, 7, 2]])\n",
    "\n",
    "\n",
    "def alignDiagonally(M1, M2, prev_Len):\n",
    "    for i in range(prev_Len, np.shape(M1)[0]):\n",
    "        for j in range(prev_Len, np.shape(M1)[0]):\n",
    "            x = i - prev_Len\n",
    "            y = j - prev_Len\n",
    "            M1[i][j] = M2[x][y]\n",
    "\n",
    "    return M1\n",
    "\n",
    "\n",
    "def resizeMatrix(M, I):\n",
    "    oldMat_Len = np.shape(M)[0]\n",
    "    z = np.zeros((oldMat_Len, np.shape(I)[0]), dtype=np.int64)\n",
    "    newArray = np.append(M, z, axis=1)\n",
    "    M = newArray\n",
    "\n",
    "    # Appending 1D arrays of zeros in the original Matrix\n",
    "    # (i.e. the matrix in which we want to align othe rmatrices diagonally)\n",
    "    appZero = np.shape(I)[0]\n",
    "    x = oldMat_Len + appZero\n",
    "    L = np.zeros((np.shape(I)[0], x), dtype=np.int64)\n",
    "    newArray = np.append(M, L, axis=0)\n",
    "    M = newArray\n",
    "\n",
    "    M = alignDiagonally(M, I, oldMat_Len)\n",
    "    return M\n"
   ]
  },
  {
   "cell_type": "markdown",
   "metadata": {},
   "source": [
    "# Training Batch-1"
   ]
  },
  {
   "cell_type": "code",
   "execution_count": 4,
   "metadata": {},
   "outputs": [
    {
     "name": "stdout",
     "output_type": "stream",
     "text": [
      "\n",
      "= = = = = = = = = = = = = = = =\n",
      "Iteration No.:  1\n",
      "\n",
      "= = = = = = = = = = = = = = = =\n",
      "Iteration No.:  2\n",
      "\n",
      "= = = = = = = = = = = = = = = =\n",
      "Iteration No.:  3\n",
      "\n",
      "= = = = = = = = = = = = = = = =\n",
      "Iteration No.:  4\n",
      "\n",
      "= = = = = = = = = = = = = = = =\n",
      "Iteration No.:  5\n",
      "\n",
      "= = = = = = = = = = = = = = = =\n",
      "Iteration No.:  6\n",
      "\n",
      "= = = = = = = = = = = = = = = =\n",
      "Iteration No.:  7\n",
      "\n",
      "= = = = = = = = = = = = = = = =\n",
      "Iteration No.:  8\n",
      "\n",
      "= = = = = = = = = = = = = = = =\n",
      "Iteration No.:  9\n",
      "\n",
      "= = = = = = = = = = = = = = = =\n",
      "Iteration No.:  10\n",
      "\n",
      "= = = = = = = = = = = = = = = =\n",
      "Iteration No.:  11\n",
      "\n",
      "= = = = = = = = = = = = = = = =\n",
      "Iteration No.:  12\n",
      "\n",
      "= = = = = = = = = = = = = = = =\n",
      "Iteration No.:  13\n",
      "\n",
      "= = = = = = = = = = = = = = = =\n",
      "Iteration No.:  14\n",
      "\n",
      "= = = = = = = = = = = = = = = =\n",
      "Iteration No.:  15\n",
      "\n",
      "= = = = = = = = = = = = = = = =\n",
      "Iteration No.:  16\n",
      "\n",
      "= = = = = = = = = = = = = = = =\n",
      "Iteration No.:  17\n",
      "\n",
      "= = = = = = = = = = = = = = = =\n",
      "Iteration No.:  18\n",
      "\n",
      "= = = = = = = = = = = = = = = =\n",
      "Iteration No.:  19\n",
      "\n",
      "= = = = = = = = = = = = = = = =\n",
      "Iteration No.:  20\n",
      "\n",
      "= = = = = = = = = = = = = = = =\n",
      "Iteration No.:  21\n",
      "\n",
      "= = = = = = = = = = = = = = = =\n",
      "Iteration No.:  22\n",
      "\n",
      "= = = = = = = = = = = = = = = =\n",
      "Iteration No.:  23\n",
      "\n",
      "= = = = = = = = = = = = = = = =\n",
      "Iteration No.:  24\n",
      "\n",
      "= = = = = = = = = = = = = = = =\n",
      "Iteration No.:  25\n",
      "\n",
      "= = = = = = = = = = = = = = = =\n",
      "Iteration No.:  26\n",
      "\n",
      "= = = = = = = = = = = = = = = =\n",
      "Iteration No.:  27\n",
      "\n",
      "= = = = = = = = = = = = = = = =\n",
      "Iteration No.:  28\n",
      "\n",
      "= = = = = = = = = = = = = = = =\n",
      "Iteration No.:  29\n",
      "\n",
      "= = = = = = = = = = = = = = = =\n",
      "Iteration No.:  30\n",
      "\n",
      "= = = = = = = = = = = = = = = =\n",
      "Iteration No.:  31\n",
      "\n",
      "= = = = = = = = = = = = = = = =\n",
      "Iteration No.:  32\n",
      "\n",
      "= = = = = = = = = = = = = = = =\n",
      "Iteration No.:  33\n",
      "\n",
      "= = = = = = = = = = = = = = = =\n",
      "Iteration No.:  34\n",
      "\n",
      "= = = = = = = = = = = = = = = =\n",
      "Iteration No.:  35\n",
      "\n",
      "= = = = = = = = = = = = = = = =\n",
      "Iteration No.:  36\n",
      "\n",
      "= = = = = = = = = = = = = = = =\n",
      "Iteration No.:  37\n",
      "\n",
      "= = = = = = = = = = = = = = = =\n",
      "Iteration No.:  38\n",
      "\n",
      "= = = = = = = = = = = = = = = =\n",
      "Iteration No.:  39\n",
      "\n",
      "= = = = = = = = = = = = = = = =\n",
      "Iteration No.:  40\n",
      "\n",
      "= = = = = = = = = = = = = = = =\n",
      "Iteration No.:  41\n",
      "\n",
      "= = = = = = = = = = = = = = = =\n",
      "Iteration No.:  42\n",
      "\n",
      "= = = = = = = = = = = = = = = =\n",
      "Iteration No.:  43\n",
      "\n",
      "= = = = = = = = = = = = = = = =\n",
      "Iteration No.:  44\n",
      "Dimentions of Batch 1 matrix is:  (4938, 4938)\n"
     ]
    }
   ],
   "source": [
    "import pandas as pd\n",
    "import networkx as nx\n",
    "import numpy as np\n",
    "from numpy.core.fromnumeric import shape\n",
    "\n",
    "Z_file = lab_files_path + Batch_1[0]\n",
    "df = pd.read_csv(Z_file)\n",
    "G = makeGraph(df)\n",
    "M1 = nx.to_numpy_array(G, dtype=np.int32)\n",
    "\n",
    "for i in range(1, len(Batch_1)):\n",
    "    print(\"\\n= = = = = = = = = = = = = = = =\")\n",
    "    print(\"Iteration No.: \", i)\n",
    "    # Getting file\n",
    "    f = lab_files_path + Batch_1[i]\n",
    "    # Making dataframe of file\n",
    "    df = pd.read_csv(f)\n",
    "    # Making graph of the dataframe.\n",
    "    G = makeGraph(df)\n",
    "    # Storing the graph as an incident matrix(an adjacency matrix)\n",
    "    I = nx.to_numpy_array(G, dtype=np.int32)\n",
    "    # Now resizing the original sparce matrix with the new incident matrix\n",
    "    M1 = resizeMatrix(M1, I)\n",
    "\n",
    "print(\"Dimentions of Batch 1 matrix is: \", np.shape(M1))\n"
   ]
  },
  {
   "cell_type": "markdown",
   "metadata": {},
   "source": [
    "# Training Batch-2"
   ]
  },
  {
   "cell_type": "code",
   "execution_count": 5,
   "metadata": {},
   "outputs": [
    {
     "name": "stdout",
     "output_type": "stream",
     "text": [
      "\n",
      "= = = = = = = = = = = = = = = =\n",
      "Iteration No.:  1\n",
      "\n",
      "= = = = = = = = = = = = = = = =\n",
      "Iteration No.:  2\n",
      "\n",
      "= = = = = = = = = = = = = = = =\n",
      "Iteration No.:  3\n",
      "\n",
      "= = = = = = = = = = = = = = = =\n",
      "Iteration No.:  4\n",
      "\n",
      "= = = = = = = = = = = = = = = =\n",
      "Iteration No.:  5\n",
      "\n",
      "= = = = = = = = = = = = = = = =\n",
      "Iteration No.:  6\n",
      "\n",
      "= = = = = = = = = = = = = = = =\n",
      "Iteration No.:  7\n",
      "\n",
      "= = = = = = = = = = = = = = = =\n",
      "Iteration No.:  8\n",
      "\n",
      "= = = = = = = = = = = = = = = =\n",
      "Iteration No.:  9\n",
      "\n",
      "= = = = = = = = = = = = = = = =\n",
      "Iteration No.:  10\n",
      "\n",
      "= = = = = = = = = = = = = = = =\n",
      "Iteration No.:  11\n",
      "\n",
      "= = = = = = = = = = = = = = = =\n",
      "Iteration No.:  12\n",
      "\n",
      "= = = = = = = = = = = = = = = =\n",
      "Iteration No.:  13\n",
      "\n",
      "= = = = = = = = = = = = = = = =\n",
      "Iteration No.:  14\n",
      "Dimentions of Batch 2 matrix is:  (2460, 2460)\n"
     ]
    }
   ],
   "source": [
    "import pandas as pd\n",
    "import networkx as nx\n",
    "import numpy as np\n",
    "from numpy.core.fromnumeric import shape\n",
    "\n",
    "Z1_file = lab_files_path + Batch_2[0]\n",
    "df = pd.read_csv(Z1_file)\n",
    "G = makeGraph(df)\n",
    "M2 = nx.to_numpy_array(G, dtype=np.int32)\n",
    "\n",
    "for i in range(1, len(Batch_2)):\n",
    "    print(\"\\n= = = = = = = = = = = = = = = =\")\n",
    "    print(\"Iteration No.: \", i)\n",
    "    # Getting file\n",
    "    f = lab_files_path + Batch_2[i]\n",
    "    # Making dataframe of file\n",
    "    df = pd.read_csv(f)\n",
    "    # Making graph of the dataframe.\n",
    "    G = makeGraph(df)\n",
    "    # Storing the graph as an incident matrix(an adjacency matrix)\n",
    "    I = nx.to_numpy_array(G, dtype=np.int32)\n",
    "    # Now resizing the original sparce matrix with the new incident matrix\n",
    "    M2 = resizeMatrix(M2, I)\n",
    "\n",
    "print(\"Dimentions of Batch 2 matrix is: \", np.shape(M2))\n"
   ]
  },
  {
   "cell_type": "markdown",
   "metadata": {},
   "source": [
    "# Training Batch-3"
   ]
  },
  {
   "cell_type": "code",
   "execution_count": 6,
   "metadata": {},
   "outputs": [
    {
     "name": "stdout",
     "output_type": "stream",
     "text": [
      "\n",
      "= = = = = = = = = = = = = = = =\n",
      "Iteration No.:  1\n",
      "\n",
      "= = = = = = = = = = = = = = = =\n",
      "Iteration No.:  2\n",
      "\n",
      "= = = = = = = = = = = = = = = =\n",
      "Iteration No.:  3\n",
      "\n",
      "= = = = = = = = = = = = = = = =\n",
      "Iteration No.:  4\n",
      "\n",
      "= = = = = = = = = = = = = = = =\n",
      "Iteration No.:  5\n",
      "\n",
      "= = = = = = = = = = = = = = = =\n",
      "Iteration No.:  6\n",
      "\n",
      "= = = = = = = = = = = = = = = =\n",
      "Iteration No.:  7\n",
      "\n",
      "= = = = = = = = = = = = = = = =\n",
      "Iteration No.:  8\n",
      "\n",
      "= = = = = = = = = = = = = = = =\n",
      "Iteration No.:  9\n",
      "Dimentions of Batch 3 matrix is:  (856, 856)\n"
     ]
    }
   ],
   "source": [
    "import pandas as pd\n",
    "import networkx as nx\n",
    "import numpy as np\n",
    "from numpy.core.fromnumeric import shape\n",
    "\n",
    "Z2_file = lab_files_path + Batch_3[0]\n",
    "df = pd.read_csv(Z2_file)\n",
    "G = makeGraph(df)\n",
    "M3 = nx.to_numpy_array(G, dtype=np.int32)\n",
    "\n",
    "for i in range(1, len(Batch_3)):\n",
    "    print(\"\\n= = = = = = = = = = = = = = = =\")\n",
    "    print(\"Iteration No.: \", i)\n",
    "    # Getting file\n",
    "    f = lab_files_path + Batch_3[i]\n",
    "    # Making dataframe of file\n",
    "    df = pd.read_csv(f)\n",
    "    # Making graph of the dataframe.\n",
    "    G = makeGraph(df)\n",
    "    # Storing the graph as an incident matrix(an adjacency matrix)\n",
    "    I = nx.to_numpy_array(G, dtype=np.int32)\n",
    "    # Now resizing the original sparce matrix with the new incident matrix\n",
    "    M3 = resizeMatrix(M3, I)\n",
    "\n",
    "print(\"Dimentions of Batch 3 matrix is: \", np.shape(M3))\n"
   ]
  },
  {
   "cell_type": "markdown",
   "metadata": {},
   "source": [
    "# Training Batch-4"
   ]
  },
  {
   "cell_type": "code",
   "execution_count": 7,
   "metadata": {},
   "outputs": [
    {
     "name": "stdout",
     "output_type": "stream",
     "text": [
      "\n",
      "= = = = = = = = = = = = = = = =\n",
      "Iteration No.:  1\n",
      "\n",
      "= = = = = = = = = = = = = = = =\n",
      "Iteration No.:  2\n",
      "\n",
      "= = = = = = = = = = = = = = = =\n",
      "Iteration No.:  3\n",
      "\n",
      "= = = = = = = = = = = = = = = =\n",
      "Iteration No.:  4\n",
      "Dimentions of Batch 4 matrix is:  (451, 451)\n"
     ]
    }
   ],
   "source": [
    "import pandas as pd\n",
    "import networkx as nx\n",
    "import numpy as np\n",
    "from numpy.core.fromnumeric import shape\n",
    "\n",
    "Z5_file = lab_files_path + Batch_4[0]\n",
    "df = pd.read_csv(Z5_file)\n",
    "G = makeGraph(df)\n",
    "M6 = nx.to_numpy_array(G, dtype=np.int32)\n",
    "\n",
    "for i in range(1, len(Batch_4)):\n",
    "    print(\"\\n= = = = = = = = = = = = = = = =\")\n",
    "    print(\"Iteration No.: \", i)\n",
    "    # Getting file\n",
    "    f = lab_files_path + Batch_4[i]\n",
    "    # Making dataframe of file\n",
    "    df = pd.read_csv(f)\n",
    "    # Making graph of the dataframe.\n",
    "    G = makeGraph(df)\n",
    "    # Storing the graph as an incident matrix(an adjacency matrix)\n",
    "    I = nx.to_numpy_array(G, dtype=np.int32)\n",
    "    # Now resizing the original sparce matrix with the new incident matrix\n",
    "    M6 = resizeMatrix(M6, I)\n",
    "\n",
    "print(\"Dimentions of Batch 4 matrix is: \", np.shape(M6))\n"
   ]
  },
  {
   "cell_type": "markdown",
   "metadata": {},
   "source": [
    "# Validation Batch"
   ]
  },
  {
   "cell_type": "code",
   "execution_count": 8,
   "metadata": {},
   "outputs": [
    {
     "name": "stdout",
     "output_type": "stream",
     "text": [
      "\n",
      "= = = = = = = = = = = = = = = =\n",
      "Iteration No.:  1\n",
      "\n",
      "= = = = = = = = = = = = = = = =\n",
      "Iteration No.:  2\n",
      "\n",
      "= = = = = = = = = = = = = = = =\n",
      "Iteration No.:  3\n",
      "\n",
      "= = = = = = = = = = = = = = = =\n",
      "Iteration No.:  4\n",
      "Dimentions of Validation matrix is:  (956, 956)\n"
     ]
    }
   ],
   "source": [
    "Z3_file = lab_files_path + valid_set[0]\n",
    "df = pd.read_csv(Z3_file)\n",
    "G = makeGraph(df)\n",
    "M4 = nx.to_numpy_array(G, dtype=np.int32)\n",
    "\n",
    "for i in range(1, len(valid_set)):\n",
    "    print(\"\\n= = = = = = = = = = = = = = = =\")\n",
    "    print(\"Iteration No.: \", i)\n",
    "    # Getting file\n",
    "    f = lab_files_path + valid_set[i]\n",
    "    # Making dataframe of file\n",
    "    df = pd.read_csv(f)\n",
    "    # Making graph of the dataframe.\n",
    "    G = makeGraph(df)\n",
    "    # Storing the graph as an incident matrix(an adjacency matrix)\n",
    "    I = nx.to_numpy_array(G, dtype=np.int32)\n",
    "    # Now resizing the original sparce matrix with the new incident matrix\n",
    "    M4 = resizeMatrix(M4, I)\n",
    "\n",
    "print(\"Dimentions of Validation matrix is: \", np.shape(M4))\n"
   ]
  },
  {
   "cell_type": "markdown",
   "metadata": {},
   "source": [
    "# Testing Batch"
   ]
  },
  {
   "cell_type": "code",
   "execution_count": 9,
   "metadata": {},
   "outputs": [
    {
     "name": "stdout",
     "output_type": "stream",
     "text": [
      "\n",
      "= = = = = = = = = = = = = = = =\n",
      "Iteration No.:  1\n",
      "\n",
      "= = = = = = = = = = = = = = = =\n",
      "Iteration No.:  2\n",
      "\n",
      "= = = = = = = = = = = = = = = =\n",
      "Iteration No.:  3\n",
      "\n",
      "= = = = = = = = = = = = = = = =\n",
      "Iteration No.:  4\n",
      "Dimentions of Batch 3 matrix is:  (1012, 1012)\n"
     ]
    }
   ],
   "source": [
    "Z4_file = lab_files_path + test[0]\n",
    "df = pd.read_csv(Z4_file)\n",
    "G = makeGraph(df)\n",
    "M5 = nx.to_numpy_array(G, dtype=np.int32)\n",
    "\n",
    "for i in range(1, len(test)):\n",
    "    print(\"\\n= = = = = = = = = = = = = = = =\")\n",
    "    print(\"Iteration No.: \", i)\n",
    "    # Getting file\n",
    "    f = lab_files_path + test[i]\n",
    "    # Making dataframe of file\n",
    "    df = pd.read_csv(f)\n",
    "    # Making graph of the dataframe.\n",
    "    G = makeGraph(df)\n",
    "    # Storing the graph as an incident matrix(an adjacency matrix)\n",
    "    I = nx.to_numpy_array(G, dtype=np.int32)\n",
    "    # Now resizing the original sparce matrix with the new incident matrix\n",
    "    M5 = resizeMatrix(M5, I)\n",
    "\n",
    "print(\"Dimentions of Batch 3 matrix is: \", np.shape(M5))\n"
   ]
  },
  {
   "cell_type": "markdown",
   "metadata": {},
   "source": [
    "# Saving Matrices"
   ]
  },
  {
   "cell_type": "code",
   "execution_count": 10,
   "metadata": {},
   "outputs": [
    {
     "name": "stdout",
     "output_type": "stream",
     "text": [
      "Saving Matrix\n"
     ]
    }
   ],
   "source": [
    "print(\"Saving Matrix\")\n",
    "# np.save(\"./Matrices/Matrix_b1.npy\", M1)\n",
    "np.save(\"./IDS Model File Matrices/Train_B1.npy\", M1)\n",
    "np.save(\"./IDS Model File Matrices/Train_B2.npy\", M2)\n",
    "np.save(\"./IDS Model File Matrices/Train_B3.npy\", M3)\n",
    "np.save(\"./IDS Model File Matrices/Train_B4.npy\", M6)\n",
    "np.save(\"./IDS Model File Matrices/Validation.npy\", M4)\n",
    "np.save(\"./IDS Model File Matrices/Test.npy\", M5)\n"
   ]
  },
  {
   "cell_type": "markdown",
   "metadata": {},
   "source": [
    "# Loading Training Matrix"
   ]
  },
  {
   "cell_type": "code",
   "execution_count": 230,
   "metadata": {},
   "outputs": [
    {
     "name": "stdout",
     "output_type": "stream",
     "text": [
      "Printing Training Batch_1\n",
      "[[1 1 0 ... 0 0 0]\n",
      " [1 0 1 ... 0 0 0]\n",
      " [0 1 0 ... 0 0 0]\n",
      " ...\n",
      " [0 0 0 ... 0 0 0]\n",
      " [0 0 0 ... 0 0 0]\n",
      " [0 0 0 ... 0 0 0]]\n",
      "(4938, 4938)\n",
      "Printing Training Batch_2\n",
      "[[0 1 1 ... 0 0 0]\n",
      " [1 0 0 ... 0 0 0]\n",
      " [1 0 0 ... 0 0 0]\n",
      " ...\n",
      " [0 0 0 ... 0 1 0]\n",
      " [0 0 0 ... 1 0 0]\n",
      " [0 0 0 ... 0 0 0]]\n",
      "(2460, 2460)\n",
      "Printing Validation Batch\n",
      "[[0 1 1 ... 0 0 0]\n",
      " [1 0 0 ... 0 0 0]\n",
      " [1 0 0 ... 0 0 0]\n",
      " ...\n",
      " [0 0 0 ... 0 0 0]\n",
      " [0 0 0 ... 0 0 0]\n",
      " [0 0 0 ... 0 0 0]]\n",
      "(956, 956)\n",
      "Printing Test Batch\n",
      "[[0 1 1 ... 0 0 0]\n",
      " [1 0 0 ... 0 0 0]\n",
      " [1 0 0 ... 0 0 0]\n",
      " ...\n",
      " [0 0 0 ... 0 0 0]\n",
      " [0 0 0 ... 0 0 1]\n",
      " [0 0 0 ... 0 1 0]]\n",
      "(1012, 1012)\n"
     ]
    }
   ],
   "source": [
    "import numpy as np\n",
    "\n",
    "A1 = np.load(\"./IDS Model File Matrices/Train_B1.npy\")\n",
    "A2 = np.load(\"./IDS Model File Matrices/Train_B2.npy\")\n",
    "A3 = np.load(\"./IDS Model File Matrices/Train_B3.npy\")\n",
    "A4 = np.load(\"./IDS Model File Matrices/Validation.npy\")\n",
    "A5 = np.load(\"./IDS Model File Matrices/Test.npy\")\n",
    "A6 = np.load(\"./IDS Model File Matrices/Train_B4.npy\")\n",
    "\n",
    "print(\"Printing Training Batch_1\")\n",
    "print(A1)\n",
    "print(np.shape(A1))\n",
    "print(\"Printing Training Batch_2\")\n",
    "print(A2)\n",
    "print(np.shape(A2))\n",
    "print(\"Printing Validation Batch\")\n",
    "print(A4)\n",
    "print(np.shape(A4))\n",
    "print(\"Printing Test Batch\")\n",
    "print(A5)\n",
    "print(np.shape(A5))\n"
   ]
  },
  {
   "cell_type": "markdown",
   "metadata": {},
   "source": [
    "# Checking Train Matrix"
   ]
  },
  {
   "cell_type": "code",
   "execution_count": 231,
   "metadata": {},
   "outputs": [
    {
     "name": "stdout",
     "output_type": "stream",
     "text": [
      "(4938, 4938)\n"
     ]
    },
    {
     "data": {
      "image/png": "[encoded data removed]",
      "text/plain": [
       "<Figure size 288x288 with 1 Axes>"
      ]
     },
     "metadata": {
      "needs_background": "light"
     },
     "output_type": "display_data"
    }
   ],
   "source": [
    "import matplotlib.pyplot as plt\n",
    "plt.matshow(A1)\n",
    "print(np.shape(A1))\n"
   ]
  },
  {
   "cell_type": "markdown",
   "metadata": {},
   "source": [
    "# Generating Labels"
   ]
  },
  {
   "cell_type": "code",
   "execution_count": 232,
   "metadata": {},
   "outputs": [],
   "source": [
    "from numpy import nan\n",
    "\n",
    "\n",
    "def returnLabels(direc, files):\n",
    "    train_text = []\n",
    "    labels = []\n",
    "    for f in range(len(files)):\n",
    "        seenList = []\n",
    "        df = pd.read_csv(direc + files[f])\n",
    "        text = df['Object'].to_list()\n",
    "        T_labels = df['labels'].to_list()\n",
    "\n",
    "        for i in range(len(text)):\n",
    "            if(text[i] not in seenList):\n",
    "                labels.append(T_labels[i])\n",
    "                train_text.append(text[i])\n",
    "            seenList.append(text[i])\n",
    "\n",
    "    return labels, train_text\n"
   ]
  },
  {
   "cell_type": "markdown",
   "metadata": {},
   "source": [
    "# Encoding Labels\n",
    "1. Get a list of labels from CSV files.\n",
    "2. Catagorically encode the labels "
   ]
  },
  {
   "cell_type": "code",
   "execution_count": 233,
   "metadata": {},
   "outputs": [
    {
     "name": "stdout",
     "output_type": "stream",
     "text": [
      "Total train labels are:  4938\n",
      "Total train text is:  4938\n",
      "Total train encodings are:  4938\n",
      "Unique train encodings are:  {0, 1, 2, 3, 4, 5, 6, 7, 8, 9}\n",
      "=============================================\n",
      "Total train labels are:  2460\n",
      "Total train text is:  2460\n",
      "Total train encodings are:  2460\n",
      "Unique train encodings are:  {0, 1, 2, 3, 4, 5, 6, 7, 8, 9}\n",
      "=============================================\n",
      "Total train labels are:  856\n",
      "Total train text is:  856\n",
      "Total train encodings are:  856\n",
      "Unique train encodings are:  {0, 1, 2, 3, 4, 5, 6, 7, 8}\n",
      "=============================================\n",
      "Total train labels are:  451\n",
      "Total train text is:  451\n",
      "Total train encodings are:  451\n",
      "Unique train encodings are:  {0, 1, 2, 3, 4, 5, 6, 7, 8}\n",
      "=============================================\n",
      "Total validation labels are:  956\n",
      "Total train encodings are:  956\n",
      "Unique validation encodings are:  {0, 1, 2, 3, 4, 5, 6, 7, 8, 9}\n",
      "=============================================\n"
     ]
    }
   ],
   "source": [
    "from sklearn.preprocessing import LabelEncoder\n",
    "import pandas as pd\n",
    "\n",
    "b1_labels, b1_text = returnLabels(lab_files_path, Batch_1)\n",
    "print(\"Total train labels are: \", len(b1_labels))\n",
    "print(\"Total train text is: \", len(b1_text))\n",
    "\n",
    "lab_encoder = LabelEncoder()\n",
    "b1_encodings = lab_encoder.fit_transform(b1_labels)\n",
    "print(\"Total train encodings are: \", len(b1_encodings))\n",
    "\n",
    "\n",
    "uni_b1_enc = set(b1_encodings)\n",
    "print(\"Unique train encodings are: \", uni_b1_enc)\n",
    "print(\"=============================================\")\n",
    "\n",
    "b2_labels, b2_text = returnLabels(lab_files_path, Batch_2)\n",
    "print(\"Total train labels are: \", len(b2_labels))\n",
    "print(\"Total train text is: \", len(b2_text))\n",
    "\n",
    "lab_encoder = LabelEncoder()\n",
    "b2_encodings = lab_encoder.fit_transform(b2_labels)\n",
    "print(\"Total train encodings are: \", len(b2_encodings))\n",
    "\n",
    "\n",
    "uni_b2_enc = set(b2_encodings)\n",
    "print(\"Unique train encodings are: \", uni_b2_enc)\n",
    "print(\"=============================================\")\n",
    "\n",
    "b3_labels, b3_text = returnLabels(lab_files_path, Batch_3)\n",
    "print(\"Total train labels are: \", len(b3_labels))\n",
    "print(\"Total train text is: \", len(b3_text))\n",
    "\n",
    "lab_encoder = LabelEncoder()\n",
    "b3_encodings = lab_encoder.fit_transform(b3_labels)\n",
    "print(\"Total train encodings are: \", len(b3_encodings))\n",
    "\n",
    "\n",
    "uni_b3_enc = set(b3_encodings)\n",
    "print(\"Unique train encodings are: \", uni_b3_enc)\n",
    "print(\"=============================================\")\n",
    "\n",
    "b4_labels, b4_text = returnLabels(lab_files_path, Batch_4)\n",
    "print(\"Total train labels are: \", len(b4_labels))\n",
    "print(\"Total train text is: \", len(b4_text))\n",
    "\n",
    "lab_encoder = LabelEncoder()\n",
    "b4_encodings = lab_encoder.fit_transform(b4_labels)\n",
    "print(\"Total train encodings are: \", len(b4_encodings))\n",
    "\n",
    "\n",
    "uni_b4_enc = set(b4_encodings)\n",
    "print(\"Unique train encodings are: \", uni_b4_enc)\n",
    "print(\"=============================================\")\n",
    "\n",
    "valid_labels, valid_text = returnLabels(lab_files_path, valid_set)\n",
    "print(\"Total validation labels are: \", len(valid_labels))\n",
    "\n",
    "lab_encoder = LabelEncoder()\n",
    "valid_encodings = lab_encoder.fit_transform(valid_labels)\n",
    "print(\"Total train encodings are: \", len(valid_encodings))\n",
    "\n",
    "\n",
    "uni_valid_enc = set(valid_encodings)\n",
    "print(\"Unique validation encodings are: \", uni_valid_enc)\n",
    "print(\"=============================================\")\n"
   ]
  },
  {
   "cell_type": "markdown",
   "metadata": {},
   "source": [
    "# Deep Learning Libraries"
   ]
  },
  {
   "cell_type": "code",
   "execution_count": 234,
   "metadata": {},
   "outputs": [
    {
     "name": "stdout",
     "output_type": "stream",
     "text": [
      "Libraries Imported..\n"
     ]
    }
   ],
   "source": [
    "# from tensorflow.keras import Sequential\n",
    "\n",
    "from tensorflow.keras.models import Model\n",
    "from tensorflow.keras.layers import Input, Dropout, Dense, Flatten, Activation\n",
    "from tensorflow.keras.callbacks import TensorBoard, EarlyStopping, ModelCheckpoint, ReduceLROnPlateau\n",
    "import tensorflow as tf\n",
    "from tensorflow.keras.regularizers import l2\n",
    "\n",
    "\n",
    "from spektral.utils.sparse import sp_matrix_to_sp_tensor\n",
    "from spektral.layers import GCNConv\n",
    "from sklearn.metrics import classification_report\n",
    "from spektral.utils import normalized_laplacian\n",
    "from spektral.utils.sparse import sp_matrix_to_sp_tensor\n",
    "\n",
    "import matplotlib.pyplot as plt\n",
    "print(\"Libraries Imported..\")\n"
   ]
  },
  {
   "cell_type": "markdown",
   "metadata": {},
   "source": [
    "# Model Hyperparameters"
   ]
  },
  {
   "cell_type": "code",
   "execution_count": 235,
   "metadata": {},
   "outputs": [],
   "source": [
    "# Hyper-parameters\n",
    "dropout = 0.5\n",
    "learning_rate = 1e-4\n",
    "l2_reg = 0.001\n",
    "batch_size = 16\n",
    "es_patience = 10\n"
   ]
  },
  {
   "cell_type": "markdown",
   "metadata": {},
   "source": [
    "# Embeddings for train matrix"
   ]
  },
  {
   "cell_type": "code",
   "execution_count": 236,
   "metadata": {},
   "outputs": [
    {
     "name": "stdout",
     "output_type": "stream",
     "text": [
      "4938\n",
      "Total train test is:  4938\n"
     ]
    }
   ],
   "source": [
    "from gensim.models import Word2Vec\n",
    "Emb_Model = \"./Model/Word2Vec_Model.bin\"\n",
    "Loaded_model = Word2Vec.load(Emb_Model)\n",
    "\n",
    "train_embeddings = []\n",
    "for t in b1_text:\n",
    "    train_embeddings.append(Loaded_model.wv[t])\n",
    "    \n",
    "print(len(train_embeddings))\n",
    "    \n",
    "print(\"Total train test is: \", len(b1_text))\n"
   ]
  },
  {
   "cell_type": "markdown",
   "metadata": {},
   "source": [
    "# Model Definition"
   ]
  },
  {
   "cell_type": "code",
   "execution_count": 237,
   "metadata": {},
   "outputs": [
    {
     "name": "stdout",
     "output_type": "stream",
     "text": [
      "100\n",
      "Total classes are:  10\n",
      "Shape of X-in is:  (None, 100)\n",
      "Shape of A-in is:  (None, None)\n",
      "Model: \"model_19\"\n",
      "__________________________________________________________________________________________________\n",
      " Layer (type)                   Output Shape         Param #     Connected to                     \n",
      "==================================================================================================\n",
      " input_39 (InputLayer)          [(None, 100)]        0           []                               \n",
      "                                                                                                  \n",
      " input_40 (InputLayer)          [(None, None)]       0           []                               \n",
      "                                                                                                  \n",
      " gcn_conv_38 (GCNConv)          (None, 512)          51712       ['input_39[0][0]',               \n",
      "                                                                  'input_40[0][0]']               \n",
      "                                                                                                  \n",
      " gcn_conv_39 (GCNConv)          (None, 256)          131328      ['gcn_conv_38[0][0]',            \n",
      "                                                                  'input_40[0][0]']               \n",
      "                                                                                                  \n",
      " flatten_19 (Flatten)           (None, 256)          0           ['gcn_conv_39[0][0]']            \n",
      "                                                                                                  \n",
      " dense_57 (Dense)               (None, 256)          65792       ['flatten_19[0][0]']             \n",
      "                                                                                                  \n",
      " dense_58 (Dense)               (None, 64)           16448       ['dense_57[0][0]']               \n",
      "                                                                                                  \n",
      " dense_59 (Dense)               (None, 10)           650         ['dense_58[0][0]']               \n",
      "                                                                                                  \n",
      "==================================================================================================\n",
      "Total params: 265,930\n",
      "Trainable params: 265,930\n",
      "Non-trainable params: 0\n",
      "__________________________________________________________________________________________________\n"
     ]
    }
   ],
   "source": [
    "\n",
    "N = A1.shape[0]\n",
    "F = np.shape(train_embeddings)[1]\n",
    "train_embeddings = np.array(train_embeddings)\n",
    "print(F)\n",
    "\n",
    "classes = len(set(b1_labels))\n",
    "print(\"Total classes are: \", classes)\n",
    "\n",
    "# X_in = Input(batch_size=N, shape=(F))\n",
    "X_in = Input(batch_size=None, shape=(F,))\n",
    "print(\"Shape of X-in is: \", np.shape(X_in))\n",
    "\n",
    "# A_in = Input(tensor=sp_matrix_to_sp_tensor(fltr), sparse=True)\n",
    "# A_in = Input(shape=(None,), sparse=True)\n",
    "A_in = Input(shape=(None,))\n",
    "print(\"Shape of A-in is: \", np.shape(A_in))\n",
    "\n",
    "# D1 = Dropout(dropout)(X_in)\n",
    "# G1 = GCNConv(channels, activation='LeakyReLU',\n",
    "            #  kernel_regularizer=l2(l2_reg), use_bias=True)([X_in, A_in])\n",
    "G1 = GCNConv(512, activation='LeakyReLU', use_bias=True)([X_in, A_in])\n",
    "# D2 = Dropout(dropout)(G1)\n",
    "# G2 = GCNConv(channels, activation='LeakyReLU',\n",
    "#              kernel_regularizer=l2(l2_reg), use_bias=True)([G1, A_in])\n",
    "G2 = GCNConv(256, activation='LeakyReLU', use_bias=True)([G1, A_in])\n",
    "\n",
    "# # BN = BatchNormalization()(G2)\n",
    "flatten = Flatten()(G2)\n",
    "\n",
    "D1 = Dense(256, activation='relu')(flatten)\n",
    "# Dr1 = Dropout(dropout)(D1)\n",
    "D2 = Dense(64, activation='relu')(D1)\n",
    "# Dr2 = Dropout(dropout)(D2)\n",
    "# D3 = Dense(16, activation='LeakyReLU')(D2)\n",
    "\n",
    "D2_out = Dense(classes, activation='softmax')(D2)\n",
    "\n",
    "model = Model(inputs=[X_in, A_in], outputs=D2_out)\n",
    "\n",
    "# global_step = tf.Variable(0, trainable=False)\n",
    "# learning_rate = tf.compat.v1.train.exponential_decay(0.0001,global_step,10000, 0.96, staircase=True)\n",
    "opt = tf.optimizers.Adam(learning_rate)\n",
    "model.compile(optimizer=opt,\n",
    "              loss='sparse_categorical_crossentropy', weighted_metrics=['acc'])\n",
    "\n",
    "model.summary()\n"
   ]
  },
  {
   "cell_type": "markdown",
   "metadata": {},
   "source": [
    "# Training Model"
   ]
  },
  {
   "cell_type": "code",
   "execution_count": 238,
   "metadata": {},
   "outputs": [
    {
     "name": "stdout",
     "output_type": "stream",
     "text": [
      "Epoch 1/80\n",
      "1/1 [==============================] - 2s 2s/step - loss: 3.5848 - acc: 0.1442 - val_loss: 4.3345 - val_acc: 0.1130\n",
      "Epoch 2/80\n",
      "1/1 [==============================] - 1s 994ms/step - loss: 3.0536 - acc: 0.1517 - val_loss: 3.8771 - val_acc: 0.1151\n",
      "Epoch 3/80\n",
      "1/1 [==============================] - 1s 1s/step - loss: 2.7294 - acc: 0.1561 - val_loss: 3.5991 - val_acc: 0.1182\n",
      "Epoch 4/80\n",
      "1/1 [==============================] - 1s 973ms/step - loss: 2.5658 - acc: 0.1454 - val_loss: 3.4894 - val_acc: 0.1192\n",
      "Epoch 5/80\n",
      "1/1 [==============================] - 1s 1s/step - loss: 2.4492 - acc: 0.1602 - val_loss: 3.4679 - val_acc: 0.1203\n",
      "Epoch 6/80\n",
      "1/1 [==============================] - 1s 911ms/step - loss: 2.4030 - acc: 0.1634 - val_loss: 3.4646 - val_acc: 0.1224\n",
      "Epoch 7/80\n",
      "1/1 [==============================] - 1s 939ms/step - loss: 2.3466 - acc: 0.1685 - val_loss: 3.4751 - val_acc: 0.1234\n",
      "Epoch 8/80\n",
      "1/1 [==============================] - 1s 972ms/step - loss: 2.2840 - acc: 0.1784 - val_loss: 3.4908 - val_acc: 0.1192\n",
      "Epoch 9/80\n",
      "1/1 [==============================] - 1s 947ms/step - loss: 2.2986 - acc: 0.1543 - val_loss: 3.4784 - val_acc: 0.1224\n",
      "Epoch 10/80\n",
      "1/1 [==============================] - 1s 908ms/step - loss: 2.3298 - acc: 0.1551 - val_loss: 3.4284 - val_acc: 0.1119\n",
      "Epoch 11/80\n",
      "1/1 [==============================] - 1s 913ms/step - loss: 2.3059 - acc: 0.1405 - val_loss: 3.3528 - val_acc: 0.1088\n",
      "Epoch 12/80\n",
      "1/1 [==============================] - 1s 912ms/step - loss: 2.2732 - acc: 0.1503 - val_loss: 3.2677 - val_acc: 0.1098\n",
      "Epoch 13/80\n",
      "1/1 [==============================] - 1s 915ms/step - loss: 2.2002 - acc: 0.1638 - val_loss: 3.1921 - val_acc: 0.1119\n",
      "Epoch 14/80\n",
      "1/1 [==============================] - 1s 910ms/step - loss: 2.1905 - acc: 0.1594 - val_loss: 3.1266 - val_acc: 0.1130\n",
      "Epoch 15/80\n",
      "1/1 [==============================] - 1s 948ms/step - loss: 2.1870 - acc: 0.1703 - val_loss: 3.0752 - val_acc: 0.1203\n",
      "Epoch 16/80\n",
      "1/1 [==============================] - 1s 946ms/step - loss: 2.2019 - acc: 0.1659 - val_loss: 3.0368 - val_acc: 0.1234\n",
      "Epoch 17/80\n",
      "1/1 [==============================] - 1s 958ms/step - loss: 2.2078 - acc: 0.1687 - val_loss: 3.0112 - val_acc: 0.1234\n",
      "Epoch 18/80\n",
      "1/1 [==============================] - 1s 957ms/step - loss: 2.2063 - acc: 0.1697 - val_loss: 2.9878 - val_acc: 0.1234\n",
      "Epoch 19/80\n",
      "1/1 [==============================] - 1s 1s/step - loss: 2.2072 - acc: 0.1772 - val_loss: 2.9618 - val_acc: 0.1266\n",
      "Epoch 20/80\n",
      "1/1 [==============================] - 1s 1s/step - loss: 2.2133 - acc: 0.1804 - val_loss: 2.9349 - val_acc: 0.1318\n",
      "Epoch 21/80\n",
      "1/1 [==============================] - 1s 956ms/step - loss: 2.1990 - acc: 0.1707 - val_loss: 2.9061 - val_acc: 0.1349\n",
      "Epoch 22/80\n",
      "1/1 [==============================] - 1s 892ms/step - loss: 2.1925 - acc: 0.1717 - val_loss: 2.8828 - val_acc: 0.1308\n",
      "Epoch 23/80\n",
      "1/1 [==============================] - 1s 899ms/step - loss: 2.1835 - acc: 0.1738 - val_loss: 2.8629 - val_acc: 0.1234\n",
      "Epoch 24/80\n",
      "1/1 [==============================] - 1s 891ms/step - loss: 2.1623 - acc: 0.1786 - val_loss: 2.8532 - val_acc: 0.1234\n",
      "Epoch 25/80\n",
      "1/1 [==============================] - 1s 889ms/step - loss: 2.1530 - acc: 0.1780 - val_loss: 2.8572 - val_acc: 0.1192\n",
      "Epoch 26/80\n",
      "1/1 [==============================] - 1s 891ms/step - loss: 2.1676 - acc: 0.1693 - val_loss: 2.8682 - val_acc: 0.1172\n",
      "Epoch 27/80\n",
      "1/1 [==============================] - 1s 896ms/step - loss: 2.1601 - acc: 0.1657 - val_loss: 2.8838 - val_acc: 0.1119\n",
      "Epoch 28/80\n",
      "1/1 [==============================] - 1s 888ms/step - loss: 2.1398 - acc: 0.1758 - val_loss: 2.8938 - val_acc: 0.1130\n",
      "Epoch 29/80\n",
      "1/1 [==============================] - 1s 888ms/step - loss: 2.1475 - acc: 0.1697 - val_loss: 2.9017 - val_acc: 0.1151\n",
      "Epoch 30/80\n",
      "1/1 [==============================] - 1s 888ms/step - loss: 2.1557 - acc: 0.1644 - val_loss: 2.8972 - val_acc: 0.1182\n",
      "Epoch 31/80\n",
      "1/1 [==============================] - 1s 888ms/step - loss: 2.1449 - acc: 0.1736 - val_loss: 2.8820 - val_acc: 0.1192\n",
      "Epoch 32/80\n",
      "1/1 [==============================] - 1s 898ms/step - loss: 2.1491 - acc: 0.1768 - val_loss: 2.8556 - val_acc: 0.1255\n",
      "Epoch 33/80\n",
      "1/1 [==============================] - 1s 889ms/step - loss: 2.1408 - acc: 0.1701 - val_loss: 2.8257 - val_acc: 0.1297\n",
      "Epoch 34/80\n",
      "1/1 [==============================] - 1s 892ms/step - loss: 2.1517 - acc: 0.1717 - val_loss: 2.7964 - val_acc: 0.1370\n",
      "Epoch 35/80\n",
      "1/1 [==============================] - 1s 893ms/step - loss: 2.1356 - acc: 0.1768 - val_loss: 2.7681 - val_acc: 0.1402\n",
      "Epoch 36/80\n",
      "1/1 [==============================] - 1s 884ms/step - loss: 2.1510 - acc: 0.1499 - val_loss: 2.7422 - val_acc: 0.1423\n",
      "Epoch 37/80\n",
      "1/1 [==============================] - 1s 889ms/step - loss: 2.1263 - acc: 0.1827 - val_loss: 2.7179 - val_acc: 0.1485\n",
      "Epoch 38/80\n",
      "1/1 [==============================] - 1s 903ms/step - loss: 2.1287 - acc: 0.1794 - val_loss: 2.6930 - val_acc: 0.1600\n",
      "Epoch 39/80\n",
      "1/1 [==============================] - 1s 898ms/step - loss: 2.1305 - acc: 0.1738 - val_loss: 2.6690 - val_acc: 0.1663\n",
      "Epoch 40/80\n",
      "1/1 [==============================] - 1s 901ms/step - loss: 2.1342 - acc: 0.1883 - val_loss: 2.6472 - val_acc: 0.1757\n",
      "Epoch 41/80\n",
      "1/1 [==============================] - 1s 892ms/step - loss: 2.1282 - acc: 0.1778 - val_loss: 2.6265 - val_acc: 0.1820\n",
      "Epoch 42/80\n",
      "1/1 [==============================] - 1s 897ms/step - loss: 2.1404 - acc: 0.1667 - val_loss: 2.6104 - val_acc: 0.1851\n",
      "Epoch 43/80\n",
      "1/1 [==============================] - 1s 893ms/step - loss: 2.1344 - acc: 0.1736 - val_loss: 2.5998 - val_acc: 0.1883\n",
      "Epoch 44/80\n",
      "1/1 [==============================] - 1s 887ms/step - loss: 2.1179 - acc: 0.1867 - val_loss: 2.5936 - val_acc: 0.1904\n",
      "Epoch 45/80\n",
      "1/1 [==============================] - 1s 888ms/step - loss: 2.1237 - acc: 0.1863 - val_loss: 2.5901 - val_acc: 0.1925\n",
      "Epoch 46/80\n",
      "1/1 [==============================] - 1s 889ms/step - loss: 2.1208 - acc: 0.1817 - val_loss: 2.5889 - val_acc: 0.1925\n",
      "Epoch 47/80\n",
      "1/1 [==============================] - 1s 891ms/step - loss: 2.1343 - acc: 0.1802 - val_loss: 2.5891 - val_acc: 0.1925\n",
      "Epoch 48/80\n",
      "1/1 [==============================] - 1s 881ms/step - loss: 2.1287 - acc: 0.1758 - val_loss: 2.5889 - val_acc: 0.1914\n",
      "Epoch 49/80\n",
      "1/1 [==============================] - 1s 885ms/step - loss: 2.1269 - acc: 0.1837 - val_loss: 2.5877 - val_acc: 0.1935\n",
      "Epoch 50/80\n",
      "1/1 [==============================] - 1s 902ms/step - loss: 2.1220 - acc: 0.1774 - val_loss: 2.5828 - val_acc: 0.1967\n",
      "Epoch 51/80\n",
      "1/1 [==============================] - 1s 983ms/step - loss: 2.1220 - acc: 0.1841 - val_loss: 2.5769 - val_acc: 0.1987\n",
      "Epoch 52/80\n",
      "1/1 [==============================] - 1s 897ms/step - loss: 2.1108 - acc: 0.1896 - val_loss: 2.5702 - val_acc: 0.2008\n",
      "Epoch 53/80\n",
      "1/1 [==============================] - 1s 884ms/step - loss: 2.1247 - acc: 0.1881 - val_loss: 2.5634 - val_acc: 0.2071\n",
      "Epoch 54/80\n",
      "1/1 [==============================] - 1s 888ms/step - loss: 2.1240 - acc: 0.1721 - val_loss: 2.5553 - val_acc: 0.2071\n",
      "Epoch 55/80\n",
      "1/1 [==============================] - 1s 990ms/step - loss: 2.1068 - acc: 0.1918 - val_loss: 2.5454 - val_acc: 0.2134\n",
      "Epoch 56/80\n",
      "1/1 [==============================] - 1s 896ms/step - loss: 2.1093 - acc: 0.1869 - val_loss: 2.5349 - val_acc: 0.2155\n",
      "Epoch 57/80\n",
      "1/1 [==============================] - 1s 901ms/step - loss: 2.1210 - acc: 0.1817 - val_loss: 2.5221 - val_acc: 0.2218\n",
      "Epoch 58/80\n",
      "1/1 [==============================] - 1s 899ms/step - loss: 2.1164 - acc: 0.1837 - val_loss: 2.5093 - val_acc: 0.2301\n",
      "Epoch 59/80\n",
      "1/1 [==============================] - 1s 894ms/step - loss: 2.1194 - acc: 0.1849 - val_loss: 2.4972 - val_acc: 0.2312\n",
      "Epoch 60/80\n",
      "1/1 [==============================] - 1s 892ms/step - loss: 2.1181 - acc: 0.1851 - val_loss: 2.4864 - val_acc: 0.2374\n",
      "Epoch 61/80\n",
      "1/1 [==============================] - 1s 891ms/step - loss: 2.1106 - acc: 0.1898 - val_loss: 2.4784 - val_acc: 0.2521\n",
      "Epoch 62/80\n",
      "1/1 [==============================] - 1s 893ms/step - loss: 2.1068 - acc: 0.1798 - val_loss: 2.4733 - val_acc: 0.2615\n",
      "Epoch 63/80\n",
      "1/1 [==============================] - 1s 888ms/step - loss: 2.1160 - acc: 0.1778 - val_loss: 2.4703 - val_acc: 0.2626\n",
      "Epoch 64/80\n",
      "1/1 [==============================] - 1s 890ms/step - loss: 2.1167 - acc: 0.1810 - val_loss: 2.4664 - val_acc: 0.2626\n",
      "Epoch 65/80\n",
      "1/1 [==============================] - 1s 893ms/step - loss: 2.1066 - acc: 0.1873 - val_loss: 2.4626 - val_acc: 0.2594\n",
      "Epoch 66/80\n",
      "1/1 [==============================] - 1s 890ms/step - loss: 2.1001 - acc: 0.1819 - val_loss: 2.4592 - val_acc: 0.2615\n",
      "Epoch 67/80\n",
      "1/1 [==============================] - 1s 893ms/step - loss: 2.1070 - acc: 0.1889 - val_loss: 2.4585 - val_acc: 0.2626\n",
      "Epoch 68/80\n",
      "1/1 [==============================] - 1s 896ms/step - loss: 2.1141 - acc: 0.1817 - val_loss: 2.4594 - val_acc: 0.2573\n",
      "Epoch 69/80\n",
      "1/1 [==============================] - 1s 893ms/step - loss: 2.1054 - acc: 0.1932 - val_loss: 2.4628 - val_acc: 0.2542\n",
      "Epoch 70/80\n",
      "1/1 [==============================] - 1s 894ms/step - loss: 2.1193 - acc: 0.1709 - val_loss: 2.4673 - val_acc: 0.2427\n",
      "Epoch 71/80\n",
      "1/1 [==============================] - 1s 894ms/step - loss: 2.1070 - acc: 0.1954 - val_loss: 2.4707 - val_acc: 0.2395\n",
      "Epoch 72/80\n",
      "1/1 [==============================] - 1s 892ms/step - loss: 2.1174 - acc: 0.1938 - val_loss: 2.4733 - val_acc: 0.2385\n",
      "Epoch 73/80\n",
      "1/1 [==============================] - 1s 928ms/step - loss: 2.1069 - acc: 0.1891 - val_loss: 2.4754 - val_acc: 0.2416\n",
      "Epoch 74/80\n",
      "1/1 [==============================] - 1s 898ms/step - loss: 2.1028 - acc: 0.1916 - val_loss: 2.4758 - val_acc: 0.2448\n",
      "Epoch 75/80\n",
      "1/1 [==============================] - 1s 893ms/step - loss: 2.1054 - acc: 0.1873 - val_loss: 2.4746 - val_acc: 0.2458\n",
      "Epoch 76/80\n",
      "1/1 [==============================] - 1s 892ms/step - loss: 2.1038 - acc: 0.1983 - val_loss: 2.4715 - val_acc: 0.2479\n",
      "Epoch 77/80\n",
      "1/1 [==============================] - 1s 873ms/step - loss: 2.0982 - acc: 0.1979 - val_loss: 2.4675 - val_acc: 0.2542\n",
      "Epoch 78/80\n",
      "1/1 [==============================] - 1s 867ms/step - loss: 2.1061 - acc: 0.1914 - val_loss: 2.4630 - val_acc: 0.2584\n",
      "Epoch 79/80\n",
      "1/1 [==============================] - 1s 869ms/step - loss: 2.1062 - acc: 0.1863 - val_loss: 2.4587 - val_acc: 0.2646\n",
      "Epoch 80/80\n",
      "1/1 [==============================] - 1s 874ms/step - loss: 2.1093 - acc: 0.1819 - val_loss: 2.4556 - val_acc: 0.2730\n"
     ]
    }
   ],
   "source": [
    "validation_text = []\n",
    "for i in range(len(valid_set)):\n",
    "    df = pd.read_csv(lab_files_path+valid_set[i])\n",
    "    Text = df['Object'].to_list()\n",
    "\n",
    "    for T in Text:\n",
    "        validation_text.append(T)\n",
    "\n",
    "\n",
    "valid_embeddings = []\n",
    "for t in valid_text:\n",
    "    valid_embeddings.append(Loaded_model.wv[t])\n",
    "    \n",
    "valid_embeddings = np.array(valid_embeddings)\n",
    "\n",
    "callback = tf.keras.callbacks.EarlyStopping(monitor=\"val_loss\", patience=10)\n",
    "\n",
    "checkpoint = ModelCheckpoint(\n",
    "    \"./Model/Model-{val_acc:.4f}.h5\", monitor='val_acc', save_best_only=True, mode='max')\n",
    "\n",
    "early_stopping = EarlyStopping(monitor='val_loss',\n",
    "                            min_delta=0,\n",
    "                            patience=10,\n",
    "                            verbose=1,\n",
    "                            restore_best_weights=True\n",
    "                            )\n",
    "\n",
    "reduce_learningrate = ReduceLROnPlateau(monitor='val_loss',\n",
    "                                        factor=0.05,\n",
    "                                        patience=10,\n",
    "                                        verbose=1,\n",
    "                                        mode = \"min\",\n",
    "                                        min_delta=0.00001)\n",
    "\n",
    "history = model.fit([train_embeddings, A1],\n",
    "                    b1_encodings,\n",
    "                    epochs=80,\n",
    "                    batch_size=N,\n",
    "                    # class_weight=W,\n",
    "                    validation_data=([valid_embeddings, A4], valid_encodings),\n",
    "                    # callbacks=[checkpoint]\n",
    "                    )\n"
   ]
  },
  {
   "cell_type": "markdown",
   "metadata": {},
   "source": [
    "# Losses"
   ]
  },
  {
   "cell_type": "code",
   "execution_count": 239,
   "metadata": {},
   "outputs": [
    {
     "data": {
      "text/plain": [
       "[<matplotlib.lines.Line2D at 0x1274e0c2760>]"
      ]
     },
     "execution_count": 239,
     "metadata": {},
     "output_type": "execute_result"
    },
    {
     "data": {
      "image/png": "[encoded data removed]",
      "text/plain": [
       "<Figure size 432x288 with 1 Axes>"
      ]
     },
     "metadata": {
      "needs_background": "light"
     },
     "output_type": "display_data"
    }
   ],
   "source": [
    "import keras\n",
    "from matplotlib import pyplot as plt\n",
    "plt.plot(history.history['loss'])\n",
    "plt.plot(history.history['val_loss'])"
   ]
  },
  {
   "cell_type": "markdown",
   "metadata": {},
   "source": [
    "# Accuracy"
   ]
  },
  {
   "cell_type": "code",
   "execution_count": 240,
   "metadata": {},
   "outputs": [
    {
     "data": {
      "text/plain": [
       "[<matplotlib.lines.Line2D at 0x1274dc99790>]"
      ]
     },
     "execution_count": 240,
     "metadata": {},
     "output_type": "execute_result"
    },
    {
     "data": {
      "image/png": "[encoded data removed]",
      "text/plain": [
       "<Figure size 432x288 with 1 Axes>"
      ]
     },
     "metadata": {
      "needs_background": "light"
     },
     "output_type": "display_data"
    }
   ],
   "source": [
    "import keras\n",
    "from matplotlib import pyplot as plt\n",
    "plt.plot(history.history['acc'])\n",
    "plt.plot(history.history['val_acc'])"
   ]
  },
  {
   "cell_type": "markdown",
   "metadata": {},
   "source": [
    "# Saving Model"
   ]
  },
  {
   "cell_type": "code",
   "execution_count": 241,
   "metadata": {},
   "outputs": [],
   "source": [
    "model.save(\n",
    "    \"./Model/Model-{val_acc:03f}.h5\")\n"
   ]
  },
  {
   "cell_type": "markdown",
   "metadata": {},
   "source": [
    "# Loading Model"
   ]
  },
  {
   "cell_type": "code",
   "execution_count": 249,
   "metadata": {},
   "outputs": [],
   "source": [
    "from keras.models import load_model\n",
    "model = load_model(\"./Model/Model-{val_acc:03f}.h5\",\n",
    "                   custom_objects={\"GCNConv\": GCNConv})\n",
    "# model.summary()\n"
   ]
  },
  {
   "cell_type": "markdown",
   "metadata": {},
   "source": [
    "# Training on Batch-2"
   ]
  },
  {
   "cell_type": "code",
   "execution_count": 253,
   "metadata": {},
   "outputs": [
    {
     "name": "stdout",
     "output_type": "stream",
     "text": [
      "Epoch 1/100\n",
      "1/1 [==============================] - 0s 393ms/step - loss: 2.1905 - acc: 0.2065 - val_loss: 2.2746 - val_acc: 0.1695\n",
      "Epoch 2/100\n",
      "1/1 [==============================] - 0s 365ms/step - loss: 2.1819 - acc: 0.1870 - val_loss: 2.2755 - val_acc: 0.1611\n",
      "Epoch 3/100\n",
      "1/1 [==============================] - 0s 360ms/step - loss: 2.1702 - acc: 0.2102 - val_loss: 2.2745 - val_acc: 0.1621\n",
      "Epoch 4/100\n",
      "1/1 [==============================] - 0s 316ms/step - loss: 2.1623 - acc: 0.2154 - val_loss: 2.2713 - val_acc: 0.1642\n",
      "Epoch 5/100\n",
      "1/1 [==============================] - 0s 324ms/step - loss: 2.1692 - acc: 0.2065 - val_loss: 2.2673 - val_acc: 0.1747\n",
      "Epoch 6/100\n",
      "1/1 [==============================] - 0s 313ms/step - loss: 2.1658 - acc: 0.2049 - val_loss: 2.2620 - val_acc: 0.1778\n",
      "Epoch 7/100\n",
      "1/1 [==============================] - 0s 320ms/step - loss: 2.1587 - acc: 0.2228 - val_loss: 2.2546 - val_acc: 0.1768\n",
      "Epoch 8/100\n",
      "1/1 [==============================] - 0s 325ms/step - loss: 2.1514 - acc: 0.2244 - val_loss: 2.2470 - val_acc: 0.1778\n",
      "Epoch 9/100\n",
      "1/1 [==============================] - 0s 316ms/step - loss: 2.1425 - acc: 0.2171 - val_loss: 2.2401 - val_acc: 0.1789\n",
      "Epoch 10/100\n",
      "1/1 [==============================] - 0s 325ms/step - loss: 2.1487 - acc: 0.2138 - val_loss: 2.2350 - val_acc: 0.1831\n",
      "Epoch 11/100\n",
      "1/1 [==============================] - 0s 315ms/step - loss: 2.1530 - acc: 0.2256 - val_loss: 2.2314 - val_acc: 0.1851\n",
      "Epoch 12/100\n",
      "1/1 [==============================] - 0s 338ms/step - loss: 2.1633 - acc: 0.2093 - val_loss: 2.2279 - val_acc: 0.1851\n",
      "Epoch 13/100\n",
      "1/1 [==============================] - 0s 306ms/step - loss: 2.1582 - acc: 0.1951 - val_loss: 2.2259 - val_acc: 0.1789\n",
      "Epoch 14/100\n",
      "1/1 [==============================] - 0s 320ms/step - loss: 2.1541 - acc: 0.2244 - val_loss: 2.2249 - val_acc: 0.1799\n",
      "Epoch 15/100\n",
      "1/1 [==============================] - 0s 315ms/step - loss: 2.1496 - acc: 0.2150 - val_loss: 2.2238 - val_acc: 0.1810\n",
      "Epoch 16/100\n",
      "1/1 [==============================] - 0s 320ms/step - loss: 2.1543 - acc: 0.2098 - val_loss: 2.2228 - val_acc: 0.1789\n",
      "Epoch 17/100\n",
      "1/1 [==============================] - 0s 310ms/step - loss: 2.1398 - acc: 0.2069 - val_loss: 2.2222 - val_acc: 0.1872\n",
      "Epoch 18/100\n",
      "1/1 [==============================] - 0s 306ms/step - loss: 2.1330 - acc: 0.2171 - val_loss: 2.2237 - val_acc: 0.1935\n",
      "Epoch 19/100\n",
      "1/1 [==============================] - 0s 312ms/step - loss: 2.1499 - acc: 0.2163 - val_loss: 2.2258 - val_acc: 0.1967\n",
      "Epoch 20/100\n",
      "1/1 [==============================] - 0s 307ms/step - loss: 2.1492 - acc: 0.2240 - val_loss: 2.2283 - val_acc: 0.1987\n",
      "Epoch 21/100\n",
      "1/1 [==============================] - 0s 308ms/step - loss: 2.1353 - acc: 0.2276 - val_loss: 2.2309 - val_acc: 0.1956\n",
      "Epoch 22/100\n",
      "1/1 [==============================] - 0s 308ms/step - loss: 2.1535 - acc: 0.2183 - val_loss: 2.2334 - val_acc: 0.1925\n",
      "Epoch 23/100\n",
      "1/1 [==============================] - 0s 305ms/step - loss: 2.1568 - acc: 0.2130 - val_loss: 2.2366 - val_acc: 0.1872\n",
      "Epoch 24/100\n",
      "1/1 [==============================] - 0s 307ms/step - loss: 2.1360 - acc: 0.2191 - val_loss: 2.2397 - val_acc: 0.1831\n",
      "Epoch 25/100\n",
      "1/1 [==============================] - 0s 308ms/step - loss: 2.1450 - acc: 0.2232 - val_loss: 2.2429 - val_acc: 0.1726\n",
      "Epoch 26/100\n",
      "1/1 [==============================] - 0s 310ms/step - loss: 2.1539 - acc: 0.2065 - val_loss: 2.2456 - val_acc: 0.1715\n",
      "Epoch 27/100\n",
      "1/1 [==============================] - 0s 312ms/step - loss: 2.1407 - acc: 0.2220 - val_loss: 2.2497 - val_acc: 0.1621\n",
      "Epoch 28/100\n",
      "1/1 [==============================] - 0s 305ms/step - loss: 2.1518 - acc: 0.2016 - val_loss: 2.2541 - val_acc: 0.1632\n",
      "Epoch 29/100\n",
      "1/1 [==============================] - 0s 309ms/step - loss: 2.1327 - acc: 0.2175 - val_loss: 2.2598 - val_acc: 0.1715\n",
      "Epoch 30/100\n",
      "1/1 [==============================] - 0s 308ms/step - loss: 2.1306 - acc: 0.2240 - val_loss: 2.2666 - val_acc: 0.1736\n",
      "Epoch 31/100\n",
      "1/1 [==============================] - 0s 308ms/step - loss: 2.1373 - acc: 0.2313 - val_loss: 2.2739 - val_acc: 0.1768\n",
      "Epoch 32/100\n",
      "1/1 [==============================] - 0s 319ms/step - loss: 2.1429 - acc: 0.2159 - val_loss: 2.2804 - val_acc: 0.1820\n",
      "Epoch 33/100\n",
      "1/1 [==============================] - 0s 346ms/step - loss: 2.1335 - acc: 0.2179 - val_loss: 2.2858 - val_acc: 0.1841\n",
      "Epoch 34/100\n",
      "1/1 [==============================] - 0s 322ms/step - loss: 2.1373 - acc: 0.2341 - val_loss: 2.2896 - val_acc: 0.1862\n",
      "Epoch 35/100\n",
      "1/1 [==============================] - 0s 306ms/step - loss: 2.1339 - acc: 0.2154 - val_loss: 2.2922 - val_acc: 0.1862\n",
      "Epoch 36/100\n",
      "1/1 [==============================] - 0s 308ms/step - loss: 2.1359 - acc: 0.2301 - val_loss: 2.2937 - val_acc: 0.1851\n",
      "Epoch 37/100\n",
      "1/1 [==============================] - 0s 305ms/step - loss: 2.1309 - acc: 0.2167 - val_loss: 2.2936 - val_acc: 0.1831\n",
      "Epoch 38/100\n",
      "1/1 [==============================] - 0s 311ms/step - loss: 2.1321 - acc: 0.2215 - val_loss: 2.2929 - val_acc: 0.1799\n",
      "Epoch 39/100\n",
      "1/1 [==============================] - 0s 311ms/step - loss: 2.1458 - acc: 0.2102 - val_loss: 2.2916 - val_acc: 0.1799\n",
      "Epoch 40/100\n",
      "1/1 [==============================] - 0s 306ms/step - loss: 2.1348 - acc: 0.2285 - val_loss: 2.2915 - val_acc: 0.1810\n",
      "Epoch 41/100\n",
      "1/1 [==============================] - 0s 307ms/step - loss: 2.1453 - acc: 0.2244 - val_loss: 2.2924 - val_acc: 0.1851\n",
      "Epoch 42/100\n",
      "1/1 [==============================] - 0s 314ms/step - loss: 2.1382 - acc: 0.2244 - val_loss: 2.2936 - val_acc: 0.1883\n",
      "Epoch 43/100\n",
      "1/1 [==============================] - 0s 308ms/step - loss: 2.1427 - acc: 0.2199 - val_loss: 2.2936 - val_acc: 0.1893\n",
      "Epoch 44/100\n",
      "1/1 [==============================] - 0s 302ms/step - loss: 2.1390 - acc: 0.2187 - val_loss: 2.2952 - val_acc: 0.1914\n",
      "Epoch 45/100\n",
      "1/1 [==============================] - 0s 303ms/step - loss: 2.1337 - acc: 0.2252 - val_loss: 2.2979 - val_acc: 0.1935\n",
      "Epoch 46/100\n",
      "1/1 [==============================] - 0s 316ms/step - loss: 2.1438 - acc: 0.2175 - val_loss: 2.3011 - val_acc: 0.1925\n",
      "Epoch 47/100\n",
      "1/1 [==============================] - 0s 307ms/step - loss: 2.1397 - acc: 0.2260 - val_loss: 2.3026 - val_acc: 0.1925\n",
      "Epoch 48/100\n",
      "1/1 [==============================] - 0s 310ms/step - loss: 2.1342 - acc: 0.2264 - val_loss: 2.3050 - val_acc: 0.1914\n",
      "Epoch 49/100\n",
      "1/1 [==============================] - 0s 313ms/step - loss: 2.1383 - acc: 0.2252 - val_loss: 2.3058 - val_acc: 0.1935\n",
      "Epoch 50/100\n",
      "1/1 [==============================] - 0s 303ms/step - loss: 2.1319 - acc: 0.2341 - val_loss: 2.3056 - val_acc: 0.1893\n",
      "Epoch 51/100\n",
      "1/1 [==============================] - 0s 304ms/step - loss: 2.1347 - acc: 0.2215 - val_loss: 2.3053 - val_acc: 0.1904\n",
      "Epoch 52/100\n",
      "1/1 [==============================] - 0s 315ms/step - loss: 2.1348 - acc: 0.2305 - val_loss: 2.3047 - val_acc: 0.1883\n",
      "Epoch 53/100\n",
      "1/1 [==============================] - 0s 309ms/step - loss: 2.1285 - acc: 0.2276 - val_loss: 2.3058 - val_acc: 0.1862\n",
      "Epoch 54/100\n",
      "1/1 [==============================] - 0s 306ms/step - loss: 2.1289 - acc: 0.2272 - val_loss: 2.3081 - val_acc: 0.1841\n",
      "Epoch 55/100\n",
      "1/1 [==============================] - 0s 306ms/step - loss: 2.1408 - acc: 0.2215 - val_loss: 2.3110 - val_acc: 0.1810\n",
      "Epoch 56/100\n",
      "1/1 [==============================] - 0s 308ms/step - loss: 2.1380 - acc: 0.2268 - val_loss: 2.3148 - val_acc: 0.1841\n",
      "Epoch 57/100\n",
      "1/1 [==============================] - 0s 417ms/step - loss: 2.1278 - acc: 0.2199 - val_loss: 2.3194 - val_acc: 0.1841\n",
      "Epoch 58/100\n",
      "1/1 [==============================] - 0s 310ms/step - loss: 2.1359 - acc: 0.2232 - val_loss: 2.3247 - val_acc: 0.1831\n",
      "Epoch 59/100\n",
      "1/1 [==============================] - 0s 301ms/step - loss: 2.1278 - acc: 0.2199 - val_loss: 2.3304 - val_acc: 0.1851\n",
      "Epoch 60/100\n",
      "1/1 [==============================] - 0s 309ms/step - loss: 2.1153 - acc: 0.2447 - val_loss: 2.3357 - val_acc: 0.1851\n",
      "Epoch 61/100\n",
      "1/1 [==============================] - 0s 304ms/step - loss: 2.1239 - acc: 0.2215 - val_loss: 2.3407 - val_acc: 0.1883\n",
      "Epoch 62/100\n",
      "1/1 [==============================] - 0s 310ms/step - loss: 2.1352 - acc: 0.2228 - val_loss: 2.3429 - val_acc: 0.1883\n",
      "Epoch 63/100\n",
      "1/1 [==============================] - 0s 307ms/step - loss: 2.1353 - acc: 0.2232 - val_loss: 2.3444 - val_acc: 0.1914\n",
      "Epoch 64/100\n",
      "1/1 [==============================] - 0s 305ms/step - loss: 2.1382 - acc: 0.2252 - val_loss: 2.3459 - val_acc: 0.1893\n",
      "Epoch 65/100\n",
      "1/1 [==============================] - 0s 310ms/step - loss: 2.1257 - acc: 0.2297 - val_loss: 2.3470 - val_acc: 0.1914\n",
      "Epoch 66/100\n",
      "1/1 [==============================] - 0s 306ms/step - loss: 2.1321 - acc: 0.2394 - val_loss: 2.3464 - val_acc: 0.1883\n",
      "Epoch 67/100\n",
      "1/1 [==============================] - 0s 306ms/step - loss: 2.1380 - acc: 0.2309 - val_loss: 2.3450 - val_acc: 0.1904\n",
      "Epoch 68/100\n",
      "1/1 [==============================] - 0s 306ms/step - loss: 2.1418 - acc: 0.2276 - val_loss: 2.3448 - val_acc: 0.1904\n",
      "Epoch 69/100\n",
      "1/1 [==============================] - 0s 299ms/step - loss: 2.1260 - acc: 0.2252 - val_loss: 2.3469 - val_acc: 0.1893\n",
      "Epoch 70/100\n",
      "1/1 [==============================] - 0s 306ms/step - loss: 2.1373 - acc: 0.2301 - val_loss: 2.3507 - val_acc: 0.1914\n",
      "Epoch 71/100\n",
      "1/1 [==============================] - 0s 309ms/step - loss: 2.1344 - acc: 0.2171 - val_loss: 2.3570 - val_acc: 0.1925\n",
      "Epoch 72/100\n",
      "1/1 [==============================] - 0s 321ms/step - loss: 2.1333 - acc: 0.2317 - val_loss: 2.3649 - val_acc: 0.1935\n",
      "Epoch 73/100\n",
      "1/1 [==============================] - 0s 308ms/step - loss: 2.1325 - acc: 0.2293 - val_loss: 2.3720 - val_acc: 0.1946\n",
      "Epoch 74/100\n",
      "1/1 [==============================] - 0s 309ms/step - loss: 2.1350 - acc: 0.2297 - val_loss: 2.3761 - val_acc: 0.1935\n",
      "Epoch 75/100\n",
      "1/1 [==============================] - 0s 305ms/step - loss: 2.1309 - acc: 0.2268 - val_loss: 2.3801 - val_acc: 0.1946\n",
      "Epoch 76/100\n",
      "1/1 [==============================] - 0s 308ms/step - loss: 2.1292 - acc: 0.2264 - val_loss: 2.3848 - val_acc: 0.1946\n",
      "Epoch 77/100\n",
      "1/1 [==============================] - 0s 310ms/step - loss: 2.1223 - acc: 0.2280 - val_loss: 2.3903 - val_acc: 0.1956\n",
      "Epoch 78/100\n",
      "1/1 [==============================] - 0s 305ms/step - loss: 2.1257 - acc: 0.2309 - val_loss: 2.3966 - val_acc: 0.1967\n",
      "Epoch 79/100\n",
      "1/1 [==============================] - 0s 306ms/step - loss: 2.1286 - acc: 0.2435 - val_loss: 2.4008 - val_acc: 0.1967\n",
      "Epoch 80/100\n",
      "1/1 [==============================] - 0s 304ms/step - loss: 2.1214 - acc: 0.2293 - val_loss: 2.4036 - val_acc: 0.1998\n",
      "Epoch 81/100\n",
      "1/1 [==============================] - 0s 312ms/step - loss: 2.1207 - acc: 0.2264 - val_loss: 2.4060 - val_acc: 0.1998\n",
      "Epoch 82/100\n",
      "1/1 [==============================] - 0s 306ms/step - loss: 2.1311 - acc: 0.2301 - val_loss: 2.4057 - val_acc: 0.2019\n",
      "Epoch 83/100\n",
      "1/1 [==============================] - 0s 303ms/step - loss: 2.1260 - acc: 0.2305 - val_loss: 2.4020 - val_acc: 0.2050\n",
      "Epoch 84/100\n",
      "1/1 [==============================] - 0s 314ms/step - loss: 2.1354 - acc: 0.2175 - val_loss: 2.3986 - val_acc: 0.2082\n",
      "Epoch 85/100\n",
      "1/1 [==============================] - 0s 305ms/step - loss: 2.1385 - acc: 0.2415 - val_loss: 2.3924 - val_acc: 0.2082\n",
      "Epoch 86/100\n",
      "1/1 [==============================] - 0s 305ms/step - loss: 2.1179 - acc: 0.2317 - val_loss: 2.3867 - val_acc: 0.2092\n",
      "Epoch 87/100\n",
      "1/1 [==============================] - 0s 306ms/step - loss: 2.1336 - acc: 0.2272 - val_loss: 2.3826 - val_acc: 0.2092\n",
      "Epoch 88/100\n",
      "1/1 [==============================] - 0s 304ms/step - loss: 2.1332 - acc: 0.2199 - val_loss: 2.3815 - val_acc: 0.2092\n",
      "Epoch 89/100\n",
      "1/1 [==============================] - 0s 306ms/step - loss: 2.1250 - acc: 0.2317 - val_loss: 2.3811 - val_acc: 0.2092\n",
      "Epoch 90/100\n",
      "1/1 [==============================] - 0s 304ms/step - loss: 2.1277 - acc: 0.2337 - val_loss: 2.3811 - val_acc: 0.2113\n",
      "Epoch 91/100\n",
      "1/1 [==============================] - 0s 312ms/step - loss: 2.1368 - acc: 0.2301 - val_loss: 2.3815 - val_acc: 0.2123\n",
      "Epoch 92/100\n",
      "1/1 [==============================] - 0s 308ms/step - loss: 2.1283 - acc: 0.2317 - val_loss: 2.3847 - val_acc: 0.2144\n",
      "Epoch 93/100\n",
      "1/1 [==============================] - 0s 308ms/step - loss: 2.1256 - acc: 0.2435 - val_loss: 2.3875 - val_acc: 0.2144\n",
      "Epoch 94/100\n",
      "1/1 [==============================] - 0s 307ms/step - loss: 2.1289 - acc: 0.2350 - val_loss: 2.3897 - val_acc: 0.2123\n",
      "Epoch 95/100\n",
      "1/1 [==============================] - 0s 304ms/step - loss: 2.1158 - acc: 0.2492 - val_loss: 2.3907 - val_acc: 0.2134\n",
      "Epoch 96/100\n",
      "1/1 [==============================] - 0s 303ms/step - loss: 2.1324 - acc: 0.2272 - val_loss: 2.3910 - val_acc: 0.2144\n",
      "Epoch 97/100\n",
      "1/1 [==============================] - 0s 303ms/step - loss: 2.1220 - acc: 0.2512 - val_loss: 2.3913 - val_acc: 0.2123\n",
      "Epoch 98/100\n",
      "1/1 [==============================] - 0s 299ms/step - loss: 2.1196 - acc: 0.2358 - val_loss: 2.3911 - val_acc: 0.2123\n",
      "Epoch 99/100\n",
      "1/1 [==============================] - 0s 302ms/step - loss: 2.1299 - acc: 0.2280 - val_loss: 2.3933 - val_acc: 0.2134\n",
      "Epoch 100/100\n",
      "1/1 [==============================] - 0s 304ms/step - loss: 2.1236 - acc: 0.2313 - val_loss: 2.3967 - val_acc: 0.2144\n"
     ]
    }
   ],
   "source": [
    "b2_embeddings = []\n",
    "# print(len(b2_text))\n",
    "\n",
    "for t2 in b2_text:\n",
    "    b2_embeddings.append(Loaded_model.wv[t2])\n",
    "\n",
    "b2_embeddings=np.array(b2_embeddings)\n",
    "\n",
    "\n",
    "history = model.fit([b2_embeddings, A2],\n",
    "                    b2_encodings,\n",
    "                    epochs=100,\n",
    "                    batch_size=N,\n",
    "                    # class_weight=W,\n",
    "                    validation_data=([valid_embeddings, A4], valid_encodings),\n",
    "                    # callbacks=[reduce_learningrate]\n",
    "                    )\n"
   ]
  },
  {
   "cell_type": "markdown",
   "metadata": {},
   "source": [
    "# Checking loss for Batch-2"
   ]
  },
  {
   "cell_type": "code",
   "execution_count": 254,
   "metadata": {},
   "outputs": [
    {
     "data": {
      "text/plain": [
       "[<matplotlib.lines.Line2D at 0x127516627f0>]"
      ]
     },
     "execution_count": 254,
     "metadata": {},
     "output_type": "execute_result"
    },
    {
     "data": {
      "image/png": "[encoded data removed]",
      "text/plain": [
       "<Figure size 432x288 with 1 Axes>"
      ]
     },
     "metadata": {
      "needs_background": "light"
     },
     "output_type": "display_data"
    }
   ],
   "source": [
    "import keras\n",
    "from matplotlib import pyplot as plt\n",
    "plt.plot(history.history['loss'])\n",
    "plt.plot(history.history['val_loss'])\n"
   ]
  },
  {
   "cell_type": "markdown",
   "metadata": {},
   "source": [
    "# Checking accuracy for Batch-2"
   ]
  },
  {
   "cell_type": "code",
   "execution_count": 255,
   "metadata": {},
   "outputs": [
    {
     "data": {
      "text/plain": [
       "[<matplotlib.lines.Line2D at 0x1273e1036a0>]"
      ]
     },
     "execution_count": 255,
     "metadata": {},
     "output_type": "execute_result"
    },
    {
     "data": {
      "image/png": "[encoded data removed]",
      "text/plain": [
       "<Figure size 432x288 with 1 Axes>"
      ]
     },
     "metadata": {
      "needs_background": "light"
     },
     "output_type": "display_data"
    }
   ],
   "source": [
    "import keras\n",
    "from matplotlib import pyplot as plt\n",
    "plt.plot(history.history['acc'])\n",
    "plt.plot(history.history['val_acc'])"
   ]
  },
  {
   "cell_type": "markdown",
   "metadata": {},
   "source": [
    "# Saving Second Batch-Training"
   ]
  },
  {
   "cell_type": "code",
   "execution_count": 256,
   "metadata": {},
   "outputs": [],
   "source": [
    "model.save(\n",
    "    \"./Model/IDS_Batch1_{val_acc:03f}.h5\")\n"
   ]
  },
  {
   "cell_type": "markdown",
   "metadata": {},
   "source": [
    "# Loading Model"
   ]
  },
  {
   "cell_type": "code",
   "execution_count": 264,
   "metadata": {},
   "outputs": [],
   "source": [
    "from keras.models import load_model\n",
    "model = load_model(\"./Model/IDS_Batch1_{val_acc:03f}.h5\",\n",
    "                   custom_objects={\"GCNConv\": GCNConv})\n",
    "# model.summary()\n"
   ]
  },
  {
   "cell_type": "markdown",
   "metadata": {},
   "source": [
    "# Training Batch-3"
   ]
  },
  {
   "cell_type": "code",
   "execution_count": 265,
   "metadata": {},
   "outputs": [
    {
     "name": "stdout",
     "output_type": "stream",
     "text": [
      "Epoch 1/3\n",
      "1/1 [==============================] - 1s 582ms/step - loss: 3.1028 - acc: 0.2021 - val_loss: 2.3433 - val_acc: 0.2186\n",
      "Epoch 2/3\n",
      "1/1 [==============================] - 0s 110ms/step - loss: 2.7950 - acc: 0.1998 - val_loss: 2.2844 - val_acc: 0.2144\n",
      "Epoch 3/3\n",
      "1/1 [==============================] - 0s 118ms/step - loss: 2.5102 - acc: 0.1636 - val_loss: 2.2462 - val_acc: 0.2050\n"
     ]
    }
   ],
   "source": [
    "b3_embeddings = []\n",
    "# print(len(b2_text))\n",
    "\n",
    "for t3 in b3_text:\n",
    "    b3_embeddings.append(Loaded_model.wv[t3])\n",
    "\n",
    "b3_embeddings = np.array(b3_embeddings)\n",
    "\n",
    "\n",
    "history = model.fit([b3_embeddings, A3],\n",
    "                    b3_encodings,\n",
    "                    epochs=3,\n",
    "                    batch_size=N,\n",
    "                    # class_weight=W,\n",
    "                    validation_data=([valid_embeddings, A4], valid_encodings),\n",
    "                    # callbacks=[reduce_learningrate]\n",
    "                    )\n"
   ]
  },
  {
   "cell_type": "markdown",
   "metadata": {},
   "source": [
    "# Checking-Loss"
   ]
  },
  {
   "cell_type": "code",
   "execution_count": 266,
   "metadata": {},
   "outputs": [
    {
     "data": {
      "text/plain": [
       "[<matplotlib.lines.Line2D at 0x12726c22430>]"
      ]
     },
     "execution_count": 266,
     "metadata": {},
     "output_type": "execute_result"
    },
    {
     "data": {
      "image/png": "[encoded data removed]",
      "text/plain": [
       "<Figure size 432x288 with 1 Axes>"
      ]
     },
     "metadata": {
      "needs_background": "light"
     },
     "output_type": "display_data"
    }
   ],
   "source": [
    "import keras\n",
    "from matplotlib import pyplot as plt\n",
    "plt.plot(history.history['loss'])\n",
    "plt.plot(history.history['val_loss'])\n"
   ]
  },
  {
   "cell_type": "markdown",
   "metadata": {},
   "source": [
    "# Checking Accuracy"
   ]
  },
  {
   "cell_type": "code",
   "execution_count": 267,
   "metadata": {},
   "outputs": [
    {
     "data": {
      "text/plain": [
       "[<matplotlib.lines.Line2D at 0x12726c6a370>]"
      ]
     },
     "execution_count": 267,
     "metadata": {},
     "output_type": "execute_result"
    },
    {
     "data": {
      "image/png": "[encoded data removed]",
      "text/plain": [
       "<Figure size 432x288 with 1 Axes>"
      ]
     },
     "metadata": {
      "needs_background": "light"
     },
     "output_type": "display_data"
    }
   ],
   "source": [
    "import keras\n",
    "from matplotlib import pyplot as plt\n",
    "plt.plot(history.history['acc'])\n",
    "plt.plot(history.history['val_acc'])\n"
   ]
  },
  {
   "cell_type": "markdown",
   "metadata": {},
   "source": [
    "# Saving Model"
   ]
  },
  {
   "cell_type": "code",
   "execution_count": 268,
   "metadata": {},
   "outputs": [],
   "source": [
    "model.save(\n",
    "    \"./Model/IDS_Batch1_{val_acc:03f}.h5\")\n"
   ]
  },
  {
   "cell_type": "markdown",
   "metadata": {},
   "source": [
    "# Loading Model"
   ]
  },
  {
   "cell_type": "code",
   "execution_count": 278,
   "metadata": {},
   "outputs": [],
   "source": [
    "from keras.models import load_model\n",
    "model = load_model(\"./Model/IDS_Batch1_{val_acc:03f}.h5\",\n",
    "                   custom_objects={\"GCNConv\": GCNConv})\n",
    "# model.summary()\n",
    "# "
   ]
  },
  {
   "cell_type": "markdown",
   "metadata": {},
   "source": [
    "# Training Batch-4"
   ]
  },
  {
   "cell_type": "code",
   "execution_count": 279,
   "metadata": {},
   "outputs": [
    {
     "name": "stdout",
     "output_type": "stream",
     "text": [
      "1/1 [==============================] - 1s 555ms/step - loss: 2.3671 - acc: 0.1397 - val_loss: 2.2273 - val_acc: 0.1935\n"
     ]
    }
   ],
   "source": [
    "b4_embeddings = []\n",
    "# print(len(b2_text))\n",
    "\n",
    "for t4 in b4_text:\n",
    "    b4_embeddings.append(Loaded_model.wv[t4])\n",
    "\n",
    "b4_embeddings = np.array(b4_embeddings)\n",
    "\n",
    "valid_embeddings = []\n",
    "for t in valid_text:\n",
    "    valid_embeddings.append(Loaded_model.wv[t])\n",
    "\n",
    "valid_embeddings = np.array(valid_embeddings)\n",
    "\n",
    "callback = tf.keras.callbacks.EarlyStopping(monitor=\"val_acc\", patience=25)\n",
    "\n",
    "history = model.fit([b4_embeddings, A6],\n",
    "                    b4_encodings,\n",
    "                    epochs=1,\n",
    "                    batch_size=N,\n",
    "                    # class_weight=W,\n",
    "                    validation_data=([valid_embeddings, A4], valid_encodings),\n",
    "                    # callbacks=[callback]\n",
    "                    )\n"
   ]
  }
 ],
 "metadata": {
  "interpreter": {
   "hash": "35146d2ce121e8e653791712ad16cca408ea08bd1c84e92938f653a743d84e6c"
  },
  "kernelspec": {
   "display_name": "Python 3.8.10 64-bit ('Graphs': conda)",
   "language": "python",
   "name": "python3"
  },
  "language_info": {
   "codemirror_mode": {
    "name": "ipython",
    "version": 3
   },
   "file_extension": ".py",
   "mimetype": "text/x-python",
   "name": "python",
   "nbconvert_exporter": "python",
   "pygments_lexer": "ipython3",
   "version": "3.8.10"
  },
  "orig_nbformat": 4
 },
 "nbformat": 4,
 "nbformat_minor": 2
}
