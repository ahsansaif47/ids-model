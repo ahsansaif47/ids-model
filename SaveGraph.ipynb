{
 "cells": [
  {
   "cell_type": "markdown",
   "metadata": {},
   "source": [
    "# Loading Libraries"
   ]
  },
  {
   "cell_type": "code",
   "execution_count": 8,
   "metadata": {},
   "outputs": [],
   "source": [
    "import networkx as nx\n",
    "import os\n",
    "import pandas as pd\n",
    "import pickle\n",
    "from Mat_Package import Grapher\n"
   ]
  },
  {
   "cell_type": "markdown",
   "metadata": {},
   "source": [
    "# Making Graph"
   ]
  },
  {
   "cell_type": "code",
   "execution_count": 9,
   "metadata": {},
   "outputs": [
    {
     "name": "stdout",
     "output_type": "stream",
     "text": [
      "Iteration 0\n",
      "= = = = = = = = = =\n",
      "Iteration  1\n",
      "= = = = = = = = = =\n",
      "Iteration  2\n",
      "= = = = = = = = = =\n",
      "Iteration  3\n",
      "= = = = = = = = = =\n",
      "Iteration  4\n",
      "= = = = = = = = = =\n",
      "Iteration  5\n",
      "= = = = = = = = = =\n",
      "Iteration  6\n",
      "= = = = = = = = = =\n",
      "Iteration  7\n",
      "= = = = = = = = = =\n",
      "Iteration  8\n",
      "= = = = = = = = = =\n",
      "Iteration  9\n",
      "= = = = = = = = = =\n",
      "Iteration  10\n",
      "= = = = = = = = = =\n",
      "Iteration  11\n",
      "= = = = = = = = = =\n",
      "Iteration  12\n",
      "= = = = = = = = = =\n",
      "Iteration  13\n",
      "= = = = = = = = = =\n",
      "Iteration  14\n",
      "= = = = = = = = = =\n",
      "Iteration  15\n",
      "= = = = = = = = = =\n",
      "Iteration  16\n",
      "= = = = = = = = = =\n",
      "Iteration  17\n",
      "= = = = = = = = = =\n",
      "Iteration  18\n",
      "= = = = = = = = = =\n",
      "Iteration  19\n",
      "= = = = = = = = = =\n",
      "Iteration  20\n",
      "= = = = = = = = = =\n",
      "Iteration  21\n",
      "= = = = = = = = = =\n",
      "Iteration  22\n",
      "= = = = = = = = = =\n",
      "Iteration  23\n",
      "= = = = = = = = = =\n",
      "Iteration  24\n",
      "= = = = = = = = = =\n",
      "Iteration  25\n",
      "= = = = = = = = = =\n",
      "Iteration  26\n",
      "= = = = = = = = = =\n",
      "Iteration  27\n",
      "= = = = = = = = = =\n",
      "Iteration  28\n",
      "= = = = = = = = = =\n",
      "Iteration  29\n",
      "= = = = = = = = = =\n",
      "Iteration  30\n",
      "= = = = = = = = = =\n",
      "Iteration  31\n",
      "= = = = = = = = = =\n",
      "Iteration  32\n",
      "= = = = = = = = = =\n",
      "Iteration  33\n",
      "= = = = = = = = = =\n",
      "Iteration  34\n",
      "= = = = = = = = = =\n",
      "Iteration  35\n",
      "= = = = = = = = = =\n",
      "Iteration  36\n",
      "= = = = = = = = = =\n",
      "Iteration  37\n",
      "= = = = = = = = = =\n",
      "Iteration  38\n",
      "= = = = = = = = = =\n",
      "Iteration  39\n",
      "= = = = = = = = = =\n",
      "Iteration  40\n",
      "= = = = = = = = = =\n",
      "Iteration  41\n",
      "= = = = = = = = = =\n",
      "Iteration  42\n",
      "= = = = = = = = = =\n",
      "Iteration  43\n",
      "= = = = = = = = = =\n",
      "Iteration  44\n",
      "= = = = = = = = = =\n",
      "Iteration  45\n",
      "= = = = = = = = = =\n",
      "Iteration  46\n",
      "= = = = = = = = = =\n",
      "Iteration  47\n",
      "= = = = = = = = = =\n",
      "Iteration  48\n",
      "= = = = = = = = = =\n",
      "Iteration  49\n",
      "= = = = = = = = = =\n",
      "Iteration  50\n",
      "= = = = = = = = = =\n",
      "Iteration  51\n",
      "= = = = = = = = = =\n",
      "Iteration  52\n",
      "= = = = = = = = = =\n",
      "Iteration  53\n",
      "= = = = = = = = = =\n",
      "Iteration  54\n",
      "= = = = = = = = = =\n",
      "Iteration  55\n",
      "= = = = = = = = = =\n",
      "Iteration  56\n",
      "= = = = = = = = = =\n",
      "Iteration  57\n",
      "= = = = = = = = = =\n",
      "Iteration  58\n",
      "= = = = = = = = = =\n",
      "Iteration  59\n",
      "= = = = = = = = = =\n",
      "Iteration  60\n",
      "= = = = = = = = = =\n",
      "Iteration  61\n",
      "= = = = = = = = = =\n",
      "Iteration  62\n",
      "= = = = = = = = = =\n",
      "Iteration  63\n",
      "= = = = = = = = = =\n",
      "Iteration  64\n",
      "= = = = = = = = = =\n",
      "Iteration  65\n",
      "= = = = = = = = = =\n",
      "Iteration  66\n",
      "= = = = = = = = = =\n",
      "Iteration  67\n",
      "= = = = = = = = = =\n",
      "Iteration  68\n",
      "= = = = = = = = = =\n",
      "Iteration  69\n",
      "= = = = = = = = = =\n",
      "Iteration  70\n",
      "= = = = = = = = = =\n",
      "Iteration  71\n",
      "= = = = = = = = = =\n",
      "Iteration  72\n",
      "= = = = = = = = = =\n",
      "Iteration  73\n",
      "= = = = = = = = = =\n",
      "Iteration  74\n",
      "= = = = = = = = = =\n",
      "Iteration  75\n",
      "= = = = = = = = = =\n",
      "Iteration  76\n",
      "= = = = = = = = = =\n",
      "Iteration  77\n",
      "= = = = = = = = = =\n",
      "Iteration  78\n",
      "= = = = = = = = = =\n",
      "Iteration  79\n",
      "= = = = = = = = = =\n",
      "Iteration  80\n",
      "= = = = = = = = = =\n",
      "Iteration  81\n",
      "= = = = = = = = = =\n",
      "Iteration  82\n",
      "= = = = = = = = = =\n",
      "Iteration  83\n",
      "= = = = = = = = = =\n",
      "Iteration  84\n",
      "= = = = = = = = = =\n",
      "Iteration  85\n",
      "= = = = = = = = = =\n",
      "Iteration  86\n",
      "= = = = = = = = = =\n",
      "Iteration  87\n",
      "= = = = = = = = = =\n",
      "Iteration  88\n",
      "= = = = = = = = = =\n",
      "Iteration  89\n",
      "= = = = = = = = = =\n",
      "Iteration  90\n",
      "= = = = = = = = = =\n",
      "Iteration  91\n",
      "= = = = = = = = = =\n",
      "Iteration  92\n",
      "= = = = = = = = = =\n",
      "Iteration  93\n",
      "= = = = = = = = = =\n",
      "Iteration  94\n",
      "= = = = = = = = = =\n",
      "Iteration  95\n",
      "= = = = = = = = = =\n",
      "Iteration  96\n",
      "= = = = = = = = = =\n",
      "Iteration  97\n",
      "= = = = = = = = = =\n",
      "Iteration  98\n",
      "= = = = = = = = = =\n",
      "Iteration  99\n",
      "= = = = = = = = = =\n",
      "Graph Generation Completed..\n"
     ]
    }
   ],
   "source": [
    "lab_files_path = \"./New-Dataset/labels/\"\n",
    "files = os.listdir(lab_files_path)\n",
    "\n",
    "df = pd.read_csv(lab_files_path+files[0])\n",
    "G = Grapher.makeGraph(df)\n",
    "print(\"Iteration 0\")\n",
    "print(\"= = = = = = = = = =\")\n",
    "\n",
    "for i in range(1, 100):\n",
    "    print(\"Iteration \", i)\n",
    "    print(\"= = = = = = = = = =\")\n",
    "    df1 = pd.read_csv(lab_files_path+files[i])\n",
    "    I_Graph = Grapher.makeGraph(df1)\n",
    "    G = nx.compose(G, I_Graph)\n",
    "\n",
    "print(\"Graph Generation Completed..\")\n"
   ]
  },
  {
   "cell_type": "markdown",
   "metadata": {},
   "source": [
    "# Checking Graph info."
   ]
  },
  {
   "cell_type": "code",
   "execution_count": 12,
   "metadata": {},
   "outputs": [
    {
     "name": "stdout",
     "output_type": "stream",
     "text": [
      "Nodes are:  3318\n",
      "Nodes are:  15543\n"
     ]
    }
   ],
   "source": [
    "print(\"Nodes are: \", G.number_of_nodes())\n",
    "print(\"Nodes are: \", G.number_of_edges())\n"
   ]
  },
  {
   "cell_type": "markdown",
   "metadata": {},
   "source": [
    "# Saving Graph"
   ]
  },
  {
   "cell_type": "code",
   "execution_count": 21,
   "metadata": {},
   "outputs": [
    {
     "name": "stdout",
     "output_type": "stream",
     "text": [
      "Saving Graph..\n",
      "Graph Saved..\n"
     ]
    }
   ],
   "source": [
    "print(\"Saving Graph..\")\n",
    "G_FILE = \"./Graph DS/Graph.edgelist\"\n",
    "\n",
    "nx.write_gpickle(G, \"./Graph DS/Graph.gpickle\")\n",
    "print(\"Graph Saved..\")\n"
   ]
  },
  {
   "cell_type": "markdown",
   "metadata": {},
   "source": [
    "# Loading Graph from EdgeList"
   ]
  },
  {
   "cell_type": "code",
   "execution_count": 23,
   "metadata": {},
   "outputs": [
    {
     "name": "stdout",
     "output_type": "stream",
     "text": [
      "Total edges are:  15543\n",
      "Total nodes are:  3318\n"
     ]
    }
   ],
   "source": [
    "# fh = open(\"./Graph DS/Graph.edgelist\", \"rb\")\n",
    "# load_G = nx.read_edgelist(\"./Graph DS/Graph.edgelist\", nodetype=str)\n",
    "load_G = nx.read_gpickle(\"./Graph DS/Graph.gpickle\")\n",
    "\n",
    "# fh.close()\n",
    "print(\"Total edges are: \", load_G.number_of_edges())\n",
    "print(\"Total nodes are: \", load_G.number_of_nodes())\n"
   ]
  }
 ],
 "metadata": {
  "interpreter": {
   "hash": "35146d2ce121e8e653791712ad16cca408ea08bd1c84e92938f653a743d84e6c"
  },
  "kernelspec": {
   "display_name": "Python 3.8.10 64-bit ('Graphs': conda)",
   "language": "python",
   "name": "python3"
  },
  "language_info": {
   "codemirror_mode": {
    "name": "ipython",
    "version": 3
   },
   "file_extension": ".py",
   "mimetype": "text/x-python",
   "name": "python",
   "nbconvert_exporter": "python",
   "pygments_lexer": "ipython3",
   "version": "3.8.10"
  },
  "orig_nbformat": 4
 },
 "nbformat": 4,
 "nbformat_minor": 2
}
